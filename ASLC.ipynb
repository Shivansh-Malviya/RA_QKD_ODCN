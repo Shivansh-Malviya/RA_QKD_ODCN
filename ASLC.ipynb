{
 "cells": [
  {
   "cell_type": "raw",
   "id": "7b356f9d-a721-40d8-b390-8e7ed5381ce5",
   "metadata": {},
   "source": [
    "def ASLC(cr, n):\n",
    "    #call from FF\n",
    "    if OT[n-1] >= beta_2 * NT[n-1]:\n",
    "        QW[i] = link.lambda[n]\n",
    "    else:\n",
    "        QW[i] = link.lambda[n-1]"
   ]
  },
  {
   "cell_type": "code",
   "execution_count": null,
   "id": "8db65e74-c05e-489b-b2a7-e4914a6563a1",
   "metadata": {},
   "outputs": [],
   "source": [
    "# Can put this in class Links\n",
    "    @classmethod\n",
    "    def ASSL(cls, NT, OT, n, beta_2 = 0.5):\n",
    "        '''\n",
    "        OTn denotes the number of time slots, which has been already occupied in the nth wavelength, NTn denotes all the time slots in the nth wavelength,\n",
    "        and QWi denotes the wavelength position occupied by the ith CR. By mediating the parameters, 1 and 2, the wavelength and the time-slot resource \n",
    "        occupation can be changed.\n",
    "        '''\n",
    "        # Lower the index of the channel by 1, since I've assigned indexing from 1\n",
    "        n -= 1    # here n could be either 0 or 1\n",
    "        \n",
    "        # Reverse the lists NT and OT, because in the paper they've taken lower number to be of lower priority\n",
    "        #OT = OT[::-1]\n",
    "        #NT = NT[::-1]\n",
    "        \n",
    "        if OT[n] >= beta_2 * NT[n]:\n",
    "            QW = cls.priority[n+1]\n",
    "        else:\n",
    "            QW = priority[n]\n",
    "\n",
    "        return QW"
   ]
  },
  {
   "cell_type": "raw",
   "id": "06c5016b-8dd4-45e8-8cb6-1f2a543a4e61",
   "metadata": {},
   "source": [
    "A = [0, 1, 2, 3]\n",
    "A = A[::-1]\n",
    "print(A)"
   ]
  },
  {
   "cell_type": "raw",
   "id": "a2f94319-2423-431c-93ad-e06c27ec5d8a",
   "metadata": {},
   "source": [
    "A[::-2]"
   ]
  },
  {
   "cell_type": "code",
   "execution_count": null,
   "id": "22945af4-1eee-4858-a9a4-56a4c359af2c",
   "metadata": {},
   "outputs": [],
   "source": []
  }
 ],
 "metadata": {
  "kernelspec": {
   "display_name": "Python 3 (ipykernel)",
   "language": "python",
   "name": "python3"
  },
  "language_info": {
   "codemirror_mode": {
    "name": "ipython",
    "version": 3
   },
   "file_extension": ".py",
   "mimetype": "text/x-python",
   "name": "python",
   "nbconvert_exporter": "python",
   "pygments_lexer": "ipython3",
   "version": "3.12.1"
  }
 },
 "nbformat": 4,
 "nbformat_minor": 5
}
