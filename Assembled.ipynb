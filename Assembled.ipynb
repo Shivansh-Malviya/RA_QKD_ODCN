{
 "cells": [
  {
   "cell_type": "code",
   "execution_count": null,
   "id": "c774fc21-0380-480f-a6b6-a5aa7b725410",
   "metadata": {},
   "outputs": [],
   "source": [
    "import numpy as np\n",
    "import random\n",
    "import math\n",
    "import networkx as nx\n",
    "import matplotlib.pyplot as plt\n",
    "import os"
   ]
  },
  {
   "cell_type": "code",
   "execution_count": null,
   "id": "e2495ce0-eede-414a-8dd5-e9c674d4963b",
   "metadata": {},
   "outputs": [],
   "source": [
    "%run ./Generate_Network_Topology.ipynb"
   ]
  },
  {
   "cell_type": "code",
   "execution_count": null,
   "id": "acc9fd81-96a8-4436-b121-f8322819cf22",
   "metadata": {},
   "outputs": [],
   "source": [
    "%run ./Generating_CRs.ipynb "
   ]
  },
  {
   "cell_type": "code",
   "execution_count": null,
   "id": "369d97fc-a81f-49a5-88e9-2a823652e549",
   "metadata": {},
   "outputs": [],
   "source": [
    "%run ./Links.ipynb\n",
    "# Major issue : Number of links"
   ]
  },
  {
   "cell_type": "code",
   "execution_count": null,
   "id": "4e90508b-d9cd-4bc6-9dcd-b751057c611d",
   "metadata": {},
   "outputs": [],
   "source": [
    "# Define the subdirectory name\n",
    "subdirectory = \"Figures\"\n",
    "\n",
    "# Check if the subdirectory exists\n",
    "if not os.path.exists(subdirectory):\n",
    "    os.makedirs(subdirectory)\n"
   ]
  },
  {
   "cell_type": "code",
   "execution_count": null,
   "id": "c5993137-2a5d-407e-95c5-501b5cdc06b3",
   "metadata": {},
   "outputs": [],
   "source": [
    "# 21 Edges\n",
    "edges = [ (1, 2, 1100),  #Edge between Node 0 and Node 1\n",
    "             (2, 3, 1600), #Intermediate Edge between Node 1 and Node 2\n",
    "             (1, 3, 600), # Edge between Node 0 and Node 2\n",
    "             (2, 8, 1500), # Edge between Node 1 and Node 7\n",
    "             (1, 4, 1000),  # Edge between Node 0 and Node 3\n",
    "             \n",
    "         (4, 5, 600), # Edge between Node 3 and Node 4\n",
    "             (5, 7, 800), # Intermediate edge between Node 4 and Node 6\n",
    "             (7, 8, 700), # Intermediate edge between Node 6 and Node 7\n",
    "             (10, 11, 900), # Edge Betweeen Node 9 and Node 10\n",
    "             (4, 9, 1500), # Edge Betweeen Node 3 and Node 8\n",
    "         \n",
    "         (9, 12, 800), # Edge Betweeen Node 8 and Node 11\n",
    "             (8, 10, 700), # Edge Betweeen Node 7 and Node 9\n",
    "             (10, 12, 500), # Edge Betweeen Node 9 and Node 11\n",
    "             (9, 14, 800), # Edge Betweeen Node 8 and Node 13\n",
    "             (10, 14, 500), # Edge Betweeen Node 9 and Node 13\n",
    "         \n",
    "         (12, 13, 300), # Edge Betweeen Node 11 and Node 12\n",
    "             (13, 14, 300), # Edge Betweeen Node 12 and Node 13\n",
    "             (3, 6, 1000), # Edge Betweeen Node 2 and Node 5\n",
    "             (6, 5, 1100), # Edge Betweeen Node 5 and Node 4\n",
    "             (6, 13, 2000), # Edge Betweeen Node 5 and Node 12\n",
    "         \n",
    "         (6, 11, 1200), # Edge Betweeen Node 5 and Node 10\n",
    "        ]"
   ]
  },
  {
   "cell_type": "markdown",
   "id": "3d002df0-620c-4aa2-b34c-5dca7d9c75f7",
   "metadata": {},
   "source": [
    "# Step 1:\n",
    "Initialize the network status and parameters, and generate a set of CR, i.e., X CRs.\n",
    "## Step 2(a) : \n",
    "For each CR, we set a SL (incorporated in Step 1)"
   ]
  },
  {
   "cell_type": "code",
   "execution_count": null,
   "id": "e1e0f593-ebf1-4ca9-a14c-5f966c9be7dd",
   "metadata": {},
   "outputs": [],
   "source": [
    "g_nsfnet = create_topology(edges) # Creates the nsfnet topology\n",
    "links, indices, unordered_indices = Links.initialize_links(edges) # Initializes the links structure with weights\n",
    "\n",
    "numNodes = len(g_nsfnet)\n",
    "X = 100    # Just an example\n",
    "CRs = CR.generate_crs(X) # Generating X Crs. "
   ]
  },
  {
   "cell_type": "code",
   "execution_count": null,
   "id": "7abdb600-7aa8-4a27-8751-1ef15b010a36",
   "metadata": {},
   "outputs": [],
   "source": [
    "# Print the array of CR instances\n",
    "print(\"CR info : \")\n",
    "for cr in CRs:\n",
    "    cr.display_info()\n",
    "\n",
    "# Print link info\n",
    "'''\n",
    "for link in links[indices]:    # Will display double the number of actual edges, due to ordered pair\n",
    "   link.display_info()\n",
    "'''\n",
    "print(\"Link info : \")\n",
    "Links.display_all_links()"
   ]
  },
  {
   "cell_type": "raw",
   "id": "722c4c33-bb29-409a-8a06-1c8dfd2baa99",
   "metadata": {},
   "source": [
    "# Will display all the links : equivalent to the def of class function display_all_links()\n",
    "# Unnecessary steps\n",
    "for nodes in unordered_indices:\n",
    "    for link in links[indices]:\n",
    "    #print(link)\n",
    "        if link.nodes == nodes:\n",
    "            link.display_info()\n",
    "            break"
   ]
  },
  {
   "cell_type": "raw",
   "id": "6cf272ff-f0bd-48ea-9e74-c0acbbbe1495",
   "metadata": {},
   "source": [
    "for nodes in unordered_indices :    #the def of class function display_all_links()\n",
    "    links[nodes].display_info()"
   ]
  },
  {
   "cell_type": "markdown",
   "id": "ee84dd6d-85e1-458a-a556-1a056cefa23a",
   "metadata": {},
   "source": [
    "# Step 2(b) :\n",
    "use the K-SP algorithm to obtain the K candidate transmission paths. \n",
    "The path with the shortest distance is selected as the transmission path of QSC and PIC."
   ]
  },
  {
   "cell_type": "code",
   "execution_count": null,
   "id": "a198a0c5-d191-4783-8617-279a4ef265ab",
   "metadata": {},
   "outputs": [],
   "source": [
    "cr = CRs[0]    # Taking only 1 cr for now. Later it can be converted to for loop to loop over all CRs\n",
    "\n",
    "k_sp = cr.k_sp(g_nsfnet, 10)    # Taking k = 10\n",
    "candidate_path = k_sp[0][0]    # Path with the shortest distance becomes the transmission path"
   ]
  },
  {
   "cell_type": "code",
   "execution_count": null,
   "id": "2ddf51fc-28d0-4e4b-a506-b7636a1e808f",
   "metadata": {},
   "outputs": [],
   "source": [
    "# Displaying all the K shortest paths along with their path costs\n",
    "for i, (path, cost) in enumerate(k_sp):\n",
    "    print(f\"Path {i + 1}: {path}, Cost: {cost}\")\n",
    "\n",
    "# Displaying the candidate path\n",
    "print(f\"Candidate path : {candidate_path}\")"
   ]
  },
  {
   "cell_type": "code",
   "execution_count": null,
   "id": "8a65e301-a146-4017-8d03-979cfe6cc48b",
   "metadata": {},
   "outputs": [],
   "source": [
    "# Allocate to TDC and QSC"
   ]
  },
  {
   "cell_type": "raw",
   "id": "c07008b4-0843-4afe-be8c-f8e3851b561b",
   "metadata": {
    "scrolled": true
   },
   "source": [
    "# Giing some manual allocation for testing\n",
    "links[13, 12].update_link(1, 1)\n",
    "print(links[13, 14].available_ts)\n",
    "# cr update allocated_resources[channel, slot]\n",
    "links[6, 3].update_link(1, 3)\n",
    "links[10, 11].update_link(1, 7)"
   ]
  },
  {
   "cell_type": "code",
   "execution_count": null,
   "id": "9b37605c-1683-423c-b542-a8a1fc4baf65",
   "metadata": {},
   "outputs": [],
   "source": [
    "# if no time slot is available, we move on to the next candidate path\n",
    "cr = CRs[0]\n",
    "attempt = Links.FF(candidate_path, cr)\n",
    "print(f\"CR status : {cr.status}, on path : {candidate_path}, allocated resources : {cr.allocated_resources}\")"
   ]
  },
  {
   "cell_type": "markdown",
   "id": "1abcbf9c-58f4-4bc3-aa9a-2ffe6c4a907b",
   "metadata": {},
   "source": [
    "# Step3：\n",
    "If a CR is successfully allocated to TDC & QSC, turn to Step4; otherwise, this CR blocks. If an event is waiting for a CR(X=0), turn to Step9\n"
   ]
  },
  {
   "cell_type": "code",
   "execution_count": null,
   "id": "3b243a8f-45fe-48ab-a205-21676665fc6d",
   "metadata": {},
   "outputs": [],
   "source": [
    "if attempt:\n",
    "    print(f\"CR status : {cr.status}, on path : {candidate_path}, allocated resources : {cr.allocated_resources}\" )\n",
    "else :\n",
    "    print(\"CR couldn't be successfully allocated on path :\", candidate_path)"
   ]
  },
  {
   "cell_type": "code",
   "execution_count": null,
   "id": "ead5e691-c55e-4e84-9146-e872fc2a7a8f",
   "metadata": {},
   "outputs": [],
   "source": [
    "# Displaying the resources after allocation\n",
    "path = candidate_path\n",
    "for s, d in zip(path, path[1:]):\n",
    "    links[s, d].display_info()\n",
    "    #links[s, d].wl_info()"
   ]
  },
  {
   "cell_type": "markdown",
   "id": "aa2bad31-af30-4b5e-872f-12ea7a72479d",
   "metadata": {},
   "source": [
    "# Step 4 :\n",
    "Create three queues with different priorities in PQ={𝑪𝑹1, 𝑪𝑹0, 𝑪𝑹−1}, i.e., 𝑪𝑹1, 𝑪𝑹0 and 𝑪𝑹−1. Each CR has a specific SL, sl. \n",
    "Place the CR of the corresponding SL in the corresponding priority. If this CR belongs to the high-level priority queue, 𝑪𝑹1, then turn to Step 5. \n",
    "If this CR belongs to mid-level priority queue 𝑪𝑹0 or low-level priority queue, 𝑪𝑹−1, turn to Step 6.\n"
   ]
  },
  {
   "cell_type": "code",
   "execution_count": null,
   "id": "7907db68-94d5-463f-bc5f-a1d4643ad673",
   "metadata": {},
   "outputs": [],
   "source": [
    "PQ = CR.create_priority_queue()"
   ]
  },
  {
   "cell_type": "code",
   "execution_count": null,
   "id": "b7d16318-c5d0-4e1f-be37-a3a03fe6cc6d",
   "metadata": {},
   "outputs": [],
   "source": [
    "#CR.display_all(PQ)"
   ]
  },
  {
   "cell_type": "markdown",
   "id": "b927cf69-7c7b-4f64-855c-3dba74329e8c",
   "metadata": {},
   "source": [
    "# Trying Manually"
   ]
  },
  {
   "cell_type": "code",
   "execution_count": null,
   "id": "84524724-1c45-4f0f-8f78-26acb0bfd074",
   "metadata": {},
   "outputs": [],
   "source": [
    "'''\n",
    "Let's assume we have 800 CRs, all dealt with.\n",
    "Manually calculating TUR : calculate total number of used slots. divided by total slots(already known)\n",
    "2 approaches : \n",
    "CR approach : for every allocated CR, we take the number of links in its path = len(path)-1. This will be the occupied slots by a particular cr. Can calculate SRCR and NSP as well\n",
    "Links approach : count the nonzero elements in each link(unordered_indices) band.\n",
    "'''"
   ]
  },
  {
   "cell_type": "code",
   "execution_count": null,
   "id": "6e0b4be0-a574-4093-97ab-004cf038c15d",
   "metadata": {},
   "outputs": [],
   "source": [
    "X = 600\n",
    "# Parameters used later\n",
    "k = 10\n",
    "   \n",
    "# Initializes the links structure with weights\n",
    "(links, indices, unordered_indices) = Links.initialize_links(edges) \n",
    "\n",
    "# Generating X Crs\n",
    "CRs = CR.generate_crs(X) \n",
    "\n",
    "########################################################################\n",
    "    \n",
    "# Creating the priority Queue\n",
    "PQ = CR.create_priority_queue()\n",
    "\n",
    "for cr in PQ:  \n",
    "            \n",
    "    k_sp = cr.k_sp(g_nsfnet, k)    # Taking k = 10. Gives us [path][weight]\n",
    "    # Finding the path to be followed\n",
    "    for i in range(k):    # Using the next k-sp in case the CR couldn't be allocated to the previous one\n",
    "        candidate_path = k_sp[i][0]    # Path with the lowest weight so far becomes the transmission path\n",
    "        print(f\"\\nAttempting allocation of CR {cr.index} on path : {candidate_path}\")\n",
    "        \n",
    "        # Attempting to allocate resources\n",
    "        success = Links.FF(candidate_path, cr)\n",
    "        print(f\"CR {cr.index} status : {cr.status}, on path :\", candidate_path)\n",
    "        # Checking if the path was allocated or not\n",
    "        if success:\n",
    "            break  \n",
    "\n",
    "        #X = X-1"
   ]
  },
  {
   "cell_type": "code",
   "execution_count": null,
   "id": "a5eb796a-5c90-4f41-9d0e-b2e135ef3845",
   "metadata": {},
   "outputs": [],
   "source": [
    "# CR approach(cra) : for tur, nsp and srcr\n",
    "\n",
    "#X = 800\n",
    "\"\"\"\n",
    "cra_tur = np.zeros(j_range).astype(int)\n",
    "cra_srcr = np.zeros(j_range).astype(int)\n",
    "cra_nsp = np.zeros(j_range).astype(int)\n",
    "\"\"\"\n",
    "cra_nsp = 0\n",
    "cra_tur = 0\n",
    "cra_srcr = 0\n",
    "for i, cr in enumerate(PQ):    # PQ_all[1] is for crs with high priority\n",
    "    if cr.status == 'allocated':\n",
    "        cra_tur += (len(cr.path) - 1)\n",
    "        cra_srcr += 1\n",
    "        cra_nsp += CR.sfw[cr.sl]\n",
    "\n",
    "cra_tur /= (Links.total_ts * len(edges))\n",
    "cra_srcr /= len(CRs)"
   ]
  },
  {
   "cell_type": "code",
   "execution_count": null,
   "id": "c22580b6-4a40-4b9a-91e7-ba6337a3a751",
   "metadata": {},
   "outputs": [],
   "source": [
    "print((Links.total_ts * len(edges)))"
   ]
  },
  {
   "cell_type": "code",
   "execution_count": null,
   "id": "ea190882-7af0-4001-bae7-c1d73ae382d5",
   "metadata": {},
   "outputs": [],
   "source": [
    "print(cra_tur, cra_nsp, cra_srcr)"
   ]
  },
  {
   "cell_type": "code",
   "execution_count": null,
   "id": "4c41dffe-f509-4f2f-843c-c1e76d3d89f1",
   "metadata": {},
   "outputs": [],
   "source": [
    "# Links approach(la): Only for tur\n",
    "\n",
    "#X = 800\n",
    "la_tur1 = 0\n",
    "la_tur = np.zeros(4)\n",
    "for nodes in Links.unordered_indices:\n",
    "    la_tur1 += (Links.links[nodes].occupied_ts[0])\n",
    "    la_tur += Links.links[nodes].occupied_ts\n",
    "\n",
    "la_tur1 /= Links.total_ts * len(edges)\n",
    "\n",
    "print(la_tur1)\n",
    "\n",
    "la_tur[0] = la_tur1\n",
    "for i in range(1, 4):\n",
    "    la_tur[i] /= Links.total_ts * Links.channel_ts[i]\n",
    "\n",
    "print(la_tur)"
   ]
  },
  {
   "cell_type": "code",
   "execution_count": null,
   "id": "45784083-d51c-4b11-ab2f-c0e21991192d",
   "metadata": {},
   "outputs": [],
   "source": [
    "print(la_tur, la_tur1)"
   ]
  },
  {
   "cell_type": "code",
   "execution_count": null,
   "id": "0b90156a-509e-4b80-905b-7f976b354d70",
   "metadata": {},
   "outputs": [],
   "source": [
    "#CR.display_all(PQ)"
   ]
  },
  {
   "cell_type": "markdown",
   "id": "1c9bab6b-f03b-4324-8223-09e4e8b098e8",
   "metadata": {},
   "source": [
    "# Combined"
   ]
  },
  {
   "cell_type": "markdown",
   "id": "10214e52-efe3-46de-91c8-2a3a206870d6",
   "metadata": {},
   "source": [
    "## QKRA"
   ]
  },
  {
   "cell_type": "markdown",
   "id": "a80fba6c-ff25-41af-9c36-4fcc45390750",
   "metadata": {},
   "source": [
    "Network topology can be initialized once at the start. Only Links need to be initialized everytime"
   ]
  },
  {
   "cell_type": "code",
   "execution_count": null,
   "id": "84bab31e-188d-4bdf-afcb-f3f29597a7ed",
   "metadata": {},
   "outputs": [],
   "source": [
    "#%%capture\n",
    "aslc = \"ASSL\"\n",
    "# Modify : X, k, num_iter, j_range, factor, expression of X in QKRA.ipynb\n",
    "filename = \"QKRA-\" + aslc + \".txt\"\n",
    "file = open(filename, \"a\")\n",
    "# Creates the nsfnet topology\n",
    "g_nsfnet = create_topology(edges) \n",
    "numNodes = len(g_nsfnet)\n",
    "X = 10   \n",
    "\n",
    "# Parameters used later\n",
    "k = 10    \n",
    "\n",
    "# Let's test for X = 10, and j < 6. Average over 10 iterations.\n",
    "num_iter = 100\n",
    "j_range = 15\n",
    "srcr = np.zeros([num_iter, j_range])\n",
    "tur = np.zeros([num_iter, j_range])\n",
    "nsp = np.zeros([num_iter, j_range]).astype(int)\n",
    "x = np.zeros([num_iter, j_range]).astype(int)\n",
    "\n",
    "file.write(\"QKRA-\" + aslc + \" : \" + \"k = \" + str(k) + \", Averaged over(z) = \" + str(num_iter) + \"\\n\")\n",
    "\n",
    "#factor = int(input(\"Input the multiplication factor\"))\n",
    "factor = 1\n",
    "\n",
    "for z in range(num_iter):    # Loop to average over the same list of X\n",
    "\n",
    "    #X = int(input(\"Input the number of CRs to be generates\"))\n",
    "    #X = 60*factor\n",
    "    \n",
    "    j = 0    \n",
    "    %run ./QKRA.ipynb\n",
    "    print(f\"Iteration {z+1} complete\")"
   ]
  },
  {
   "cell_type": "code",
   "execution_count": null,
   "id": "2017e431-68b7-487a-80b8-83bbd672e504",
   "metadata": {
    "scrolled": true
   },
   "outputs": [],
   "source": [
    "print(srcr, tur, nsp, x)"
   ]
  },
  {
   "cell_type": "code",
   "execution_count": null,
   "id": "1369df3f-e806-4e7a-a6cc-1d20d1adc444",
   "metadata": {},
   "outputs": [],
   "source": [
    "avg_srcr = np.zeros(j_range)\n",
    "avg_tur = np.zeros(j_range)\n",
    "avg_nsp = np.zeros(j_range)\n",
    "avg_x = np.zeros(j_range)\n",
    "\n",
    "for j in range((j_range)):\n",
    "    for i in range(num_iter):\n",
    "        avg_srcr[j] += srcr[i, j] \n",
    "        avg_tur[j] += tur[i, j] \n",
    "        avg_nsp[j] += nsp[i, j] \n",
    "        avg_x[j] += x[i, j] \n",
    "\n",
    "avg_srcr /= num_iter\n",
    "avg_tur /= num_iter \n",
    "avg_nsp /= num_iter\n",
    "avg_x /= num_iter \n",
    "file.write(\"X range : \" + str(avg_x) + \"\\n Average SRCR : \" + str(avg_srcr) + \"\\n Average TUR : \" + str(avg_tur) + \"\\n\" )\n",
    "file.close()"
   ]
  },
  {
   "cell_type": "code",
   "execution_count": null,
   "id": "fd62c304-0569-47c3-a0e0-306befbbe52f",
   "metadata": {},
   "outputs": [],
   "source": [
    "print(avg_srcr, avg_tur, avg_nsp, avg_x)"
   ]
  },
  {
   "cell_type": "code",
   "execution_count": null,
   "id": "08484cdb-1c83-4ae6-9a81-9d999c94f4a9",
   "metadata": {},
   "outputs": [],
   "source": [
    "print(len(srcr), len(tur), len(nsp), len(x))"
   ]
  },
  {
   "cell_type": "markdown",
   "id": "679db517-4188-4800-9ce5-87a0461895f0",
   "metadata": {},
   "source": [
    "# Plotting the data"
   ]
  },
  {
   "cell_type": "markdown",
   "id": "4e2ce671-750e-4ba9-841b-e0bd28cc7543",
   "metadata": {},
   "source": [
    "**SRCR and TUR**"
   ]
  },
  {
   "cell_type": "code",
   "execution_count": null,
   "id": "c12b7576-eb1d-434a-8f89-1579a0102667",
   "metadata": {},
   "outputs": [],
   "source": [
    "#y = [item[0] for item in tur]\n",
    "plt.scatter(avg_x, avg_srcr, label='SRCR - scatter')\n",
    "plt.scatter(avg_x, avg_tur, label='TUR - scatter')\n",
    "\n",
    "plt.plot(avg_x, avg_srcr, label='SRCR - line')\n",
    "plt.plot(avg_x, avg_tur, label='TUR - line')\n",
    "\n",
    "plt.minorticks_on()\n",
    "plt.xlabel('X = Number of CRs')\n",
    "plt.ylabel('Ratio')\n",
    "plt.title(f\"Network Evaluation(averaged over {num_iter})\")\n",
    "plt.legend()\n",
    "plt.show()\n",
    "\n",
    "filename = \"SRCR and TUR for X - \" + str(avg_x[0]) + \" to \" + str(avg_x[-1]) + \".jpg\"\n",
    "print(filename)\n",
    "\n",
    "# Combine the subdirectory and filename to create the full path\n",
    "full_path = os.path.join(subdirectory, filename)\n",
    "\n",
    "#plt.savefig(full_path, dpi=300, bbox_inches='tight')\n"
   ]
  },
  {
   "cell_type": "markdown",
   "id": "422357ee-ae59-4a1d-8cf1-3319a58569e4",
   "metadata": {},
   "source": [
    "**NSP**"
   ]
  },
  {
   "cell_type": "code",
   "execution_count": null,
   "id": "c46b4703-e683-43a5-917d-e3a57e5c3d42",
   "metadata": {},
   "outputs": [],
   "source": [
    "#y = [item[0] for item in nsp]\n",
    "plt.scatter(avg_x, avg_nsp)\n",
    "plt.plot(avg_x, avg_nsp)\n",
    "\n",
    "plt.minorticks_on()\n",
    "plt.xlabel('X = Number of CRs')\n",
    "plt.ylabel('NSP')\n",
    "plt.title(f\"Network Evaluation(averaged over {num_iter})\")\n",
    "#plt.legend()\n",
    "plt.show()\n",
    "\n",
    "filename = \"NSP for X - \" + str(avg_x[0]) + \" to \" + str(avg_x[-1]) + \".jpeg\"\n",
    "print(filename)\n",
    "\n",
    "# Combine the subdirectory and filename to create the full path\n",
    "full_path = os.path.join(subdirectory, filename)\n",
    "\n",
    "plt.savefig(full_path, dpi=300, bbox_inches='tight')\n"
   ]
  },
  {
   "cell_type": "code",
   "execution_count": null,
   "id": "bf551ca3-6b47-48dd-90fa-4893e7cf38b1",
   "metadata": {},
   "outputs": [],
   "source": [
    "for i in range(j_range):\n",
    "    print(f\"\\nfor X = {5*(2 + i)*factor}\")\n",
    "    print(f\"\\nSRCR {i} : {srcr[i]}\")\n",
    "    print(f\"\\nNSP {i} : {nsp[i]}\")\n",
    "    print(f\"\\nTUR {i} : {tur[i]}\")"
   ]
  },
  {
   "cell_type": "code",
   "execution_count": null,
   "id": "11607a41-861b-4def-a3b0-a103175b4531",
   "metadata": {},
   "outputs": [],
   "source": []
  }
 ],
 "metadata": {
  "kernelspec": {
   "display_name": "Python 3 (ipykernel)",
   "language": "python",
   "name": "python3"
  },
  "language_info": {
   "codemirror_mode": {
    "name": "ipython",
    "version": 3
   },
   "file_extension": ".py",
   "mimetype": "text/x-python",
   "name": "python",
   "nbconvert_exporter": "python",
   "pygments_lexer": "ipython3",
   "version": "3.12.1"
  }
 },
 "nbformat": 4,
 "nbformat_minor": 5
}
