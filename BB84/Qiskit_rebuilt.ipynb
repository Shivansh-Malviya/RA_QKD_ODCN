{
 "cells": [
  {
   "cell_type": "code",
   "execution_count": 1,
   "id": "0b7c8b64-3bd0-4e82-b294-34a4d5eefd19",
   "metadata": {},
   "outputs": [],
   "source": [
    "# Importing Qiskit\n",
    "from qiskit import *\n",
    "# from qiskit.tools.visualization import plot_bloch_multivector\n",
    "import random\n",
    "from random import randrange"
   ]
  },
  {
   "cell_type": "code",
   "execution_count": 21,
   "id": "b2cec02e-a140-4c47-8ae0-6441734f812d",
   "metadata": {},
   "outputs": [
    {
     "name": "stdout",
     "output_type": "stream",
     "text": [
      "True\n",
      "x q[593];\n"
     ]
    }
   ],
   "source": [
    "instruction = 'x q[0];'\n",
    "\n",
    "# instruction.strip()\n",
    "print(instruction.startswith('x'))\n",
    "instruction = instruction.replace('0', '593')\n",
    "print(instruction)"
   ]
  },
  {
   "cell_type": "code",
   "execution_count": 24,
   "id": "ef86f0ad-30a8-4397-8496-f1973d721a2b",
   "metadata": {},
   "outputs": [
    {
     "data": {
      "text/plain": [
       "593"
      ]
     },
     "execution_count": 24,
     "metadata": {},
     "output_type": "execute_result"
    }
   ],
   "source": [
    "old_qr = int(instruction.split()[1][2:-2])\n",
    "old_qr"
   ]
  },
  {
   "cell_type": "code",
   "execution_count": null,
   "id": "151389e2-7869-4e7e-b778-902d69b34f36",
   "metadata": {},
   "outputs": [],
   "source": [
    "parsed_instructions = []\n",
    "    for i, qasm_code in enumerate(qs):\n",
    "        for line in qasm_code:\n",
    "            line = line.strip()    # removing leading/trailing whitespace\n",
    "            if line.startswith(('x', 'h', 'measure')):\n",
    "                line = line.replace('0', i)\n",
    "                parsed_instructions.append(line)              # Bug here : need to store the index as well\n"
   ]
  },
  {
   "cell_type": "code",
   "execution_count": null,
   "id": "221eacdc-a3e4-4757-bead-398b5c540a03",
   "metadata": {},
   "outputs": [],
   "source": []
  },
  {
   "cell_type": "code",
   "execution_count": 3,
   "id": "2bc9f142-08d8-44fb-9dc5-944b5de67a87",
   "metadata": {},
   "outputs": [],
   "source": [
    "def NoisyChannel(qc1, qc2, qc1_name, rate = 0.05):\n",
    "    ''' This function takes the output of a circuit qc1 (made up only of x and \n",
    "        h gates), simulates a noisy quantum channel where Pauli errors (X - bit flip; Z - phase flip)\n",
    "        will occur in qc2, and then initializes another circuit qc2 with the introduced noise.\n",
    "    ''' \n",
    "    \n",
    "    # Retrieve quantum state from qasm code of qc1\n",
    "    qs = [qc1[i].qasm().split('\\n') for i in range(len(qc1))]\n",
    "    \n",
    "    # Debugging: Print the QASM instructions\n",
    "    # print(\"QASM Instructions:\")\n",
    "    # for qasm_code in qs:\n",
    "    #     for line in qasm_code:\n",
    "    #         print(line)\n",
    "    \n",
    "    # Process the code to get the instructions\n",
    "    parsed_instructions = []\n",
    "    for qasm_code in qs:\n",
    "        for line in qasm_code:\n",
    "            line = line.strip()\n",
    "            if line.startswith(('x', 'h', 'measure')):\n",
    "                parsed_instructions.append(line)\n",
    "\n",
    "    # Debugging: Print the parsed instructions\n",
    "    # print(\"Parsed Instructions:\", parsed_instructions)\n",
    "    \n",
    "    # Apply parsed instructions to qc2\n",
    "    for instruction in parsed_instructions:\n",
    "        if instruction.startswith('x'):\n",
    "            old_qr = int(instruction.split()[1][2])\n",
    "            qc2[old_qr].x(0)\n",
    "            \n",
    "        elif instruction.startswith('h'):\n",
    "            old_qr = int(instruction.split()[1][2])\n",
    "            qc2[old_qr].h(0)\n",
    "        \n",
    "        elif instruction.startswith('measure'):\n",
    "            continue  # exclude measuring\n",
    "            \n",
    "        else:\n",
    "            print(f\"Unable to parse instruction: {instruction}\")\n",
    "            raise Exception('Unable to parse instruction')\n",
    "    \n",
    "    # Introducing noise (1/7 probability)\n",
    "    for instruction in parsed_instructions:\n",
    "        if random.random() < rate:\n",
    "            old_qr = int(instruction.split()[1][2])\n",
    "            qc2[old_qr].x(0)  # Apply bit-flip error\n",
    "            \n",
    "        if random.random() < rate:\n",
    "            old_qr = int(instruction.split()[1][2])\n",
    "            qc2[old_qr].z(0)  # Apply phase-flip error"
   ]
  },
  {
   "cell_type": "code",
   "execution_count": 4,
   "id": "2e2bba7e-e4ed-4ab2-9874-d4f7218af99c",
   "metadata": {},
   "outputs": [],
   "source": [
    "def generate_random_bases(num_of_bases):\n",
    "    \"\"\"This function selects a random basis for each bit\"\"\"\n",
    "    \n",
    "    bases_string = \"\"\n",
    "    for i in range(num_of_bases):\n",
    "        randBasis = random.randint(0, 1) # Flip Coin\n",
    "\n",
    "        if randBasis == 0:\n",
    "            bases_string += \"Z\" \n",
    "        else:\n",
    "            bases_string += \"X\"\n",
    "            \n",
    "    return bases_string"
   ]
  },
  {
   "cell_type": "code",
   "execution_count": 5,
   "id": "bdb60d2b-dcd3-4a5f-aadc-6c0558bd755d",
   "metadata": {},
   "outputs": [],
   "source": [
    "def encode(bits, bases):\n",
    "    \"\"\"This function encodes each bit into the given basis.\"\"\"\n",
    "    \n",
    "    encoded_qubits = []\n",
    "    \n",
    "    for bit, basis in zip(bits, bases):\n",
    "        qc = QuantumCircuit(1, 1) # Create a quantum circuit for each qubit\n",
    "        \n",
    "        # Possible Cases\n",
    "        if bit==\"0\" and basis == \"Z\":\n",
    "            encoded_qubits.append(qc) # Do not apply any gates\n",
    "\n",
    "        elif bit==\"1\" and basis == \"Z\":\n",
    "            qc.x(0) # Apply X Gate\n",
    "            encoded_qubits.append(qc)\n",
    "\n",
    "        elif bit==\"0\" and basis == \"X\":\n",
    "            qc.h(0) # Apply H Gate\n",
    "            encoded_qubits.append(qc)\n",
    "\n",
    "        elif bit==\"1\" and basis == \"X\":\n",
    "            qc.x(0) # Apply X Gate\n",
    "            qc.h(0) # Apply H Gate\n",
    "            encoded_qubits.append(qc)\n",
    "            \n",
    "    return (encoded_qubits)"
   ]
  },
  {
   "cell_type": "code",
   "execution_count": 6,
   "id": "6590b215-889a-4d5a-a79f-f53bb6b0dceb",
   "metadata": {},
   "outputs": [],
   "source": [
    "def measure(qubits, bases):\n",
    "    \"\"\"This function measures each qubit in the corresponding basis chosen for it.\"\"\"\n",
    "\n",
    "    bits = \"\" # The results of measurements\n",
    "\n",
    "    for qubit, basis in zip(qubits, bases):\n",
    "\n",
    "        # Add measurement depending on basis\n",
    "        if basis == \"Z\":\n",
    "            qubit.measure(0, 0)\n",
    "        elif basis == \"X\":\n",
    "            qubit.h(0)\n",
    "            qubit.measure(0, 0)\n",
    "\n",
    "        # Execute on Simulator\n",
    "        simulator = Aer.get_backend('qasm_simulator')\n",
    "        result = execute(qubit, backend=simulator, shots=1).result()\n",
    "        counts = result.get_counts()\n",
    "        measured_bit = max(counts, key=counts.get) # Max doesn't matter for simulator since there is only one shot.\n",
    "\n",
    "        bits += measured_bit\n",
    "        \n",
    "    return bits"
   ]
  },
  {
   "cell_type": "markdown",
   "id": "f860bf4c-c8aa-4c29-b161-1c5f1e1fbd12",
   "metadata": {},
   "source": [
    "# Start"
   ]
  },
  {
   "cell_type": "code",
   "execution_count": 7,
   "id": "500e121a-1616-4eb3-81f0-ae3ce2eee527",
   "metadata": {},
   "outputs": [],
   "source": [
    "# Preparation for encoding\n",
    "KEY_LENGTH = n\n",
    "random.seed(0) # Seed the random number generator. This will be used as our \"coin flipper\"."
   ]
  },
  {
   "cell_type": "markdown",
   "id": "e458527d-5345-4abf-bca8-1637adb2d47c",
   "metadata": {},
   "source": [
    "# Alice"
   ]
  },
  {
   "cell_type": "code",
   "execution_count": 8,
   "id": "71c2bc9f-058b-444d-9371-47942a69f273",
   "metadata": {},
   "outputs": [
    {
     "name": "stdout",
     "output_type": "stream",
     "text": [
      "The bits Alice is going to send are: 1101111110...\n"
     ]
    }
   ],
   "source": [
    "#alice\n",
    "# alice = QuantumCircuit(qreg, creg, name='alice') ##\n",
    "\n",
    "# Generating a random string of bits\n",
    "alice_bits = \"\"\n",
    "for i in range(KEY_LENGTH):\n",
    "    randBit = random.randint(0, 1) # Flip Coin\n",
    "    alice_bits += str(randBit) # Add randomly chosen bit to the bit string.\n",
    "    \n",
    "print(\"The bits Alice is going to send are: \" + alice_bits[:10] + \"...\")"
   ]
  },
  {
   "cell_type": "code",
   "execution_count": 9,
   "id": "37289304-5d96-4930-86ae-2138ab9d5a57",
   "metadata": {},
   "outputs": [
    {
     "name": "stdout",
     "output_type": "stream",
     "text": [
      "The bases Alice is going to encode them in are: ZXXZZZZXZX...\n"
     ]
    }
   ],
   "source": [
    "alice_bases = generate_random_bases(KEY_LENGTH) # Alice randomly chooses a basis for each bit.\n",
    "    \n",
    "print(\"The bases Alice is going to encode them in are: \" + alice_bases[:10] + \"...\")"
   ]
  },
  {
   "cell_type": "markdown",
   "id": "0b4d3a78-46dd-4755-9b63-69fbbb080f9d",
   "metadata": {},
   "source": [
    "## Encoding"
   ]
  },
  {
   "cell_type": "code",
   "execution_count": 10,
   "id": "6191c812-1cc3-44a9-bbac-0aabc903c9af",
   "metadata": {},
   "outputs": [
    {
     "name": "stdout",
     "output_type": "stream",
     "text": [
      "     ┌───┐\n",
      "  q: ┤ X ├\n",
      "     └───┘\n",
      "c: 1/═════\n",
      "          \n",
      "     ┌───┐┌───┐\n",
      "  q: ┤ X ├┤ H ├\n",
      "     └───┘└───┘\n",
      "c: 1/══════════\n",
      "               \n",
      "     ┌───┐\n",
      "  q: ┤ H ├\n",
      "     └───┘\n",
      "c: 1/═════\n",
      "          \n",
      "     ┌───┐\n",
      "  q: ┤ X ├\n",
      "     └───┘\n",
      "c: 1/═════\n",
      "          \n",
      "     ┌───┐\n",
      "  q: ┤ X ├\n",
      "     └───┘\n",
      "c: 1/═════\n",
      "          \n",
      "etc.\n"
     ]
    }
   ],
   "source": [
    "# Encode Alice's bits\n",
    "encoded_qubits = encode(alice_bits, alice_bases)\n",
    "\n",
    "# Print circuits for first 5 qubits.\n",
    "for i in range(5):\n",
    "    print(encoded_qubits[i])\n",
    "\n",
    "print(\"etc.\")"
   ]
  },
  {
   "cell_type": "markdown",
   "id": "70ebefff-c767-4f2d-8208-96d6328ebc19",
   "metadata": {},
   "source": [
    "## Quantum Signal Channel"
   ]
  },
  {
   "cell_type": "code",
   "execution_count": 11,
   "id": "be5a4761-7969-4fd2-9348-8115b6a2a738",
   "metadata": {},
   "outputs": [],
   "source": [
    "qubits_received = [QuantumCircuit(1, 1) for _ in range(len(encoded_qubits))]\n",
    "NoisyChannel(encoded_qubits, qubits_received, 'alice') ##alice sends noisy states to Bob\n",
    "\n",
    "#QUANTUM_CHANNEL = encoded_qubits"
   ]
  },
  {
   "cell_type": "markdown",
   "id": "ea66379c-42e3-40b4-8a0b-9787fa02fec1",
   "metadata": {},
   "source": [
    "# Bob"
   ]
  },
  {
   "cell_type": "code",
   "execution_count": 12,
   "id": "08130a2b-5f95-4633-81dd-8cd5577f622d",
   "metadata": {},
   "outputs": [
    {
     "name": "stdout",
     "output_type": "stream",
     "text": [
      "The bases Bob is going to decode them in are: ZZXZZZZXXZ...\n"
     ]
    }
   ],
   "source": [
    "bob_bases = generate_random_bases(KEY_LENGTH) # Bob randomly chooses a basis for each bit.\n",
    "    \n",
    "print(\"The bases Bob is going to decode them in are: \" + bob_bases[:10] + \"...\")"
   ]
  },
  {
   "cell_type": "markdown",
   "id": "ca7e554a-79b3-465b-bfc3-7009925c444d",
   "metadata": {},
   "source": [
    "## Measurement"
   ]
  },
  {
   "cell_type": "code",
   "execution_count": 13,
   "id": "cf0c89e6-c58e-4870-916e-2d756666c825",
   "metadata": {},
   "outputs": [
    {
     "name": "stdout",
     "output_type": "stream",
     "text": [
      "The first few bits Bob received are: 1000000100...\n"
     ]
    }
   ],
   "source": [
    "# qubits_received = QUANTUM_CHANNEL # Receive qubits from quantum channel\n",
    "bob_bits = measure(qubits_received, bob_bases)\n",
    "\n",
    "print(\"The first few bits Bob received are: \" + bob_bits[:10] + \"...\")"
   ]
  },
  {
   "cell_type": "markdown",
   "id": "86398d75-42df-4a7f-8520-cef6ec6ff120",
   "metadata": {},
   "source": [
    "# Public Interaction Channel"
   ]
  },
  {
   "cell_type": "code",
   "execution_count": 14,
   "id": "7abc8df2-a4a5-4119-ab3c-cd4715eae51a",
   "metadata": {},
   "outputs": [],
   "source": [
    "CLASSICAL_CHANNEL = alice_bases # Alice tells Bob which bases she used"
   ]
  },
  {
   "cell_type": "code",
   "execution_count": 15,
   "id": "5b59a172-c683-40e3-b0df-b5569df6e70d",
   "metadata": {},
   "outputs": [
    {
     "name": "stdout",
     "output_type": "stream",
     "text": [
      "The indices of the first 10 bases they share in common are: [0, 2, 3, 4, 5, 6, 7, 12, 14, 15]\n"
     ]
    }
   ],
   "source": [
    "# Store the indices of the bases they share in common\n",
    "common_bases = [i for i in range(KEY_LENGTH) if CLASSICAL_CHANNEL[i] == bob_bases[i]]\n",
    "\n",
    "print(\"The indices of the first 10 bases they share in common are: \" + str(common_bases[:10]))"
   ]
  },
  {
   "cell_type": "code",
   "execution_count": 16,
   "id": "f95cdbb5-b399-4713-9eba-fb64780b8617",
   "metadata": {},
   "outputs": [],
   "source": [
    "bob_bits = [bob_bits[index] for index in common_bases]"
   ]
  },
  {
   "cell_type": "markdown",
   "id": "3f8bdeb9-dbf9-4726-998b-9ce93961bc0a",
   "metadata": {},
   "source": [
    "## Comparision"
   ]
  },
  {
   "cell_type": "code",
   "execution_count": 17,
   "id": "12e37441-e561-4334-b136-aab3c4cc9b9c",
   "metadata": {},
   "outputs": [],
   "source": [
    "CLASSICAL_CHANNEL = common_bases # Bob tells Alice which bases they shared in common"
   ]
  },
  {
   "cell_type": "code",
   "execution_count": 18,
   "id": "1080b00e-e6d4-4196-97c2-3834b9cc68ab",
   "metadata": {},
   "outputs": [],
   "source": [
    "alice_bits = [alice_bits[index] for index in common_bases] # Alice keeps only the bits they shared in common"
   ]
  },
  {
   "cell_type": "markdown",
   "id": "29f21d61-a1b3-4310-95fc-f5db773b5c59",
   "metadata": {},
   "source": [
    "## Spotting a few qubits"
   ]
  },
  {
   "cell_type": "code",
   "execution_count": 19,
   "id": "1cc57c3c-cb94-425d-90af-67aaa839ce9d",
   "metadata": {},
   "outputs": [
    {
     "name": "stdout",
     "output_type": "stream",
     "text": [
      "Uh oh, at least one of the bits is different.\n"
     ]
    }
   ],
   "source": [
    "CLASSICAL_CHANNEL = alice_bits[:100] # Alice tells Bob the first 100 bits she has left.\n",
    "\n",
    "# Bob checks if they match the first 100 bits that he has\n",
    "if CLASSICAL_CHANNEL == bob_bits[:100]:\n",
    "    print(\"Yep, Alice and Bob seem to have the same bits!\")\n",
    "else:\n",
    "    print(\"Uh oh, at least one of the bits is different.\")"
   ]
  },
  {
   "cell_type": "code",
   "execution_count": 20,
   "id": "c4039f44-d2f1-433b-b368-a3ea84f38169",
   "metadata": {},
   "outputs": [
    {
     "name": "stdout",
     "output_type": "stream",
     "text": [
      " The error count is :  45\n"
     ]
    }
   ],
   "source": [
    "error_count = sum(1 for i in range(100) if CLASSICAL_CHANNEL[i] != bob_bits[i])\n",
    "print(\" The error is : \", error_count/100)"
   ]
  },
  {
   "cell_type": "markdown",
   "id": "357a0889-534b-49c3-a9c1-97cf7f8567f8",
   "metadata": {},
   "source": [
    "## Final Key : No interception"
   ]
  },
  {
   "cell_type": "code",
   "execution_count": 21,
   "id": "78f20aa7-59f1-483b-8ca1-41f83e4a131c",
   "metadata": {},
   "outputs": [],
   "source": [
    "alice_bits = alice_bits[100:] # Alice discards the first 100 bits\n",
    "bob_bits = bob_bits[100:] # Alice discards the first 100 bits"
   ]
  },
  {
   "cell_type": "code",
   "execution_count": 22,
   "id": "0f25d9e2-77d7-4e18-b641-cfc3c4261801",
   "metadata": {},
   "outputs": [
    {
     "name": "stdout",
     "output_type": "stream",
     "text": [
      "The key is:\n",
      "010001111000000100111001111100101011010010011101100100000101100010101000000010111011000100001010111110011011100101100111010011011010110000101010111111101100000\n",
      "\n",
      "The key is 159 bits long.\n"
     ]
    }
   ],
   "source": [
    "key = \"\" \n",
    "for bit in alice_bits: # Or bob_bits, since both should be the same\n",
    "    key += bit\n",
    "\n",
    "print(\"The key is:\")\n",
    "print(str(key))\n",
    "\n",
    "print(\"\\nThe key is \" + str(len(key)) + \" bits long.\")"
   ]
  },
  {
   "cell_type": "markdown",
   "id": "3b2dbbcc-9ded-4f4b-8e33-4bea86c49c22",
   "metadata": {},
   "source": [
    "# Interception"
   ]
  },
  {
   "cell_type": "code",
   "execution_count": 23,
   "id": "33bdc1d1-6276-4f65-adfb-9984cc367afc",
   "metadata": {},
   "outputs": [],
   "source": [
    "# Generating a random string of bits\n",
    "alice_bits = \"\"\n",
    "for i in range(KEY_LENGTH):\n",
    "    randBit = random.randint(0, 1) # Flip Coin\n",
    "    alice_bits += str(randBit) # Add randomly chosen bit to the bit string.\n",
    "    \n",
    "# Alice randomly chooses a basis for each bit.\n",
    "alice_bases = generate_random_bases(KEY_LENGTH)\n",
    "\n",
    "# Encode Alice's bits\n",
    "encoded_qubits = encode(alice_bits, alice_bases)\n",
    "qubits_intercepted = [QuantumCircuit(1, 1) for _ in range(len(encoded_qubits))]\n",
    "\n",
    "# QUANTUM_CHANNEL = encoded_qubits\n",
    "NoisyChannel(encoded_qubits, qubits_intercepted, 'alice') ##Eve intercepts noisy states "
   ]
  },
  {
   "cell_type": "markdown",
   "id": "bc206b94-0866-4bae-a1d4-583cd8ebd286",
   "metadata": {},
   "source": [
    "# Eve"
   ]
  },
  {
   "cell_type": "code",
   "execution_count": 24,
   "id": "85f942d9-e619-4018-8794-e6a06e3195c3",
   "metadata": {},
   "outputs": [],
   "source": [
    "# qubits_intercepted = QUANTUM_CHANNEL # Intercept qubits\n",
    "eve_bases = generate_random_bases(KEY_LENGTH) # Generate a random set of bases\n",
    "eve_bits = measure(qubits_intercepted, eve_bases) # Measure the qubits"
   ]
  },
  {
   "cell_type": "code",
   "execution_count": 25,
   "id": "b12b8778-6e9e-42ea-be79-7d8cef1e85a5",
   "metadata": {},
   "outputs": [],
   "source": [
    "# Eve encodes her decoy qubits and sends them along the quantum channel\n",
    "# QUANTUM_CHANNEL = encode(eve_bits, eve_bases)\n",
    "encoded_intercepted_qubits = encode(eve_bits, eve_bases) ##\n",
    "NoisyChannel(encoded_intercepted_qubits, qubits_received, 'eve') ##Eve sends intercepted noisy states to Bob "
   ]
  },
  {
   "cell_type": "code",
   "execution_count": 26,
   "id": "f389c37d-ef8b-40b4-9dfa-58e1fce51e4f",
   "metadata": {},
   "outputs": [],
   "source": [
    "bob_bases = generate_random_bases(KEY_LENGTH) # Bob randomly chooses a basis for each bit.\n",
    "# qubits_received = QUANTUM_CHANNEL # Receive qubits from quantum channel\n",
    "bob_bits = measure(qubits_received, bob_bases)"
   ]
  },
  {
   "cell_type": "markdown",
   "id": "78dacbae-ea79-4e1d-965f-e329152b51ad",
   "metadata": {},
   "source": [
    "## Comparision"
   ]
  },
  {
   "cell_type": "code",
   "execution_count": 27,
   "id": "9a35d5f3-f4f1-4bc4-8e51-8018bd0e6662",
   "metadata": {},
   "outputs": [],
   "source": [
    "CLASSICAL_CHANNEL = alice_bases # Alice tells Bob which bases she used"
   ]
  },
  {
   "cell_type": "code",
   "execution_count": 28,
   "id": "7ad23570-937e-4f00-b7aa-83124934632d",
   "metadata": {},
   "outputs": [],
   "source": [
    "# Store the indices of the bases they share in common\n",
    "common_bases = [i for i in range(KEY_LENGTH) if CLASSICAL_CHANNEL[i]==bob_bases[i]]\n",
    "bob_bits = [bob_bits[index] for index in common_bases]"
   ]
  },
  {
   "cell_type": "code",
   "execution_count": 29,
   "id": "a669df3d-d83f-4c20-bd0c-1384fdd566a6",
   "metadata": {},
   "outputs": [],
   "source": [
    "CLASSICAL_CHANNEL = common_bases # Bob tells Alice which bases they shared in common\n",
    "alice_bits = [alice_bits[index] for index in common_bases] # Alice keeps only the bits they shared in common"
   ]
  },
  {
   "cell_type": "markdown",
   "id": "8371ce31-d388-4b06-bc2e-df41a227da06",
   "metadata": {},
   "source": [
    "## Detection"
   ]
  },
  {
   "cell_type": "code",
   "execution_count": 30,
   "id": "193b7e1d-f5bb-4315-ae5e-97998be63e22",
   "metadata": {},
   "outputs": [
    {
     "name": "stdout",
     "output_type": "stream",
     "text": [
      "Uh oh, at least one of the bits is different.\n"
     ]
    }
   ],
   "source": [
    "CLASSICAL_CHANNEL = alice_bits[:100] # Alice tells Bob the first 100 bits she has left.\n",
    "\n",
    "# Bob checks if they match the first 100 bits that he has\n",
    "if CLASSICAL_CHANNEL == bob_bits[:100]:\n",
    "    print(\"Yep, Alice and Bob seem to have the same bits!\")\n",
    "else:\n",
    "    print(\"Uh oh, at least one of the bits is different.\")"
   ]
  },
  {
   "cell_type": "markdown",
   "id": "8e9af332-80e7-4506-b0b3-793cb98c52ce",
   "metadata": {},
   "source": [
    "# QBER"
   ]
  },
  {
   "cell_type": "code",
   "execution_count": 31,
   "id": "7f982497-db10-447f-a313-57fbe3101fc0",
   "metadata": {},
   "outputs": [
    {
     "name": "stdout",
     "output_type": "stream",
     "text": [
      "QBER value = 0.5\n",
      "alices secret key = ['1', '0', '0', '1', '0', '1', '1', '1', '0', '0', '1', '1', '1', '0', '1', '1', '1', '0', '1', '0', '1', '1', '0', '0', '0', '1', '1', '0', '1', '1', '1', '1', '0', '0', '1', '0', '0', '0', '0', '1', '0', '1', '0', '0', '0', '0', '1', '0', '1', '0', '1', '1', '1', '1', '0', '0', '1', '0', '1', '1', '0', '0', '1', '0', '0', '0', '0', '1', '0', '0', '1', '0', '1', '0', '0', '1', '1', '1', '1', '1', '1', '0', '1', '1', '0', '0', '1', '0', '0', '0', '1', '1', '1', '0', '0', '0', '1', '1', '1', '1', '1', '0', '1', '0', '0', '0', '0', '0', '1', '1', '0', '0', '1', '0', '0', '0', '1', '1', '0', '1', '0', '0', '0', '0', '1', '1', '1', '0', '0', '0', '0', '1', '0', '1', '0', '0', '1', '1', '1', '1', '0', '1', '1', '0', '1', '1', '0', '1', '1', '1', '0', '0', '1', '1', '1', '1', '0', '0', '1', '0', '1', '1', '1', '1', '0', '1', '1', '0', '0', '0']\n",
      "Bob secret key = ['1', '1', '0', '0', '1', '0', '1', '1', '0', '1', '0', '1', '0', '0', '0', '1', '0', '0', '0', '0', '0', '1', '0', '0', '1', '0', '0', '0', '0', '0', '0', '1', '0', '0', '1', '1', '0', '0', '0', '1', '0', '0', '0', '0', '0', '0', '1', '1', '1', '0', '0', '1', '1', '0', '0', '0', '0', '1', '0', '0', '1', '1', '0', '1', '0', '1', '0', '0', '0', '0', '1', '1', '1', '0', '0', '1', '0', '0', '1', '0', '1', '0', '0', '1', '0', '0', '1', '1', '0', '1', '1', '0', '1', '1', '0', '0', '0', '0', '0', '1', '0', '1', '0', '0', '0', '0', '0', '1', '0', '1', '0', '1', '1', '0', '1', '0', '0', '0', '0', '1', '1', '0', '1', '0', '0', '0', '0', '1', '0', '0', '0', '0', '1', '0', '0', '1', '0', '0', '0', '0', '1', '0', '0', '0', '0', '0', '0', '1', '1', '1', '1', '0', '0', '0', '1', '1', '0', '0', '1', '0', '0', '0', '0', '0', '0', '0', '0', '0', '1', '1']\n"
     ]
    }
   ],
   "source": [
    "rounds = len(alice_bits)//3\n",
    "errors = 0\n",
    "\n",
    "for i in range(rounds):\n",
    "    bit_index = random.randrange(len(alice_bits)) \n",
    "    # tested_bit = alice_key[bit_index]\n",
    "    \n",
    "    if alice_bits[bit_index] != bob_bits[bit_index]: #comparing tested rounds\n",
    "        errors += 1 #calculating errors\n",
    "        \n",
    "    del alice_bits[bit_index] #removing tested bits from key strings\n",
    "    del bob_bits[bit_index]\n",
    "\n",
    "QBER = errors/rounds #calculating QBER\n",
    "QBER = round(QBER,2) #saving the answer to two decimal places\n",
    "\n",
    "print(\"QBER value =\", QBER)\n",
    "print(\"alices secret key =\", alice_bits)\n",
    "print(\"Bob secret key =\", bob_bits)"
   ]
  },
  {
   "cell_type": "code",
   "execution_count": 32,
   "id": "e32d3829-9293-4a7a-ad0b-3fea227bbf35",
   "metadata": {},
   "outputs": [
    {
     "data": {
      "text/plain": [
       "(42, 84)"
      ]
     },
     "execution_count": 32,
     "metadata": {},
     "output_type": "execute_result"
    }
   ],
   "source": [
    "errors, rounds"
   ]
  }
 ],
 "metadata": {
  "kernelspec": {
   "display_name": "Python 3 (ipykernel)",
   "language": "python",
   "name": "python3"
  },
  "language_info": {
   "codemirror_mode": {
    "name": "ipython",
    "version": 3
   },
   "file_extension": ".py",
   "mimetype": "text/x-python",
   "name": "python",
   "nbconvert_exporter": "python",
   "pygments_lexer": "ipython3",
   "version": "3.11.5"
  }
 },
 "nbformat": 4,
 "nbformat_minor": 5
}
