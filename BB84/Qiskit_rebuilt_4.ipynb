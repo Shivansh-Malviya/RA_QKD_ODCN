{
 "cells": [
  {
   "cell_type": "code",
   "execution_count": 1,
   "id": "0b7c8b64-3bd0-4e82-b294-34a4d5eefd19",
   "metadata": {},
   "outputs": [],
   "source": [
    "# Importing Qiskit\n",
    "from qiskit import *\n",
    "from qiskit.qasm2 import dumps\n",
    "from qiskit_aer import Aer\n",
    "\n",
    "import numpy as np\n",
    "# import operation as op\n",
    "from functools import reduce\n",
    "import random\n",
    "from random import randrange"
   ]
  },
  {
   "cell_type": "markdown",
   "id": "49c74cbe-405d-4d9d-a0a9-914ed65f379c",
   "metadata": {},
   "source": [
    "# 1. Qubit Manipulation"
   ]
  },
  {
   "cell_type": "code",
   "execution_count": 2,
   "id": "2bc9f142-08d8-44fb-9dc5-944b5de67a87",
   "metadata": {},
   "outputs": [],
   "source": [
    "def NoisyChannel(qc1, qc2, qc1_name, noise = 0.05):\n",
    "    ''' This function takes the output of a circuit qc1 (made up only of x and \n",
    "        h gates), simulates a noisy quantum channel where Pauli errors (X - bit flip; Z - phase flip)\n",
    "        will occur in qc2, and then initializes another circuit qc2 with the introduced noise.\n",
    "    ''' \n",
    "    \n",
    "    # Retrieve quantum state from qasm code of qc1\n",
    "    qs = [dumps(qc1[i]).split('\\n') for i in range(len(qc1))]\n",
    "    \n",
    "    # Process the code to get the instructions\n",
    "    parsed_instructions = []\n",
    "    for i, qasm_code in enumerate(qs):\n",
    "        for line in qasm_code:\n",
    "            line = line.strip()    # removing leading/trailing whitespace\n",
    "            if line.startswith(('x', 'h', 'measure')):\n",
    "                line = line.replace('0', str(i))\n",
    "                parsed_instructions.append(line)\n",
    "    \n",
    "    # Apply parsed instructions to qc2\n",
    "    for instruction in parsed_instructions:\n",
    "        if instruction.startswith('x'):\n",
    "            old_qr = int(instruction.split()[1][2:-2])\n",
    "            qc2[old_qr].x(0)\n",
    "            \n",
    "        elif instruction.startswith('h'):\n",
    "            old_qr = int(instruction.split()[1][2:-2])\n",
    "            qc2[old_qr].h(0)\n",
    "        \n",
    "        elif instruction.startswith('measure'):\n",
    "            continue    # exclude measuring\n",
    "            \n",
    "        else:\n",
    "            print(f\"Unable to parse instruction: {instruction}\")\n",
    "            raise Exception('Unable to parse instruction')\n",
    "    \n",
    "    # Introducing noise (taking input)\n",
    "    for instruction in parsed_instructions:\n",
    "        if random.random() < noise:\n",
    "            old_qr = int(instruction.split()[1][2:-2])\n",
    "            qc2[old_qr].x(0)     # Apply bit-flip error\n",
    "            \n",
    "        if random.random() < noise:\n",
    "            old_qr = int(instruction.split()[1][2:-2])\n",
    "            qc2[old_qr].z(0)     # Apply phase-flip error"
   ]
  },
  {
   "cell_type": "code",
   "execution_count": 3,
   "id": "a8a01e74-3c7b-4621-956e-776d713e59e9",
   "metadata": {},
   "outputs": [],
   "source": [
    "def generate_random_bits(num):\n",
    "    \"\"\"This function generates a random bit-string of size = num\"\"\"\n",
    "    \n",
    "    bit_string = \"\"\n",
    "    for _ in range(num):\n",
    "        rand_bit = random.randint(0, 1)     # Flip Coin\n",
    "        bit_string += str(rand_bit)\n",
    "        \n",
    "    return bit_string"
   ]
  },
  {
   "cell_type": "code",
   "execution_count": 4,
   "id": "2e2bba7e-e4ed-4ab2-9874-d4f7218af99c",
   "metadata": {},
   "outputs": [],
   "source": [
    "def generate_random_bases(num_of_bases):\n",
    "    \"\"\"This function selects a random basis for each bit\"\"\"\n",
    "    \n",
    "    bases_string = \"\"\n",
    "    for _ in range(num_of_bases):\n",
    "        randBasis = random.randint(0, 1)     # Flip Coin\n",
    "\n",
    "        if randBasis == 0:\n",
    "            bases_string += \"Z\" \n",
    "        else:\n",
    "            bases_string += \"X\"\n",
    "            \n",
    "    return bases_string"
   ]
  },
  {
   "cell_type": "code",
   "execution_count": 5,
   "id": "bdb60d2b-dcd3-4a5f-aadc-6c0558bd755d",
   "metadata": {},
   "outputs": [],
   "source": [
    "def encode(bits, bases):\n",
    "    \"\"\"This function encodes each bit into the given basis.\"\"\"\n",
    "    \n",
    "    encoded_qubits = []\n",
    "    \n",
    "    for bit, basis in zip(bits, bases):\n",
    "        qc = QuantumCircuit(1, 1)     # Create a quantum circuit for each qubit\n",
    "        \n",
    "        # Possible Cases\n",
    "        if bit == \"1\" :\n",
    "            qc.x(0)\n",
    "\n",
    "        if basis == 'X' :\n",
    "            qc.h(0)\n",
    "            \n",
    "        encoded_qubits.append(qc)\n",
    "            \n",
    "    return (encoded_qubits)"
   ]
  },
  {
   "cell_type": "code",
   "execution_count": 6,
   "id": "6590b215-889a-4d5a-a79f-f53bb6b0dceb",
   "metadata": {},
   "outputs": [],
   "source": [
    "def measure(qubits, bases):\n",
    "    \"\"\"This function measures each qubit in the corresponding basis chosen for it.\"\"\"\n",
    "\n",
    "    bits = \"\"    # The results of measurements\n",
    "\n",
    "    for qubit, basis in zip(qubits, bases):\n",
    "\n",
    "        if basis == \"X\" :\n",
    "            qubit.h(0)\n",
    "            \n",
    "        qubit.measure(0, 0)\n",
    "        \n",
    "        # Execute on Simulator\n",
    "        simulator = Aer.get_backend('qasm_simulator')\n",
    "        transpiled_circuit = transpile(qubit, simulator)\n",
    "        result = simulator.run(transpiled_circuit, shots=1).result()\n",
    "        counts = result.get_counts()\n",
    "        measured_bit = max(counts, key=counts.get)     # Max doesn't matter for simulator since there is only one shot.\n",
    "\n",
    "        bits += str(measured_bit)\n",
    "        \n",
    "    return bits"
   ]
  },
  {
   "cell_type": "markdown",
   "id": "b32420ef-7e42-46ce-a789-9744f7ea3af4",
   "metadata": {},
   "source": [
    "# 2. Error Correction"
   ]
  },
  {
   "cell_type": "code",
   "execution_count": 7,
   "id": "8cc19329-fce5-4aab-96c1-5185eb32ed4f",
   "metadata": {},
   "outputs": [
    {
     "name": "stdout",
     "output_type": "stream",
     "text": [
      "Help on built-in function reduce in module _functools:\n",
      "\n",
      "reduce(...)\n",
      "    reduce(function, sequence[, initial]) -> value\n",
      "    \n",
      "    Apply a function of two arguments cumulatively to the items of a sequence,\n",
      "    from left to right, so as to reduce the sequence to a single value.\n",
      "    For example, reduce(lambda x, y: x+y, [1, 2, 3, 4, 5]) calculates\n",
      "    ((((1+2)+3)+4)+5).  If initial is present, it is placed before the items\n",
      "    of the sequence in the calculation, and serves as a default when the\n",
      "    sequence is empty.\n",
      "\n"
     ]
    }
   ],
   "source": [
    "help(reduce)"
   ]
  },
  {
   "cell_type": "code",
   "execution_count": 8,
   "id": "7e106b63-475b-4ce6-b0cc-217d99b2003f",
   "metadata": {},
   "outputs": [],
   "source": [
    "def hamming(bob_bits, order):\n",
    "    '''\n",
    "    Takes a string of bits to be corrected (bob bits). Bit-wise sums the indices of elements which are '1'. The 0th bit stores the parity\n",
    "    of the entire block. The location of the error is returned. \n",
    "    If the location is not '0', the current 0th parity is matched with that of the parity obtained after flipping the bit at the location obtained. \n",
    "    If the parity matches, then the error is found and corrected. If the parity doesn't match then there are more than 1 error.\n",
    "\n",
    "    If the location is '0', then no error is present.\n",
    "    \n",
    "    '''\n",
    "    \n",
    "    loc = reduce(lambda x, y : x^y, [i for i, bit in enumerate(bob_bits) if bit == 1])    # x^y will apply xor to the binary rep of i -> index of 1s\n",
    "    # loc = reduce(op.XOR, [i for i, bit in enumerate(bob_bits) if bit == 1])\n",
    "    \n",
    "    print(loc)\n",
    "    bin_loc = bin(loc)[2:]\n",
    "    binary_rep = f\"{bin_rep(loc, order)}\"\n",
    "\n",
    "    par_0 = sum(bob_bits[i] for i in range(1, len(bob_bits)))%2\n",
    "\n",
    "    if loc != 0 :\n",
    "        if (par_0 + 1)%2 == bob_bits[0]:\n",
    "            err_count = 1\n",
    "            print(f\"Error found at location : {loc}\")\n",
    "\n",
    "        else :\n",
    "            err_count = 2\n",
    "            print(\"More than 1 errors found\")\n",
    "            \n",
    "    else : \n",
    "        err_count = 0\n",
    "        print(\"No errors found\")\n",
    "\n",
    "    \n",
    "    return err_count, loc, binary_rep"
   ]
  },
  {
   "cell_type": "code",
   "execution_count": 9,
   "id": "046ed796-82c9-49d9-b97a-63f742a3906d",
   "metadata": {},
   "outputs": [
    {
     "data": {
      "text/plain": [
       "'\\ndef print_extras(choice = 0):\\n\\n    if choice == 0 : choice = [i in range(4)] \\n    \\n    if \\'1\\' in choice :\\n        print(f\"Parity Dictionary : {PARITY_DICT} \\nBinary representation of parity bit indices : {bin_parity}\")\\n\\n    if \\'2\\' in choice :\\n        print(f\"\\nShape of the block : {dim}*{dim}\")\\n        print(\"Uncorrected Alice block : \\n\", alice_bits.reshape(dim, dim))\\n        print(f\\'Parity bit locations : \\n{parity_locs(order).reshape(dim, dim)}\\')\\n\\n    if \\'3\\' in choice : \\n        print(highlight.reshape(dim, dim))\\n'"
      ]
     },
     "execution_count": 9,
     "metadata": {},
     "output_type": "execute_result"
    }
   ],
   "source": [
    "# Block is the representation of an array consisting the binary data string that has been reshaped as a square matrix\n",
    "# It has dimensions : dim*dim, where dim = 2**(order/2)\n",
    "\n",
    "def bin_rep(loc, order):\n",
    "    '''\n",
    "    Takes a number(int) and order/precision(int) as an input, and returns the binary form with the requested precision.\n",
    "    '''\n",
    "    bin_loc = bin(loc)[2:]\n",
    "    bin_rep = f\"{'0'*(order - len(bin_loc))}{bin_loc}\"\n",
    "    \n",
    "    return bin_rep\n",
    "\n",
    "\n",
    "def parity(order):\n",
    "    '''\n",
    "    Takes in order(int) as a parameter. Returns 2 arrays : \n",
    "       - parity_bits : an array containing '0' and the powers of 2 till 2^(order-1)\n",
    "       - bin_parity : an array of the binary representation of elements of parity_bits   \n",
    "    '''\n",
    "    PARITY_DICT = {0:0, **{2**i : 0 for i in range(order)}}\n",
    "    # parity_bits = np.array([0] + [2**i for i in range(order)]).astype(int)\n",
    "    bin_parity = np.array([bin_rep(int(i), int(order)) for i in PARITY_DICT.keys()])\n",
    "\n",
    "    return PARITY_DICT, bin_parity\n",
    "    \n",
    "    \n",
    "def parity_locs(order):\n",
    "    '''\n",
    "    Takes in order(int) as a parameter. Returns an array :\n",
    "        - parity_locs : A block(array reshaped as square matrix) with 1 at the locations of parity bits\n",
    "    '''\n",
    "    parity_locs = np.full(2**order, '-', dtype = object)\n",
    "    PARITY_DICT = parity(order)[0]\n",
    "    \n",
    "    for loc in PARITY_DICT.keys() : parity_locs[loc] = '1'\n",
    "\n",
    "    return parity_locs\n",
    "\n",
    "\n",
    "\"\"\"\n",
    "def print_extras(choice = 0):\n",
    "\n",
    "    if choice == 0 : choice = [i in range(4)] \n",
    "    \n",
    "    if '1' in choice :\n",
    "        print(f\"Parity Dictionary : {PARITY_DICT} \\nBinary representation of parity bit indices : {bin_parity}\")\n",
    "\n",
    "    if '2' in choice :\n",
    "        print(f\"\\nShape of the block : {dim}*{dim}\")\n",
    "        print(\"Uncorrected Alice block : \\n\", alice_bits.reshape(dim, dim))\n",
    "        print(f'Parity bit locations : \\n{parity_locs(order).reshape(dim, dim)}')\n",
    "\n",
    "    if '3' in choice : \n",
    "        print(highlight.reshape(dim, dim))\n",
    "\"\"\""
   ]
  },
  {
   "cell_type": "markdown",
   "id": "2a2389d5-6490-40c4-a5a4-51e89e306ffe",
   "metadata": {},
   "source": [
    "### Creating some dummy data for Alice"
   ]
  },
  {
   "cell_type": "code",
   "execution_count": 10,
   "id": "fe86a877-a0e4-42b0-8d52-e48c2e075b10",
   "metadata": {},
   "outputs": [
    {
     "name": "stdout",
     "output_type": "stream",
     "text": [
      " Alice Block : \n",
      "[[0 0 1 1 1 0 0 1]\n",
      " [1 0 1 1 0 1 0 0]\n",
      " [1 0 1 1 1 0 0 0]\n",
      " [1 0 0 0 0 1 1 0]\n",
      " [1 0 1 0 0 0 0 1]\n",
      " [1 0 1 0 0 1 0 0]\n",
      " [1 0 0 1 0 0 0 0]\n",
      " [0 1 0 0 0 1 1 0]]\n"
     ]
    }
   ],
   "source": [
    "order = 6\n",
    "dim = int(2**(order/2))\n",
    "alice_bits = np.array([random.randint(0, 1) for _ in range(2**order)])    # Randomly fills the array with 0/1\n",
    "print(f\" Alice Block : \\n{alice_bits.reshape(dim, dim)}\")"
   ]
  },
  {
   "cell_type": "markdown",
   "id": "4c3b9113-9e8b-402f-b63a-a59e7e42fdf2",
   "metadata": {},
   "source": [
    "## Encoding parity bits in Alice's key"
   ]
  },
  {
   "cell_type": "code",
   "execution_count": 11,
   "id": "f9b24926-e061-442a-954b-e11c80ffe293",
   "metadata": {},
   "outputs": [],
   "source": [
    "def encode_parity(alice_bits, order):\n",
    "    # order = np.ceil(np.log2(len(alice_bits)))\n",
    "    PARITY_DICT, bin_parity = parity(order)\n",
    "    # print_extras(choice = ['2', '1'])\n",
    "    \n",
    "    sub_block = int(2**(order - 1))\n",
    "    parity_of = np.zeros((len(PARITY_DICT), sub_block)).astype(int)   # An array to store the locations affecting the parity p\n",
    "    \n",
    "    for p in range(1, order+1) :    # checking for 1 at position p. eg : bin(45) = 101101\n",
    "    \n",
    "        bit_index = 2**(p-1)\n",
    "        highlight = np.zeros(2**order).astype(int)                        # Highlights the locations affected by the current parity bit\n",
    "        # print(f\"bin rep of {bit_index = } : {bin_parity[p]}\")\n",
    "        \n",
    "        for i in range(sub_block):                                         #  Order-1 = 5. range(5) = 0, 1, 2, 3, 4 => order-2\n",
    "            bin_index = bin_rep(i, order-1)                                # Index(in binary formin binary form) for the data bits : 5 digits : 00010\n",
    "            bin_index = bin_index[: order-p] + '1' + bin_index[order-p :]\n",
    "            index = int(bin_index, base = 2)                                # Gives the index(int) of the elements to be considered for the current parity element\n",
    "            \n",
    "            parity_of[p, i] = index\n",
    "            highlight[index] = 1\n",
    "    \n",
    "        PARITY_DICT[bit_index] = np.mod( sum( alice_bits[parity_of[p, i]] for i in range(sub_block) if bit_index != parity_of[p, i] ), 2 )\n",
    "    \n",
    "        if PARITY_DICT[bit_index] != alice_bits[bit_index] : \n",
    "            alice_bits[bit_index] = np.mod(alice_bits[bit_index] + 1, 2)\n",
    "            \n",
    "        # print_extras('3')    # print(highlight.reshape(dim, dim))\n",
    "    \n",
    "    PARITY_DICT[0] =  sum( i for i in range(1, 2**order) )%2\n",
    "    # print(f\"Parity locations : \\n{parity_of[1:]}\")\n",
    "    \n",
    "    print(hamming(alice_bits, order))\n",
    "    print(alice_bits.reshape(dim, dim))\n",
    "\n",
    "    return alice_bits, PARITY_DICT"
   ]
  },
  {
   "cell_type": "code",
   "execution_count": 12,
   "id": "449f82bf-6939-4a29-8533-14d54e55fc55",
   "metadata": {},
   "outputs": [
    {
     "name": "stdout",
     "output_type": "stream",
     "text": [
      "0\n",
      "No errors found\n",
      "(0, 0, '000000')\n",
      "[[0 1 0 1 1 0 0 1]\n",
      " [0 0 1 1 0 1 0 0]\n",
      " [1 0 1 1 1 0 0 0]\n",
      " [1 0 0 0 0 1 1 0]\n",
      " [0 0 1 0 0 0 0 1]\n",
      " [1 0 1 0 0 1 0 0]\n",
      " [1 0 0 1 0 0 0 0]\n",
      " [0 1 0 0 0 1 1 0]]\n"
     ]
    },
    {
     "data": {
      "text/plain": [
       "(array([0, 1, 0, 1, 1, 0, 0, 1, 0, 0, 1, 1, 0, 1, 0, 0, 1, 0, 1, 1, 1, 0,\n",
       "        0, 0, 1, 0, 0, 0, 0, 1, 1, 0, 0, 0, 1, 0, 0, 0, 0, 1, 1, 0, 1, 0,\n",
       "        0, 1, 0, 0, 1, 0, 0, 1, 0, 0, 0, 0, 0, 1, 0, 0, 0, 1, 1, 0]),\n",
       " {0: 0, 1: 1, 2: 0, 4: 1, 8: 0, 16: 1, 32: 0})"
      ]
     },
     "execution_count": 12,
     "metadata": {},
     "output_type": "execute_result"
    }
   ],
   "source": [
    "encode_parity(alice_bits, order)"
   ]
  },
  {
   "cell_type": "raw",
   "id": "e3a46d13-a9bd-44cb-9622-dea058503f51",
   "metadata": {},
   "source": [
    "PARITY_DICT, bin_parity = parity(order)\n",
    "print_extras(choice = ['2', '1'])"
   ]
  },
  {
   "cell_type": "raw",
   "id": "c8146689-6851-425c-a33e-3d825bc6b075",
   "metadata": {},
   "source": [
    "sub_block = int(2**(order - 1))\n",
    "parity_of = np.zeros((len(PARITY_DICT), sub_block)).astype(int)   # An array to store the locations affecting the parity p\n",
    "\n",
    "for p in range(1, order+1) :    # checking for 1 at position p. eg : bin(45) = 101101\n",
    "\n",
    "    bit_index = 2**(p-1)\n",
    "    highlight = np.zeros(2**order).astype(int)                        # Highlights the locations affected by the current parity bit\n",
    "    # print(f\"bin rep of {bit_index = } : {bin_parity[p]}\")\n",
    "    \n",
    "    for i in range(sub_block):                                         #  Order-1 = 5. range(5) = 0, 1, 2, 3, 4 => order-2\n",
    "        bin_index = bin_rep(i, order-1)                                # Index(in binary formin binary form) for the data bits : 5 digits : 00010\n",
    "        bin_index = bin_index[: order-p] + '1' + bin_index[order-p :]\n",
    "        index = int(bin_index, base = 2)                                # Gives the index(int) of the elements to be considered for the current parity element\n",
    "        \n",
    "        parity_of[p, i] = index\n",
    "        highlight[index] = 1\n",
    "\n",
    "    PARITY_DICT[bit_index] = np.mod( sum( alice_bits[parity_of[p, i]] for i in range(sub_block) if bit_index != parity_of[p, i] ), 2 )\n",
    "\n",
    "    if PARITY_DICT[bit_index] != alice_bits[bit_index] : \n",
    "        alice_bits[bit_index] = np.mod(alice_bits[bit_index] + 1, 2)\n",
    "        \n",
    "    # print_extras('3')    # print(highlight.reshape(dim, dim))\n",
    "\n",
    "PARITY_DICT[0] =  sum( i for i in range(1, 2**order) )%2\n",
    "# print(f\"Parity locations : \\n{parity_of[1:]}\")\n",
    "\n",
    "ans = hamming(alice_bits, order)\n",
    "print(ans)"
   ]
  },
  {
   "cell_type": "markdown",
   "id": "9c338763-9fa7-410f-87c6-c3c70d124528",
   "metadata": {},
   "source": [
    "# Bob"
   ]
  },
  {
   "cell_type": "code",
   "execution_count": 13,
   "id": "eef88540-eea3-4fc9-aa35-feea02b60914",
   "metadata": {},
   "outputs": [
    {
     "name": "stdout",
     "output_type": "stream",
     "text": [
      "num_errors=1, pos=[5]\n",
      "\n",
      "Alice :\n",
      " [[0 1 0 1 1 0 0 1]\n",
      " [0 0 1 1 0 1 0 0]\n",
      " [1 0 1 1 1 0 0 0]\n",
      " [1 0 0 0 0 1 1 0]\n",
      " [0 0 1 0 0 0 0 1]\n",
      " [1 0 1 0 0 1 0 0]\n",
      " [1 0 0 1 0 0 0 0]\n",
      " [0 1 0 0 0 1 1 0]] \n",
      "\n",
      "Bob :\n",
      " [[0 1 0 1 1 1 0 1]\n",
      " [0 0 1 1 0 1 0 0]\n",
      " [1 0 1 1 1 0 0 0]\n",
      " [1 0 0 0 0 1 1 0]\n",
      " [0 0 1 0 0 0 0 1]\n",
      " [1 0 1 0 0 1 0 0]\n",
      " [1 0 0 1 0 0 0 0]\n",
      " [0 1 0 0 0 1 1 0]]\n"
     ]
    }
   ],
   "source": [
    "bob_bits = np.copy(alice_bits)\n",
    "num_errors = 1    # To decide for simulation : could be 0, 1, 2, or more\n",
    "# pos = [random.randrange(0, 16) for _ in range(num_errors)]\n",
    "pos = [5]    # For simulation purposes, keep it fixed. Else use the above commented statement\n",
    "print(f\"{num_errors=}, {pos=}\")\n",
    "# pos = [5, 7]\n",
    "# bob_bits = np.array([not bob_bits[i] for i in pos])\n",
    "bob_bits[pos] = np.mod(bob_bits[pos]+1, 2)\n",
    "print(f\"\\nAlice :\\n {alice_bits.reshape(dim, dim)} \\n\\nBob :\\n {bob_bits.reshape(dim, dim)}\")"
   ]
  },
  {
   "cell_type": "code",
   "execution_count": 14,
   "id": "fe75adee-be4b-4759-a2b3-9dbbdb4dbcbe",
   "metadata": {},
   "outputs": [
    {
     "name": "stdout",
     "output_type": "stream",
     "text": [
      "5\n",
      "Error found at location : 5\n",
      "Error counts :  1 , loc :  (5, '000101')\n",
      "\n",
      "Alice :\n",
      " [[0 1 0 1 1 0 0 1]\n",
      " [0 0 1 1 0 1 0 0]\n",
      " [1 0 1 1 1 0 0 0]\n",
      " [1 0 0 0 0 1 1 0]\n",
      " [0 0 1 0 0 0 0 1]\n",
      " [1 0 1 0 0 1 0 0]\n",
      " [1 0 0 1 0 0 0 0]\n",
      " [0 1 0 0 0 1 1 0]] \n",
      "\n",
      "Bob :\n",
      " [[0 1 0 1 1 1 0 1]\n",
      " [0 0 1 1 0 1 0 0]\n",
      " [1 0 1 1 1 0 0 0]\n",
      " [1 0 0 0 0 1 1 0]\n",
      " [0 0 1 0 0 0 0 1]\n",
      " [1 0 1 0 0 1 0 0]\n",
      " [1 0 0 1 0 0 0 0]\n",
      " [0 1 0 0 0 1 1 0]]\n"
     ]
    }
   ],
   "source": [
    "out = hamming(bob_bits, order)\n",
    "print(\"Error counts : \", out[0], \", loc : \", out[1:])\n",
    "# type(out[0]), print(out[0])\n",
    "print(f\"\\nAlice :\\n {alice_bits.reshape(dim, dim)} \\n\\nBob :\\n {bob_bits.reshape(dim, dim)}\")\n",
    "# print(f'{out[0]:04b}')"
   ]
  },
  {
   "cell_type": "code",
   "execution_count": null,
   "id": "4504df4e-d62c-48f9-932d-885b02060901",
   "metadata": {},
   "outputs": [],
   "source": []
  },
  {
   "cell_type": "markdown",
   "id": "f860bf4c-c8aa-4c29-b161-1c5f1e1fbd12",
   "metadata": {},
   "source": [
    "# Start"
   ]
  },
  {
   "cell_type": "code",
   "execution_count": null,
   "id": "3212885b-d1e3-4480-a3b7-adfd0fb9aa26",
   "metadata": {},
   "outputs": [],
   "source": [
    "# eve_presence = True\n",
    "# Data_length = [1024, 512, 256, 128]\n",
    "# parity_bits = [10 + 1, 9 + 1, 8 + 1, 7 + 1]\n",
    "# KEY_LENGTH =  Data_length - parity_bits(Data_length)\n",
    "# ch_noise = 2e-4\n",
    "DATA_LENGTH = 512\n",
    "PARITY_BITS = np.log2(DATA_LENGTH)\n",
    "KEY_LENGTH = DATA_LENGTH - PARITY_BITS\n",
    "# Preparation for encoding\n",
    "random.seed(0)    # Seed the random number generator. This will be used as our \"coin flipper\"\n",
    "\n",
    "print(KEY_LENGTH, DATA_LENGTH, PARITY_BITS)"
   ]
  },
  {
   "cell_type": "markdown",
   "id": "e458527d-5345-4abf-bca8-1637adb2d47c",
   "metadata": {},
   "source": [
    "## Alice"
   ]
  },
  {
   "cell_type": "code",
   "execution_count": null,
   "id": "b4785ade-c203-45bc-8484-356b8d63945b",
   "metadata": {},
   "outputs": [],
   "source": [
    "# Generating a random string of bits\n",
    "# If KEY_RESERVOIR exists, then alice_bits = KEY_RESERVOIR[:KEY_LENGTH]\n",
    "alice_bits = generate_random_bits(KEY_LENGTH)\n",
    "alice_bases = generate_random_bases(KEY_LENGTH) # Alice randomly chooses a basis for each bit."
   ]
  },
  {
   "cell_type": "markdown",
   "id": "0b4d3a78-46dd-4755-9b63-69fbbb080f9d",
   "metadata": {},
   "source": [
    "### Encoding"
   ]
  },
  {
   "cell_type": "code",
   "execution_count": null,
   "id": "6191c812-1cc3-44a9-bbac-0aabc903c9af",
   "metadata": {},
   "outputs": [],
   "source": [
    "# Encode Alice's bits\n",
    "encoded_qubits = encode(alice_bits, alice_bases)"
   ]
  },
  {
   "cell_type": "markdown",
   "id": "992c2c13-4b12-49fb-913d-6f8ac349b93c",
   "metadata": {},
   "source": [
    "### Parity"
   ]
  },
  {
   "cell_type": "code",
   "execution_count": null,
   "id": "8650e8d5-417d-42d4-83b3-f9e44ae40159",
   "metadata": {},
   "outputs": [],
   "source": [
    "order = np.ceil(np.log2(len(alice_bits)))\n",
    "dim = int(2**(order/2))\n",
    "\n",
    "print(f\" Alice Block : \\n{alice_bits.reshape(dim, dim)}\")"
   ]
  },
  {
   "cell_type": "code",
   "execution_count": null,
   "id": "65821f09-5d34-4230-9d29-f7be256e68c7",
   "metadata": {},
   "outputs": [],
   "source": [
    "print('Alice Block after correction : ')\n",
    "encode_parity(alice_bits, order)"
   ]
  },
  {
   "cell_type": "markdown",
   "id": "70ebefff-c767-4f2d-8208-96d6328ebc19",
   "metadata": {},
   "source": [
    "# Quantum Signal Channel"
   ]
  },
  {
   "cell_type": "markdown",
   "id": "9ce050e4-694d-422c-bf4c-79e728730d5d",
   "metadata": {},
   "source": [
    "## Eve\n",
    "0 : Not present,    1 : present"
   ]
  },
  {
   "cell_type": "code",
   "execution_count": null,
   "id": "57d37659-0312-46e5-9f11-1306df221890",
   "metadata": {},
   "outputs": [],
   "source": [
    "if eve_presence == 'Random': eve = random.randint(0, 1)\n",
    "else: eve = int(eve_presence)\n",
    "    \n",
    "label = 'Eve' if eve else 'Alice'"
   ]
  },
  {
   "cell_type": "code",
   "execution_count": null,
   "id": "079f3c49-dea5-4f64-8899-5bc357daface",
   "metadata": {},
   "outputs": [],
   "source": [
    "qubits_received = [QuantumCircuit(1, 1) for _ in range(len(encoded_qubits))]\n",
    "\n",
    "if eve : \n",
    "    #print(\"Eve Present!\")\n",
    "    qubits_intercepted = [QuantumCircuit(1, 1) for _ in range(len(encoded_qubits))]\n",
    "    \n",
    "    NoisyChannel(encoded_qubits, qubits_intercepted, 'alice', noise = ch_noise) ##Eve intercepts noisy states     \n",
    "\n",
    "    eve_bases = generate_random_bases(KEY_LENGTH) # Generate a random set of bases\n",
    "    eve_bits = measure(qubits_intercepted, eve_bases) # Measure the qubits\n",
    "    \n",
    "    # Eve encodes her decoy qubits and sends them along the quantum channel    \n",
    "    encoded_intercepted_qubits = encode(eve_bits, eve_bases)    \n",
    "    NoisyChannel(encoded_intercepted_qubits, qubits_received, 'Eve', noise = ch_noise) ## Eve sends noisy states to Bob\n",
    "\n",
    "else : \n",
    "    NoisyChannel(encoded_qubits, qubits_received, 'Alice', noise = ch_noise) ## Alice sends noisy states to Bob\n"
   ]
  },
  {
   "cell_type": "markdown",
   "id": "ea66379c-42e3-40b4-8a0b-9787fa02fec1",
   "metadata": {},
   "source": [
    "## Bob"
   ]
  },
  {
   "cell_type": "code",
   "execution_count": null,
   "id": "e2c61c5e-f541-4734-a71e-98ae33a70dbc",
   "metadata": {},
   "outputs": [],
   "source": [
    "bob_bases = generate_random_bases(KEY_LENGTH) # Bob randomly chooses a basis for each bit.\n",
    "\n",
    "# Measurement\n",
    "bob_bits = measure(qubits_received, bob_bases)"
   ]
  },
  {
   "cell_type": "markdown",
   "id": "86398d75-42df-4a7f-8520-cef6ec6ff120",
   "metadata": {},
   "source": [
    "# Public Interaction Channel"
   ]
  },
  {
   "cell_type": "markdown",
   "id": "593a2514-9356-4d47-aa5e-f9d99840bfa4",
   "metadata": {},
   "source": [
    "## Sifting"
   ]
  },
  {
   "cell_type": "code",
   "execution_count": null,
   "id": "046d6cfe-3c4e-4fdd-aff4-6eabd19135ec",
   "metadata": {},
   "outputs": [],
   "source": [
    "BROADCAST = alice_bases    # Alice tells Bob which bases she used. BROADCAST uses classical channel\n",
    "\n",
    "# Store the indices of the bases they share in common\n",
    "common_bases = [i for i in range(KEY_LENGTH) if BROADCAST[i] == bob_bases[i]]"
   ]
  },
  {
   "cell_type": "code",
   "execution_count": null,
   "id": "2beddf68-83d7-4cec-ad51-0a9cbf5f7d5a",
   "metadata": {},
   "outputs": [],
   "source": [
    "bob_bits = [bob_bits[index] for index in common_bases]\n",
    "BROADCAST = common_bases    # Bob tells Alice which bases they shared in common\n",
    "alice_bits = [alice_bits[index] for index in BROADCAST]    # Alice keeps only the bits they shared in common"
   ]
  },
  {
   "cell_type": "markdown",
   "id": "3f8bdeb9-dbf9-4726-998b-9ce93961bc0a",
   "metadata": {},
   "source": [
    "## Reconciliation \n",
    "(Comparision -- Spotting)"
   ]
  },
  {
   "cell_type": "code",
   "execution_count": null,
   "id": "1f10f8d6-98df-4f93-a53c-bbfbcf5bed4b",
   "metadata": {},
   "outputs": [],
   "source": [
    "hamming(bob_bits, aice_bits)    # Assuming single bit error\n",
    "\n",
    "sample = len(alice_bits)//3    # len(alice_bits) >= 3\n",
    "errors = 0\n",
    "\n",
    "for _ in range(sample):\n",
    "    bit_index = random.randrange(len(alice_bits)) \n",
    "    \n",
    "    if alice_bits[bit_index] != bob_bits[bit_index]:  errors += 1    #calculating errors\n",
    "        \n",
    "    del alice_bits[bit_index] #removing tested bits from key strings\n",
    "    del bob_bits[bit_index]"
   ]
  },
  {
   "cell_type": "markdown",
   "id": "1a391b2a-c58b-4ebb-902e-205e09a77860",
   "metadata": {},
   "source": [
    "# QBER"
   ]
  },
  {
   "cell_type": "code",
   "execution_count": null,
   "id": "e844d01b-cc31-4411-bf3f-bbdebcd2356f",
   "metadata": {},
   "outputs": [],
   "source": [
    "QBER = round(errors/sample, 4) # calculating QBER and saving the answer to two decimal places\n",
    "QBER"
   ]
  },
  {
   "cell_type": "markdown",
   "id": "357a0889-534b-49c3-a9c1-97cf7f8567f8",
   "metadata": {},
   "source": [
    "## Final Key : "
   ]
  },
  {
   "cell_type": "raw",
   "id": "ed312f01-1362-4cff-a02f-6a2d9ea2e675",
   "metadata": {},
   "source": [
    "int('11010100', 2), (bin(212)[2:])"
   ]
  },
  {
   "cell_type": "code",
   "execution_count": null,
   "id": "8affd0be-950c-4e35-b54e-6f5143e38641",
   "metadata": {},
   "outputs": [],
   "source": [
    "if QBER > error_threshold:\n",
    "    if eve : print(\" Eve detected : \", end = \" \")\n",
    "    else : print(\" Eve FALSELY not detected : \", end = \" \")\n",
    "    print(\"Key not secure\")\n",
    "\n",
    "else :\n",
    "    if eve : print('Eve went unnoticed : ', end = \" \")\n",
    "    else : print('Eve not present : ', end = \" \")\n",
    "    print(\"Key is secure\")\n"
   ]
  },
  {
   "cell_type": "code",
   "execution_count": null,
   "id": "0f25d9e2-77d7-4e18-b641-cfc3c4261801",
   "metadata": {},
   "outputs": [],
   "source": [
    "key = \"\" \n",
    "for bit in alice_bits:    # Or bob_bits, since both should be the same\n",
    "    key += bit"
   ]
  },
  {
   "cell_type": "code",
   "execution_count": null,
   "id": "e32d3829-9293-4a7a-ad0b-3fea227bbf35",
   "metadata": {},
   "outputs": [],
   "source": [
    "errors, sample"
   ]
  }
 ],
 "metadata": {
  "kernelspec": {
   "display_name": "Python 3 (ipykernel)",
   "language": "python",
   "name": "python3"
  },
  "language_info": {
   "codemirror_mode": {
    "name": "ipython",
    "version": 3
   },
   "file_extension": ".py",
   "mimetype": "text/x-python",
   "name": "python",
   "nbconvert_exporter": "python",
   "pygments_lexer": "ipython3",
   "version": "3.8.19"
  }
 },
 "nbformat": 4,
 "nbformat_minor": 5
}
