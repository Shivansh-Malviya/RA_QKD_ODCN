{
 "cells": [
  {
   "cell_type": "code",
   "execution_count": 1,
   "id": "0b7c8b64-3bd0-4e82-b294-34a4d5eefd19",
   "metadata": {},
   "outputs": [],
   "source": [
    "# Importing Qiskit\n",
    "from qiskit import *\n",
    "from qiskit.qasm2 import dumps\n",
    "from qiskit_aer import Aer\n",
    "\n",
    "import random\n",
    "from random import randrange"
   ]
  },
  {
   "cell_type": "code",
   "execution_count": 2,
   "id": "2bc9f142-08d8-44fb-9dc5-944b5de67a87",
   "metadata": {},
   "outputs": [],
   "source": [
    "def NoisyChannel(qc1, qc2, qc1_name, noise = 0.05):\n",
    "    ''' This function takes the output of a circuit qc1 (made up only of x and \n",
    "        h gates), simulates a noisy quantum channel where Pauli errors (X - bit flip; Z - phase flip)\n",
    "        will occur in qc2, and then initializes another circuit qc2 with the introduced noise.\n",
    "    ''' \n",
    "    \n",
    "    # Retrieve quantum state from qasm code of qc1\n",
    "    qs = [dumps(qc1[i]).split('\\n') for i in range(len(qc1))]\n",
    "    \n",
    "    # Process the code to get the instructions\n",
    "    parsed_instructions = []\n",
    "    for i, qasm_code in enumerate(qs):\n",
    "        for line in qasm_code:\n",
    "            line = line.strip()    # removing leading/trailing whitespace\n",
    "            if line.startswith(('x', 'h', 'measure')):\n",
    "                line = line.replace('0', str(i))\n",
    "                parsed_instructions.append(line)\n",
    "    \n",
    "    # Apply parsed instructions to qc2\n",
    "    for instruction in parsed_instructions:\n",
    "        if instruction.startswith('x'):\n",
    "            old_qr = int(instruction.split()[1][2:-2])\n",
    "            qc2[old_qr].x(0)\n",
    "            \n",
    "        elif instruction.startswith('h'):\n",
    "            old_qr = int(instruction.split()[1][2:-2])\n",
    "            qc2[old_qr].h(0)\n",
    "        \n",
    "        elif instruction.startswith('measure'):\n",
    "            continue    # exclude measuring\n",
    "            \n",
    "        else:\n",
    "            print(f\"Unable to parse instruction: {instruction}\")\n",
    "            raise Exception('Unable to parse instruction')\n",
    "    \n",
    "    # Introducing noise (taking input)\n",
    "    for instruction in parsed_instructions:\n",
    "        if random.random() < noise:\n",
    "            old_qr = int(instruction.split()[1][2:-2])\n",
    "            qc2[old_qr].x(0)     # Apply bit-flip error\n",
    "            \n",
    "        if random.random() < noise:\n",
    "            old_qr = int(instruction.split()[1][2:-2])\n",
    "            qc2[old_qr].z(0)     # Apply phase-flip error"
   ]
  },
  {
   "cell_type": "code",
   "execution_count": null,
   "id": "a8a01e74-3c7b-4621-956e-776d713e59e9",
   "metadata": {},
   "outputs": [],
   "source": [
    "def generate_random_bits(num):\n",
    "    \"\"\"This function generates a random bit-string of size = num\"\"\"\n",
    "    \n",
    "    bit_string = \"\"\n",
    "    for _ in range(num):\n",
    "        rand_bit = random.randint(0, 1)     # Flip Coin\n",
    "        bit_string += str(rand_bit)\n",
    "        \n",
    "    return bit_string"
   ]
  },
  {
   "cell_type": "code",
   "execution_count": 3,
   "id": "2e2bba7e-e4ed-4ab2-9874-d4f7218af99c",
   "metadata": {},
   "outputs": [],
   "source": [
    "def generate_random_bases(num_of_bases):\n",
    "    \"\"\"This function selects a random basis for each bit\"\"\"\n",
    "    \n",
    "    bases_string = \"\"\n",
    "    for _ in range(num_of_bases):\n",
    "        randBasis = random.randint(0, 1)     # Flip Coin\n",
    "\n",
    "        if randBasis == 0:\n",
    "            bases_string += \"Z\" \n",
    "        else:\n",
    "            bases_string += \"X\"\n",
    "            \n",
    "    return bases_string"
   ]
  },
  {
   "cell_type": "code",
   "execution_count": 4,
   "id": "bdb60d2b-dcd3-4a5f-aadc-6c0558bd755d",
   "metadata": {},
   "outputs": [],
   "source": [
    "def encode(bits, bases):\n",
    "    \"\"\"This function encodes each bit into the given basis.\"\"\"\n",
    "    \n",
    "    encoded_qubits = []\n",
    "    \n",
    "    for bit, basis in zip(bits, bases):\n",
    "        qc = QuantumCircuit(1, 1)     # Create a quantum circuit for each qubit\n",
    "        \n",
    "        # Possible Cases\n",
    "        if bit == \"1\" :\n",
    "            qc.x(0)\n",
    "\n",
    "        if basis == 'X' :\n",
    "            qc.h(0)\n",
    "            \n",
    "        encoded_qubits.append(qc)\n",
    "            \n",
    "    return (encoded_qubits)"
   ]
  },
  {
   "cell_type": "code",
   "execution_count": 5,
   "id": "6590b215-889a-4d5a-a79f-f53bb6b0dceb",
   "metadata": {},
   "outputs": [],
   "source": [
    "def measure(qubits, bases):\n",
    "    \"\"\"This function measures each qubit in the corresponding basis chosen for it.\"\"\"\n",
    "\n",
    "    bits = \"\"    # The results of measurements\n",
    "\n",
    "    for qubit, basis in zip(qubits, bases):\n",
    "\n",
    "        if basis == \"X\" :\n",
    "            qubit.h(0)\n",
    "            \n",
    "        qubit.measure(0, 0)\n",
    "        \n",
    "        # Execute on Simulator\n",
    "        simulator = Aer.get_backend('qasm_simulator')\n",
    "        transpiled_circuit = transpile(qubit, simulator)\n",
    "        result = simulator.run(transpiled_circuit, shots=1).result()\n",
    "        counts = result.get_counts()\n",
    "        measured_bit = max(counts, key=counts.get)     # Max doesn't matter for simulator since there is only one shot.\n",
    "\n",
    "        bits += str(measured_bit)\n",
    "        \n",
    "    return bits"
   ]
  },
  {
   "cell_type": "markdown",
   "id": "f860bf4c-c8aa-4c29-b161-1c5f1e1fbd12",
   "metadata": {},
   "source": [
    "# Start"
   ]
  },
  {
   "cell_type": "code",
   "execution_count": null,
   "id": "3212885b-d1e3-4480-a3b7-adfd0fb9aa26",
   "metadata": {},
   "outputs": [],
   "source": [
    "# eve_presence = True\n",
    "# KEY_LENGTH = 500\n",
    "# ch_noise = 0.02\n",
    "\n",
    "# Preparation for encoding\n",
    "random.seed(0)    # Seed the random number generator. This will be used as our \"coin flipper\""
   ]
  },
  {
   "cell_type": "markdown",
   "id": "e458527d-5345-4abf-bca8-1637adb2d47c",
   "metadata": {},
   "source": [
    "## Alice"
   ]
  },
  {
   "cell_type": "code",
   "execution_count": 8,
   "id": "b4785ade-c203-45bc-8484-356b8d63945b",
   "metadata": {},
   "outputs": [],
   "source": [
    "# Generating a random string of bits\n",
    "alice_bits = generate_random_bits(KEY_LENGTH)\n",
    "alice_bases = generate_random_bases(KEY_LENGTH) # Alice randomly chooses a basis for each bit."
   ]
  },
  {
   "cell_type": "markdown",
   "id": "0b4d3a78-46dd-4755-9b63-69fbbb080f9d",
   "metadata": {},
   "source": [
    "### Encoding"
   ]
  },
  {
   "cell_type": "code",
   "execution_count": 9,
   "id": "6191c812-1cc3-44a9-bbac-0aabc903c9af",
   "metadata": {},
   "outputs": [],
   "source": [
    "# Encode Alice's bits\n",
    "encoded_qubits = encode(alice_bits, alice_bases)"
   ]
  },
  {
   "cell_type": "markdown",
   "id": "70ebefff-c767-4f2d-8208-96d6328ebc19",
   "metadata": {},
   "source": [
    "# Quantum Signal Channel"
   ]
  },
  {
   "cell_type": "markdown",
   "id": "9ce050e4-694d-422c-bf4c-79e728730d5d",
   "metadata": {},
   "source": [
    "## Eve\n",
    "0 : Not present,    1 : present"
   ]
  },
  {
   "cell_type": "code",
   "execution_count": 10,
   "id": "57d37659-0312-46e5-9f11-1306df221890",
   "metadata": {},
   "outputs": [],
   "source": [
    "if eve_presence == 'Random': eve = random.randint(0, 1)\n",
    "else: eve = int(eve_presence)\n",
    "    \n",
    "label = 'Eve' if eve else 'Alice'"
   ]
  },
  {
   "cell_type": "code",
   "execution_count": null,
   "id": "079f3c49-dea5-4f64-8899-5bc357daface",
   "metadata": {},
   "outputs": [],
   "source": [
    "qubits_received = [QuantumCircuit(1, 1) for _ in range(len(encoded_qubits))]\n",
    "\n",
    "if eve : \n",
    "    #print(\"Eve Present!\")\n",
    "    qubits_intercepted = [QuantumCircuit(1, 1) for _ in range(len(encoded_qubits))]\n",
    "    \n",
    "    NoisyChannel(encoded_qubits, qubits_intercepted, 'alice', noise = ch_noise) ##Eve intercepts noisy states     \n",
    "\n",
    "    eve_bases = generate_random_bases(KEY_LENGTH) # Generate a random set of bases\n",
    "    eve_bits = measure(qubits_intercepted, eve_bases) # Measure the qubits\n",
    "    \n",
    "    # Eve encodes her decoy qubits and sends them along the quantum channel    \n",
    "    encoded_intercepted_qubits = encode(eve_bits, eve_bases)    \n",
    "    NoisyChannel(encoded_intercepted_qubits, qubits_received, 'Eve', noise = ch_noise) ## Eve sends noisy states to Bob\n",
    "\n",
    "else : \n",
    "    NoisyChannel(encoded_qubits, qubits_received, 'Alice', noise = ch_noise) ## Alice sends noisy states to Bob\n"
   ]
  },
  {
   "cell_type": "markdown",
   "id": "ea66379c-42e3-40b4-8a0b-9787fa02fec1",
   "metadata": {},
   "source": [
    "## Bob"
   ]
  },
  {
   "cell_type": "code",
   "execution_count": 12,
   "id": "e2c61c5e-f541-4734-a71e-98ae33a70dbc",
   "metadata": {},
   "outputs": [],
   "source": [
    "bob_bases = generate_random_bases(KEY_LENGTH) # Bob randomly chooses a basis for each bit.\n",
    "\n",
    "# Measurement\n",
    "bob_bits = measure(qubits_received, bob_bases)"
   ]
  },
  {
   "cell_type": "markdown",
   "id": "86398d75-42df-4a7f-8520-cef6ec6ff120",
   "metadata": {},
   "source": [
    "# Public Interaction Channel"
   ]
  },
  {
   "cell_type": "code",
   "execution_count": 14,
   "id": "046d6cfe-3c4e-4fdd-aff4-6eabd19135ec",
   "metadata": {},
   "outputs": [],
   "source": [
    "BROADCAST = alice_bases    # Alice tells Bob which bases she used. BROADCAST uses classical channel\n",
    "\n",
    "# Store the indices of the bases they share in common\n",
    "common_bases = [i for i in range(KEY_LENGTH) if BROADCAST[i] == bob_bases[i]]"
   ]
  },
  {
   "cell_type": "code",
   "execution_count": 15,
   "id": "2beddf68-83d7-4cec-ad51-0a9cbf5f7d5a",
   "metadata": {},
   "outputs": [],
   "source": [
    "bob_bits = [bob_bits[index] for index in common_bases]\n",
    "BROADCAST = common_bases    # Bob tells Alice which bases they shared in common\n",
    "alice_bits = [alice_bits[index] for index in BROADCAST]    # Alice keeps only the bits they shared in common"
   ]
  },
  {
   "cell_type": "markdown",
   "id": "3f8bdeb9-dbf9-4726-998b-9ce93961bc0a",
   "metadata": {},
   "source": [
    "## Comparision (Spotting)"
   ]
  },
  {
   "cell_type": "code",
   "execution_count": 16,
   "id": "1f10f8d6-98df-4f93-a53c-bbfbcf5bed4b",
   "metadata": {},
   "outputs": [],
   "source": [
    "sample = len(alice_bits)//3    # len(alice_bits) >= 3\n",
    "errors = 0\n",
    "\n",
    "for _ in range(sample):\n",
    "    bit_index = random.randrange(len(alice_bits)) \n",
    "    \n",
    "    if alice_bits[bit_index] != bob_bits[bit_index]:  errors += 1    #calculating errors\n",
    "        \n",
    "    del alice_bits[bit_index] #removing tested bits from key strings\n",
    "    del bob_bits[bit_index]"
   ]
  },
  {
   "cell_type": "markdown",
   "id": "1a391b2a-c58b-4ebb-902e-205e09a77860",
   "metadata": {},
   "source": [
    "# QBER"
   ]
  },
  {
   "cell_type": "code",
   "execution_count": 21,
   "id": "e844d01b-cc31-4411-bf3f-bbdebcd2356f",
   "metadata": {},
   "outputs": [
    {
     "data": {
      "text/plain": [
       "0.22"
      ]
     },
     "execution_count": 21,
     "metadata": {},
     "output_type": "execute_result"
    }
   ],
   "source": [
    "QBER = round(errors/sample, 4) # calculating QBER and saving the answer to two decimal places\n",
    "QBER"
   ]
  },
  {
   "cell_type": "markdown",
   "id": "357a0889-534b-49c3-a9c1-97cf7f8567f8",
   "metadata": {},
   "source": [
    "## Final Key : "
   ]
  },
  {
   "cell_type": "raw",
   "id": "ed312f01-1362-4cff-a02f-6a2d9ea2e675",
   "metadata": {},
   "source": [
    "int('11010100', 2), (bin(212)[2:])"
   ]
  },
  {
   "cell_type": "code",
   "execution_count": 18,
   "id": "8affd0be-950c-4e35-b54e-6f5143e38641",
   "metadata": {},
   "outputs": [
    {
     "name": "stdout",
     "output_type": "stream",
     "text": [
      "Key not secure\n"
     ]
    }
   ],
   "source": [
    "if QBER > error_threshold:\n",
    "    if eve : print(\" Eve detected : \", end = \" \")\n",
    "    else : print(\" Eve FALSELY not detected : \", end = \" \")\n",
    "    print(\"Key not secure\")\n",
    "\n",
    "else :\n",
    "    if eve : print('Eve went unnoticed : ', end = \" \")\n",
    "    else : print('Eve not present : ', end = \" \")\n",
    "    print(\"Key is secure\")\n"
   ]
  },
  {
   "cell_type": "code",
   "execution_count": 19,
   "id": "0f25d9e2-77d7-4e18-b641-cfc3c4261801",
   "metadata": {},
   "outputs": [],
   "source": [
    "key = \"\" \n",
    "for bit in alice_bits:    # Or bob_bits, since both should be the same\n",
    "    key += bit"
   ]
  },
  {
   "cell_type": "code",
   "execution_count": 20,
   "id": "e32d3829-9293-4a7a-ad0b-3fea227bbf35",
   "metadata": {},
   "outputs": [
    {
     "data": {
      "text/plain": [
       "(17, 77)"
      ]
     },
     "execution_count": 20,
     "metadata": {},
     "output_type": "execute_result"
    }
   ],
   "source": [
    "errors, sample"
   ]
  }
 ],
 "metadata": {
  "kernelspec": {
   "display_name": "Python 3 (ipykernel)",
   "language": "python",
   "name": "python3"
  },
  "language_info": {
   "codemirror_mode": {
    "name": "ipython",
    "version": 3
   },
   "file_extension": ".py",
   "mimetype": "text/x-python",
   "name": "python",
   "nbconvert_exporter": "python",
   "pygments_lexer": "ipython3",
   "version": "3.12.4"
  }
 },
 "nbformat": 4,
 "nbformat_minor": 5
}
