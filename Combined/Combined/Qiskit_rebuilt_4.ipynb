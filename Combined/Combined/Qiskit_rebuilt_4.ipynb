{
 "cells": [
  {
   "cell_type": "code",
   "execution_count": 40,
   "id": "0b7c8b64-3bd0-4e82-b294-34a4d5eefd19",
   "metadata": {},
   "outputs": [],
   "source": [
    "# Importing Qiskit\n",
    "from qiskit import *\n",
    "from qiskit.qasm2 import dumps\n",
    "from qiskit_aer import Aer\n",
    "\n",
    "import base64\n",
    "import numpy as np\n",
    "# import operation as op\n",
    "from functools import reduce\n",
    "import random\n",
    "from random import randrange"
   ]
  },
  {
   "cell_type": "code",
   "execution_count": 2,
   "id": "2a17fff2-be4e-4adc-beb1-9a19fa5c2e48",
   "metadata": {},
   "outputs": [],
   "source": [
    "%run ./Hamming.ipynb    # For error correction"
   ]
  },
  {
   "cell_type": "markdown",
   "id": "49c74cbe-405d-4d9d-a0a9-914ed65f379c",
   "metadata": {},
   "source": [
    "# 1. Qubit Manipulation"
   ]
  },
  {
   "cell_type": "code",
   "execution_count": 3,
   "id": "2bc9f142-08d8-44fb-9dc5-944b5de67a87",
   "metadata": {},
   "outputs": [],
   "source": [
    "def NoisyChannel(qc1, qc2, qc1_name, errors, noise = 5e-4):\n",
    "    ''' This function takes the output of a circuit qc1 (made up only of x and \n",
    "        h gates), simulates a noisy quantum channel where Pauli errors (X - bit flip; Z - phase flip)\n",
    "        will occur in qc2, and then initializes another circuit qc2 with the introduced noise.\n",
    "    ''' \n",
    "    \n",
    "    # Retrieve quantum state from qasm code of qc1\n",
    "    qs = [dumps(qc1[i]).split('\\n') for i in range(len(qc1))]\n",
    "    \n",
    "    # Process the code to get the instructions\n",
    "    parsed_instructions = []\n",
    "    for i, qasm_code in enumerate(qs):\n",
    "        for line in qasm_code:\n",
    "            line = line.strip()    # removing leading/trailing whitespace\n",
    "            if line.startswith(('x', 'h', 'measure')):\n",
    "                line = line.replace('0', str(i))\n",
    "                parsed_instructions.append(line)\n",
    "    \n",
    "    # Apply parsed instructions to qc2\n",
    "    for instruction in parsed_instructions:\n",
    "        if instruction.startswith('x'):\n",
    "            old_qr = int(instruction.split()[1][2:-2])\n",
    "            qc2[old_qr].x(0)\n",
    "            \n",
    "        elif instruction.startswith('h'):\n",
    "            old_qr = int(instruction.split()[1][2:-2])\n",
    "            qc2[old_qr].h(0)\n",
    "        \n",
    "        elif instruction.startswith('measure'):\n",
    "            continue    # exclude measuring\n",
    "            \n",
    "        else:\n",
    "            print(f\"Unable to parse instruction: {instruction}\")\n",
    "            raise Exception('Unable to parse instruction')\n",
    "    \n",
    "    # Introducing noise (taking input)\n",
    "    for instruction in parsed_instructions:\n",
    "        if random.random() < noise:\n",
    "            old_qr = int(instruction.split()[1][2:-2])\n",
    "            qc2[old_qr].x(0)     # Apply bit-flip error\n",
    "            errors[0] += 1\n",
    "            \n",
    "        if random.random() < noise:\n",
    "            old_qr = int(instruction.split()[1][2:-2])\n",
    "            qc2[old_qr].z(0)     # Apply phase-flip error\n",
    "            errors[1] += 1\n",
    "\n",
    "    return errors"
   ]
  },
  {
   "cell_type": "code",
   "execution_count": 4,
   "id": "a8a01e74-3c7b-4621-956e-776d713e59e9",
   "metadata": {},
   "outputs": [],
   "source": [
    "def generate_random_bits(num):\n",
    "    \"\"\"This function generates a random array of bits(0/1) of size = num\"\"\"\n",
    "    bits = np.array([random.randint(0, 1) for _ in range(num)])    # Randomly fills the array with 0/1\n",
    "\n",
    "    # bit_string = \"\"\n",
    "    # for _ in range(num):\n",
    "    #     rand_bit = random.randint(0, 1)     # Flip Coin\n",
    "    #     bit_string += str(rand_bit)\n",
    "        \n",
    "    return bits"
   ]
  },
  {
   "cell_type": "code",
   "execution_count": 5,
   "id": "2e2bba7e-e4ed-4ab2-9874-d4f7218af99c",
   "metadata": {},
   "outputs": [],
   "source": [
    "def generate_random_bases(num_of_bases):\n",
    "    \"\"\"This function selects a random basis for each bit\"\"\"\n",
    "    \n",
    "    bases_string = \"\"\n",
    "    for _ in range(num_of_bases):\n",
    "        randBasis = random.randint(0, 1)     # Flip Coin\n",
    "\n",
    "        if randBasis == 0:\n",
    "            bases_string += \"Z\" \n",
    "        else:\n",
    "            bases_string += \"X\"\n",
    "            \n",
    "    return bases_string"
   ]
  },
  {
   "cell_type": "code",
   "execution_count": 6,
   "id": "bdb60d2b-dcd3-4a5f-aadc-6c0558bd755d",
   "metadata": {},
   "outputs": [],
   "source": [
    "def encode(bits, bases):\n",
    "    \"\"\"This function encodes each bit into the given basis.\"\"\"\n",
    "    \n",
    "    encoded_qubits = []\n",
    "    \n",
    "    for bit, basis in zip(bits, bases):\n",
    "        qc = QuantumCircuit(1, 1)     # Create a quantum circuit for each qubit\n",
    "        \n",
    "        # Possible Cases\n",
    "        if bit == \"1\" :\n",
    "            qc.x(0)\n",
    "\n",
    "        if basis == 'X' :\n",
    "            qc.h(0)\n",
    "            \n",
    "        encoded_qubits.append(qc)\n",
    "            \n",
    "    return encoded_qubits"
   ]
  },
  {
   "cell_type": "code",
   "execution_count": 7,
   "id": "6590b215-889a-4d5a-a79f-f53bb6b0dceb",
   "metadata": {},
   "outputs": [],
   "source": [
    "def measure(qubits, bases):\n",
    "    \"\"\"This function measures each qubit in the corresponding basis chosen for it.\n",
    "        - qubits : a series of 1-qubit Quantum Circuit\n",
    "        - bases : a string of random [X, Z] bases\"\"\"\n",
    "\n",
    "    bits = np.zeros(len(bases)).astype('uint8')    # The results of measurements\n",
    "\n",
    "    for idx, (qubit, basis) in enumerate(zip(qubits, bases)):\n",
    "\n",
    "        if basis == \"X\" :\n",
    "            qubit.h(0)\n",
    "            \n",
    "        qubit.measure(0, 0)\n",
    "        \n",
    "        # Execute on Simulator\n",
    "        simulator = Aer.get_backend('qasm_simulator')\n",
    "        transpiled_circuit = transpile(qubit, simulator)\n",
    "        result = simulator.run(transpiled_circuit, shots=1).result()\n",
    "        counts = result.get_counts()\n",
    "        measured_bit = max(counts, key=counts.get)     # Max doesn't matter for simulator since there is only one shot.\n",
    "\n",
    "        bits[idx] = int(measured_bit)\n",
    "        \n",
    "    print(bits)\n",
    "        \n",
    "    return bits"
   ]
  },
  {
   "cell_type": "code",
   "execution_count": 44,
   "id": "7109d690-396c-4626-abb7-36ba97cb108d",
   "metadata": {},
   "outputs": [],
   "source": [
    "def array_to_string(array):\n",
    "    result = np.array2string(\n",
    "        array, \n",
    "        separator=\"\", \n",
    "        max_line_width=(len(array)+3))\n",
    "    return result.strip('[').strip(']')\n"
   ]
  },
  {
   "cell_type": "code",
   "execution_count": 42,
   "id": "6eb67797-8670-4611-bdca-717989dc8573",
   "metadata": {},
   "outputs": [],
   "source": [
    "def convert_to_octets(key):\n",
    "\n",
    "    octets = []\n",
    "    num_octets = len(key) // 8\n",
    "\n",
    "    for i in range(num_octets):\n",
    "        start = i * 8\n",
    "        end = start + 8\n",
    "        octet = key[start:end]\n",
    "        octets.append(int(octet, 2))\n",
    "\n",
    "    return bytearray(octets)"
   ]
  },
  {
   "cell_type": "markdown",
   "id": "f860bf4c-c8aa-4c29-b161-1c5f1e1fbd12",
   "metadata": {},
   "source": [
    "# 2. Preparation"
   ]
  },
  {
   "cell_type": "code",
   "execution_count": 8,
   "id": "90cc0441-203c-4f5a-bbe4-2fe5c7d07ad6",
   "metadata": {},
   "outputs": [],
   "source": [
    "### Use the function Order(bits) to get 'order'."
   ]
  },
  {
   "cell_type": "code",
   "execution_count": 9,
   "id": "3212885b-d1e3-4480-a3b7-adfd0fb9aa26",
   "metadata": {},
   "outputs": [
    {
     "name": "stdout",
     "output_type": "stream",
     "text": [
      "Unprocessed_key_len = 16, KEY_LENGTH = 5, DATA_LENGTH = 8, order = 4\n"
     ]
    }
   ],
   "source": [
    "# Data_length = [1024, 512, 256, 128]\n",
    "# parity_bits = np.array([np.log2(Data_length[i]) for i in range(len(Data_len))]) + 1    # [10 + 1, 9 + 1, 8 + 1, 7 + 1]\n",
    "# KEY_LENGTH =  Data_length - parity_bits(Data_length)\n",
    "\n",
    "eve_presence = True\n",
    "sl = 8\n",
    "ch_noise = 2e-4\n",
    "error_threshold = 0.15\n",
    "\n",
    "DATA_LENGTH = 2**(11 - sl)\n",
    "# DATA_LENGTH = 512    # sl = 2\n",
    "KEY_LENGTH = int(DATA_LENGTH - np.log2(DATA_LENGTH))\n",
    "Unprocessed_key_len = 2*DATA_LENGTH\n",
    "\n",
    "# Preparation for encoding\n",
    "random.seed(0)    # Seed the random number generator. This will be used as our \"coin flipper\"\n",
    "\n",
    "# order = np.ceil(np.log2(Unprocessed_key_len)).astype(int)\n",
    "order = Order(Unprocessed_key_len)\n",
    "dim = int(2**(order/2))\n",
    "print(f\"{Unprocessed_key_len = }, {KEY_LENGTH = }, {DATA_LENGTH = }, {order = }\")"
   ]
  },
  {
   "cell_type": "markdown",
   "id": "e458527d-5345-4abf-bca8-1637adb2d47c",
   "metadata": {},
   "source": [
    "## 2.1 Alice"
   ]
  },
  {
   "cell_type": "code",
   "execution_count": 10,
   "id": "05062379-451d-44e6-8d57-5825490fae81",
   "metadata": {},
   "outputs": [
    {
     "name": "stdout",
     "output_type": "stream",
     "text": [
      " len(bits) = 16 \n",
      " Alice uncorrected block : \n",
      " [[1 1 0 1]\n",
      " [1 1 1 1]\n",
      " [1 0 0 1]\n",
      " [0 0 1 0]] \n",
      " Shape of the block : 4*4\n"
     ]
    }
   ],
   "source": [
    "# Generating a random string of bits\n",
    "# If KEY_RESERVOIR(ALICE, BOB) exists, then alice_bits = KEY_RESERVOIR[:KEY_LENGTH]. Break the iteration here.\n",
    "\n",
    "alice_bits = generate_random_bits(Unprocessed_key_len)\n",
    "alice_bases = generate_random_bases(Unprocessed_key_len) # Alice randomly chooses a basis for each bit.\n",
    "\n",
    "print(f\" Alice uncorrected {block(alice_bits, order)}\")"
   ]
  },
  {
   "cell_type": "markdown",
   "id": "0b4d3a78-46dd-4755-9b63-69fbbb080f9d",
   "metadata": {},
   "source": [
    "### 2.1.1 Quantum Encoding : \n",
    "**Encode the states into quantum circuits**"
   ]
  },
  {
   "cell_type": "code",
   "execution_count": 11,
   "id": "6191c812-1cc3-44a9-bbac-0aabc903c9af",
   "metadata": {},
   "outputs": [],
   "source": [
    "# Encode Alice's bits\n",
    "encoded_qubits = encode(alice_bits, alice_bases)"
   ]
  },
  {
   "cell_type": "markdown",
   "id": "70ebefff-c767-4f2d-8208-96d6328ebc19",
   "metadata": {},
   "source": [
    "# 3. Quantum Signal Channel\n",
    "This part can also be simulated by brute forcing 1-2 bit error at random."
   ]
  },
  {
   "cell_type": "markdown",
   "id": "9ce050e4-694d-422c-bf4c-79e728730d5d",
   "metadata": {},
   "source": [
    "## 3.1 Eve\n",
    "0 : Not present,    1 : present"
   ]
  },
  {
   "cell_type": "code",
   "execution_count": 12,
   "id": "57d37659-0312-46e5-9f11-1306df221890",
   "metadata": {},
   "outputs": [],
   "source": [
    "if eve_presence == 'Random': eve = random.randint(0, 1)\n",
    "else: eve = int(eve_presence)\n",
    "    \n",
    "label = 'Eve' if eve else 'Alice'"
   ]
  },
  {
   "cell_type": "code",
   "execution_count": 13,
   "id": "079f3c49-dea5-4f64-8899-5bc357daface",
   "metadata": {},
   "outputs": [
    {
     "name": "stdout",
     "output_type": "stream",
     "text": [
      "[0 0 0 0 0 1 0 0 0 0 0 0 0 1 0 0]\n"
     ]
    }
   ],
   "source": [
    "qubits_received = [QuantumCircuit(1, 1) for _ in range(len(encoded_qubits))]    # Initializing the circuit\n",
    "errors_recorded = np.array([0, 0]).astype('uint16')    # Will keep track of the errors INJECTED deliberately by the algorithm\n",
    "\n",
    "if eve : \n",
    "    #print(\"Eve Present!\")\n",
    "    qubits_intercepted = [QuantumCircuit(1, 1) for _ in range(len(encoded_qubits))]\n",
    "    \n",
    "    errors_recorded = NoisyChannel(encoded_qubits, qubits_intercepted, 'Alice', errors_recorded, noise = ch_noise) ##Eve intercepts noisy states     \n",
    "\n",
    "    eve_bases = generate_random_bases(Unprocessed_key_len) # Generate a random set of bases\n",
    "    eve_bits = measure(qubits_intercepted, eve_bases) # Measure the qubits\n",
    "    \n",
    "    # Eve encodes her decoy qubits and sends them along the quantum channel    \n",
    "    encoded_intercepted_qubits = encode(eve_bits, eve_bases)    \n",
    "    errors_recorded = NoisyChannel(encoded_intercepted_qubits, qubits_received, 'Eve', errors_recorded, noise = ch_noise) ## Eve sends noisy states to Bob\n",
    "\n",
    "else : \n",
    "    errors_recorded = NoisyChannel(encoded_qubits, qubits_received, 'Alice', errors_recorded, noise = ch_noise) ## Alice sends noisy states to Bob\n"
   ]
  },
  {
   "cell_type": "markdown",
   "id": "ea66379c-42e3-40b4-8a0b-9787fa02fec1",
   "metadata": {},
   "source": [
    "## 3.2 Bob"
   ]
  },
  {
   "cell_type": "code",
   "execution_count": 14,
   "id": "21658702-0775-41ea-be76-aa3d7a20ed7d",
   "metadata": {},
   "outputs": [
    {
     "data": {
      "text/plain": [
       "array([0, 0, 0, 0, 0, 1, 0, 0, 0, 0, 0, 0, 0, 1, 0, 0], dtype=uint8)"
      ]
     },
     "execution_count": 14,
     "metadata": {},
     "output_type": "execute_result"
    }
   ],
   "source": [
    "eve_bits"
   ]
  },
  {
   "cell_type": "code",
   "execution_count": 15,
   "id": "e2c61c5e-f541-4734-a71e-98ae33a70dbc",
   "metadata": {},
   "outputs": [
    {
     "name": "stdout",
     "output_type": "stream",
     "text": [
      "[0 1 0 0 0 0 0 0 0 1 1 0 0 0 0 0]\n",
      " len(bits) = 16 \n",
      " len(bits) = 16 \n",
      "\n",
      "Alice sent block : \n",
      " [[1 1 0 1]\n",
      " [1 1 1 1]\n",
      " [1 0 0 1]\n",
      " [0 0 1 0]] \n",
      " Shape of the block : 4*4 \n",
      "\n",
      "Bob measured block : \n",
      " [[0 1 0 0]\n",
      " [0 0 0 0]\n",
      " [0 1 1 0]\n",
      " [0 0 0 0]] \n",
      " Shape of the block : 4*4\n"
     ]
    }
   ],
   "source": [
    "bob_bases = generate_random_bases(Unprocessed_key_len) # Bob randomly chooses a basis for each bit.\n",
    "\n",
    "# Measurement\n",
    "bob_bits = measure(qubits_received, bob_bases)\n",
    "\n",
    "print(f\"\\nAlice sent {block(alice_bits, order)} \\n\\nBob measured {block(bob_bits, order)}\")"
   ]
  },
  {
   "cell_type": "markdown",
   "id": "86398d75-42df-4a7f-8520-cef6ec6ff120",
   "metadata": {},
   "source": [
    "# 4. Public Interaction Channel\n",
    "\n",
    "* On completion of this step, the length of bits will cut down to half of the original size.\n",
    "* Alice can share a string suggesting in which order to use the received bits through QSC. \n",
    "* Alice can announce the PARITY_DICT (after sifting)"
   ]
  },
  {
   "cell_type": "markdown",
   "id": "593a2514-9356-4d47-aa5e-f9d99840bfa4",
   "metadata": {},
   "source": [
    "## 4.1 Sifting"
   ]
  },
  {
   "cell_type": "code",
   "execution_count": 16,
   "id": "cbac769f-1ad6-4193-89da-0b202981a2c5",
   "metadata": {},
   "outputs": [],
   "source": [
    "BROADCAST = alice_bases    # Alice tells Bob which bases she used. BROADCAST uses classical channel"
   ]
  },
  {
   "cell_type": "code",
   "execution_count": 17,
   "id": "12b051c1-0baa-4954-9791-88760e1fcac6",
   "metadata": {},
   "outputs": [],
   "source": [
    "# Store the indices of the bases they share in common\n",
    "common_bases = [i for i in range(Unprocessed_key_len) if bob_bases[i] == BROADCAST[i]]\n",
    "bob_bits = [bob_bits[index] for index in common_bases]"
   ]
  },
  {
   "cell_type": "code",
   "execution_count": 18,
   "id": "be23b7ff-5cb7-48b6-9f05-9d5d0542a263",
   "metadata": {},
   "outputs": [],
   "source": [
    "BROADCAST = common_bases    # Bob tells Alice which bases they shared in common"
   ]
  },
  {
   "cell_type": "code",
   "execution_count": 19,
   "id": "30808d14-6ad8-4c68-a987-d094579b4f47",
   "metadata": {},
   "outputs": [],
   "source": [
    "alice_bits = [alice_bits[index] for index in BROADCAST]    # Alice keeps only the bits they shared in common"
   ]
  },
  {
   "cell_type": "code",
   "execution_count": 20,
   "id": "cdfa1ee2-e8b9-4ef1-8e90-d533ab35f0ac",
   "metadata": {},
   "outputs": [
    {
     "data": {
      "text/plain": [
       "[1, 1, 1, 1, 1, 1, 1, 0]"
      ]
     },
     "execution_count": 20,
     "metadata": {},
     "output_type": "execute_result"
    }
   ],
   "source": [
    "alice_bits"
   ]
  },
  {
   "cell_type": "markdown",
   "id": "3f8bdeb9-dbf9-4726-998b-9ce93961bc0a",
   "metadata": {},
   "source": [
    "## 4.2 Reconciliation \n",
    "(Comparision -- Spotting)\n",
    "**Key size now reduced to half the original size**"
   ]
  },
  {
   "cell_type": "code",
   "execution_count": 21,
   "id": "56faaa1b-0477-41b5-a70f-030ba43bcba9",
   "metadata": {},
   "outputs": [],
   "source": [
    "# # What if Eve had listened to the previous round of key share and not this one? The remaining block would then be of mixed errors.\n",
    "# # Therefore, if Eve is suspected, delete the entire lot of keys\n",
    "\n",
    "# KEY_RESERVOIR_ALICE = np.concatenate(alice_bits[KEY_LENGTH])\n",
    "# KEY_RESERVOIR_BOB = np.concatenate(bob_bits[KEY_LENGTH])\n",
    "\n",
    "# alice_bits = KEY_RESERVOIR_ALICE[:KEY_LENGTH]\n",
    "# bob_bits = KEY_RESERVOIR_BOB[:KEY_LENGTH]\n",
    "\n",
    "# KEY_RESERVOIR_ALICE = KEY_RESERVOIR_ALICE[KEY_LENGTH:]\n",
    "# KEY_RESERVOIR_BOB = KEY_RESERVOIR_BOB[KEY_LENGTH:]"
   ]
  },
  {
   "cell_type": "code",
   "execution_count": 22,
   "id": "cbc061ef-d8b2-42fb-8b34-52aa60e43d9b",
   "metadata": {},
   "outputs": [
    {
     "name": "stdout",
     "output_type": "stream",
     "text": [
      "8\n"
     ]
    }
   ],
   "source": [
    "print(len(alice_bits))"
   ]
  },
  {
   "cell_type": "code",
   "execution_count": 23,
   "id": "1f10f8d6-98df-4f93-a53c-bbfbcf5bed4b",
   "metadata": {},
   "outputs": [],
   "source": [
    "sample = len(alice_bits)//3    # len(alice_bits) >= 3\n",
    "errors_detected = 0\n",
    "\n",
    "for _ in range(sample):\n",
    "    bit_index = random.randrange(len(alice_bits)) \n",
    "    \n",
    "    if alice_bits[bit_index] != bob_bits[bit_index]:  errors_detected += 1    #calculating errors\n",
    "        \n",
    "    del alice_bits[bit_index] #removing tested bits from key strings\n",
    "    del bob_bits[bit_index]\n",
    "\n",
    "# order = np.ceil(np.log2(len(alice_bits))).astype(int)\n",
    "order = Order(alice_bits)"
   ]
  },
  {
   "cell_type": "markdown",
   "id": "1a391b2a-c58b-4ebb-902e-205e09a77860",
   "metadata": {},
   "source": [
    "## 4.3 QBER"
   ]
  },
  {
   "cell_type": "code",
   "execution_count": 24,
   "id": "f80dca6e-c5a0-4458-bac6-e213a1afd67f",
   "metadata": {},
   "outputs": [
    {
     "name": "stdout",
     "output_type": "stream",
     "text": [
      "[0 0] 1 2\n"
     ]
    }
   ],
   "source": [
    "print(errors_recorded, errors_detected, sample)"
   ]
  },
  {
   "cell_type": "code",
   "execution_count": 25,
   "id": "2eb35e00-f92c-4e18-9045-ef669248890f",
   "metadata": {},
   "outputs": [
    {
     "data": {
      "text/plain": [
       "0.5"
      ]
     },
     "execution_count": 25,
     "metadata": {},
     "output_type": "execute_result"
    }
   ],
   "source": [
    "### QBER should be ~ 0.5 (instead of ~0.25) in presence of Eve, because the sample size is 1/3 of the bits AFTER sifting.\n",
    "\n",
    "QBER = round(errors_detected/sample, 5) # calculating QBER and saving the answer to two decimal places\n",
    "QBER"
   ]
  },
  {
   "cell_type": "code",
   "execution_count": 26,
   "id": "774b2160-6f36-4b85-af3a-72bb1aa464ac",
   "metadata": {},
   "outputs": [
    {
     "name": "stdout",
     "output_type": "stream",
     "text": [
      "\n",
      " Error Threshold : 0.15\n",
      " Eve detected :  Key not secure\n"
     ]
    }
   ],
   "source": [
    "print(f\"\\n Error Threshold : {error_threshold}\")\n",
    "\n",
    "if QBER > error_threshold:\n",
    "    if eve : print(\" Eve detected : \", end = \" \")\n",
    "    else : print(\" Eve FALSELY detected : \", end = \" \")\n",
    "    print(\"Key not secure\")\n",
    "    # continue    ####### Uncomment this when running this file from iterated_bb84 in a loop\n",
    "    \n",
    "else :\n",
    "    if eve : print('Eve went unnoticed : ', end = \" \")\n",
    "    else : print('Eve not present : ', end = \" \")\n",
    "\n",
    "    # KEY_RESERVOIR = np.concatenate(KEY_RESERVOIR, alice_bits[KEY_LENGTH:]\n",
    "    print(\"Key is secure\")\n"
   ]
  },
  {
   "cell_type": "markdown",
   "id": "b32420ef-7e42-46ce-a789-9744f7ea3af4",
   "metadata": {},
   "source": [
    "# 5. Error Correction\n",
    "\n",
    "**If the QBER is below a certain threshold, proceed to error correction, else ABORT**"
   ]
  },
  {
   "cell_type": "markdown",
   "id": "2a2389d5-6490-40c4-a5a4-51e89e306ffe",
   "metadata": {},
   "source": [
    "### 5.0 Creating some dummy data for Alice"
   ]
  },
  {
   "cell_type": "raw",
   "id": "db1ae233-74df-41df-880f-e14e438d7a4a",
   "metadata": {},
   "source": [
    "order = 6\n",
    "alice_bits = np.array([random.randint(0, 1) for _ in range(2**order)])    # Randomly fills the array with 0/1\n",
    "\n",
    "dim = int(2**(order/2))\n",
    "print(f\" Alice uncorrected {block(alice_bits, order)}\")"
   ]
  },
  {
   "cell_type": "markdown",
   "id": "4c3b9113-9e8b-402f-b63a-a59e7e42fdf2",
   "metadata": {},
   "source": [
    "## 5.1 Encoding parity bits in Alice's key\n",
    "\n",
    "**alice_bits vs alice_block** : alice_bits contains the secure key (of length : key_len), whereas alice_block contains the redundant fillers(if any) alongwith the parity embedding"
   ]
  },
  {
   "cell_type": "code",
   "execution_count": 27,
   "id": "aa7322b1-2f5e-4f32-ac7a-1ea0611dc790",
   "metadata": {},
   "outputs": [
    {
     "data": {
      "text/plain": [
       "6"
      ]
     },
     "execution_count": 27,
     "metadata": {},
     "output_type": "execute_result"
    }
   ],
   "source": [
    "key_len = len(alice_bits)\n",
    "key_len"
   ]
  },
  {
   "cell_type": "code",
   "execution_count": 28,
   "id": "4dd109ba-93b6-400e-93a6-a06dcd34f12b",
   "metadata": {},
   "outputs": [
    {
     "name": "stdout",
     "output_type": "stream",
     "text": [
      "loc = 7\n",
      "\n",
      " Hamming :  2 errors found\n",
      " err_count = 2, loc = 7, binary_rep = '111'\n",
      "\n",
      " Hamming Results :  (2, 7, '111')\n",
      " len(bits) = 8 \n",
      " Uncorrected bit string(Order is odd, can't project to a block) : \n",
      " [0 0 0 1 0 1 1 1] \n",
      " Shape of the block : (8,)\n"
     ]
    }
   ],
   "source": [
    "# After Sifting\n",
    "PARITY_DICT, _ = parity(order)   # Returns empty PARITY_DICT, bin_rep\n",
    "\n",
    "alice_block = create_parity_block(alice_bits, order, PARITY_DICT)    # Encodes parity on the block\n",
    "# alice_bits, PARITY_DICT = encode_parity(alice_block, order2, PARITY_DICT)"
   ]
  },
  {
   "cell_type": "code",
   "execution_count": 29,
   "id": "0064bf8a-7550-4eab-8a16-d5e29a99e0e0",
   "metadata": {},
   "outputs": [],
   "source": [
    "BROADCAST = PARITY_DICT"
   ]
  },
  {
   "cell_type": "code",
   "execution_count": 30,
   "id": "7f954292-7545-423f-a6ac-501435f24220",
   "metadata": {},
   "outputs": [
    {
     "name": "stdout",
     "output_type": "stream",
     "text": [
      "loc = 7\n",
      "\n",
      " Hamming :  2 errors found\n",
      " err_count = 2, loc = 7, binary_rep = '111'\n",
      "\n",
      " Hamming Results :  (2, 7, '111')\n",
      " len(bits) = 8 \n",
      " Uncorrected bit string(Order is odd, can't project to a block) : \n",
      " [1 1 1 0 1 0 0 0] \n",
      " Shape of the block : (8,)\n"
     ]
    },
    {
     "data": {
      "text/plain": [
       "8"
      ]
     },
     "execution_count": 30,
     "metadata": {},
     "output_type": "execute_result"
    }
   ],
   "source": [
    "bob_block = create_parity_block(bob_bits, order, BROADCAST)\n",
    "len(bob_block)\n",
    "# bob_bits, _ = encode_parity(bob_block, order2)\n",
    "### Both blocks have been created, now the hamming protocol can be applied"
   ]
  },
  {
   "cell_type": "code",
   "execution_count": 31,
   "id": "66b8e699-dd99-4f92-a8f0-961c43ff4724",
   "metadata": {},
   "outputs": [
    {
     "name": "stdout",
     "output_type": "stream",
     "text": [
      "loc = 7\n",
      "\n",
      " Hamming :  2 errors found\n",
      " err_count = 2, loc = 7, binary_rep = '111'\n",
      "8 [1 1 1 0 1 0 0 0]\n"
     ]
    }
   ],
   "source": [
    "err_count, loc, binary_rep = hamming(bob_block, order)\n",
    "print(len(bob_block), bob_block)"
   ]
  },
  {
   "cell_type": "markdown",
   "id": "9c338763-9fa7-410f-87c6-c3c70d124528",
   "metadata": {},
   "source": [
    "# Bob"
   ]
  },
  {
   "cell_type": "code",
   "execution_count": 32,
   "id": "ffc9b144-0b90-42c1-9319-4416277921a2",
   "metadata": {},
   "outputs": [
    {
     "data": {
      "text/plain": [
       "3"
      ]
     },
     "execution_count": 32,
     "metadata": {},
     "output_type": "execute_result"
    }
   ],
   "source": [
    "order"
   ]
  },
  {
   "cell_type": "code",
   "execution_count": 33,
   "id": "a03c01f8-9d07-4474-9369-9f885062ac0b",
   "metadata": {},
   "outputs": [
    {
     "name": "stdout",
     "output_type": "stream",
     "text": [
      "Error counts : 2 loc : 7 (111)\n",
      " len(bits) = 8 \n",
      " len(bits) = 8 \n",
      "\n",
      "Alice bit string(Order is odd, can't project to a block) : \n",
      " [0 0 0 1 0 1 1 1] \n",
      " Shape of the block : (8,) \n",
      "\n",
      "Bob bit string(Order is odd, can't project to a block) : \n",
      " [1 1 1 0 1 0 0 0] \n",
      " Shape of the block : (8,)\n",
      "\n",
      " Bob bits and alice bits are same\n"
     ]
    },
    {
     "data": {
      "text/plain": [
       "(array([1, 1, 1, 0, 1, 0, 0, 0], dtype=uint8),\n",
       " array([0, 0, 0, 1, 0, 1, 1, 1], dtype=uint8))"
      ]
     },
     "execution_count": 33,
     "metadata": {},
     "output_type": "execute_result"
    }
   ],
   "source": [
    "print(f\"Error counts : {err_count} loc : {loc} ({binary_rep})\")\n",
    "total_errors_recorded = errors_recorded[0] + errors_recorded[1]\n",
    "\n",
    "if err_count != 0 :\n",
    "    try : \n",
    "        if err_count == 1: bob_bits[loc] = np.mod(bob_bits[loc] + 1, 2)\n",
    "\n",
    "    except :\n",
    "        raise('KeyError : Location Invalid')\n",
    "\n",
    "print(f\"\\nAlice { block(alice_block, order) } \\n\\nBob { block(bob_block, order) }\")\n",
    "\n",
    "if all(bob_block) == all(alice_block) : \n",
    "    print(f\"\\n Bob bits and alice bits are same\")\n",
    "# print(f'{out[0]:04b}') \n",
    "bob_block[:100], alice_block[:100]"
   ]
  },
  {
   "cell_type": "code",
   "execution_count": null,
   "id": "11f2c92a-7c98-4b78-9d89-e298da34df6a",
   "metadata": {},
   "outputs": [],
   "source": []
  },
  {
   "cell_type": "code",
   "execution_count": 34,
   "id": "e844d01b-cc31-4411-bf3f-bbdebcd2356f",
   "metadata": {},
   "outputs": [
    {
     "data": {
      "text/plain": [
       "0.0"
      ]
     },
     "execution_count": 34,
     "metadata": {},
     "output_type": "execute_result"
    }
   ],
   "source": [
    "QBER = round(total_errors_recorded/sample, 4) # calculating QBER and saving the answer to two decimal places\n",
    "QBER"
   ]
  },
  {
   "cell_type": "markdown",
   "id": "357a0889-534b-49c3-a9c1-97cf7f8567f8",
   "metadata": {},
   "source": [
    "## Final Key : "
   ]
  },
  {
   "cell_type": "raw",
   "id": "ed312f01-1362-4cff-a02f-6a2d9ea2e675",
   "metadata": {},
   "source": [
    "int('11010100', 2), (bin(212)[2:])"
   ]
  },
  {
   "cell_type": "code",
   "execution_count": 35,
   "id": "8affd0be-950c-4e35-b54e-6f5143e38641",
   "metadata": {},
   "outputs": [
    {
     "name": "stdout",
     "output_type": "stream",
     "text": [
      "Eve went unnoticed :  Key is secure\n"
     ]
    }
   ],
   "source": [
    "if QBER > error_threshold:\n",
    "    if eve : print(\" Eve detected : \", end = \" \")\n",
    "    else : print(\" Eve FALSELY not detected : \", end = \" \")\n",
    "    print(\"Key not secure\")\n",
    "\n",
    "else :\n",
    "    if eve : print('Eve went unnoticed : ', end = \" \")\n",
    "    else : print('Eve not present : ', end = \" \")\n",
    "    print(\"Key is secure\")\n"
   ]
  },
  {
   "cell_type": "code",
   "execution_count": 59,
   "id": "0f25d9e2-77d7-4e18-b641-cfc3c4261801",
   "metadata": {},
   "outputs": [],
   "source": [
    "key = []\n",
    "for bit in alice_bits:    # Or bob_bits, since both should be the same\n",
    "    key.append(bit)\n",
    "\n",
    "key = np.array(key)"
   ]
  },
  {
   "cell_type": "code",
   "execution_count": 67,
   "id": "91ac5272-53f6-4e94-829e-3b5d37d8543a",
   "metadata": {},
   "outputs": [
    {
     "name": "stdout",
     "output_type": "stream",
     "text": [
      "[1 1 1 1 1 1]\n"
     ]
    }
   ],
   "source": [
    "print(key)"
   ]
  },
  {
   "cell_type": "markdown",
   "id": "2a7e2a42-d4e3-4774-8f7e-5c9af36f03bf",
   "metadata": {},
   "source": [
    "**Generate alphanumeric keys from the sequences of 0's and 1's**\n",
    "\n",
    "If you need keys that are made of letters (e.g. for tokens or other regular use), you should group the key into octets,  \n",
    "create a bytearray of octets and then encode each octet according to ASCII.\n",
    "\n",
    "Please note that this shortens they key and to work properly quite a key of at least 8 bit is needed."
   ]
  },
  {
   "cell_type": "code",
   "execution_count": 69,
   "id": "b6a98117-41fe-4acb-8ee5-10d723d4ae65",
   "metadata": {},
   "outputs": [
    {
     "data": {
      "text/plain": [
       "(63, '3f')"
      ]
     },
     "execution_count": 69,
     "metadata": {},
     "output_type": "execute_result"
    }
   ],
   "source": [
    "key_string = np.array2string(key, separator = \"\").lstrip('[').rstrip(']')\n",
    "dec = int(key_string, 2)\n",
    "hexadecimal = hex(dec)\n",
    "dec, hexadecimal[2:]"
   ]
  },
  {
   "cell_type": "code",
   "execution_count": 66,
   "id": "77f8f430-39bc-4aa8-b966-d25417b44835",
   "metadata": {},
   "outputs": [
    {
     "name": "stdout",
     "output_type": "stream",
     "text": [
      "\n"
     ]
    }
   ],
   "source": [
    "ASCII_key = base64.b64encode(convert_to_octets(array_to_string(key))).decode('ascii')\n",
    "print(ASCII_key)"
   ]
  },
  {
   "cell_type": "code",
   "execution_count": 50,
   "id": "a824844d-a370-4ec6-8b1d-172755635f30",
   "metadata": {},
   "outputs": [
    {
     "data": {
      "text/plain": [
       "''"
      ]
     },
     "execution_count": 50,
     "metadata": {},
     "output_type": "execute_result"
    }
   ],
   "source": [
    "ASCII_key"
   ]
  },
  {
   "cell_type": "code",
   "execution_count": null,
   "id": "e32d3829-9293-4a7a-ad0b-3fea227bbf35",
   "metadata": {},
   "outputs": [],
   "source": [
    "total_errors_recorded, sample"
   ]
  }
 ],
 "metadata": {
  "kernelspec": {
   "display_name": "Python 3 (ipykernel)",
   "language": "python",
   "name": "python3"
  },
  "language_info": {
   "codemirror_mode": {
    "name": "ipython",
    "version": 3
   },
   "file_extension": ".py",
   "mimetype": "text/x-python",
   "name": "python",
   "nbconvert_exporter": "python",
   "pygments_lexer": "ipython3",
   "version": "3.12.4"
  }
 },
 "nbformat": 4,
 "nbformat_minor": 5
}
