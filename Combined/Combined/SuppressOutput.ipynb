{
 "cells": [
  {
   "cell_type": "code",
   "execution_count": null,
   "id": "d6c2056e-3f97-4d5a-9e59-f23f36145034",
   "metadata": {},
   "outputs": [],
   "source": [
    "from contextlib import contextmanager\n",
    "import sys, os\n",
    "import warnings"
   ]
  },
  {
   "cell_type": "code",
   "execution_count": null,
   "id": "b3335cde-6ee2-4d85-9627-d3f109340e45",
   "metadata": {},
   "outputs": [],
   "source": [
    "@contextmanager\n",
    "def suppress_stdout():\n",
    "    with open(os.devnull, \"w\") as devnull:\n",
    "        old_stdout = sys.stdout\n",
    "        old_stderr = sys.stderr\n",
    "        try:  \n",
    "            sys.stdout = devnull\n",
    "            sys.stdout = devnull        \n",
    "            yield\n",
    "        finally:\n",
    "            sys.stdout = old_stdout\n",
    "            sys.stderr = old_stderr"
   ]
  },
  {
   "cell_type": "code",
   "execution_count": null,
   "id": "2c1e33d5-eaf9-4f32-9453-45dd0b06edab",
   "metadata": {},
   "outputs": [],
   "source": [
    "def track(lim, string = 'Iteration'):\n",
    "    print(f'{string}: ', end = '')\n",
    "    for i in range(1, lim+1):\n",
    "        ''' Any operation(s) requiring a loop '''\n",
    "        # print(f\"\\r Iteration : [{'='*i}>{' '*(100-i)}] {i}/100\", end = '')\n",
    "        print('\\r{}'.format(string), end = '')"
   ]
  },
  {
   "cell_type": "code",
   "execution_count": null,
   "id": "165f6b3b-bf7f-4bed-90c0-dbc2c629aff7",
   "metadata": {},
   "outputs": [],
   "source": [
    "# Suppress all warnings globally\n",
    "warnings.filterwarnings(\"ignore\")\n",
    "\n",
    "@contextmanager\n",
    "def force_suppress():\n",
    "    \"\"\"Suppress all output by redirecting stdout and stderr to os.devnull.\"\"\"\n",
    "    with open(os.devnull, 'w') as fnull:\n",
    "        old_stdout = os.dup(1)\n",
    "        old_stderr = os.dup(2)\n",
    "        os.dup2(fnull.fileno(), 1)\n",
    "        os.dup2(fnull.fileno(), 2)\n",
    "        try:\n",
    "            yield\n",
    "        finally:\n",
    "            os.dup2(old_stdout, 1)\n",
    "            os.dup2(old_stderr, 2)\n",
    "            os.close(old_stdout)\n",
    "            os.close(old_stderr)\n"
   ]
  }
 ],
 "metadata": {
  "kernelspec": {
   "display_name": "Python 3 (ipykernel)",
   "language": "python",
   "name": "python3"
  },
  "language_info": {
   "codemirror_mode": {
    "name": "ipython",
    "version": 3
   },
   "file_extension": ".py",
   "mimetype": "text/x-python",
   "name": "python",
   "nbconvert_exporter": "python",
   "pygments_lexer": "ipython3",
   "version": "3.11.5"
  }
 },
 "nbformat": 4,
 "nbformat_minor": 5
}
