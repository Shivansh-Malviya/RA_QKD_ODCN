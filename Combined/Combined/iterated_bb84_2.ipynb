{
 "cells": [
  {
   "cell_type": "code",
   "execution_count": 1,
   "id": "d0cbda05-6a29-4e46-9188-6d66d75b7434",
   "metadata": {},
   "outputs": [],
   "source": [
    "import matplotlib.pyplot as plt\n",
    "import numpy as np\n",
    "import time\n",
    "import os\n",
    "from sys import getsizeof\n",
    "from scipy.optimize import curve_fit"
   ]
  },
  {
   "cell_type": "code",
   "execution_count": 2,
   "id": "e911f65c-5852-4e25-851a-c54e81fdf5df",
   "metadata": {},
   "outputs": [],
   "source": [
    "# For writing data\n",
    "data_subdirectory = \"Data\"\n",
    "if not os.path.exists(data_subdirectory):\n",
    "    os.makedirs(data_subdirectory)\n",
    "\n",
    "# Setting the precision for floating points :\n",
    "np.set_printoptions(precision=4)"
   ]
  },
  {
   "cell_type": "code",
   "execution_count": 3,
   "id": "aec5f49b-c4fd-4a27-be2d-e5ccf630e1af",
   "metadata": {},
   "outputs": [],
   "source": [
    "# Define the hyperbolic function\n",
    "def hyperbolic_fit(x, a, b):\n",
    "    return a / x + b"
   ]
  },
  {
   "cell_type": "code",
   "execution_count": 4,
   "id": "47e57f66-205f-4000-894c-c03b16bb8969",
   "metadata": {},
   "outputs": [],
   "source": [
    "def Size(var):\n",
    "    print(f\" Sys size : {getsizeof(var)}\", end = \", \".rjust(8 - len(f\"{getsizeof(var)}\")))\n",
    "    \n",
    "    try:\n",
    "        print(f\" np size : {var.nbytes}\", end = \" \")\n",
    "    except:\n",
    "        print(\" np size : NA\", end = \" \")"
   ]
  },
  {
   "cell_type": "code",
   "execution_count": 5,
   "id": "e4892784-913f-4b9e-982c-2241f5069551",
   "metadata": {},
   "outputs": [],
   "source": [
    "def test(vars, labels):\n",
    "    '''\n",
    "    Size and Type : Prints the label of the variable and the corresponding size(with overhead) and the numpy size(if applicable). Also shows the \n",
    "    datatype of the variable. All in a justified manner.\n",
    "\n",
    "    Data Examples : Prints the first 10 elements of the very first dimension of an array/list (e.g. in case of a 3-D array, will print the \n",
    "    array[0, 0, :10] element). If the array is only 1-D, will print the first 10 elements. If it's a single variable, the value will be printed.\n",
    "    Next to each array example, '*' will be printed. The number of '*' printed corresponding to an array shows its dimensions.\n",
    "    '''\n",
    "    max_len = len(max(labels, key = len))\n",
    "\n",
    "    print(\"\\nSize and Type :\\n\")\n",
    "    for item, label in zip(vars, labels):\n",
    "        print(f\"{label} {':'.rjust(max_len + 2 - len(label))} \", end = \" \") \n",
    "        Size(item), print(\"    \", type(item), end = \" \"), print(\"\")\n",
    "\n",
    "    print(\"\\n\\nData Examples :\\n \")\n",
    "    for item, label in zip(vars, labels):\n",
    "        print(f\"{label} {':'.rjust(max_len + 2 - len(label))} \", end = \" \") \n",
    "        \n",
    "        try :\n",
    "            try :\n",
    "                print(item[0, :10], \"**\")\n",
    "            except :\n",
    "                print(item[:10], \"*\")\n",
    "        \n",
    "        except :\n",
    "            print(item)    "
   ]
  },
  {
   "cell_type": "code",
   "execution_count": 6,
   "id": "91bc2742-0adb-4a47-acdb-3348089ed3be",
   "metadata": {},
   "outputs": [],
   "source": [
    "num_iter = 10    # To average over\n",
    "in_range = 200    # Range of steps of initial length\n",
    "\n",
    "write = True\n",
    "eve_presence = True    #'Random'\n",
    "ch_noise = 0.030     # 0.000 - 0.300, 0.050 V/s QBER (eve detection)\n",
    "eve_threshold = 0.30    # QBER_threshold = eve_threshold - ch_noise ( 0.25(+-0.01) - 0.02 (+-0.001) = 0.23 +- 0.011 )\n",
    "precision = 0.001 + 0.01    # = 0.011\n",
    "Eve_detected = np.zeros((num_iter, in_range), dtype='uint8')\n",
    "\n",
    "out_len = np.zeros((num_iter, in_range), dtype = 'uint16')    # Length of key output for various initial key sizes\n",
    "time_taken = np.zeros((num_iter, in_range), dtype = 'float32')    # avg time taken by a key of a certain length\n",
    "QBERs = np.zeros((num_iter, in_range), dtype = 'float16')\n",
    "\n",
    "keys = np.full((num_iter, in_range), \" \", dtype = object)"
   ]
  },
  {
   "cell_type": "code",
   "execution_count": 7,
   "id": "b508502b-a9b8-47e9-a2d4-912501cfea94",
   "metadata": {},
   "outputs": [],
   "source": [
    "error_threshold = eve_threshold - ch_noise - precision\n",
    "step = int(2000/in_range)\n",
    "elements = num_iter*in_range\n",
    "in_len = np.array([step*(i+1) for i in range(in_range)], dtype = 'uint16')"
   ]
  },
  {
   "cell_type": "markdown",
   "id": "33c78bc5-e6f0-4919-bb68-53e1adc07749",
   "metadata": {},
   "source": [
    "## Test and Checks"
   ]
  },
  {
   "cell_type": "code",
   "execution_count": 8,
   "id": "f1560c05-c2e5-47b3-9acf-eae0509974c1",
   "metadata": {},
   "outputs": [
    {
     "name": "stdout",
     "output_type": "stream",
     "text": [
      "\n",
      "Size and Type :\n",
      "\n",
      "num_iter       :   Sys size : 28    ,  np size : NA      <class 'int'> \n",
      "in_range       :   Sys size : 28    ,  np size : NA      <class 'int'> \n",
      "in_len         :   Sys size : 512   ,  np size : 400      <class 'numpy.ndarray'> \n",
      "write          :   Sys size : 28    ,  np size : NA      <class 'bool'> \n",
      "eve_presence   :   Sys size : 28    ,  np size : NA      <class 'bool'> \n",
      "ch_noise       :   Sys size : 24    ,  np size : NA      <class 'float'> \n",
      "eve_threshold  :   Sys size : 24    ,  np size : NA      <class 'float'> \n",
      "Eve_detected   :   Sys size : 2128  ,  np size : 2000      <class 'numpy.ndarray'> \n",
      "out_len        :   Sys size : 4128  ,  np size : 4000      <class 'numpy.ndarray'> \n",
      "time_taken     :   Sys size : 8128  ,  np size : 8000      <class 'numpy.ndarray'> \n",
      "QBERs          :   Sys size : 4128  ,  np size : 4000      <class 'numpy.ndarray'> \n",
      "keys           :   Sys size : 16128 ,  np size : 16000      <class 'numpy.ndarray'> \n",
      "\n",
      "\n",
      "Data Examples :\n",
      " \n",
      "num_iter       :  10\n",
      "in_range       :  200\n",
      "in_len         :  [ 10  20  30  40  50  60  70  80  90 100] *\n",
      "write          :  True\n",
      "eve_presence   :  True\n",
      "ch_noise       :  0.03\n",
      "eve_threshold  :  0.3\n",
      "Eve_detected   :  [0 0 0 0 0 0 0 0 0 0] **\n",
      "out_len        :  [0 0 0 0 0 0 0 0 0 0] **\n",
      "time_taken     :  [0. 0. 0. 0. 0. 0. 0. 0. 0. 0.] **\n",
      "QBERs          :  [0. 0. 0. 0. 0. 0. 0. 0. 0. 0.] **\n",
      "keys           :  [' ' ' ' ' ' ' ' ' ' ' ' ' ' ' ' ' ' ' '] **\n"
     ]
    }
   ],
   "source": [
    "init_vars = [num_iter, in_range, in_len, write, eve_presence, ch_noise, eve_threshold, Eve_detected, out_len, time_taken, QBERs, keys]\n",
    "init_labels = \"num_iter, in_range, in_len, write, eve_presence, ch_noise, eve_threshold, Eve_detected, out_len, time_taken, QBERs, keys\".split(\", \")\n",
    "    \n",
    "test(init_vars, init_labels)"
   ]
  },
  {
   "cell_type": "markdown",
   "id": "61faa7da-a50b-4c5c-8e29-e2e04d539eca",
   "metadata": {},
   "source": [
    "## Protocol"
   ]
  },
  {
   "cell_type": "code",
   "execution_count": null,
   "id": "c7c3d059-abb3-434b-bf3c-9ccc240b79df",
   "metadata": {},
   "outputs": [],
   "source": [
    "total_time = time.time()\n",
    "\n",
    "for J in range(num_iter):    \n",
    "    for I in range(in_range):\n",
    "        print(f\"I = {I + 1}\", end = \"  :  \")\n",
    "        KEY_LENGTH = in_len[I]\n",
    "\n",
    "        start = time.time()\n",
    "        %run ./Qiskit_rebuilt_3.ipynb\n",
    "        time_taken[J, I] = round(time.time() - start, 4)\n",
    "        \n",
    "        out_len[J, I] += len(key)\n",
    "        keys[J, I] = str(key)\n",
    "        QBERs[J, I] = QBER\n",
    "        Eve_detected[J, I] = ((QBER >= error_threshold) and eve) + ((QBER < error_threshold) and not eve)    # Whether or not the DETECTION of Eve is CORRECT\n",
    "        \n",
    "    print(f\"###################################### Iteration {J + 1} complete ######################################\")\n",
    "\n",
    "total_time = time.time() - total_time\n",
    "print(total_time)"
   ]
  },
  {
   "cell_type": "code",
   "execution_count": null,
   "id": "4238db1b-b6a8-4936-b63b-8d9ca065d9e7",
   "metadata": {},
   "outputs": [],
   "source": [
    "print(total_time)\n",
    "elapsed_time = f\"{str(int(total_time//3600))}h  {str( int((total_time%3600)//60) )}m  {str(int(total_time%60))}s\"\n",
    "elapsed_time"
   ]
  },
  {
   "cell_type": "code",
   "execution_count": null,
   "id": "f07b93b0-348a-4185-974e-4706ca53f9bf",
   "metadata": {},
   "outputs": [],
   "source": [
    "time_taken"
   ]
  },
  {
   "cell_type": "code",
   "execution_count": null,
   "id": "8fe70d6c-4c55-485a-92f8-0fc38e2f3c80",
   "metadata": {},
   "outputs": [],
   "source": [
    "Eve_detected"
   ]
  },
  {
   "cell_type": "code",
   "execution_count": null,
   "id": "710de2af-147e-46a1-93e9-ccf3439a308e",
   "metadata": {},
   "outputs": [],
   "source": [
    "SKGR = np.array([ sum(1 for i in range(num_iter) if QBERs[i, j] < error_threshold) / sum(time_taken[:, j]) for j in range(in_range) ])    # Over all iterations\n",
    "SKGR"
   ]
  },
  {
   "cell_type": "code",
   "execution_count": null,
   "id": "73ab9c42-1d13-4ca9-a020-cd35c732ca82",
   "metadata": {},
   "outputs": [],
   "source": [
    "# Open the files to write data to\n",
    "title = f\"\\n[Noise {ch_noise}][Eve {eve_presence}][Eve Threshold {eve_threshold}] \"\n",
    "simulation_parameters = f\"\\nNumber of iterations : {num_iter},   Number of data points : {in_range}  :  Data points : {in_len},   Step Size : {step}, \\nTotal number of cycles : {elements} \\nEve Presence : {eve_presence},   Channel Noise : {ch_noise},   Eve's threshold : {eve_threshold},   Precision of Error Measurement : {precision},   Error Threshold : {error_threshold} \\nTime Taken : {elapsed_time}\\n\"\n",
    "\n",
    "avg_time_taken = np.array([sum([time_taken[J, I] for J in range(num_iter)])/num_iter for I in range(in_range)])\n",
    "avg_out_len = np.array([sum([out_len[J, I] for J in range(num_iter)])/num_iter for I in range(in_range)])\n",
    "avg_QBERs = np.array([sum([QBERs[J, I] for J in range(num_iter)])/num_iter for I in range(in_range)])"
   ]
  },
  {
   "cell_type": "code",
   "execution_count": null,
   "id": "9df71a92-3cfc-4ad2-9e0a-0e0f62e64886",
   "metadata": {},
   "outputs": [],
   "source": [
    "incorrect = elements - sum(sum(Eve_detected))\n",
    "detection = f\"Eve's detection was incorrect : {incorrect}/{elements} times (= {incorrect/elements} ); for QBER Threshold : {error_threshold}\"\n",
    "print(detection)\n",
    "print(max(sum(Eve_detected)))\n",
    "print(f'EveDetection {title}')\n",
    "\n",
    "plt.figure(figsize=(12, 5))\n",
    "\n",
    "plt.xlabel(f'initial key length')\n",
    "plt.ylabel(f'Times correctly detected Eve(out of {num_iter} iterations)')\n",
    "xticks = (np.array([0]+ list(in_len)))[::10]\n",
    "plt.xticks(xticks)\n",
    "plt.yticks(np.arange(num_iter+1))\n",
    "\n",
    "plt.minorticks_on()\n",
    "plt.grid(True)\n",
    "plt.tight_layout()\n",
    "plt.scatter(in_len, sum(Eve_detected))\n",
    "plt.plot(in_len, sum(Eve_detected), linestyle = '--')"
   ]
  },
  {
   "cell_type": "code",
   "execution_count": null,
   "id": "d21fef50-e87f-47ca-8ba4-a9d5acdba64b",
   "metadata": {},
   "outputs": [],
   "source": [
    "vars = [num_iter, in_range, in_len, write, eve_presence, ch_noise, eve_threshold, Eve_detected, avg_out_len, avg_time_taken, avg_QBERs, SKGR, keys]  \n",
    "labels = \"num_iter, in_range, in_len, write, eve_presence, ch_noise, eve_threshold, Eve_detected, avg_out_len, avg_time_taken, avg_QBERs, SKGR, keys\".split(\", \")\n",
    "\n",
    "test(vars, labels)"
   ]
  },
  {
   "cell_type": "code",
   "execution_count": null,
   "id": "64e9c2eb-d588-4baf-80c4-f40f8ad700a2",
   "metadata": {},
   "outputs": [],
   "source": [
    "False_detections = [(i, j) for (i, j) in zip(np.where(Eve_detected == 0)[0], np.where(Eve_detected == 0)[1])]\n",
    "print(False_detections[:9], '...')"
   ]
  },
  {
   "cell_type": "code",
   "execution_count": null,
   "id": "5873f0d3-89fb-419b-8ab9-fe98f0bef9ad",
   "metadata": {},
   "outputs": [],
   "source": [
    "fig, ax = plt.subplots(2, 2, figsize=(12, 8))\n",
    "\n",
    "# For key length\n",
    "coefficients_len = np.polyfit(in_len, avg_out_len, 1)\n",
    "polynomial_len = np.poly1d(coefficients_len)\n",
    "equation_len = f'y = {coefficients_len[0]:.2f}x + {coefficients_len[1]:.2f}'\n",
    "ax[0, 0].text(0.05, 0.95, equation_len, transform=ax[0, 0].transAxes, fontsize=10, verticalalignment='top')\n",
    "ax[0, 0].set_xlabel('Length of initial key')\n",
    "ax[0, 0].set_ylabel('Length of final key after Information Reconciliation')\n",
    "ax[0, 0].set_title(\"Input vs Output key length\")\n",
    "ax[0, 0].plot(in_len, avg_out_len)\n",
    "ax[0, 0].plot(in_len, polynomial_len(in_len), linestyle='--')\n",
    "ax[0, 0].minorticks_on()\n",
    "ax[0, 0].grid(True)\n",
    "\n",
    "# For QBER\n",
    "coefficients_qber = np.polyfit(in_len, avg_QBERs, 1)\n",
    "polynomial_qber = np.poly1d(coefficients_qber)\n",
    "equation_qber = f'y = {coefficients_qber[0]:.2f}x + {coefficients_qber[1]:.2f}'\n",
    "ax[0, 1].text(0.05, 0.95, equation_qber, transform=ax[0, 1].transAxes, fontsize=10, verticalalignment='top')\n",
    "ax[0, 1].set_xlabel('Length of initial key')\n",
    "ax[0, 1].set_ylabel('Average QBER')\n",
    "ax[0, 1].set_title(\"Input length vs QBER\")\n",
    "ax[0, 1].plot(in_len, avg_QBERs)\n",
    "ax[0, 1].plot(in_len, polynomial_qber(in_len), linestyle='--')\n",
    "ax[0, 1].minorticks_on()\n",
    "ax[0, 1].grid(True)\n",
    "\n",
    "# For time taken for 1 cycle\n",
    "coefficients_tt = np.polyfit(in_len, avg_time_taken, 1)\n",
    "polynomial_tt = np.poly1d(coefficients_tt)\n",
    "equation_tt = f'y = {coefficients_tt[0]:.2f}x + {coefficients_tt[1]:.2f}'\n",
    "ax[1, 0].text(0.05, 0.95, equation_tt, transform=ax[1, 0].transAxes, fontsize=10, verticalalignment='top')\n",
    "ax[1, 0].set_xlabel('Length of initial key')\n",
    "ax[1, 0].set_ylabel('Time taken for 1 cycle')\n",
    "ax[1, 0].set_title(\"Input key length vs time taken\")\n",
    "ax[1, 0].plot(in_len, avg_time_taken)\n",
    "ax[1, 0].plot(in_len, polynomial_tt(in_len), linestyle='--')\n",
    "ax[1, 0].minorticks_on()\n",
    "ax[1, 0].grid(True)\n",
    "\n",
    "# For Secure key generation rate\n",
    "# Fit the data to the hyperbolic function\n",
    "popt, pcov = curve_fit(hyperbolic_fit, in_len, SKGR)\n",
    "a, b = popt\n",
    "# Generate the polynomial using the fitted parameters\n",
    "fitted_SKGR = hyperbolic_fit(in_len, *popt)\n",
    "equation_SKGR = f'y = {a:.2f}/x + {b:.2f}'\n",
    "ax[1, 1].text(0.05, 0.95, equation_SKGR, transform=ax[1, 1].transAxes, fontsize=10, verticalalignment='top')\n",
    "ax[1, 1].set_xlabel('Length of initial key')\n",
    "ax[1, 1].set_ylabel('Secure key generation rate')\n",
    "ax[1, 1].set_title(\"Input key length vs SKGR\")\n",
    "ax[1, 1].plot(in_len, SKGR, 'o', label='Data')  # Plot the original data\n",
    "ax[1, 1].plot(in_len, fitted_SKGR, linestyle='--', label='Hyperbolic fit')  # Plot the hyperbolic fit\n",
    "ax[1, 1].minorticks_on()\n",
    "ax[1, 1].grid(True)\n",
    "\n",
    "# Set the super title for the entire figure\n",
    "plt.suptitle(title, weight='bold')\n",
    "\n",
    "# Display the plots\n",
    "plt.tight_layout(rect=[0, 0.03, 1, 0.95])\n",
    "plt.show()\n",
    "\n",
    "# Print the title\n",
    "print(title)\n"
   ]
  },
  {
   "cell_type": "code",
   "execution_count": null,
   "id": "92ca0c68-313d-46a7-9390-f85fc24b7f29",
   "metadata": {},
   "outputs": [],
   "source": [
    "if write :\n",
    "    filename = f\"Data.txt\"\n",
    "    key_strings = f\"Keys.txt\"\n",
    "    data_path = os.path.join(data_subdirectory, filename)\n",
    "    key_path = os.path.join(data_subdirectory, key_strings)\n",
    "    file = open(data_path, \"a\")\n",
    "    file2 = open(key_path, \"a\")\n",
    "    \n",
    "    file.write(simulation_parameters)\n",
    "    file2.write(simulation_parameters)\n",
    "\n",
    "    \n",
    "    file.write(f\"\\nInput Length = [{', '.join(map(str, in_len))}] \\nAverage Time Taken = [{', '.join(map(str, avg_time_taken))}] \\nAverage QBER = [{', '.join(map(str, avg_QBERs))}] \\nAverage Output length = [{', '.join(map(str, avg_out_len))}]\\n \\nSKGR = [{', '.join(map(str, SKGR))}]\")\n",
    "    file.close()\n",
    "    \n",
    "    file2.write(detection)\n",
    "    file2.write(f\" False detection indices : {False_detections}\")\n",
    "    file2.write(f\"\\nKeys = [{', '.join(map(str, keys))}] \\n\\n Eve detection = [{', '.join(map(str, Eve_detected))}]\")\n",
    "    file2.close()\n",
    "\n",
    "    write = False\n",
    "    print(\"Files updated\")"
   ]
  },
  {
   "cell_type": "raw",
   "id": "e67ffa61-098c-41a0-9cfa-c265d681a334",
   "metadata": {},
   "source": [
    "from sklearn.preprocessing import StandardScaler\n",
    "\n",
    "scaler = StandardScaler()\n",
    "scaled_in_len = scaler.fit_transform(in_len.reshape(-1, 1))  # Reshape for 2D compatibility\n",
    "scaled_avg_out_len = scaler.transform(avg_out_len.reshape(-1, 1))\n",
    "\n",
    "coefficients_len = np.polyfit(scaled_in_len, scaled_avg_out_len, 1)\n"
   ]
  },
  {
   "cell_type": "raw",
   "id": "4b1bf36d-c3e7-4f30-8ee4-a1340b7f2c91",
   "metadata": {},
   "source": [
    "print(*[item for item in zip(in_len, avg_out_len) if item[1] > 10000], sep = \"\\n\")"
   ]
  },
  {
   "cell_type": "code",
   "execution_count": null,
   "id": "7195d921-467b-4df1-bc1b-e58599b9fedd",
   "metadata": {},
   "outputs": [],
   "source": [
    "plt.plot(in_len, avg_out_len/1000, label = \"Output length/1000\")\n",
    "plt.plot(in_len, avg_QBERs, label = \"QBERs\")\n",
    "plt.plot(in_len, avg_time_taken/100, label = \"time_taken/100\")\n",
    "plt.plot(in_len, SKGR, label = 'SKGR')\n",
    "\n",
    "plt.xlabel('in_len')\n",
    "plt.ylabel('counts')\n",
    "plt.title(f'All parameters in one for {title}')\n",
    "plt.legend()\n",
    "\n",
    "print(f'All_parameters {title}')"
   ]
  },
  {
   "cell_type": "raw",
   "id": "3dfae153-7305-4fc2-a129-07f76991efd6",
   "metadata": {},
   "source": [
    "from ch_noise in [0.00, 0.30, 0.05] :\n",
    "    bb84(ch_noise)\n",
    "\n",
    "# Channel Error : 0.00 - 0.30, 0.05 V/s QBER (eve detection)\n",
    "# Input len vs output len\n",
    "# Sample size for spotting\n",
    "\n",
    "# Ch noise\n",
    "# Initial bit length\n",
    "\n",
    "# Eve_detected (True/False)\n",
    "# QBER\n",
    "# SKRG\n",
    "\n",
    "# Post processing\n",
    "# TDC encryption\n",
    "\n",
    "# Implement in NSFNET\n",
    "# Building QSC - 3 security levels(QBER?)\n",
    "# Intrgrating PIC "
   ]
  }
 ],
 "metadata": {
  "kernelspec": {
   "display_name": "Python 3 (ipykernel)",
   "language": "python",
   "name": "python3"
  },
  "language_info": {
   "codemirror_mode": {
    "name": "ipython",
    "version": 3
   },
   "file_extension": ".py",
   "mimetype": "text/x-python",
   "name": "python",
   "nbconvert_exporter": "python",
   "pygments_lexer": "ipython3",
   "version": "3.12.4"
  }
 },
 "nbformat": 4,
 "nbformat_minor": 5
}
