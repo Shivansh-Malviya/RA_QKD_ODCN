{
 "cells": [
  {
   "cell_type": "markdown",
   "id": "e3a4c3f9-0d22-45d4-b7ca-1ccd6ad72be0",
   "metadata": {},
   "source": [
    "# Generating Network Topology :\n",
    "\n",
    "This file creates and displays a network topology, given the data of edges(node 1, node 2, weight). There are two functions to deal with biderectional and non-directional graphs."
   ]
  },
  {
   "cell_type": "raw",
   "id": "8638de04-f359-45e7-b469-9da76db07939",
   "metadata": {},
   "source": [
    "# Required Modules \n",
    "import networkx as nx\n",
    "import matplotlib.pyplot as plt\n",
    "import numpy as np"
   ]
  },
  {
   "cell_type": "code",
   "execution_count": 2,
   "id": "9b8b6b9c-9470-469b-a33f-ad5c1d9837e5",
   "metadata": {},
   "outputs": [],
   "source": [
    "def create_topology(edges, save_fig = False, draw = True):\n",
    "  \n",
    "    all_values = [nodes for row in edges for nodes in row[:2]]    # A list of all the values/nodes in first 2 columns : s & d\n",
    "    numNodes = max(all_values) - min(all_values) + 1     # Correction for the convention in indexing of nodes in the data of edges\n",
    "        \n",
    "    g = nx.Graph()\n",
    "\n",
    "    #Nodes\n",
    "    nodes = np.arange(1, numNodes)\n",
    "    g.add_nodes_from(nodes)\n",
    "\n",
    "    # Edges\n",
    "    g.add_weighted_edges_from(edges)\n",
    "    \n",
    "    #Weights\n",
    "    weights = {(item[0], item[1]): item[2] for item in edges}\n",
    "    \n",
    "    # Position of nodes\n",
    "    pos = nx.spring_layout(g, seed = 5) \n",
    "    nx.draw_networkx_nodes(g, pos, node_size =200)\n",
    "    \n",
    "    # Position of edges\n",
    "    nx.draw_networkx_edges(g, pos, edgelist = edges, width = 2) \n",
    "\n",
    "    # node labels\n",
    "    nx.draw_networkx_labels(g, pos, font_size = 7)\n",
    "\n",
    "    #edge labels\n",
    "    nx.draw_networkx_edge_labels(g, pos, weights)\n",
    "    \n",
    "    print(\"Number of Nodes: \", numNodes)\n",
    "    print(\"Number of Links :\", len(g.edges()))\n",
    "    \n",
    "    if save_fig == True:\n",
    "        figname = str(numNodes) + \"-nodes.png\"\n",
    "        plt.savefig(figname)\n",
    "\n",
    "    #Configuraiton\n",
    "    ax = plt.gca()\n",
    "    ax.margins(0.08)\n",
    "    plt.axis('off')\n",
    "    plt.tight_layout()\n",
    "    plt.show()\n",
    "\n",
    "    return g"
   ]
  },
  {
   "cell_type": "markdown",
   "id": "36e51ed5-92f1-4b18-9d61-f641f867a349",
   "metadata": {},
   "source": [
    "# Bidirectional Graph"
   ]
  },
  {
   "cell_type": "code",
   "execution_count": 5,
   "id": "f5707f49-2036-449b-b63a-03aa6587159b",
   "metadata": {},
   "outputs": [],
   "source": [
    "def create_bi_topology(edges, save_fig = False, draw = True):\n",
    "  \n",
    "    all_values = [nodes for row in edges for nodes in row[:2]]    # A list of all the values/nodes in first 2 columns : s & d\n",
    "    numNodes = max(all_values) - min(all_values) + 1     # Correction for the convention in indexing of nodes in the data of edges\n",
    "        \n",
    "    g = nx.DiGraph()\n",
    "\n",
    "    #Nodes\n",
    "    nodes = np.arange(1, numNodes)\n",
    "    g.add_nodes_from(nodes)\n",
    "\n",
    "    # Edges\n",
    "    g.add_weighted_edges_from(edges)\n",
    "    \n",
    "    #Weights\n",
    "    weights = {(item[0], item[1]): item[2] for item in edges}\n",
    "\n",
    "    # Position of nodes\n",
    "    pos = nx.spring_layout(g, seed = 5) \n",
    "    nx.draw_networkx_nodes(g, pos, node_size =200)\n",
    "    \n",
    "    # Position of edges\n",
    "    nx.draw_networkx_edges(g, pos, edgelist = edges, width = 2) \n",
    "\n",
    "    # node labels\n",
    "    nx.draw_networkx_labels(g, pos, font_size = 7)\n",
    "\n",
    "    #edge labels\n",
    "    nx.draw_networkx_edge_labels(g, pos, weights)\n",
    "    \n",
    "    print(\"Number of Nodes: \", numNodes)\n",
    "    print(\"Number of Links :\", len(g.edges()))\n",
    "    \n",
    "    if save_fig == True:\n",
    "        figname = str(numNodes) + \"-nodes.png\"\n",
    "        plt.savefig(figname)\n",
    "\n",
    "    #Configuraiton\n",
    "    ax = plt.gca()\n",
    "    ax.margins(0.08)\n",
    "    plt.axis('off')\n",
    "    plt.tight_layout()\n",
    "    plt.show()\n",
    "\n",
    "    return g"
   ]
  },
  {
   "cell_type": "markdown",
   "id": "50aa8db0-157c-48f6-9aee-f8ab382bcf78",
   "metadata": {},
   "source": [
    "**Example** : A 6 Node Graph"
   ]
  },
  {
   "cell_type": "raw",
   "id": "1b4fbfa3-41c8-4fd1-a3e9-f236329507de",
   "metadata": {},
   "source": [
    "# Edges (connections between nodes) with distances\n",
    "edges = [ \n",
    "             (5, 0, 1200), # Edge between Node 5 and Node 0\n",
    "             (0, 1, 1200), # Edge between Node 0 and Node 1\n",
    "             (1, 2, 800), # Edge between Node 1 and Node 2\n",
    "             (2, 3, 900), # Edge between Node 2 and Node 3\n",
    "             (3, 4, 1000), # Edge between Node 3 and Node 4\n",
    "             (4, 5, 900), # Edge between Node 4 and Node 5\n",
    "             (0, 4, 1000), # Intermediate edge between Node 0 and Node 4\n",
    "             (1, 3, 1000) # Intermediate edge between Node 1 and Node 3\n",
    "            \n",
    "    ]\n",
    "\n",
    "#draw = True\n",
    "\n",
    "g = create_bi_topology(edges)\n"
   ]
  }
 ],
 "metadata": {
  "kernelspec": {
   "display_name": "Python 3 (ipykernel)",
   "language": "python",
   "name": "python3"
  },
  "language_info": {
   "codemirror_mode": {
    "name": "ipython",
    "version": 3
   },
   "file_extension": ".py",
   "mimetype": "text/x-python",
   "name": "python",
   "nbconvert_exporter": "python",
   "pygments_lexer": "ipython3",
   "version": "3.8.19"
  }
 },
 "nbformat": 4,
 "nbformat_minor": 5
}
