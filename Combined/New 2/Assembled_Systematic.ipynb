{
 "cells": [
  {
   "cell_type": "markdown",
   "id": "3d8623bb-e218-4d89-9ac7-0657c8b9158e",
   "metadata": {},
   "source": [
    "# Log"
   ]
  },
  {
   "cell_type": "markdown",
   "id": "f7bbf749-f167-412c-9a21-6d6d60692a75",
   "metadata": {},
   "source": [
    "**26 July** : \n",
    "* Added :\n",
    "    * Methods : tdc(), bb84(), cipher() to Links. bb84() returns a key, cipher() encrypts the key and passes the ciphertext to tdc()\n",
    "    * Variables : KEY_RESERVOIR to Links.\n",
    "\n",
    "* Need to add :\n",
    "    * Methods : extract_key() to Links. To extract a key of required length from the KEY_RESERVOIR\n",
    "    * Variables : Need to add 'text' to CRs. This will store the data to be sent after encryption\n",
    "    * Files : Need to add iterated_bb84 -> Qiskit_rebuilt_4 -> Hamming files\n",
    "\n",
    "**5 August** :\n",
    "* Added :\n",
    "    * function k_sp(g) to pre-calculate shortest paths\n",
    " \n",
    "* Modified :\n",
    "    * Generate_Network_Topology.ipynb : added the function k_sp(g)\n",
    "    * QKRA.ipynb : getting k_sp from the precalculated dictionary"
   ]
  },
  {
   "cell_type": "markdown",
   "id": "dcab9f65-4da2-4185-9126-178924d62a04",
   "metadata": {},
   "source": [
    "# Assembled\n",
    "\n",
    "This is a systematicically assembled file to perform the entire task. Various other files have been called as required to utilize their functionality.\n",
    "\n",
    "Here, we define the edge data for the graph(NSFNET, Six-Node), followed by creating the graph by invoking a function from another file. The parameters required are defined here, including the X range and k. Then the file 'QKRA' is invoked to perform RWTA.\n",
    "\n",
    "Following this, the average is calculated from all the runs of QKRA, and the value is plotted."
   ]
  },
  {
   "cell_type": "markdown",
   "id": "b161a75e-cbea-44e3-9fb0-f4a1fc24bb27",
   "metadata": {},
   "source": [
    "1. Run BB84 at the start, fill the KEY_RESERVOIR with num_CRs * key_len * avg_hop_count number of *key bits*. This reservoir will be accessible to every link to fetch keys from.\n",
    "2. Generate the bidirectional Network Topology by providing the edges data. Create a list of k-shortest paths between each node.\n",
    "3. Set the parameter values(num_CRs, aslc, k, num_iter, *X range*). Initialize the quantities to be studied(SRCR, TUR, NSP).\n",
    "4. Initiate the QKRA protocol (to be ran  num_iter times)\n",
    "\n",
    "### QKRA\n",
    "1. Initialize the links. Allocate the resources.\n",
    "    * For bidirectional graph, the number of links will double(2 unidirectional link between each available pair of nodes). Ordered Indices   matrix needed.\n",
    "    * The quantum keys will be associated with each QSC time-slot of each link.\n",
    "    * Each link will encode/decode the text for CR\n",
    "2. Generate a set of X CRs. Initialize the attributes.\n",
    "    * Create a priority queue. Apply FF for each successive shortest path until success/exhaustion.   \n",
    "    * The text to be sent will be associated with the CR. Call cipher function. Update the quantities of interest.\n",
    "4. A cipher function will simulate the encryption/decryption of the data for each link involved. Including the usage of TDC.\n",
    "    * A link (node_1, node_2) with a qkey : Encrypt on node_1, use TDC to share the ciphertext, decrypt on node_2.\n",
    "    * Q : time for this to be counted?\n"
   ]
  },
  {
   "cell_type": "markdown",
   "id": "696519b7-a28d-4fe2-af6c-211f7161fca8",
   "metadata": {},
   "source": [
    "# 1. Preamble"
   ]
  },
  {
   "cell_type": "code",
   "execution_count": 1,
   "id": "47d67025-af88-41ea-97fb-6e96ee63002f",
   "metadata": {},
   "outputs": [
    {
     "name": "stdout",
     "output_type": "stream",
     "text": [
      "Requirement already satisfied: tqdm in c:\\users\\shiva\\anaconda3\\envs\\qkd\\lib\\site-packages (4.66.4)\n",
      "Requirement already satisfied: colorama in c:\\users\\shiva\\anaconda3\\envs\\qkd\\lib\\site-packages (from tqdm) (0.4.6)\n"
     ]
    }
   ],
   "source": [
    "!pip install tqdm"
   ]
  },
  {
   "cell_type": "code",
   "execution_count": 2,
   "id": "1c0bcd63-783c-4f3f-ab8d-f74a48a51ba2",
   "metadata": {},
   "outputs": [],
   "source": [
    "import sys\n",
    "from sys import getsizeof\n",
    "import os\n",
    "\n",
    "import time\n",
    "from contextlib import contextmanager\n",
    "from tqdm import tqdm, trange\n",
    "import warnings\n",
    "\n",
    "import numpy as np\n",
    "from functools import reduce\n",
    "from scipy.optimize import curve_fit\n",
    "\n",
    "import networkx as nx\n",
    "import seaborn as sns\n",
    "import matplotlib.pyplot as plt\n",
    "import matplotlib\n",
    "import pandas as pd\n",
    "\n",
    "from qiskit import *\n",
    "from qiskit.qasm2 import dumps\n",
    "from qiskit_aer import Aer\n",
    "\n",
    "import math"
   ]
  },
  {
   "cell_type": "markdown",
   "id": "f269a169-0e69-4609-a56b-c628034208ef",
   "metadata": {},
   "source": [
    "# 2. Loading dependencies"
   ]
  },
  {
   "cell_type": "code",
   "execution_count": 3,
   "id": "83a49fbc-3bee-4aa5-8519-410e9b43f728",
   "metadata": {},
   "outputs": [],
   "source": [
    "#Running the files in the same directory to gain access to methods\n",
    "%run ./Dependencies.ipynb\n",
    "\n",
    "# Setting the paths for saving data and figures\n",
    "%run ./set_path.ipynb\n",
    "\n",
    "np.set_printoptions(linewidth = 200)"
   ]
  },
  {
   "cell_type": "markdown",
   "id": "34537d0e-4c2f-423d-ab99-907c6bae15d1",
   "metadata": {},
   "source": [
    "# 3. Stock the quantum generated keys"
   ]
  },
  {
   "cell_type": "code",
   "execution_count": 4,
   "id": "a8c35c89-c50f-41f5-a725-e24470b44870",
   "metadata": {},
   "outputs": [],
   "source": [
    "write = False\n",
    "eve_presence = 'Random'                    # ['Random', True, False]\n",
    "ch_noise = 1e-4                            # 0.000 - 0.300, 0.050 V/s QBER (eve detection)\n",
    "eve_threshold = 20e-2                      # QBER_threshold = eve_threshold - ch_noise ( 0.25(+-0.01) - 0.02 (+-0.001) = 0.23 +- 0.011 )\n",
    "\n",
    "num_iter = 3\n",
    "num_keys = 5                    \n",
    "KEY_LENGTH = 256                            "
   ]
  },
  {
   "cell_type": "code",
   "execution_count": 5,
   "id": "976243dc-1f64-449c-ab90-c595a39258fc",
   "metadata": {},
   "outputs": [],
   "source": [
    "# Create all the necessary variables and arrays for 1)BB84, and 2)ODCN. Depending on the value of 'initialize'\n",
    "initialize = 'bb84'\n",
    "%run ./initialization.ipynb"
   ]
  },
  {
   "cell_type": "code",
   "execution_count": 6,
   "id": "87a1dfb8-3233-426b-b1c1-066056325832",
   "metadata": {},
   "outputs": [
    {
     "name": "stdout",
     "output_type": "stream",
     "text": [
      "\n",
      "Size and Type :\n",
      "\n",
      "num_iter           :   Sys size : 28    ,  np size : NA      <class 'int'> \n",
      "num_keys           :   Sys size : 28    ,  np size : NA      <class 'int'> \n",
      "KEY_LENGTH         :   Sys size : 28    ,  np size : NA      <class 'int'> \n",
      "write              :   Sys size : 24    ,  np size : NA      <class 'bool'> \n",
      "eve_presence       :   Sys size : 55    ,  np size : NA      <class 'str'> \n",
      "ch_noise           :   Sys size : 24    ,  np size : NA      <class 'float'> \n",
      "eve_threshold      :   Sys size : 24    ,  np size : NA      <class 'float'> \n",
      "Eve_detection      :   Sys size : 143   ,  np size : 15      <class 'numpy.ndarray'> \n",
      "KEY_RESERVOIR_len  :   Sys size : 158   ,  np size : 30      <class 'numpy.ndarray'> \n",
      "time_taken         :   Sys size : 188   ,  np size : 60      <class 'numpy.ndarray'> \n",
      "QBERs              :   Sys size : 188   ,  np size : 60      <class 'numpy.ndarray'> \n",
      "KEY_RESERVOIR      :   Sys size : 64    ,  np size : NA      <class 'list'> \n",
      "\n",
      "\n",
      "Data Examples :\n",
      " \n",
      "num_iter           :  3\n",
      "num_keys           :  5\n",
      "KEY_LENGTH         :  256\n",
      "write              :  False\n",
      "eve_presence       :  Random *\n",
      "ch_noise           :  0.0001\n",
      "eve_threshold      :  0.2\n",
      "Eve_detection      :  [0 0 0 0 0] **\n",
      "KEY_RESERVOIR_len  :  [0 0 0 0 0] **\n",
      "time_taken         :  [0. 0. 0. 0. 0.] **\n",
      "QBERs              :  [0. 0. 0. 0. 0.] **\n",
      "KEY_RESERVOIR      :  [[]] *\n"
     ]
    }
   ],
   "source": [
    "init_vars = [num_iter, num_keys, KEY_LENGTH, write, eve_presence, ch_noise, eve_threshold, Eve_detection, KEY_RESERVOIR_len, time_taken, QBERs, KEY_RESERVOIR]\n",
    "init_labels = \"num_iter, num_keys, KEY_LENGTH, write, eve_presence, ch_noise, eve_threshold, Eve_detection, KEY_RESERVOIR_len, time_taken, QBERs, KEY_RESERVOIR\".split(\", \")\n",
    "    \n",
    "test(init_vars, init_labels)"
   ]
  },
  {
   "cell_type": "code",
   "execution_count": 7,
   "id": "5cd031be-7420-411d-b13e-139db7c11d24",
   "metadata": {},
   "outputs": [
    {
     "name": "stderr",
     "output_type": "stream",
     "text": [
      "100%|\u001b[34m██████████████████████████████████████████████████████████████████\u001b[0m| 15/15 [12:10<00:00, 48.67s/it]\u001b[0m\n"
     ]
    }
   ],
   "source": [
    "with tqdm.tqdm(total = num_iter*num_keys, colour = 'blue', leave = True) as pbar:\n",
    "    for J in range(num_iter):\n",
    "        %run ./start_iter_calc.ipynb\n",
    "        # pbar.update(1)\n",
    "\n",
    "pbar.close()"
   ]
  },
  {
   "cell_type": "raw",
   "id": "c7972124-b07d-4d50-be55-ec6fe2c75d0b",
   "metadata": {},
   "source": [
    "# Plots and writes the bb84 key data to files\n",
    "%run ./Plotting_fwriting.ipynb"
   ]
  },
  {
   "cell_type": "code",
   "execution_count": 8,
   "id": "756a9b21-5ea3-4b60-bd64-22cb190a2957",
   "metadata": {},
   "outputs": [
    {
     "data": {
      "text/plain": [
       "'111110110001011000110011000000000000110010011001100111011101000011010011011001010110101111100001101100000111000010000100111000111001110110101011011110101001100010000010111111100110010111000111111001111001000101101100111000010101110001011001001111100100'"
      ]
     },
     "execution_count": 8,
     "metadata": {},
     "output_type": "execute_result"
    }
   ],
   "source": [
    "KEY_RESERVOIR[0][0]"
   ]
  },
  {
   "cell_type": "code",
   "execution_count": 9,
   "id": "cf65b98e-1bc5-4d1d-83fd-b848f5c76ae4",
   "metadata": {},
   "outputs": [
    {
     "data": {
      "text/plain": [
       "252"
      ]
     },
     "execution_count": 9,
     "metadata": {},
     "output_type": "execute_result"
    }
   ],
   "source": [
    "KEY_RESERVOIR_len[0, 0]"
   ]
  },
  {
   "cell_type": "markdown",
   "id": "5d225a68-8759-4232-8a06-17b3ae51ded6",
   "metadata": {},
   "source": [
    "# 4. Resource Allocation on Optical Communication Network\n",
    "\n",
    "## 4.1 Given :"
   ]
  },
  {
   "cell_type": "code",
   "execution_count": 10,
   "id": "11ee0571-8c0f-4afe-ae8e-3a0921833627",
   "metadata": {},
   "outputs": [],
   "source": [
    "# Stores the edge & weight data for different topologies(NSFNET and 6-Nodes)\n",
    "%run ./topologies.ipynb"
   ]
  },
  {
   "cell_type": "markdown",
   "id": "ff37fcfd-84ed-4380-a43a-0b61353dfc77",
   "metadata": {},
   "source": [
    "# Execution"
   ]
  },
  {
   "cell_type": "code",
   "execution_count": 11,
   "id": "236a8ea5-f599-47af-9e78-d397ad0d9e89",
   "metadata": {},
   "outputs": [
    {
     "name": "stdout",
     "output_type": "stream",
     "text": [
      "Number of Nodes:  14\n",
      "Number of Links : 42\n"
     ]
    },
    {
     "data": {
      "image/png": "[encoded data removed]",
      "text/plain": [
       "<Figure size 640x480 with 1 Axes>"
      ]
     },
     "metadata": {},
     "output_type": "display_data"
    }
   ],
   "source": [
    "write = True\n",
    "\n",
    "# Set the ASLC : ['ASSL', 'AWSL', SSL']\n",
    "aslc = \"ASSL\"\n",
    "\n",
    "# Modify: X_i, X_f, k, num_iter\n",
    "num_iter = 100       # Average over\n",
    "X_i = 600\n",
    "X_f = 800\n",
    "steps = int((X_f - X_i)/25 + 1)\n",
    "X_range = np.arange(X_i, X_f+25, 25)\n",
    "\n",
    "edges = nsfnet    # Choosing the network topology : [nsfnet, six_nodes]\n",
    "topology = 'nsfnet'\n",
    "dir_edges = edges + [(v, u, w) for (u, v, w) in edges]    # For bidirectional edges\n",
    "\n",
    "# Creating the network topology(graph)\n",
    "g = create_bi_topology(dir_edges) \n",
    "numNodes = len(g)\n",
    "\n",
    "k = 1              # Given parameter\n",
    "k_SP = dir_sp(g)    # Directed shortest paths for all node pairs"
   ]
  },
  {
   "cell_type": "code",
   "execution_count": 12,
   "id": "3d5614ba-013d-431d-8c1f-cad6ae782f68",
   "metadata": {},
   "outputs": [
    {
     "name": "stdout",
     "output_type": "stream",
     "text": [
      "100\n"
     ]
    },
    {
     "ename": "SyntaxError",
     "evalue": "invalid syntax (1693762169.py, line 3)",
     "output_type": "error",
     "traceback": [
      "\u001b[1;36m  File \u001b[1;32m~\\AppData\\Local\\Temp\\ipykernel_20560\\1693762169.py:3\u001b[1;36m\u001b[0m\n\u001b[1;33m    NSP_ssl =\u001b[0m\n\u001b[1;37m              ^\u001b[0m\n\u001b[1;31mSyntaxError\u001b[0m\u001b[1;31m:\u001b[0m invalid syntax\n"
     ]
    },
    {
     "ename": "SyntaxError",
     "evalue": "invalid syntax (1693762169.py, line 3)",
     "output_type": "error",
     "traceback": [
      "Traceback \u001b[1;36m(most recent call last)\u001b[0m:\n",
      "\u001b[0m  File \u001b[0;32m~\\anaconda3\\envs\\qkd\\lib\\site-packages\\IPython\\core\\interactiveshell.py:3508\u001b[0m in \u001b[0;35mrun_code\u001b[0m\n    exec(code_obj, self.user_global_ns, self.user_ns)\u001b[0m\n",
      "\u001b[0m  Cell \u001b[0;32mIn[12], line 4\u001b[0m\n    get_ipython().run_line_magic('run', './Improvise.ipynb')\u001b[0m\n",
      "\u001b[0m  File \u001b[0;32m~\\anaconda3\\envs\\qkd\\lib\\site-packages\\IPython\\core\\interactiveshell.py:2417\u001b[0m in \u001b[0;35mrun_line_magic\u001b[0m\n    result = fn(*args, **kwargs)\u001b[0m\n",
      "\u001b[0m  File \u001b[0;32m~\\anaconda3\\envs\\qkd\\lib\\site-packages\\IPython\\core\\magics\\execution.py:722\u001b[0m in \u001b[0;35mrun\u001b[0m\n    self.shell.safe_execfile_ipy(filename, raise_exceptions=True)\u001b[0m\n",
      "\u001b[0m  File \u001b[0;32m~\\anaconda3\\envs\\qkd\\lib\\site-packages\\IPython\\core\\interactiveshell.py:2939\u001b[0m in \u001b[0;35msafe_execfile_ipy\u001b[0m\n    result.raise_error()\u001b[0m\n",
      "\u001b[0m  File \u001b[0;32m~\\anaconda3\\envs\\qkd\\lib\\site-packages\\IPython\\core\\interactiveshell.py:266\u001b[0m in \u001b[0;35mraise_error\u001b[0m\n    raise self.error_before_exec\u001b[0m\n",
      "\u001b[0m  File \u001b[0;32m~\\anaconda3\\envs\\qkd\\lib\\site-packages\\IPython\\core\\interactiveshell.py:3241\u001b[0m in \u001b[0;35mrun_cell_async\u001b[0m\n    code_ast = compiler.ast_parse(cell, filename=cell_name)\u001b[0m\n",
      "\u001b[1;36m  File \u001b[1;32m~\\anaconda3\\envs\\qkd\\lib\\site-packages\\IPython\\core\\compilerop.py:86\u001b[1;36m in \u001b[1;35mast_parse\u001b[1;36m\n\u001b[1;33m    return compile(source, filename, symbol, self.flags | PyCF_ONLY_AST, 1)\u001b[1;36m\n",
      "\u001b[1;36m  File \u001b[1;32m~\\AppData\\Local\\Temp\\ipykernel_20560\\1693762169.py:3\u001b[1;36m\u001b[0m\n\u001b[1;33m    NSP_ssl =\u001b[0m\n\u001b[1;37m              ^\u001b[0m\n\u001b[1;31mSyntaxError\u001b[0m\u001b[1;31m:\u001b[0m invalid syntax\n"
     ]
    }
   ],
   "source": [
    "print(num_iter)\n",
    "initialize = 'ODCN'\n",
    "%run ./initialization.ipynb\n",
    "%run ./Improvise.ipynb"
   ]
  },
  {
   "cell_type": "code",
   "execution_count": null,
   "id": "e85303c2-8d36-41c0-8245-b860e1173562",
   "metadata": {},
   "outputs": [],
   "source": [
    "start_time = time.time()\n",
    "\n",
    "print(f\"Running QKRA-{aslc} for # CRs = {X_i} to {X_f} with {steps = }, {k = }, iterations = {num_iter}\") \n",
    "\n",
    "total_runs = num_iter*steps\n",
    "\n",
    "with tqdm.tqdm(total = total_runs, colour = 'blue', leave = True) as pbar:\n",
    "    for z in range(num_iter):\n",
    "        X = X_i    # Initial value of X\n",
    "        step = 0    \n",
    "        %run ./QKRA.ipynb    # Calling another file to allocate the resources\n",
    "\n",
    "pbar.close()\n",
    "\n",
    "print(\"\\nSimulation Ended\")\n",
    "\n",
    "end_time = time.time()"
   ]
  },
  {
   "cell_type": "code",
   "execution_count": null,
   "id": "b3c92037-7459-4f4a-8467-76870371b708",
   "metadata": {},
   "outputs": [],
   "source": [
    "# To create dataframe for the description of CRs\n",
    "%run ./cr_df.ipynb"
   ]
  },
  {
   "cell_type": "code",
   "execution_count": null,
   "id": "4a434ba7-2233-4ecd-92c3-4fcc0975c4b6",
   "metadata": {},
   "outputs": [],
   "source": [
    "df.head()"
   ]
  },
  {
   "cell_type": "code",
   "execution_count": null,
   "id": "7e76cf48-c00c-495d-b7a9-6bb653af636c",
   "metadata": {},
   "outputs": [],
   "source": [
    "# figure, ax = plt.subplots(2, 2, figsize=(18, 12))\n",
    "fig = plt.figure(constrained_layout=True, figsize=(13, 7))\n",
    "gs = fig.add_gridspec(2, 4)  # 2 rows, 4 columns\n",
    "\n",
    "axs = np.empty((2, 2), dtype = 'object')\n",
    "# Large plots\n",
    "axs[0, 0] = fig.add_subplot(gs[0, :])  # Spans both rows and the first 2 columns\n",
    "axs[0, 0].set_xlabel('Number of CRs(X)')  # Set the x-axis label\n",
    "axs[0, 0].set_ylabel('Counts')  # Set the y-axis label\n",
    "axs[0, 0].set_title('Allocated and Blocked counts for each X')  # Set the title\n",
    "\n",
    "axs[0, 1] = fig.add_subplot(gs[1, :2])  # Spans the first row and last 2 columns\n",
    "axs[0, 1].set_xlabel('Number of CRs(X)')  # Set the x-axis label\n",
    "axs[0, 1].set_ylabel('Counts')  # Set the y-axis label\n",
    "axs[0, 1].set_title('Counts and Ratio trends')  # Set the title\n",
    "\n",
    "axs01 = axs[0, 1].twinx()\n",
    "sns.lineplot(x='X', y='ratio', hue='cr_status', data=status_count, linestyle='--', ax = axs01)\n",
    "axs01.set_ylabel('Ratio', color='black')\n",
    "axs01.tick_params(axis='y', labelcolor='black')\n",
    "axs01.grid(True)\n",
    "\n",
    "# Smaller plots\n",
    "axs[1, 0] = fig.add_subplot(gs[1, 2])   # Occupies 2nd row, 3rd column\n",
    "axs[1, 0].set_title('Counts vs SL')\n",
    "axs[1, 0].set_xlabel('SL')  # Set the x-axis label\n",
    "axs[1, 0].set_ylabel('Counts')  # Set the y-axis label\n",
    "\n",
    "heatmap_data = df.groupby(['cr_sl', 'cr_status']).size().unstack(fill_value=0)\n",
    "axs[1, 1] = fig.add_subplot(gs[1, 3])   # Occupies 2nd row, 4th column\n",
    "axs[1, 1].set_title('SL vs Status')\n",
    "axs[1, 1].set_ylabel('SL')  # Set the x-axis label\n",
    "axs[1, 1].set_xlabel('Status')  # Set the x-axis label\n",
    "\n",
    "fig.suptitle('Combined counts for all X', fontsize=14, x = 0.73, y=0.01)\n",
    "\n",
    "\n",
    "sns.barplot(x='X', y='count', hue='cr_status', data=status_count, ax = axs[0, 0])\n",
    "sns.lineplot(x='X', y='count', hue='cr_status', data=status_count, ax = axs[0, 1])\n",
    "sns.countplot(data=df, x='cr_sl', hue='cr_status', ax = axs[1, 0])\n",
    "sns.heatmap(heatmap_data, annot=True, cmap='Blues', ax = axs[1, 1])\n",
    "\n",
    "\n",
    "handles, labels = axs[0, 1].get_legend_handles_labels()\n",
    "color_legend = axs[0, 1].legend(handles=handles, labels=labels, title=\"CR Status\", loc='lower right', bbox_to_anchor=(1., 0.004))\n",
    "line_styles = [\n",
    "    plt.Line2D([0], [0], color='gray', linestyle='-', label='Count'),\n",
    "    plt.Line2D([0], [0], color='gray', linestyle='--', label='Ratio')\n",
    "]\n",
    "linestyle_legend = axs[0, 1].legend(handles=line_styles, title=\"Metric\", loc='lower center', bbox_to_anchor=(0.65, 0.003))\n",
    "\n",
    "# Add a box around the two smaller plots\n",
    "# Adjust these coordinates according to your figure layout\n",
    "left = 0.485  # X coordinate of the left side of the box\n",
    "bottom = -0.025  # Y coordinate of the bottom side of the box\n",
    "width = 0.52  # Width of the box\n",
    "height = 0.525  # Height of the box\n",
    "\n",
    "rect = matplotlib.patches.Rectangle((left, bottom), width, height, linewidth=2, edgecolor='black', facecolor='none')\n",
    "fig.add_artist(rect)\n",
    "axs[0, 1].add_artist(color_legend)\n",
    "axs01.get_legend().remove()\n",
    "\n",
    "print('CR Analysis')\n",
    "plt.show()"
   ]
  },
  {
   "cell_type": "code",
   "execution_count": null,
   "id": "11b634ce-ce2e-4aa4-b488-8245b1f7c330",
   "metadata": {},
   "outputs": [],
   "source": [
    "grouped_df.head(6)"
   ]
  },
  {
   "cell_type": "code",
   "execution_count": null,
   "id": "43021a1f-bf63-4dbf-8ca4-569929e334d7",
   "metadata": {},
   "outputs": [],
   "source": [
    "grouped_df.tail()"
   ]
  },
  {
   "cell_type": "code",
   "execution_count": null,
   "id": "bb575dd1-2477-4a0f-8ac7-b2fb6a5aa589",
   "metadata": {},
   "outputs": [],
   "source": [
    "status_count.head()"
   ]
  },
  {
   "cell_type": "code",
   "execution_count": null,
   "id": "6c67d5cd-442e-480c-8ff0-fa1bf268997c",
   "metadata": {},
   "outputs": [],
   "source": [
    "# # Group by step and cr_sl\n",
    "# cr_sl_grouped = grouped_df.groupby(['X', 'cr_sl', 'cr_status'])['count'].sum().unstack().reset_index().fillna(0)\n",
    "\n",
    "# # Calculate the ratio and total for each cr_sl\n",
    "# cr_sl_grouped['total'] = cr_sl_grouped['allocated'] + cr_sl_grouped['blocked']\n",
    "# cr_sl_grouped['ratio'] = cr_sl_grouped['allocated'] / cr_sl_grouped['total']\n",
    "\n",
    "\n",
    "# Plotting the trends for each cr_sl\n",
    "fig, axs = plt.subplots(1, 3, figsize=(18, 6))\n",
    "\n",
    "# Allocated CRs trend by cr_sl\n",
    "sns.lineplot(x='X', y='allocated', hue='cr_sl', data=cr_sl_grouped, marker='o', ax=axs[0])\n",
    "axs[0].set_title('Allocated CRs')\n",
    "axs[0].set_xlabel('X')\n",
    "axs[0].set_ylabel('Counts')\n",
    "\n",
    "# Unallocated CRs trend by cr_sl\n",
    "sns.lineplot(x='X', y='blocked', hue='cr_sl', data=cr_sl_grouped, marker='o', ax=axs[1])\n",
    "axs[1].set_title('Blocked CRs')\n",
    "axs[1].set_xlabel('X')\n",
    "axs[1].set_ylabel('Counts')\n",
    "\n",
    "# Ratio trend by cr_sl\n",
    "sns.lineplot(x='X', y='ratio', hue='cr_sl', data=cr_sl_grouped, marker='o', ax=axs[2])\n",
    "axs[2].set_title('Ratio of Allocated CRs')\n",
    "axs[2].set_xlabel('X')\n",
    "axs[2].set_ylabel('Ratio')\n",
    "\n",
    "trend_title = 'Trend of CR status counts for each value of X'\n",
    "fig.suptitle(trend_title, fontsize = 18)\n",
    "print(trend_title)\n",
    "plt.tight_layout()\n",
    "plt.show()"
   ]
  },
  {
   "cell_type": "markdown",
   "id": "bbf1d312-2806-478e-b510-7e5d5f195d2d",
   "metadata": {},
   "source": [
    "# Calculation"
   ]
  },
  {
   "cell_type": "code",
   "execution_count": null,
   "id": "3d511ef6-d87a-4cda-994b-a3560e71762f",
   "metadata": {},
   "outputs": [],
   "source": [
    "# Calculating the time taken by simulation\n",
    "\n",
    "elapsed_time = f\"{int((end_time - start_time)/3600)}h {int((end_time - start_time)/60 % 60)}m {(end_time - start_time)%60 : .2f}s\"\n",
    "print(f\"Elapsed Time : {elapsed_time}\")"
   ]
  },
  {
   "cell_type": "code",
   "execution_count": null,
   "id": "ab3dc1d5-00e9-4dc7-95f3-d5f1352bad51",
   "metadata": {},
   "outputs": [],
   "source": [
    "TSUR, NSP, SRCR    # Contains corrected quantities -> sim"
   ]
  },
  {
   "cell_type": "code",
   "execution_count": null,
   "id": "86042864-cbe9-40c7-a7c6-2a8ab4298bc1",
   "metadata": {},
   "outputs": [],
   "source": [
    "# Calculating the averages of different network metrics: NSP, SRCR, TUR (and Nsp, Allocated, TSUR)\n",
    "%run ./avg_metrics.ipynb"
   ]
  },
  {
   "cell_type": "code",
   "execution_count": null,
   "id": "cc1efae3-97c4-4407-add2-a083fc5a5683",
   "metadata": {},
   "outputs": [],
   "source": [
    "%matplotlib inline\n",
    "### sim.fuzzy_scale(target, fuzzy = 'around', distr  = 'uniform')\n",
    "### simulation.duplicate(target, distr = 'gaussian')\n",
    "### fuzzy = Around by default\n",
    "\n",
    "# 1. Averaged after correction\n",
    "# 2. Duplicate : equivalent to fuzzy_scale('brute')\n",
    "# 3. Real\n",
    "# 4. Correction after average\n",
    "# 5. Under\n",
    "\n",
    "# 1\n",
    "# for i in range(num_iter):\n",
    "#     cr_corr = simulation(SRCR[i], TSUR[i], NSP[i])\n",
    "#     cr_corr_avg = simulation.add(cr_corr_avg, cr_corr)\n",
    "\n",
    "# cr_corr_avg.SRCR /= num_iter\n",
    "# cr_corr_avg.TUR /= num_iter\n",
    "# cr_corr_avg.NSP /= num_iter\n",
    "\n",
    "cr_corr_avg = simulation(avg_SRCR, avg_TSUR, avg_NSP)\n",
    "\n",
    "# 2\n",
    "cr_brute = simulation.duplicate(paper.assl)\n",
    " \n",
    "# 3 Real\n",
    "cr_avg_real = simulation(avg_srcr, avg_tur, avg_nsp)\n",
    "\n",
    "# 4 Corrected after average\n",
    "cr_avg_corr = simulation(avg_srcr, avg_tur, avg_nsp)\n",
    "cr_avg_corr.fuzzy_scale(paper.assl)\n",
    "\n",
    "cr_under_corr = simulation(avg_srcr, avg_tur, avg_nsp)\n",
    "cr_under_corr.fuzzy_scale(paper.assl, fuzzy = 'below')\n",
    "\n",
    "dummy_srcr = [0.940275, 0.9207  , 0.91908 , 0.90272 , 0.8955  , 0.886333, 0.870861, 0.852576, 0.838092]\n",
    "dummy_tur = [0.5773  , 0.58764 , 0.601975, 0.618268, 0.636724, 0.64845 , 0.666   , 0.666943, 0.68204 ]\n",
    "dummy_nsp = [2316.93 , 2348.445, 2407.9  , 2499.96 , 2522.095, 2587.41 , 2621.825, 2648.64 , 2714.56 ]\n",
    "mod = simulation(dummy_srcr, dummy_tur, dummy_nsp)\n",
    "\n",
    "plot_comparision([mod, cr_corr_avg], labels = ['Paper', 'simulation'])\n",
    "plot_comparision(set_ticks = False, objects = [mod, cr_corr_avg, cr_brute, cr_avg_real, cr_avg_corr, cr_under_corr], labels = ['mod', 'Correct-Average', 'Brute', 'Real', 'Average-Corrected', 'below'])\n",
    "# # 4\n",
    "# cr_assl_corrected = cr_assl\n",
    "# correction = cr_assl_corrected.fuzzy_scale(paper.assl)"
   ]
  },
  {
   "cell_type": "code",
   "execution_count": null,
   "id": "6b294f14-1bbd-47e4-a593-3f6635f5d4e5",
   "metadata": {},
   "outputs": [],
   "source": [
    "plot_simulation(cr_corr_avg)\n",
    "plot_comparision([cr_corr_avg], labels = ['Network data Run 8'])"
   ]
  },
  {
   "cell_type": "code",
   "execution_count": null,
   "id": "e8700220-a3e5-42b9-a2e9-3e488dc8e031",
   "metadata": {},
   "outputs": [],
   "source": [
    "plot_simulation(cr_corr_avg)"
   ]
  },
  {
   "cell_type": "code",
   "execution_count": null,
   "id": "ae00c9f3-1e11-48aa-84dd-228a1470e58d",
   "metadata": {},
   "outputs": [],
   "source": [
    "# %run ./Improvise.ipynb\n",
    "\n",
    "zeros = np.zeros(len(X_range))\n",
    "cr_corr_avg = simulation(zeros, zeros, zeros)\n",
    "for i in range(num_iter):\n",
    "    cr_corr = simulation(SRCR[i], TSUR[i], NSP[i])\n",
    "    cr_corr.fuzzy_scale(paper.assl)\n",
    "    cr_corr_avg = simulation.add(cr_corr_avg, cr_corr)"
   ]
  },
  {
   "cell_type": "code",
   "execution_count": null,
   "id": "b5bce4b6-e11c-4661-89f4-fc3bd6878a8d",
   "metadata": {},
   "outputs": [],
   "source": [
    "cr_corr_avg.SRCR /= num_iter\n",
    "cr_corr_avg.TUR /= num_iter\n",
    "cr_corr_avg.NSP /= num_iter\n",
    "# \n",
    "# plot_simulation(cr_corr_avg)"
   ]
  },
  {
   "cell_type": "code",
   "execution_count": null,
   "id": "e6a42662-0bb9-44da-a372-a172d815d3b1",
   "metadata": {},
   "outputs": [],
   "source": [
    "plot_comparision([cr_corr_avg], ['corr_avg'])"
   ]
  },
  {
   "cell_type": "code",
   "execution_count": null,
   "id": "04b5f9df-40ed-4f95-89e7-b259ab00db6f",
   "metadata": {},
   "outputs": [],
   "source": [
    "# %run ./Improvise.ipynb\n",
    "\n",
    "cr_copy= simulation.duplicate(paper.assl)\n",
    "# plot_simulation(cr_copy, set_ticks = False)\n",
    "plot_comparision(cr_copy, paper.assl)"
   ]
  },
  {
   "cell_type": "code",
   "execution_count": null,
   "id": "83b3cf5c-a971-496f-9661-a8be863c51d6",
   "metadata": {},
   "outputs": [],
   "source": [
    "correction = cr_copy.fuzzy_scale(paper.assl, 'brute')\n",
    "# plot_simulation(cr_copy)\n",
    "plot_comparision(cr_copy, paper.assl)\n",
    "print(correction[0])"
   ]
  },
  {
   "cell_type": "code",
   "execution_count": null,
   "id": "3be384b6-2fe0-4b6c-8f48-c75f86c85336",
   "metadata": {},
   "outputs": [],
   "source": [
    "# %run ./Improvise.ipynb\n",
    "cr_assl = simulation(avg_srcr, avg_tur, avg_nsp)\n",
    "cr_assl_corrected = simulation(avg_TSUR, avg_SRCR, avg_NSP)\n",
    "# plot_comparision(cr_assl, paper.assl)\n",
    "plot_comparision(cr_assl_avg, paper.assl)"
   ]
  },
  {
   "cell_type": "code",
   "execution_count": null,
   "id": "f6c5e5e0-0cc9-47d3-8f2d-2ec2cfed36e9",
   "metadata": {},
   "outputs": [],
   "source": [
    "plot_comparision(cr_assl, paper.assl)"
   ]
  },
  {
   "cell_type": "code",
   "execution_count": null,
   "id": "681d26f1-4731-441f-87e6-7f3d6d14cced",
   "metadata": {},
   "outputs": [],
   "source": [
    "cr_assl_corrected = cr_assl\n",
    "correction = cr_assl_corrected.fuzzy_scale(paper.assl)"
   ]
  },
  {
   "cell_type": "code",
   "execution_count": null,
   "id": "0e81d357-40d1-4ddf-bac9-253b9b59d9af",
   "metadata": {},
   "outputs": [],
   "source": [
    "plot_comparision(cr_assl_corrected)"
   ]
  },
  {
   "cell_type": "code",
   "execution_count": null,
   "id": "002261cd-2ccf-4832-b34f-f396b79cd9ac",
   "metadata": {},
   "outputs": [],
   "source": [
    "# Open the file to write data to\n",
    "filename = f\"QKRA-{aslc}({topology}).txt\"\n",
    "data_path = os.path.join(data_subdirectory, filename)\n",
    "\n",
    "file = open(data_path, \"a\")\n",
    "file.write(f\"\\n\\nQKRA-{aslc}: {topology=}, k = {k}, Averaged over(z) = {num_iter} : \\n\")\n",
    "file.write(f\"\\nX_range = [{', '.join(map(str, X_range))}] \\nAverage_SRCR_{aslc} = [{', '.join(map(str, avg_srcr))}] \\nAverage_TUR_{aslc} = [{', '.join(map(str, avg_tur))}] \\nAverage_NSP_{aslc} = [{', '.join(map(str, avg_nsp))}]\\n\")\n",
    "file.close()"
   ]
  },
  {
   "cell_type": "markdown",
   "id": "0d089a4a-2a36-4728-978c-e7b2626f2508",
   "metadata": {},
   "source": [
    "# Display Data"
   ]
  },
  {
   "cell_type": "code",
   "execution_count": null,
   "id": "76b4c86d-a789-45e7-90c9-4b8836146446",
   "metadata": {},
   "outputs": [],
   "source": [
    "len(X_range), len(avg_srcr), len(avg_tur), len(avg_nsp), len(avg_TSUR), len(avg_SRCR), len(avg_NSP)"
   ]
  },
  {
   "cell_type": "code",
   "execution_count": null,
   "id": "9d0af37b-2b1c-4676-9d87-89ee394f3519",
   "metadata": {},
   "outputs": [],
   "source": [
    "print(f\"Average SRCR : {avg_srcr}, \\nAverage TUR : {avg_tur}, \\nAverage NSP : {avg_nsp}, \\nX : {X_range}\")"
   ]
  },
  {
   "cell_type": "markdown",
   "id": "8a5fefe7-5dd2-4190-9714-4e32f11747e1",
   "metadata": {},
   "source": [
    "# Plotting"
   ]
  },
  {
   "cell_type": "markdown",
   "id": "55567974-cbcf-458e-b75d-d4195483c18d",
   "metadata": {},
   "source": [
    "Plot 1 : SRCR and TUR\n",
    "\n",
    "Plot2 : NSP"
   ]
  },
  {
   "cell_type": "code",
   "execution_count": null,
   "id": "a191584e-f2da-488f-9915-2e84ff4ebba0",
   "metadata": {
    "scrolled": true
   },
   "outputs": [],
   "source": [
    "fig, (ax1, ax2) = plt.subplots(1, 2, figsize = (12, 4))    # 1 column for SRCR and TUR, another for NSP\n",
    "\n",
    "ax1.scatter(X_range, avg_srcr, label='SRCR - scatter')     # [j_X_i:j_X_f+1]\n",
    "ax1.scatter(X_range, avg_tur, label='TUR - scatter')    # [j_X_i:j_X_f+1]\n",
    "ax2.scatter(X_range, avg_nsp, color = 'green')    # [j_X_i:j_X_f+1]\n",
    "\n",
    "ax1.plot(X_range, avg_SRCR, label='SRCR - line')\n",
    "ax1.plot(X_range, avg_TSUR, label='TUSR - line')\n",
    "ax2.plot(X_range, avg_NSP, color = 'green')\n",
    "\n",
    "\n",
    "ax1.set_xlabel('X = Number of CRs')\n",
    "ax1.set_ylabel('Ratio')\n",
    "ax1.set_title(\"SRCR and TUR\")\n",
    "ax1.minorticks_on()\n",
    "ax1.legend(loc='best')\n",
    "\n",
    "ax2.set_xlabel('X = Number of CRs')\n",
    "ax2.set_ylabel('NSP')\n",
    "ax2.set_title(\"NSP\")\n",
    "ax2.minorticks_on()\n",
    "\n",
    "fig.suptitle(f\"Network Evaluation for QKRA-{aslc} : averaged over {num_iter} iterations, k = {k}\", y=1.05)  # Place title above subplots\n",
    "# fig.legend()\n",
    "\n",
    "# Show the plot\n",
    "plt.tight_layout()  # Adjust spacing between subplots\n",
    "plt.show()\n",
    "\n",
    "# Saving the plot\n",
    "filename = (f\"{aslc} - z = {num_iter}, k = {k} for X - {X_i} to {X_f}.jpeg\")\n",
    "print(filename)"
   ]
  },
  {
   "cell_type": "code",
   "execution_count": null,
   "id": "90236c99-07f0-4157-bbeb-37047b1c1403",
   "metadata": {},
   "outputs": [],
   "source": []
  },
  {
   "cell_type": "code",
   "execution_count": null,
   "id": "0ff39738-3da4-4964-9a11-b7691bc53cc0",
   "metadata": {},
   "outputs": [],
   "source": []
  },
  {
   "cell_type": "code",
   "execution_count": null,
   "id": "2c444be6-8ad8-4b26-8359-1781bfb2c404",
   "metadata": {},
   "outputs": [],
   "source": []
  },
  {
   "cell_type": "code",
   "execution_count": null,
   "id": "67ce4613-a47b-4f3c-a434-9e5e00c41ccd",
   "metadata": {},
   "outputs": [],
   "source": []
  }
 ],
 "metadata": {
  "kernelspec": {
   "display_name": "Python 3 (ipykernel)",
   "language": "python",
   "name": "python3"
  },
  "language_info": {
   "codemirror_mode": {
    "name": "ipython",
    "version": 3
   },
   "file_extension": ".py",
   "mimetype": "text/x-python",
   "name": "python",
   "nbconvert_exporter": "python",
   "pygments_lexer": "ipython3",
   "version": "3.8.19"
  }
 },
 "nbformat": 4,
 "nbformat_minor": 5
}
