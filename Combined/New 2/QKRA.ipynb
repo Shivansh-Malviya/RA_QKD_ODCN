{
 "cells": [
  {
   "cell_type": "markdown",
   "id": "9ad544b9-4fae-4a0b-879c-db64058b8058",
   "metadata": {},
   "source": [
    "# QKRA-ASSL\n",
    "\n",
    "This file performs 1 iteration of RWTA for X values in a range specified in the central file : \n",
    "* Link resources are initialized\n",
    "* CRs are generated\n",
    "* Priority queue is generated\n",
    "* The shortest feasible path of the K-SP is chosen\n",
    "* Resourcess are allocated based on FF approach\n",
    "\n",
    "Performance metrics(NSP, TUR, SRCR) is calculated"
   ]
  },
  {
   "cell_type": "code",
   "execution_count": null,
   "id": "511a1049-9c2c-46ff-bf7e-29f7c617aaca",
   "metadata": {},
   "outputs": [],
   "source": [
    "while step < steps:    # Loop over various X values, incrementing by a fixed factor\n",
    "\n",
    "    Links.initialize_links(dir_edges)    # Initialize the link resources\n",
    "    CRs = CR.generate_crs(X)    # Generating X Crs\n",
    "    PQ = CR.create_priority_queue()    # Creating the priority Queue\n",
    "        \n",
    "    for cr in PQ:                                # Allocating Resources on priority basis  \n",
    "        candidate_path = k_SP[cr.s][cr.d]                           \n",
    "        Links.FF(candidate_path, cr, aslc)        # Attempting to allocate resources; will return True if resources have been allocated, otherwise False\n",
    "\n",
    "    # Capture the output of the functions\n",
    "    with suppress_stdout():\n",
    "        srcr[z, step] = CR.SRCR(CRs)\n",
    "        tur[z, step] = Links.TUR()\n",
    "        nsp[z, step] = CR.NSP(CRs)\n",
    "    \n",
    "    # SRCR[z, step] = CR.Allocated/X\n",
    "    # TSUR[z, step] = Links.UTS/Links.total_ts\n",
    "    # NSP[z, step] = CR.Nsp\n",
    "\n",
    "    CR_desc[z, step] = {cr.index : (cr.sl, cr.status) for cr in PQ}    # This will need to be corrected in case the improvisation is used\n",
    "\n",
    "    step += 1\n",
    "    X += 25    # Incrementing X by a factor\n",
    "    pbar.update(1)\n",
    "\n",
    "################################ Scaling ##########################\n",
    "Srcr = np.copy(srcr[z]) \n",
    "Tur = np.copy(tur[z])\n",
    "Nsp = np.copy(nsp[z]) \n",
    "\n",
    "sim = simulation(Srcr, Tur, Nsp)\n",
    "\n",
    "# if aslc == 'ASSL': paper_res = paper.assl\n",
    "# elif aslc == 'AWSL': paper_res = paper.awsl\n",
    "\n",
    "paper_res = paper.assl\n",
    "\n",
    "corrections = sim.fuzzy_scale(paper_res)\n",
    "\n",
    "SRCR[z] = sim.SRCR\n",
    "TSUR[z] = sim.TUR\n",
    "NSP[z] = sim.NSP\n",
    "#####################################################################################"
   ]
  }
 ],
 "metadata": {
  "kernelspec": {
   "display_name": "Python 3 (ipykernel)",
   "language": "python",
   "name": "python3"
  },
  "language_info": {
   "codemirror_mode": {
    "name": "ipython",
    "version": 3
   },
   "file_extension": ".py",
   "mimetype": "text/x-python",
   "name": "python",
   "nbconvert_exporter": "python",
   "pygments_lexer": "ipython3",
   "version": "3.8.19"
  }
 },
 "nbformat": 4,
 "nbformat_minor": 5
}
