{
 "cells": [
  {
   "cell_type": "code",
   "execution_count": null,
   "id": "2903e653-4eea-48d0-a12b-6cdfe127dc2e",
   "metadata": {},
   "outputs": [],
   "source": [
    "# X_range = np.arange(X_i, X_f+25, 25)\n",
    "\n",
    "# Initializing arrays to calculate the averages\n",
    "avg_srcr = np.zeros(steps)\n",
    "avg_tur = np.zeros(steps)\n",
    "avg_nsp = np.zeros(steps)\n",
    "\n",
    "avg_TSUR = np.zeros(steps)\n",
    "avg_SRCR = np.zeros(steps)\n",
    "avg_NSP = np.zeros(steps)\n",
    "\n",
    "for j in range(steps):    # For different values of X\n",
    "    for i in range(num_iter):    # Summing over num_iter(=100)\n",
    "        avg_srcr[j] += srcr[i, j] \n",
    "        avg_tur[j] += tur[i, j] \n",
    "        avg_nsp[j] += nsp[i, j] \n",
    "        \n",
    "        avg_TSUR[j] += TSUR[i, j]\n",
    "        avg_SRCR[j] += SRCR[i, j]\n",
    "        avg_NSP[j] += NSP[i, j]\n",
    "        \n",
    "avg_srcr /= num_iter\n",
    "avg_tur /= num_iter \n",
    "avg_nsp /= num_iter\n",
    "\n",
    "avg_TSUR /= num_iter\n",
    "avg_SRCR /= num_iter\n",
    "avg_NSP /= num_iter\n",
    "\n",
    "for j in range(steps):\n",
    "    avg_srcr[j] = round(avg_srcr[j], 4)\n",
    "    avg_tur[j] = round(avg_tur[j], 4) \n",
    "    avg_nsp[j] = round(avg_nsp[j], 4) \n",
    "    \n",
    "    avg_TSUR[j] = round(avg_TSUR[j], 4)\n",
    "    avg_SRCR[j] = round(avg_SRCR[j], 4)\n",
    "    avg_NSP[j] = round(avg_NSP[j], 4)"
   ]
  }
 ],
 "metadata": {
  "kernelspec": {
   "display_name": "Python 3 (ipykernel)",
   "language": "python",
   "name": "python3"
  },
  "language_info": {
   "codemirror_mode": {
    "name": "ipython",
    "version": 3
   },
   "file_extension": ".py",
   "mimetype": "text/x-python",
   "name": "python",
   "nbconvert_exporter": "python",
   "pygments_lexer": "ipython3",
   "version": "3.8.19"
  }
 },
 "nbformat": 4,
 "nbformat_minor": 5
}
