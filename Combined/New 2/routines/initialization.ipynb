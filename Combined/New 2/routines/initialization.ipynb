{
 "cells": [
  {
   "cell_type": "code",
   "execution_count": 18,
   "id": "3a1a0c72-715d-4116-bbfd-0973f8f1bacd",
   "metadata": {},
   "outputs": [
    {
     "ename": "SyntaxError",
     "evalue": "positional argument follows keyword argument (2433564425.py, line 1)",
     "output_type": "error",
     "traceback": [
      "\u001b[1;36m  Cell \u001b[1;32mIn[18], line 1\u001b[1;36m\u001b[0m\n\u001b[1;33m    class init_vars(num_iter = 1, steps, data_type):\u001b[0m\n\u001b[1;37m                                                  ^\u001b[0m\n\u001b[1;31mSyntaxError\u001b[0m\u001b[1;31m:\u001b[0m positional argument follows keyword argument\n"
     ]
    }
   ],
   "source": [
    "class init_vars(num_iter = 1, steps, data_type):\n",
    "    if data_type == 'int': zeros2d = np.zeros([num_iter, steps]).astype(int)\n",
    "    else: zeros2d = np.zeros([num_iter, steps])\n",
    "\n",
    "    def __init__(self, value):\n",
    "        self.value = value\n",
    "        # Initializing the arrays to store data of j_range X for num_iter\n",
    "\n",
    "\n"
   ]
  },
  {
   "cell_type": "code",
   "execution_count": null,
   "id": "4948c072-29aa-4653-a703-4e07ce216a99",
   "metadata": {},
   "outputs": [],
   "source": [
    "def initialize_odcn():\n",
    "    srcr = np.zeros([num_iter, steps])\n",
    "    tur = np.zeros([num_iter, steps])\n",
    "    nsp = np.zeros([num_iter, steps]).astype(int)\n",
    "    x = np.zeros([num_iter, steps]).astype(int)"
   ]
  },
  {
   "cell_type": "code",
   "execution_count": null,
   "id": "16fa7d66-7326-4ce6-b8d1-8f083521355a",
   "metadata": {},
   "outputs": [],
   "source": [
    "def initialize_bb84():\n",
    "    \n",
    "    precision = eve_threshold/2 + ch_noise/2   \n",
    "    error_threshold = eve_threshold - ch_noise - precision\n",
    "    \n",
    "    # step = int(1000/in_range)\n",
    "    # elements = num_iter*in_range\n",
    "    # in_len = np.array([1000 for _ in range(in_range)], dtype = 'uint16')\n",
    "    \n",
    "    indices = np.arange(num_keys)\n",
    "    \n",
    "    time_taken = np.zeros(num_keys, dtype = 'float32')    # avg time taken by a key of a certain length\n",
    "    QBERs = np.zeros(num_keys, dtype = 'float16')\n",
    "    KEY_RESERVOIR = []\n",
    "    KEY_RESERVOIR_len = np.zeros(num_keys, dtype = 'uint16')\n",
    "    \n",
    "    Eve_detected = np.zeros(num_keys, dtype='uint8')"
   ]
  },
  {
   "cell_type": "markdown",
   "id": "c52fee78-c42f-4c71-938e-db3a451dc3b1",
   "metadata": {},
   "source": [
    "# Test and Checks"
   ]
  },
  {
   "cell_type": "code",
   "execution_count": null,
   "id": "e82d32a2-1e32-4d85-8e83-67de62413658",
   "metadata": {},
   "outputs": [],
   "source": [
    "def show_vars(which):\n",
    "    if which == 'odcn':\n",
    "\n",
    "    else:\n",
    "        init_vars = [num_iter, num_keys, key_size, write, eve_presence, ch_noise, eve_threshold, Eve_detected, KEY_RESERVOIR_len, time_taken, QBERs, KEY_RESERVOIR]\n",
    "        init_labels = \"num_iter, num_keys, key_size, write, eve_presence, ch_noise, eve_threshold, Eve_detected, KEY_RESERVOIR_len, time_taken, QBERs, KEY_RESERVOIR\".split(\", \")\n",
    "        \n",
    "    test(init_vars, init_labels)"
   ]
  }
 ],
 "metadata": {
  "kernelspec": {
   "display_name": "Python 3 (ipykernel)",
   "language": "python",
   "name": "python3"
  },
  "language_info": {
   "codemirror_mode": {
    "name": "ipython",
    "version": 3
   },
   "file_extension": ".py",
   "mimetype": "text/x-python",
   "name": "python",
   "nbconvert_exporter": "python",
   "pygments_lexer": "ipython3",
   "version": "3.11.5"
  }
 },
 "nbformat": 4,
 "nbformat_minor": 5
}
