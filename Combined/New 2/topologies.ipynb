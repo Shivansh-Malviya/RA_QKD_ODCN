{
 "cells": [
  {
   "cell_type": "code",
   "execution_count": null,
   "id": "fe7760df-8bfe-48b4-8731-fb3eb8773136",
   "metadata": {},
   "outputs": [],
   "source": [
    "# 21 Edges in NSFNET\n",
    "nsfnet = [ (1, 2, 1100),  \n",
    "             (2, 3, 1600), \n",
    "             (1, 3, 600), \n",
    "             (2, 8, 1500), \n",
    "             (1, 4, 1000),  \n",
    "             \n",
    "         (4, 5, 600), \n",
    "             (5, 7, 800),   \n",
    "             (7, 8, 700),  \n",
    "             (10, 11, 900), \n",
    "             (4, 9, 1500), \n",
    "         \n",
    "         (9, 12, 800), \n",
    "             (8, 10, 700), \n",
    "             (10, 12, 500), \n",
    "             (9, 14, 800), \n",
    "             (10, 14, 500), \n",
    "         \n",
    "         (12, 13, 300),\n",
    "             (13, 14, 300), \n",
    "             (3, 6, 1000), \n",
    "             (6, 5, 1100), \n",
    "             (6, 13, 2000),\n",
    "         \n",
    "         (6, 11, 1200), \n",
    "        ]"
   ]
  },
  {
   "cell_type": "code",
   "execution_count": null,
   "id": "226f94a3-3619-46d9-8c26-27c2c26e8edf",
   "metadata": {},
   "outputs": [],
   "source": [
    "six_nodes = [ \n",
    "             (5, 0, 1200), \n",
    "             (0, 1, 1200), \n",
    "             (1, 2, 800), \n",
    "             (2, 3, 900), \n",
    "             (3, 4, 1000), \n",
    "             (4, 5, 900), \n",
    "             (0, 4, 1000), \n",
    "             (1, 3, 1000)\n",
    "        ]\n",
    "\n",
    "six_nodes = [ (u+1, v+1, w) for (u, v, w) in six_nodes ]    # Increasing the node value by one, so that it starts with 1"
   ]
  }
 ],
 "metadata": {
  "kernelspec": {
   "display_name": "Python 3 (ipykernel)",
   "language": "python",
   "name": "python3"
  },
  "language_info": {
   "codemirror_mode": {
    "name": "ipython",
    "version": 3
   },
   "file_extension": ".py",
   "mimetype": "text/x-python",
   "name": "python",
   "nbconvert_exporter": "python",
   "pygments_lexer": "ipython3",
   "version": "3.8.19"
  }
 },
 "nbformat": 4,
 "nbformat_minor": 5
}
