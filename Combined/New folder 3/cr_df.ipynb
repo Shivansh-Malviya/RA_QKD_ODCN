{
 "cells": [
  {
   "cell_type": "code",
   "execution_count": null,
   "id": "6f002155-6829-4a93-8d42-4be50f073194",
   "metadata": {},
   "outputs": [],
   "source": [
    "# Defining the range of steps\n",
    "steps_arr = np.arange(400, 925, 25)\n",
    "\n",
    "# Convert CR_desc into a DataFrame\n",
    "data = []\n",
    "for z_index, step_list in enumerate(CR_desc):\n",
    "    for step_index, cr_dict in enumerate(step_list):\n",
    "        for cr_index, (cr_sl, cr_status) in cr_dict.items():\n",
    "            data.append([z_index, steps_arr[step_index], cr_index, cr_sl, cr_status])\n",
    "\n",
    "df = pd.DataFrame(data, columns=['z', 'step', 'cr_index', 'cr_sl', 'cr_status'])\n",
    "\n",
    "# Grouping and averaging over z\n",
    "grouped_df = df.groupby(['step', 'cr_sl', 'cr_status']).size().reset_index(name='count')\n",
    "grouped_df = grouped_df.groupby(['step', 'cr_sl', 'cr_status'])['count'].mean().reset_index()\n",
    "\n",
    "status_count = df.groupby(['step', 'cr_status']).size().reset_index(name='count').groupby(['step', 'cr_status'])['count'].mean().reset_index()\n",
    "status_count['count'] /= df['z'].nunique()\n",
    "status_count['ratio'] = status_count['count'] / status_count['step']"
   ]
  },
  {
   "cell_type": "raw",
   "id": "07620235-5da9-4d8e-b8e7-63b4e0f0e1b7",
   "metadata": {},
   "source": [
    "# Initialize lists to store the results\n",
    "allocated_counts = []\n",
    "blocked_counts = []\n",
    "ratios = []\n",
    "\n",
    "# Iterate through steps_arr and calculate the metrics\n",
    "for step in steps_arr:\n",
    "    step_data = grouped_df[grouped_df['step'] == step]\n",
    "    \n",
    "    # Allocated and unallocated counts\n",
    "    allocated = step_data[step_data['cr_status'] == 'allocated']['count'].sum()\n",
    "    blocked = step_data[step_data['cr_status'] == 'blocked']['count'].sum()\n",
    "    \n",
    "    # Store the counts\n",
    "    allocated_counts.append(allocated)\n",
    "    blocked_counts.append(blocked)\n",
    "    \n",
    "    # Calculate the ratio of allocated to total\n",
    "    total = allocated + blocked\n",
    "    if total > 0:\n",
    "        ratio = allocated / total\n",
    "    else:\n",
    "        ratio = 0\n",
    "    \n",
    "    # Store the ratio\n",
    "    ratios.append(ratio)\n",
    "\n",
    "# Calculate the average ratio\n",
    "average_ratio = np.mean(ratios)"
   ]
  },
  {
   "cell_type": "raw",
   "id": "15ba8f42-7f21-44e9-9823-75ec404aef98",
   "metadata": {},
   "source": [
    "# Convert the lists to a DataFrame for easier plotting\n",
    "trend_df = pd.DataFrame({\n",
    "    'step': steps_arr,\n",
    "    'allocated': allocated_counts,\n",
    "    'blocked': blocked_counts,\n",
    "    'ratio': ratios\n",
    "})\n",
    "\n",
    "# Plotting the trends\n",
    "fig, axs = plt.subplots(1, 3, figsize=(18, 6))\n",
    "\n",
    "# Allocated CRs trend\n",
    "sns.lineplot(x='step', y='allocated', data=trend_df, marker='o', ax=axs[0])\n",
    "axs[0].set_title('Trend of Allocated CRs')\n",
    "axs[0].set_xlabel('Step')\n",
    "axs[0].set_ylabel('Allocated Count')\n",
    "\n",
    "# Unallocated CRs trend\n",
    "sns.lineplot(x='step', y='blocked', data=trend_df, marker='o', ax=axs[1])\n",
    "axs[1].set_title('Trend of blocked CRs')\n",
    "axs[1].set_xlabel('Step')\n",
    "axs[1].set_ylabel('blocked Count')\n",
    "\n",
    "# Ratio trend\n",
    "sns.lineplot(x='step', y='ratio', data=trend_df, marker='o', ax=axs[2])\n",
    "axs[2].set_title(f'Ratio of Allocated to Total CRs (Average Ratio: {average_ratio:.2f})')\n",
    "axs[2].set_xlabel('Step')\n",
    "axs[2].set_ylabel('Ratio')\n",
    "\n",
    "plt.tight_layout()\n",
    "plt.show()\n"
   ]
  }
 ],
 "metadata": {
  "kernelspec": {
   "display_name": "Python 3 (ipykernel)",
   "language": "python",
   "name": "python3"
  },
  "language_info": {
   "codemirror_mode": {
    "name": "ipython",
    "version": 3
   },
   "file_extension": ".py",
   "mimetype": "text/x-python",
   "name": "python",
   "nbconvert_exporter": "python",
   "pygments_lexer": "ipython3",
   "version": "3.8.19"
  }
 },
 "nbformat": 4,
 "nbformat_minor": 5
}
