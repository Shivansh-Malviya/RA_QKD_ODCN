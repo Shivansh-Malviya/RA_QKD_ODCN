{
 "cells": [
  {
   "cell_type": "markdown",
   "id": "d94d0dcf-991f-4cea-b58c-563fe4114ac6",
   "metadata": {},
   "source": [
    "# BB84"
   ]
  },
  {
   "cell_type": "code",
   "execution_count": null,
   "id": "8019d5d6-f660-4243-8fa3-9cfdea2613d2",
   "metadata": {},
   "outputs": [],
   "source": [
    "if initialize == 'bb84':\n",
    "    precision = eve_threshold/2 + ch_noise/2   \n",
    "    error_threshold = eve_threshold - ch_noise - precision\n",
    "    \n",
    "    SKGR = np.zeros(num_iter, dtype = 'float32')\n",
    "    indices = np.arange(num_keys).astype('float32')\n",
    "    \n",
    "    time_taken = np.zeros((num_iter, num_keys), dtype = 'float32')    # avg time taken by a key of a certain length\n",
    "    QBERs = np.zeros((num_iter, num_keys), dtype = 'float32')\n",
    "    KEY_RESERVOIR_len = np.zeros((num_iter, num_keys), dtype = 'uint16')\n",
    "    KEY_RESERVOIR = [[]]    # Has to be 2D\n",
    "    \n",
    "    Eve_Record = np.zeros((num_iter, num_keys))\n",
    "    Eve_detection = np.zeros((num_iter, num_keys), dtype='uint8')"
   ]
  },
  {
   "cell_type": "markdown",
   "id": "360fa342-eaf0-4b9e-8e7c-7320b59e0cab",
   "metadata": {},
   "source": [
    "# ODCN"
   ]
  },
  {
   "cell_type": "code",
   "execution_count": null,
   "id": "aa3ef398-11f9-42d2-ad02-2bb3a3b509a3",
   "metadata": {},
   "outputs": [],
   "source": [
    "if initialize == 'ODCN':\n",
    "    # Initializing the arrays to store data of j_range X for num_iter\n",
    "    srcr = np.zeros([num_iter, steps])\n",
    "    tur = np.zeros([num_iter, steps])\n",
    "    nsp = np.zeros([num_iter, steps]).astype(int)\n",
    "    \n",
    "    TSUR = np.zeros([num_iter, steps])\n",
    "    SRCR = np.zeros([num_iter, steps])\n",
    "    NSP = np.zeros([num_iter, steps]).astype(int)\n",
    "    \n",
    "    CR_desc = np.zeros([num_iter, steps]).astype('object')"
   ]
  },
  {
   "cell_type": "markdown",
   "id": "c52fee78-c42f-4c71-938e-db3a451dc3b1",
   "metadata": {},
   "source": [
    "# Test and Checks"
   ]
  },
  {
   "cell_type": "code",
   "execution_count": null,
   "id": "e82d32a2-1e32-4d85-8e83-67de62413658",
   "metadata": {},
   "outputs": [],
   "source": [
    "def Test():\n",
    "    init_vars = [num_iter, num_keys, KEY_LENGTH, write, eve_presence, ch_noise, eve_threshold, Eve_detection, KEY_RESERVOIR_len, time_taken, QBERs, KEY_RESERVOIR]\n",
    "    init_labels = \"num_iter, num_keys, KEY_LENGTH, write, eve_presence, ch_noise, eve_threshold, Eve_detection, KEY_RESERVOIR_len, time_taken, QBERs, KEY_RESERVOIR\".split(\", \")\n",
    "    \n",
    "    test(init_vars, init_labels)\n",
    "\n",
    "# Test()"
   ]
  }
 ],
 "metadata": {
  "kernelspec": {
   "display_name": "Python 3 (ipykernel)",
   "language": "python",
   "name": "python3"
  },
  "language_info": {
   "codemirror_mode": {
    "name": "ipython",
    "version": 3
   },
   "file_extension": ".py",
   "mimetype": "text/x-python",
   "name": "python",
   "nbconvert_exporter": "python",
   "pygments_lexer": "ipython3",
   "version": "3.8.19"
  }
 },
 "nbformat": 4,
 "nbformat_minor": 5
}
