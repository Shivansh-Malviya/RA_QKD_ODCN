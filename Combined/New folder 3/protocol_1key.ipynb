{
 "cells": [
  {
   "cell_type": "markdown",
   "id": "9ebd004e-b4d9-427d-8c14-092064acccdc",
   "metadata": {},
   "source": [
    "# 1. Allocation"
   ]
  },
  {
   "cell_type": "code",
   "execution_count": null,
   "id": "8f53ade9-8a52-461f-a56e-0cf457916204",
   "metadata": {},
   "outputs": [],
   "source": [
    "# print('Running 1 key protocol')\n",
    "\n",
    "DATA_LENGTH = int(KEY_LENGTH + np.ceil(np.log2(KEY_LENGTH)) + 1)\n",
    "Unprocessed_key_len = 3*DATA_LENGTH\n",
    "\n",
    "# Preparation for encoding : Seed the random number generator. This will be used as our \"coin flipper\" \n",
    "random.seed(0)    \n",
    "\n",
    "order = Order(Unprocessed_key_len)\n",
    "dim = int(2**(order/2))"
   ]
  },
  {
   "cell_type": "markdown",
   "id": "27218688-f40b-46fa-8cb7-3b2be55fd27e",
   "metadata": {},
   "source": [
    "# 2. Alice"
   ]
  },
  {
   "cell_type": "code",
   "execution_count": null,
   "id": "d100943b-024b-4595-acab-263116cfb377",
   "metadata": {},
   "outputs": [],
   "source": [
    "# Generating a random string of bits\n",
    "alice_bits = generate_random_bits(Unprocessed_key_len)\n",
    "alice_bases = generate_random_bases(Unprocessed_key_len) # Alice randomly chooses a basis for each bit."
   ]
  },
  {
   "cell_type": "markdown",
   "id": "063f9e8f-6b7a-47f1-9ec7-cf0289226a8c",
   "metadata": {},
   "source": [
    "## 2.1 Quantum Encoding : \n",
    "**Encode the states into quantum circuits**"
   ]
  },
  {
   "cell_type": "code",
   "execution_count": null,
   "id": "f23fdde2-7d21-47d8-820b-7dc1a9dacf7d",
   "metadata": {},
   "outputs": [],
   "source": [
    "# Encode Alice's bits\n",
    "encoded_qubits = encode(alice_bits, alice_bases)"
   ]
  },
  {
   "cell_type": "markdown",
   "id": "3b335b09-bfa5-46d3-9168-1eed491d8ae2",
   "metadata": {},
   "source": [
    "# 3. Quantum Signal Channel\n",
    "This part can also be simulated by brute forcing 1-2 bit error at random."
   ]
  },
  {
   "cell_type": "markdown",
   "id": "55767c24-562a-44c2-9427-bf583cf5ef62",
   "metadata": {},
   "source": [
    "## 3.1 Eve\n",
    "0 : Not present,    1 : present"
   ]
  },
  {
   "cell_type": "code",
   "execution_count": null,
   "id": "a1fa8bf2-b6f2-4a9c-abae-264715f43672",
   "metadata": {},
   "outputs": [],
   "source": [
    "if eve_presence == 'Random': eve = random.randint(0, 1)\n",
    "else: eve = int(eve_presence)\n",
    "\n",
    "Eve_Record[J, I] = eve\n",
    "\n",
    "label = 'Eve' if eve else 'Alice'\n",
    "# print(label)"
   ]
  },
  {
   "cell_type": "code",
   "execution_count": null,
   "id": "112e3e20-5268-4b76-8c99-bb1968118f85",
   "metadata": {},
   "outputs": [],
   "source": [
    "qubits_received = [QuantumCircuit(1, 1) for _ in range(len(encoded_qubits))]    # Initializing the circuit\n",
    "errors_recorded = np.array([0, 0])    # Will keep track of the errors INJECTED deliberately by the algorithm\n",
    "\n",
    "if eve : \n",
    "    qubits_intercepted = [QuantumCircuit(1, 1) for _ in range(len(encoded_qubits))]\n",
    "    \n",
    "    errors_recorded = NoisyChannel(encoded_qubits, qubits_intercepted, 'Alice', errors_recorded, noise = ch_noise) ##Eve intercepts noisy states     \n",
    "\n",
    "    eve_bases = generate_random_bases(Unprocessed_key_len) # Generate a random set of bases\n",
    "    eve_bits = measure(qubits_intercepted, eve_bases) # Measure the qubits\n",
    "    \n",
    "    # Eve encodes her decoy qubits and sends them along the quantum channel    \n",
    "    encoded_intercepted_qubits = encode(eve_bits, eve_bases)    \n",
    "    errors_recorded = NoisyChannel(encoded_intercepted_qubits, qubits_received, 'Eve', errors_recorded, noise = ch_noise) ## Eve sends noisy states to Bob\n",
    "\n",
    "else : \n",
    "    errors_recorded = NoisyChannel(encoded_qubits, qubits_received, 'Alice', errors_recorded, noise = ch_noise) ## Alice sends noisy states to Bob\n"
   ]
  },
  {
   "cell_type": "markdown",
   "id": "cb6fa4a2-c702-46c4-adab-c451955d989e",
   "metadata": {},
   "source": [
    "## 3.2 Bob"
   ]
  },
  {
   "cell_type": "code",
   "execution_count": null,
   "id": "5d8839f7-88f8-4b31-8f0a-b511d21cb36a",
   "metadata": {},
   "outputs": [],
   "source": [
    "bob_bases = generate_random_bases(Unprocessed_key_len) # Bob randomly chooses a basis for each bit.\n",
    "# Measurement\n",
    "bob_bits = measure(qubits_received, bob_bases)"
   ]
  },
  {
   "cell_type": "markdown",
   "id": "d85da683-884a-4acf-843a-38bbb5e57509",
   "metadata": {},
   "source": [
    "# 4. Public Interaction Channel\n",
    "\n",
    "* On completion of this step, the length of bits will cut down to half of the original size.\n",
    "* Alice can share a string suggesting in which order to use the received bits through QSC. \n",
    "* Alice can announce the PARITY_DICT (after sifting)"
   ]
  },
  {
   "cell_type": "markdown",
   "id": "08beccfc-755e-4d80-b0ec-6a27b8640a0e",
   "metadata": {},
   "source": [
    "## 4.1 Sifting"
   ]
  },
  {
   "cell_type": "code",
   "execution_count": null,
   "id": "f07ead16-fa60-49be-bbe2-e71ff6060e24",
   "metadata": {},
   "outputs": [],
   "source": [
    "BROADCAST = alice_bases    # Alice tells Bob which bases she used. BROADCAST uses classical channel\n",
    "\n",
    "# Store the indices of the bases they share in common\n",
    "common_bases = [i for i in range(Unprocessed_key_len) if bob_bases[i] == BROADCAST[i]]\n",
    "bob_bits = [bob_bits[index] for index in common_bases]\n",
    "bob_bits = ''.join(bob_bits)"
   ]
  },
  {
   "cell_type": "code",
   "execution_count": null,
   "id": "e15edfd4-26ad-4b8d-889e-b0185889f7b6",
   "metadata": {},
   "outputs": [],
   "source": [
    "BROADCAST = common_bases    # Bob tells Alice which bases they shared in common\n",
    "\n",
    "alice_bits = [alice_bits[index] for index in BROADCAST]    # Alice keeps only the bits they shared in common\n",
    "alice_bits = ''.join(alice_bits)"
   ]
  },
  {
   "cell_type": "markdown",
   "id": "85e66978-8533-4b47-84e9-5c396edab8f0",
   "metadata": {},
   "source": [
    "## 4.2 Reconciliation \n",
    "(Comparision -- Spotting)\n",
    "**Key size now reduced to half the original size**"
   ]
  },
  {
   "cell_type": "code",
   "execution_count": null,
   "id": "28f74306-c631-457f-b5d6-0e7a35e226a0",
   "metadata": {},
   "outputs": [],
   "source": [
    "sample = len(alice_bits)//3    # len(alice_bits) >= 3\n",
    "errors_detected = 0\n",
    "\n",
    "for _ in range(sample):\n",
    "    bit_index = random.randrange(len(alice_bits)) \n",
    "    \n",
    "    if alice_bits[bit_index] != bob_bits[bit_index]:  errors_detected += 1    #calculating errors\n",
    "    #removing tested bits from key strings\n",
    "    alice_bits = alice_bits[:bit_index] + alice_bits[bit_index+1 :] \n",
    "    bob_bits = bob_bits[:bit_index] + bob_bits[bit_index+1 :]\n",
    "\n",
    "order = Order(alice_bits)"
   ]
  },
  {
   "cell_type": "markdown",
   "id": "58af4d28-13c2-4a10-8fac-ccad04cb7c80",
   "metadata": {},
   "source": [
    "## 4.3 QBER"
   ]
  },
  {
   "cell_type": "code",
   "execution_count": null,
   "id": "26e701ea-061e-4c0b-ae5a-2e39ea9cbb79",
   "metadata": {},
   "outputs": [],
   "source": [
    "### QBER should be ~ 0.5 (instead of ~0.25) in presence of Eve, because the sample size is 1/3 of the bits AFTER sifting.\n",
    "\n",
    "QBER = round(errors_detected/sample, 5) # calculating QBER and saving the answer to two decimal places\n",
    "key = alice_bits\n",
    "\n",
    "if QBER > error_threshold:\n",
    "    print(f\" \\n ABORTING and Restarting... \\n\\n\\n\\n\")\n",
    "    flag = 0\n",
    "    \n",
    "else :\n",
    "    print(\" Key is secure: \", end = \" \")\n",
    "    flag = 1\n",
    "    if eve : print(' Eve went unnoticed : ')\n",
    "    else : print(' Eve not present : ')\n",
    "    print(f\" \\n Proceeding towards Error-Correction... \\n\\n\\n\\n\")\n",
    "\n",
    "    %run ./error_correction.ipynb"
   ]
  },
  {
   "cell_type": "markdown",
   "id": "af2449a9-465d-42e4-8958-e56b37bd6d13",
   "metadata": {},
   "source": [
    "# 5. Updating the variables"
   ]
  },
  {
   "cell_type": "raw",
   "id": "53657650-3118-40a4-a981-f4e949ee693a",
   "metadata": {},
   "source": [
    "QBERs[I] = QBER\n",
    "KEY_RESERVOIR.append(key)\n",
    "KEY_RESERVOIR_len[I] = len(key)\n",
    "\n",
    "Eve_detected[I] = ((QBER >= error_threshold) and eve) + ((QBER < error_threshold) and not eve)    # Whether or not the DETECTION of Eve is CORRECT"
   ]
  }
 ],
 "metadata": {
  "kernelspec": {
   "display_name": "Python 3 (ipykernel)",
   "language": "python",
   "name": "python3"
  },
  "language_info": {
   "codemirror_mode": {
    "name": "ipython",
    "version": 3
   },
   "file_extension": ".py",
   "mimetype": "text/x-python",
   "name": "python",
   "nbconvert_exporter": "python",
   "pygments_lexer": "ipython3",
   "version": "3.8.19"
  }
 },
 "nbformat": 4,
 "nbformat_minor": 5
}
