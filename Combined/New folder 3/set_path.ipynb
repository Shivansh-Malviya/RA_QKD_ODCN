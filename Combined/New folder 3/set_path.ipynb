{
 "cells": [
  {
   "cell_type": "code",
   "execution_count": null,
   "id": "b7938a82-afee-4fdc-b707-5183dfdc95b3",
   "metadata": {},
   "outputs": [],
   "source": [
    "# Define the subdirectory name for storing ODCN figures\n",
    "fig_subdirectory = \"Figures\"\n",
    "if not os.path.exists(fig_subdirectory):    # Check if the subdirectory exists\n",
    "    os.makedirs(fig_subdirectory)\n",
    "    \n",
    "# For writing ODCN data\n",
    "data_subdirectory = \"Data\"\n",
    "if not os.path.exists(data_subdirectory):\n",
    "    os.makedirs(data_subdirectory)\n",
    "\n",
    "# For writing BB84 Data\n",
    "bb84_subdirectory = \"BB84\"\n",
    "if not os.path.exists(bb84_subdirectory):\n",
    "    os.makedirs(bb84_subdirectory)\n",
    "\n",
    "# Setting the precision for floating points :\n",
    "np.set_printoptions(precision=4)"
   ]
  }
 ],
 "metadata": {
  "kernelspec": {
   "display_name": "Python 3 (ipykernel)",
   "language": "python",
   "name": "python3"
  },
  "language_info": {
   "codemirror_mode": {
    "name": "ipython",
    "version": 3
   },
   "file_extension": ".py",
   "mimetype": "text/x-python",
   "name": "python",
   "nbconvert_exporter": "python",
   "pygments_lexer": "ipython3",
   "version": "3.8.19"
  }
 },
 "nbformat": 4,
 "nbformat_minor": 5
}
