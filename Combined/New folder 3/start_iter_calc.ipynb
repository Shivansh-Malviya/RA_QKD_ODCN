{
 "cells": [
  {
   "cell_type": "code",
   "execution_count": null,
   "id": "6f99e382-5ef1-4b59-8c9e-6b3ce8485a01",
   "metadata": {},
   "outputs": [],
   "source": [
    "# print('Running Iterative cycle')\n",
    "START = time.time()\n",
    "I = 0\n",
    "\n",
    "while I < num_keys :\n",
    "    \n",
    "    KEY_RESERVOIR.append([''])\n",
    "    \n",
    "    flag = 0\n",
    "    with suppress_std():\n",
    "        warnings.simplefilter('ignore')\n",
    "        \n",
    "        start = time.time()\n",
    "        %run ./protocol_1key.ipynb\n",
    "        end = time.time()\n",
    "\n",
    "    QBERs[J, I] = QBER\n",
    "    KEY_RESERVOIR[J].append(key)\n",
    "    KEY_RESERVOIR_len[J, I] = len(key) \n",
    "\n",
    "    Eve_detection[J, I] = ((QBER >= error_threshold) and Eve_Record[J, I])            # Whether or not the DETECTION of Eve is CORRECT\n",
    "    time_taken[J, I] = round(end - start, 4)\n",
    "\n",
    "    pbar.update(1)\n",
    "    # prog_interval = int((I+1)*20/num_keys)\n",
    "    # print(f\"\\r Keys generated: [{'='*(prog_interval)}>{' '*(20-prog_interval)}] {I+1}/{num_keys}\", end = '')\n",
    "\n",
    "    I += 1\n",
    "\n",
    "total_time = time.time() - START\n",
    "SKGR[J] = len(KEY_RESERVOIR_len[J])/total_time"
   ]
  },
  {
   "cell_type": "code",
   "execution_count": null,
   "id": "31eb3577-2d4f-474b-913a-a3bc7c0c9e44",
   "metadata": {},
   "outputs": [],
   "source": [
    "elapsed_time = f\"{str(int(total_time//3600))}h  {str( int((total_time%3600)//60) )}m  {str(int(total_time%60))}s\""
   ]
  }
 ],
 "metadata": {
  "kernelspec": {
   "display_name": "Python 3 (ipykernel)",
   "language": "python",
   "name": "python3"
  },
  "language_info": {
   "codemirror_mode": {
    "name": "ipython",
    "version": 3
   },
   "file_extension": ".py",
   "mimetype": "text/x-python",
   "name": "python",
   "nbconvert_exporter": "python",
   "pygments_lexer": "ipython3",
   "version": "3.8.19"
  }
 },
 "nbformat": 4,
 "nbformat_minor": 5
}
