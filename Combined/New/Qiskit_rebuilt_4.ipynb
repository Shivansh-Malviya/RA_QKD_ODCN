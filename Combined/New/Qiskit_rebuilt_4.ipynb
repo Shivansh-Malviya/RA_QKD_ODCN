{
 "cells": [
  {
   "cell_type": "code",
   "execution_count": 1,
   "id": "0b7c8b64-3bd0-4e82-b294-34a4d5eefd19",
   "metadata": {},
   "outputs": [],
   "source": [
    "# Importing Qiskit\n",
    "from qiskit import *\n",
    "from qiskit.qasm2 import dumps\n",
    "from qiskit_aer import Aer\n",
    "\n",
    "import base64\n",
    "import numpy as np\n",
    "# import operation as op\n",
    "from functools import reduce\n",
    "import random\n",
    "from random import randrange\n",
    "\n",
    "# import warnings\n",
    "# warnings.filterwarnings(\"ignore\")\n"
   ]
  },
  {
   "cell_type": "markdown",
   "id": "49c74cbe-405d-4d9d-a0a9-914ed65f379c",
   "metadata": {},
   "source": [
    "# 1. Qubit Manipulation"
   ]
  },
  {
   "cell_type": "code",
   "execution_count": 2,
   "id": "2bc9f142-08d8-44fb-9dc5-944b5de67a87",
   "metadata": {},
   "outputs": [],
   "source": [
    "def NoisyChannel(qc1, qc2, qc1_name, errors, noise = 5e-4):\n",
    "    ''' This function takes the output of a circuit qc1 (made up only of x and \n",
    "        h gates), simulates a noisy quantum channel where Pauli errors (X - bit flip; Z - phase flip)\n",
    "        will occur in qc2, and then initializes another circuit qc2 with the introduced noise.\n",
    "    ''' \n",
    "    \n",
    "    # Retrieve quantum state from qasm code of qc1\n",
    "    qs = [dumps(qc1[i]).split('\\n') for i in range(len(qc1))]\n",
    "    \n",
    "    # Process the code to get the instructions\n",
    "    parsed_instructions = []\n",
    "    for i, qasm_code in enumerate(qs):\n",
    "        for line in qasm_code:\n",
    "            line = line.strip()    # removing leading/trailing whitespace\n",
    "            if line.startswith(('x', 'h', 'measure')):\n",
    "                line = line.replace('0', str(i))\n",
    "                parsed_instructions.append(line)\n",
    "    \n",
    "    # Apply parsed instructions to qc2\n",
    "    for instruction in parsed_instructions:\n",
    "        if instruction.startswith('x'):\n",
    "            old_qr = int(instruction.split()[1][2:-2])\n",
    "            qc2[old_qr].x(0)\n",
    "            \n",
    "        elif instruction.startswith('h'):\n",
    "            old_qr = int(instruction.split()[1][2:-2])\n",
    "            qc2[old_qr].h(0)\n",
    "        \n",
    "        elif instruction.startswith('measure'):\n",
    "            continue    # exclude measuring\n",
    "            \n",
    "        else:\n",
    "            print(f\"Unable to parse instruction: {instruction}\")\n",
    "            raise Exception('Unable to parse instruction')\n",
    "    \n",
    "    # Introducing noise (taking input)\n",
    "    for instruction in parsed_instructions:\n",
    "        if random.random() < noise:\n",
    "            old_qr = int(instruction.split()[1][2:-2])\n",
    "            qc2[old_qr].x(0)     # Apply bit-flip error\n",
    "            errors[0] += 1\n",
    "            \n",
    "        if random.random() < noise:\n",
    "            old_qr = int(instruction.split()[1][2:-2])\n",
    "            qc2[old_qr].z(0)     # Apply phase-flip error\n",
    "            errors[1] += 1\n",
    "\n",
    "    return errors"
   ]
  },
  {
   "cell_type": "code",
   "execution_count": 3,
   "id": "a8a01e74-3c7b-4621-956e-776d713e59e9",
   "metadata": {},
   "outputs": [],
   "source": [
    "def generate_random_bits(num):\n",
    "    \"\"\"This function generates a random array of bits(0/1) of size = num\"\"\"\n",
    "    # bits = np.array([random.randint(0, 1) for _ in range(num)])    # Randomly fills the array with 0/1\n",
    "\n",
    "    bit_string = \"\"\n",
    "    for _ in range(num):\n",
    "        rand_bit = random.randint(0, 1)     # Flip Coin\n",
    "        bit_string += str(rand_bit)\n",
    "        \n",
    "    return bit_string"
   ]
  },
  {
   "cell_type": "code",
   "execution_count": 4,
   "id": "2e2bba7e-e4ed-4ab2-9874-d4f7218af99c",
   "metadata": {},
   "outputs": [],
   "source": [
    "def generate_random_bases(num_of_bases):\n",
    "    \"\"\"This function selects a random basis for each bit\"\"\"\n",
    "    \n",
    "    bases_string = \"\"\n",
    "    for _ in range(num_of_bases):\n",
    "        randBasis = random.randint(0, 1)     # Flip Coin\n",
    "\n",
    "        if randBasis == 0:\n",
    "            bases_string += \"Z\" \n",
    "        else:\n",
    "            bases_string += \"X\"\n",
    "            \n",
    "    return bases_string"
   ]
  },
  {
   "cell_type": "code",
   "execution_count": 5,
   "id": "bdb60d2b-dcd3-4a5f-aadc-6c0558bd755d",
   "metadata": {},
   "outputs": [],
   "source": [
    "def encode(bits, bases):\n",
    "    \"\"\"This function encodes each bit into the given basis.\"\"\"\n",
    "    \n",
    "    encoded_qubits = []\n",
    "    \n",
    "    for bit, basis in zip(bits, bases):\n",
    "        qc = QuantumCircuit(1, 1)     # Create a quantum circuit for each qubit\n",
    "        \n",
    "        # Possible Cases\n",
    "        if bit == \"1\" :\n",
    "            qc.x(0)\n",
    "\n",
    "        if basis == 'X' :\n",
    "            qc.h(0)\n",
    "            \n",
    "        encoded_qubits.append(qc)\n",
    "            \n",
    "    return encoded_qubits"
   ]
  },
  {
   "cell_type": "code",
   "execution_count": 6,
   "id": "6590b215-889a-4d5a-a79f-f53bb6b0dceb",
   "metadata": {},
   "outputs": [],
   "source": [
    "def measure(qubits, bases):\n",
    "    \"\"\"This function measures each qubit in the corresponding basis chosen for it.\n",
    "        - qubits : a series of 1-qubit Quantum Circuit\n",
    "        - bases : a string of random [X, Z] bases\"\"\"\n",
    "\n",
    "    # bits = np.zeros(len(bases), dtype = int)    # The results of measurements\n",
    "    bits = \"\"\n",
    "        \n",
    "    for idx, (qubit, basis) in enumerate(zip(qubits, bases)):\n",
    "\n",
    "        if basis == \"X\" :\n",
    "            qubit.h(0)\n",
    "            \n",
    "        qubit.measure(0, 0)\n",
    "        \n",
    "        # Execute on Simulator\n",
    "        simulator = Aer.get_backend('qasm_simulator')\n",
    "        transpiled_circuit = transpile(qubit, simulator)\n",
    "        result = simulator.run(transpiled_circuit, shots=1).result()\n",
    "        counts = result.get_counts()\n",
    "        measured_bit = max(counts, key=counts.get)     # Max doesn't matter for simulator since there is only one shot.\n",
    "\n",
    "        bits += str(measured_bit)\n",
    "        # bits[idx] = int(measured_bit)\n",
    "        \n",
    "    return bits"
   ]
  },
  {
   "cell_type": "code",
   "execution_count": 7,
   "id": "7109d690-396c-4626-abb7-36ba97cb108d",
   "metadata": {},
   "outputs": [],
   "source": [
    "def array_to_string(array):\n",
    "    result = np.array2string(\n",
    "        array, \n",
    "        separator = \"\", \n",
    "        max_line_width = (len(array)+3))\n",
    "    return result.strip('[').strip(']')\n"
   ]
  },
  {
   "cell_type": "code",
   "execution_count": 8,
   "id": "6eb67797-8670-4611-bdca-717989dc8573",
   "metadata": {},
   "outputs": [],
   "source": [
    "def convert_to_octets(key):\n",
    "\n",
    "    octets = []\n",
    "    num_octets = len(key) // 8\n",
    "\n",
    "    for i in range(num_octets):\n",
    "        start = i * 8\n",
    "        end = start + 8\n",
    "        octet = key[start:end]\n",
    "        octets.append(int(octet, 2))\n",
    "\n",
    "    return bytearray(octets)"
   ]
  },
  {
   "cell_type": "markdown",
   "id": "f860bf4c-c8aa-4c29-b161-1c5f1e1fbd12",
   "metadata": {},
   "source": [
    "# 2. Preparation"
   ]
  },
  {
   "cell_type": "code",
   "execution_count": 9,
   "id": "90cc0441-203c-4f5a-bbe4-2fe5c7d07ad6",
   "metadata": {},
   "outputs": [],
   "source": [
    "### Use the function Order(bits) to get 'order'."
   ]
  },
  {
   "cell_type": "code",
   "execution_count": 10,
   "id": "900fd672-aac4-4bc2-b1c2-1ee86262f87c",
   "metadata": {},
   "outputs": [],
   "source": [
    "%run ./Hamming.ipynb    # For error correction"
   ]
  },
  {
   "cell_type": "code",
   "execution_count": 11,
   "id": "3212885b-d1e3-4480-a3b7-adfd0fb9aa26",
   "metadata": {},
   "outputs": [
    {
     "name": "stdout",
     "output_type": "stream",
     "text": [
      "Unprocessed_key_len = 1022, KEY_LENGTH = 501, DATA_LENGTH = 511, order = 9\n"
     ]
    }
   ],
   "source": [
    "# Data_length = [1024, 512, 256, 128]\n",
    "# parity_bits = np.array([np.log2(Data_length[i]) for i in range(len(Data_len))]) + 1    # [10 + 1, 9 + 1, 8 + 1, 7 + 1]\n",
    "# KEY_LENGTH =  Data_length - parity_bits(Data_length)\n",
    "\n",
    "# eve_presence = True\n",
    "# sl = 1\n",
    "# ch_noise = 2e-4\n",
    "# error_threshold = 0.15\n",
    "# DATA_LENGTH = 2**(11 - sl)\n",
    "# key_size = 511\n",
    "# eve_presence = 0 #'Random'\n",
    "\n",
    "DATA_LENGTH = key_size    # In ./bb84_reservoir.ipynb\n",
    "KEY_LENGTH = int(DATA_LENGTH - np.ceil(np.log2(DATA_LENGTH)).astype(int) - 1)\n",
    "Unprocessed_key_len = 3*DATA_LENGTH\n",
    "\n",
    "# Preparation for encoding\n",
    "random.seed(0)    # Seed the random number generator. This will be used as our \"coin flipper\"\n",
    "\n",
    "# order = np.ceil(np.log2(Unprocessed_key_len)).astype(int)\n",
    "order = int(np.log2(Unprocessed_key_len))\n",
    "dim = int(2**(order/2))\n",
    "print(f\"{Unprocessed_key_len = }, {KEY_LENGTH = }, {DATA_LENGTH = }, {order = }\")"
   ]
  },
  {
   "cell_type": "markdown",
   "id": "e458527d-5345-4abf-bca8-1637adb2d47c",
   "metadata": {},
   "source": [
    "## 2.1 Alice"
   ]
  },
  {
   "cell_type": "code",
   "execution_count": 12,
   "id": "05062379-451d-44e6-8d57-5825490fae81",
   "metadata": {},
   "outputs": [
    {
     "name": "stdout",
     "output_type": "stream",
     "text": [
      " Alice uncorrected key size (= 1022) not an exponent of 2 : 11011111100100101001101110111000101101000001001101101011011010000110000001100111110101100010010110000000000101000000100010100011100100101110000011010011111100101010011110111000100011101100101011001111010000111000000001100110011010100100001110111100110001111010010011101010010011111001111010110110010000001001111010101010100010011100000011100101111110001110010111000000010110011100010111100001110111111000011001101001101110010000101011001101011000111011000110000110011001001001110111010010110001000000011000010111000111111000101000100011100010001110111001101101110111000100110110011011010101100101011010110010011110111000011100001110001111110000111011110111101101000111000101000110010011110111010100011111100100100001000101111011111011000010100010101010011111000100100111111100100111011110000001010110001001111010111110000010010100110101000110111000110010000010000110100111100011101010111000101101101010010100000010011001101101110111001100000100000001010011100101101010111110111010110111001011011100101001000111111110000101\n"
     ]
    }
   ],
   "source": [
    "# Generating a random string of bits\n",
    "# If KEY_RESERVOIR(ALICE, BOB) exists, then alice_bits = KEY_RESERVOIR[:KEY_LENGTH]. Break the iteration here.\n",
    "\n",
    "alice_bits = generate_random_bits(Unprocessed_key_len)\n",
    "alice_bases = generate_random_bases(Unprocessed_key_len) # Alice randomly chooses a basis for each bit.\n",
    "\n",
    "print(f\" Alice uncorrected {block(alice_bits, order)}\")"
   ]
  },
  {
   "cell_type": "markdown",
   "id": "0b4d3a78-46dd-4755-9b63-69fbbb080f9d",
   "metadata": {},
   "source": [
    "### 2.1.1 Quantum Encoding : \n",
    "**Encode the states into quantum circuits**"
   ]
  },
  {
   "cell_type": "code",
   "execution_count": 14,
   "id": "6191c812-1cc3-44a9-bbac-0aabc903c9af",
   "metadata": {},
   "outputs": [],
   "source": [
    "# Encode Alice's bits\n",
    "encoded_qubits = encode(alice_bits, alice_bases)"
   ]
  },
  {
   "cell_type": "markdown",
   "id": "70ebefff-c767-4f2d-8208-96d6328ebc19",
   "metadata": {},
   "source": [
    "# 3. Quantum Signal Channel\n",
    "This part can also be simulated by brute forcing 1-2 bit error at random."
   ]
  },
  {
   "cell_type": "markdown",
   "id": "9ce050e4-694d-422c-bf4c-79e728730d5d",
   "metadata": {},
   "source": [
    "## 3.1 Eve\n",
    "0 : Not present,    1 : present"
   ]
  },
  {
   "cell_type": "code",
   "execution_count": 15,
   "id": "57d37659-0312-46e5-9f11-1306df221890",
   "metadata": {},
   "outputs": [
    {
     "name": "stdout",
     "output_type": "stream",
     "text": [
      "Alice\n"
     ]
    }
   ],
   "source": [
    "if eve_presence == 'Random': eve = random.randint(0, 1)\n",
    "else: eve = int(eve_presence)\n",
    "    \n",
    "label = 'Eve' if eve else 'Alice'\n",
    "print(label)"
   ]
  },
  {
   "cell_type": "code",
   "execution_count": 16,
   "id": "079f3c49-dea5-4f64-8899-5bc357daface",
   "metadata": {},
   "outputs": [],
   "source": [
    "qubits_received = [QuantumCircuit(1, 1) for _ in range(len(encoded_qubits))]    # Initializing the circuit\n",
    "errors_recorded = np.array([0, 0])    # Will keep track of the errors INJECTED deliberately by the algorithm\n",
    "\n",
    "if eve : \n",
    "    #print(\"Eve Present!\")\n",
    "    qubits_intercepted = [QuantumCircuit(1, 1) for _ in range(len(encoded_qubits))]\n",
    "    \n",
    "    errors_recorded = NoisyChannel(encoded_qubits, qubits_intercepted, 'Alice', errors_recorded, noise = ch_noise) ##Eve intercepts noisy states     \n",
    "\n",
    "    eve_bases = generate_random_bases(Unprocessed_key_len) # Generate a random set of bases\n",
    "    eve_bits = measure(qubits_intercepted, eve_bases) # Measure the qubits\n",
    "    \n",
    "    # Eve encodes her decoy qubits and sends them along the quantum channel    \n",
    "    encoded_intercepted_qubits = encode(eve_bits, eve_bases)    \n",
    "    errors_recorded = NoisyChannel(encoded_intercepted_qubits, qubits_received, 'Eve', errors_recorded, noise = ch_noise) ## Eve sends noisy states to Bob\n",
    "\n",
    "else : \n",
    "    errors_recorded = NoisyChannel(encoded_qubits, qubits_received, 'Alice', errors_recorded, noise = ch_noise) ## Alice sends noisy states to Bob\n"
   ]
  },
  {
   "cell_type": "markdown",
   "id": "ea66379c-42e3-40b4-8a0b-9787fa02fec1",
   "metadata": {},
   "source": [
    "## 3.2 Bob"
   ]
  },
  {
   "cell_type": "code",
   "execution_count": 18,
   "id": "e2c61c5e-f541-4734-a71e-98ae33a70dbc",
   "metadata": {},
   "outputs": [
    {
     "name": "stdout",
     "output_type": "stream",
     "text": [
      " 1. Type of measured bits : <class 'str'>\n",
      " 2. Type of measured bits : <class 'str'>\n",
      "measured bits = '01001101010110101101011010001100101001011011001111100010011000100111000111100101100111100010011110011000000001000001001010101010100110101111000110110010011000111010011100111000100110101001001011010110011000011010100001110110011110100010100010000100011101110011110011001011010001111101111000010001010100101000111010111010010011110000010011000101110100010011110110010000010010011010010111000100100111001000001001101001101010010100100011110110011000110011100011101111011010001011110111010000110101000000011011111111100111110000011000010010100000001110101001101101000101010101110110100111100101100101001010101110000110011001011100101110011001101000111010110101111100100111100101011100001011010100010100111111001110010101100101101111011011000011100110100110011110100000101101100100100001011010100000000010001011111000110010101010011101010101100111111001100110100010000100001111000001001011100100101111101011010001000010001001100101110110000100100100100011000111100100111010111010111010110111011010011000001101100111011110000101'\n",
      " type(bob_bits[0]) = <class 'str'>,  type(alice_bits[0]) = <class 'str'>\n",
      "\n",
      "Alice sent key size (= 1022) not an exponent of 2 : 11011111100100101001101110111000101101000001001101101011011010000110000001100111110101100010010110000000000101000000100010100011100100101110000011010011111100101010011110111000100011101100101011001111010000111000000001100110011010100100001110111100110001111010010011101010010011111001111010110110010000001001111010101010100010011100000011100101111110001110010111000000010110011100010111100001110111111000011001101001101110010000101011001101011000111011000110000110011001001001110111010010110001000000011000010111000111111000101000100011100010001110111001101101110111000100110110011011010101100101011010110010011110111000011100001110001111110000111011110111101101000111000101000110010011110111010100011111100100100001000101111011111011000010100010101010011111000100100111111100100111011110000001010110001001111010111110000010010100110101000110111000110010000010000110100111100011101010111000101101101010010100000010011001101101110111001100000100000001010011100101101010111110111010110111001011011100101001000111111110000101 \n",
      "\n",
      "Bob measured key size (= 1022) not an exponent of 2 : 01001101010110101101011010001100101001011011001111100010011000100111000111100101100111100010011110011000000001000001001010101010100110101111000110110010011000111010011100111000100110101001001011010110011000011010100001110110011110100010100010000100011101110011110011001011010001111101111000010001010100101000111010111010010011110000010011000101110100010011110110010000010010011010010111000100100111001000001001101001101010010100100011110110011000110011100011101111011010001011110111010000110101000000011011111111100111110000011000010010100000001110101001101101000101010101110110100111100101100101001010101110000110011001011100101110011001101000111010110101111100100111100101011100001011010100010100111111001110010101100101101111011011000011100110100110011110100000101101100100100001011010100000000010001011111000110010101010011101010101100111111001100110100010000100001111000001001011100100101111101011010001000010001001100101110110000100100100100011000111100100111010111010111010110111011010011000001101100111011110000101\n"
     ]
    }
   ],
   "source": [
    "bob_bases = generate_random_bases(Unprocessed_key_len) # Bob randomly chooses a basis for each bit.\n",
    "\n",
    "# Measurement\n",
    "bob_bits = measure(qubits_received, bob_bases)\n",
    "\n",
    "# print(f\" {type(bob_bits[0]) = },  {type(alice_bits[0]) = }\")"
   ]
  },
  {
   "cell_type": "raw",
   "id": "edf15756-523e-428a-9da7-8b213524cb2a",
   "metadata": {},
   "source": [
    "print(f\"\\n\\nBob measured {block(bob_bits, order)}\")"
   ]
  },
  {
   "cell_type": "markdown",
   "id": "86398d75-42df-4a7f-8520-cef6ec6ff120",
   "metadata": {},
   "source": [
    "# 4. Public Interaction Channel\n",
    "\n",
    "* On completion of this step, the length of bits will cut down to half of the original size.\n",
    "* Alice can share a string suggesting in which order to use the received bits through QSC. \n",
    "* Alice can announce the PARITY_DICT (after sifting)"
   ]
  },
  {
   "cell_type": "markdown",
   "id": "593a2514-9356-4d47-aa5e-f9d99840bfa4",
   "metadata": {},
   "source": [
    "## 4.1 Sifting"
   ]
  },
  {
   "cell_type": "code",
   "execution_count": null,
   "id": "6ed168e9-3e94-41ed-b0d9-06b02c48201b",
   "metadata": {},
   "outputs": [],
   "source": [
    "BROADCAST = alice_bases    # Alice tells Bob which bases she used. BROADCAST uses classical channel\n",
    "\n",
    "# Store the indices of the bases they share in common\n",
    "common_bases = [i for i in range(Unprocessed_key_len) if bob_bases[i] == BROADCAST[i]]\n",
    "bob_bits = [bob_bits[index] for index in common_bases]\n",
    "bob_bits = ''.join(bob_bits)\n",
    "\n",
    "print(f\"\\nAlice sent {block(alice_bits, order)} \\n\\nBob measured {block(bob_bits, order)}\")\n",
    "\n",
    "BROADCAST = common_bases    # Bob tells Alice which bases they shared in common\n",
    "\n",
    "alice_bits = [alice_bits[index] for index in BROADCAST]    # Alice keeps only the bits they shared in common\n",
    "alice_bits = ''.join(alice_bits)"
   ]
  },
  {
   "cell_type": "markdown",
   "id": "3f8bdeb9-dbf9-4726-998b-9ce93961bc0a",
   "metadata": {},
   "source": [
    "## 4.2 Reconciliation \n",
    "(Comparision -- Spotting)\n",
    "**Key size now reduced to half the original size**"
   ]
  },
  {
   "cell_type": "code",
   "execution_count": 33,
   "id": "56faaa1b-0477-41b5-a70f-030ba43bcba9",
   "metadata": {},
   "outputs": [],
   "source": [
    "# # What if Eve had listened to the previous round of key share and not this one? The remaining block would then be of mixed errors.\n",
    "# # Therefore, if Eve is suspected, delete the entire lot of keys\n",
    "\n",
    "# KEY_RESERVOIR_ALICE = np.concatenate(alice_bits[KEY_LENGTH])\n",
    "# KEY_RESERVOIR_BOB = np.concatenate(bob_bits[KEY_LENGTH])\n",
    "\n",
    "# alice_bits = KEY_RESERVOIR_ALICE[:KEY_LENGTH]\n",
    "# bob_bits = KEY_RESERVOIR_BOB[:KEY_LENGTH]\n",
    "\n",
    "# KEY_RESERVOIR_ALICE = KEY_RESERVOIR_ALICE[KEY_LENGTH:]\n",
    "# KEY_RESERVOIR_BOB = KEY_RESERVOIR_BOB[KEY_LENGTH:]"
   ]
  },
  {
   "cell_type": "code",
   "execution_count": 34,
   "id": "cbc061ef-d8b2-42fb-8b34-52aa60e43d9b",
   "metadata": {},
   "outputs": [
    {
     "name": "stdout",
     "output_type": "stream",
     "text": [
      "521\n"
     ]
    }
   ],
   "source": [
    "print(len(alice_bits))"
   ]
  },
  {
   "cell_type": "code",
   "execution_count": 35,
   "id": "1f10f8d6-98df-4f93-a53c-bbfbcf5bed4b",
   "metadata": {},
   "outputs": [],
   "source": [
    "sample = len(alice_bits)//3    # len(alice_bits) >= 3\n",
    "errors_detected = 0\n",
    "\n",
    "for _ in range(sample):\n",
    "    bit_index = random.randrange(len(alice_bits)) \n",
    "    \n",
    "    if alice_bits[bit_index] != bob_bits[bit_index]:  errors_detected += 1    #calculating errors\n",
    "        \n",
    "    alice_bits = alice_bits[:bit_index] + alice_bits[bit_index+1 :] #removing tested bits from key strings\n",
    "    bob_bits = bob_bits[:bit_index] + bob_bits[bit_index+1 :]\n",
    "\n",
    "# order = np.ceil(np.log2(len(alice_bits))).astype(int)\n",
    "order = Order(alice_bits)"
   ]
  },
  {
   "cell_type": "markdown",
   "id": "1a391b2a-c58b-4ebb-902e-205e09a77860",
   "metadata": {},
   "source": [
    "## 4.3 QBER"
   ]
  },
  {
   "cell_type": "code",
   "execution_count": 37,
   "id": "47ba7bb8-ec61-4175-8958-930d83a6555d",
   "metadata": {},
   "outputs": [],
   "source": [
    "# if errors_detected < 2:\n",
    "#     hamming()\n",
    "\n",
    "# else : cascade"
   ]
  },
  {
   "cell_type": "code",
   "execution_count": 38,
   "id": "f80dca6e-c5a0-4458-bac6-e213a1afd67f",
   "metadata": {},
   "outputs": [
    {
     "name": "stdout",
     "output_type": "stream",
     "text": [
      " Errors inflicted[bit, phase] : [1 0], Errors detected(total) : 0, sample = 173\n"
     ]
    }
   ],
   "source": [
    "print(f' Errors inflicted[bit, phase] : {errors_recorded}, Errors detected(total) : {errors_detected}, {sample = }')"
   ]
  },
  {
   "cell_type": "code",
   "execution_count": 15,
   "id": "b80dac05-e973-4218-a620-aea3a8b61b28",
   "metadata": {},
   "outputs": [
    {
     "ename": "NameError",
     "evalue": "name 'errors_detected' is not defined",
     "output_type": "error",
     "traceback": [
      "\u001b[1;31m---------------------------------------------------------------------------\u001b[0m",
      "\u001b[1;31mNameError\u001b[0m                                 Traceback (most recent call last)",
      "Cell \u001b[1;32mIn[15], line 3\u001b[0m\n\u001b[0;32m      1\u001b[0m \u001b[38;5;66;03m### QBER should be ~ 0.5 (instead of ~0.25) in presence of Eve, because the sample size is 1/3 of the bits AFTER sifting.\u001b[39;00m\n\u001b[1;32m----> 3\u001b[0m QBER \u001b[38;5;241m=\u001b[39m \u001b[38;5;28mround\u001b[39m(\u001b[43merrors_detected\u001b[49m\u001b[38;5;241m/\u001b[39msample, \u001b[38;5;241m5\u001b[39m) \u001b[38;5;66;03m# calculating QBER and saving the answer to two decimal places\u001b[39;00m\n\u001b[0;32m      4\u001b[0m \u001b[38;5;28mprint\u001b[39m(\u001b[38;5;124mf\u001b[39m\u001b[38;5;124m\"\u001b[39m\u001b[38;5;132;01m{\u001b[39;00mQBER\u001b[38;5;250m \u001b[39m\u001b[38;5;132;01m= }\u001b[39;00m\u001b[38;5;124m\"\u001b[39m)\n\u001b[0;32m      6\u001b[0m flag \u001b[38;5;241m=\u001b[39m \u001b[38;5;241m0\u001b[39m\n",
      "\u001b[1;31mNameError\u001b[0m: name 'errors_detected' is not defined"
     ]
    }
   ],
   "source": [
    "### QBER should be ~ 0.5 (instead of ~0.25) in presence of Eve, because the sample size is 1/3 of the bits AFTER sifting.\n",
    "\n",
    "QBER = round(errors_detected/sample, 5) # calculating QBER and saving the answer to two decimal places\n",
    "print(f\"{QBER = }\")\n",
    "\n",
    "flag = 0\n",
    "\n",
    "print(f\"\\n Error Threshold : {error_threshold}\")\n",
    "\n",
    "if QBER > error_threshold:\n",
    "    num_keys += 1\n",
    "    key = ''\n",
    "    I -= 1\n",
    "    raise RuntimeError('\\n Eve{} detected'.format('' if eve else ' Falsely'))\n",
    "    # print(\"\"\" Key not secure. Aborting protocol...\n",
    "    # \\r NO NEED FOR PROCEEDING TO ERROR CORRECTION \\n\\n\\n\\n\"\"\".format('' if eve else ' Falsely'))\n",
    "    # elif eve and eve_presence : input(\" Stuck in infinite loop \")\n",
    "\n",
    "else :\n",
    "    print(\" Key is secure\")\n",
    "    flag = 1\n",
    "    if eve : print(' Eve went unnoticed : ', end = \" \")\n",
    "    else : print(' Eve not present : ', end = \" \")\n",
    "\n",
    "    # if not flag : print(f\" \\n NO NEED FOR PROCEEDING TO ERROR CORRECTION \\n\\n\\n\\n\")\n",
    "\n",
    "    # KEY_RESERVOIR = np.concatenate(KEY_RESERVOIR, alice_bits[KEY_LENGTH:]\n"
   ]
  },
  {
   "cell_type": "markdown",
   "id": "b32420ef-7e42-46ce-a789-9744f7ea3af4",
   "metadata": {},
   "source": [
    "# 5. Error Correction\n",
    "\n",
    "**If the QBER is below a certain threshold, proceed to error correction, else ABORT**"
   ]
  },
  {
   "cell_type": "markdown",
   "id": "2a2389d5-6490-40c4-a5a4-51e89e306ffe",
   "metadata": {},
   "source": [
    "### 5.0 Creating some dummy data for Alice"
   ]
  },
  {
   "cell_type": "raw",
   "id": "db1ae233-74df-41df-880f-e14e438d7a4a",
   "metadata": {},
   "source": [
    "order = 6\n",
    "alice_bits = np.array([random.randint(0, 1) for _ in range(2**order)])    # Randomly fills the array with 0/1\n",
    "\n",
    "dim = int(2**(order/2))\n",
    "print(f\" Alice uncorrected {block(alice_bits, order)}\")"
   ]
  },
  {
   "cell_type": "markdown",
   "id": "4c3b9113-9e8b-402f-b63a-a59e7e42fdf2",
   "metadata": {},
   "source": [
    "## 5.1 Encoding parity bits in Alice's key\n",
    "\n",
    "**alice_bits vs alice_block** : alice_bits contains the secure key (of length : key_len), whereas alice_block contains the redundant fillers(if any) alongwith the parity embedding"
   ]
  },
  {
   "cell_type": "code",
   "execution_count": 42,
   "id": "4dd109ba-93b6-400e-93a6-a06dcd34f12b",
   "metadata": {},
   "outputs": [
    {
     "name": "stdout",
     "output_type": "stream",
     "text": [
      "loc = 319\n",
      "\n",
      " Hamming :  2 errors found\n",
      " err_count = 2, loc = 319, binary_rep = '100111111'\n",
      "\n",
      " Hamming Results :  (2, 319, '100111111')\n",
      " Uncorrected bit string(Order is odd, can't project to a block) : \n",
      "\n"
     ]
    }
   ],
   "source": [
    "# After Sifting\n",
    "PARITY_DICT, _ = parity(order)   # Returns empty PARITY_DICT, bin_rep\n",
    "\n",
    "alice_block = create_parity_block(alice_bits, order, PARITY_DICT)    # Encodes parity on the block"
   ]
  },
  {
   "cell_type": "code",
   "execution_count": 43,
   "id": "0064bf8a-7550-4eab-8a16-d5e29a99e0e0",
   "metadata": {},
   "outputs": [],
   "source": [
    "BROADCAST = PARITY_DICT"
   ]
  },
  {
   "cell_type": "code",
   "execution_count": 44,
   "id": "7f954292-7545-423f-a6ac-501435f24220",
   "metadata": {},
   "outputs": [
    {
     "name": "stdout",
     "output_type": "stream",
     "text": [
      "loc = 0\n",
      "\n",
      " Hamming :  No errors found\n",
      " err_count = 0, loc = 0, binary_rep = '000000000'\n",
      "\n",
      " Hamming Results :  (0, 0, '000000000')\n",
      " Uncorrected bit string(Order is odd, can't project to a block) : \n",
      "\n"
     ]
    },
    {
     "data": {
      "text/plain": [
       "512"
      ]
     },
     "execution_count": 44,
     "metadata": {},
     "output_type": "execute_result"
    }
   ],
   "source": [
    "bob_block = create_parity_block(bob_bits, order, BROADCAST)\n",
    "### Both blocks have been created, now the hamming protocol can be applied"
   ]
  },
  {
   "cell_type": "code",
   "execution_count": 45,
   "id": "66b8e699-dd99-4f92-a8f0-961c43ff4724",
   "metadata": {},
   "outputs": [
    {
     "name": "stdout",
     "output_type": "stream",
     "text": [
      "loc = 0\n",
      "\n",
      " Hamming :  No errors found\n",
      " err_count = 0, loc = 0, binary_rep = '000000000'\n",
      "512 [1 1 1 0 1 1 1 0 1 1 0 1 1 0 0 1 1 0 0 1 1 0 1 1 0 0 1 0 1 1 1 1 1 0 0 1 0\n",
      " 1 1 0 0 0 0 0 0 1 0 0 1 0 0 1 0 0 1 1 1 0 1 1 0 1 1 1 0 1 0 1 1 1 1 1 0 0\n",
      " 0 1 1 1 1 1 1 1 1 0 1 1 0 1 1 1 1 1 0 0 0 0 0 0 1 1 1 0 1 0 0 0 1 1 1 1 1\n",
      " 1 0 0 0 1 1 1 1 0 1 0 0 1 0 1 1 1 0 0 0 0 0 0 1 1 0 0 0 1 1 0 0 1 1 0 1 0\n",
      " 0 0 0 0 1 1 0 1 1 1 0 0 0 0 0 0 1 1 0 1 1 0 0 1 1 1 0 0 1 0 0 0 0 0 1 0 1\n",
      " 1 0 0 1 1 0 0 1 0 1 0 1 1 0 1 0 0 1 0 0 1 1 1 0 0 1 0 1 0 0 1 1 1 1 1 0 0\n",
      " 1 1 0 1 1 1 1 0 0 1 0 1 0 1 1 0 1 0 0 1 1 1 1 0 1 0 0 1 0 1 1 1 0 1 1 1 0\n",
      " 0 0 0 1 0 1 1 1 0 1 1 1 0 0 0 0 1 0 0 0 0 0 0 0 1 0 1 1 0 0 0 1 1 1 0 0 0\n",
      " 1 1 1 1 0 1 0 1 1 0 0 1 1 0 0 1 0 0 0 0 1 1 0 1 1 1 0 1 1 0 0 0 1 0 1 1 1\n",
      " 0 0 1 1 1 1 1 1 1 1 0 1 1 0 0 1 0 1 1 1 0 0 0 0 1 0 0 0 0 0 0 0 0 0 0 0 0\n",
      " 0 0 0 0 0 0 0 0 0 0 0 0 0 0 0 0 0 0 0 0 0 0 0 0 0 0 0 0 0 0 0 0 0 0 0 0 0\n",
      " 0 0 0 0 0 0 0 0 0 0 0 0 0 0 0 0 0 0 0 0 0 0 0 0 0 0 0 0 0 0 0 0 0 0 0 0 0\n",
      " 0 0 0 0 0 0 0 0 0 0 0 0 0 0 0 0 0 0 0 0 0 0 0 0 0 0 0 0 0 0 0 0 0 0 0 0 0\n",
      " 0 0 0 0 0 0 0 0 0 0 0 0 0 0 0 0 0 0 0 0 0 0 0 0 0 0 0 0 0 0 0]\n"
     ]
    }
   ],
   "source": [
    "err_count, loc, binary_rep = hamming(bob_block, order)"
   ]
  },
  {
   "cell_type": "markdown",
   "id": "9c338763-9fa7-410f-87c6-c3c70d124528",
   "metadata": {},
   "source": [
    "# Bob"
   ]
  },
  {
   "cell_type": "code",
   "execution_count": 47,
   "id": "a03c01f8-9d07-4474-9369-9f885062ac0b",
   "metadata": {},
   "outputs": [
    {
     "name": "stdout",
     "output_type": "stream",
     "text": [
      "Error counts : 0 loc : 0 (000000000)\n",
      "\n",
      "Alice bit string(Order is odd, can't project to a block) : \n",
      " \n",
      "\n",
      "Bob bit string(Order is odd, can't project to a block) : \n",
      "\n",
      "\n",
      " Bob bits and alice bits are same\n"
     ]
    },
    {
     "data": {
      "text/plain": [
       "(array([1, 1, 1, 0, 1, 1, 1, 0, 1, 1, 0, 1, 1, 0, 0, 1, 1, 0, 0, 1, 1, 0,\n",
       "        1, 1, 0, 0, 1, 0, 1, 1, 1, 1, 1, 0, 0, 1, 0, 1, 1, 0, 0, 0, 0, 0,\n",
       "        0, 1, 0, 0, 1, 0, 0, 1, 0, 0, 1, 1, 1, 0, 1, 1, 0, 1, 1, 1, 0, 1,\n",
       "        0, 1, 1, 1, 1, 1, 0, 0, 0, 1, 1, 1, 1, 1, 1, 1, 1, 0, 1, 1, 0, 1,\n",
       "        1, 1, 1, 1, 0, 0, 0, 0, 0, 0, 1, 1], dtype=uint8),\n",
       " array([0, 0, 0, 0, 0, 1, 1, 0, 0, 1, 0, 1, 1, 0, 0, 1, 0, 0, 0, 1, 1, 0,\n",
       "        1, 1, 0, 0, 1, 0, 1, 1, 1, 1, 0, 0, 0, 1, 0, 1, 1, 0, 0, 0, 0, 0,\n",
       "        0, 1, 0, 0, 1, 0, 0, 1, 0, 0, 1, 1, 1, 0, 1, 1, 0, 1, 1, 1, 0, 1,\n",
       "        0, 1, 1, 1, 1, 1, 0, 0, 0, 1, 1, 1, 1, 1, 1, 1, 1, 0, 1, 1, 0, 1,\n",
       "        1, 1, 1, 1, 0, 0, 0, 0, 0, 0, 1, 1], dtype=uint8))"
      ]
     },
     "execution_count": 47,
     "metadata": {},
     "output_type": "execute_result"
    }
   ],
   "source": [
    "print(f\"Error counts : {err_count} loc : {loc} ({binary_rep})\")\n",
    "total_errors_recorded = errors_recorded[0] + errors_recorded[1]\n",
    "\n",
    "if err_count != 0 :\n",
    "    try : \n",
    "        if err_count == 1: bob_bits[loc] = np.mod(bob_bits[loc] + 1, 2)\n",
    "\n",
    "    except :\n",
    "        raise KeyError('Location Invalid')\n",
    "\n",
    "print(f\"\\nAlice { block(alice_block, order) } \\n\\nBob { block(bob_block, order) }\")\n",
    "\n",
    "if all(bob_block) == all(alice_block) : \n",
    "    print(f\"\\n Bob bits and alice bits are same\")"
   ]
  },
  {
   "cell_type": "markdown",
   "id": "357a0889-534b-49c3-a9c1-97cf7f8567f8",
   "metadata": {},
   "source": [
    "## Final Key : "
   ]
  },
  {
   "cell_type": "code",
   "execution_count": null,
   "id": "5799a782-4fca-42b2-bd49-272f75543c0c",
   "metadata": {},
   "outputs": [],
   "source": [
    "key = \"\"\n",
    "for bit in alice_bits:    # Or bob_bits, since both should be the same\n",
    "    key += bit\n",
    "\n",
    "print(key)"
   ]
  },
  {
   "cell_type": "markdown",
   "id": "2a7e2a42-d4e3-4774-8f7e-5c9af36f03bf",
   "metadata": {},
   "source": [
    "**Generate alphanumeric keys from the sequences of 0's and 1's**\n",
    "\n",
    "If you need keys that are made of letters (e.g. for tokens or other regular use), you should group the key into octets,  \n",
    "create a bytearray of octets and then encode each octet according to ASCII.\n",
    "\n",
    "Please note that this shortens they key and to work properly quite a key of at least 8 bit is needed."
   ]
  },
  {
   "cell_type": "raw",
   "id": "e9d3248e-3bc8-4a22-863f-62971057056a",
   "metadata": {},
   "source": [
    "dec = int(key, 2)\n",
    "hexadecimal = hex(dec)\n",
    "dec, hexadecimal[2:]"
   ]
  },
  {
   "cell_type": "raw",
   "id": "919285a5-98df-4c6c-b0cd-81fcc47f5ea0",
   "metadata": {},
   "source": [
    "ASCII_key = base64.b64encode(convert_to_octets(key)).decode('ascii')\n",
    "print(ASCII_key)"
   ]
  },
  {
   "cell_type": "raw",
   "id": "b5aa8b17-de5c-4c39-af53-670309775ff7",
   "metadata": {},
   "source": [
    "total_errors_recorded, sample"
   ]
  }
 ],
 "metadata": {
  "kernelspec": {
   "display_name": "Python 3 (ipykernel)",
   "language": "python",
   "name": "python3"
  },
  "language_info": {
   "codemirror_mode": {
    "name": "ipython",
    "version": 3
   },
   "file_extension": ".py",
   "mimetype": "text/x-python",
   "name": "python",
   "nbconvert_exporter": "python",
   "pygments_lexer": "ipython3",
   "version": "3.8.19"
  }
 },
 "nbformat": 4,
 "nbformat_minor": 5
}
