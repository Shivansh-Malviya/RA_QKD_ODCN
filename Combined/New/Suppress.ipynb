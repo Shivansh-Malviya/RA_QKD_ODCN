{
 "cells": [
  {
   "cell_type": "code",
   "execution_count": null,
   "id": "d6c2056e-3f97-4d5a-9e59-f23f36145034",
   "metadata": {},
   "outputs": [],
   "source": [
    "from contextlib import contextmanager\n",
    "import sys, os\n",
    "from tdqm import tdqm, trange"
   ]
  },
  {
   "cell_type": "code",
   "execution_count": null,
   "id": "b3335cde-6ee2-4d85-9627-d3f109340e45",
   "metadata": {},
   "outputs": [],
   "source": [
    "@contextmanager\n",
    "def suppress_stdout():\n",
    "    with open(os.devnull, \"w\") as devnull:\n",
    "        old_stdout = sys.stdout\n",
    "        old_stderr = sys.stderr\n",
    "        try:  \n",
    "            sys.stdout = devnull\n",
    "            sys.stdout = devnull        \n",
    "            yield\n",
    "        finally:\n",
    "            sys.stdout = old_stdout\n",
    "            sys.stderr = old_stderr"
   ]
  },
  {
   "cell_type": "code",
   "execution_count": null,
   "id": "b66f0aff-3e8c-452e-9bd0-8800bac467f9",
   "metadata": {},
   "outputs": [],
   "source": [
    "@contextmanager\n",
    "def suppress_std(target = [\"out\", \"err\"]): \n",
    "    with open(os.devnull, \"w\") as devnull:\n",
    "        \n",
    "        if \"out\" in target: old_stdout = sys.stdout\n",
    "        if \"err\" in target: old_stderr = sys.stderr\n",
    "        \n",
    "        try:  \n",
    "            if \"out\" in target: sys.stdout = devnull\n",
    "            if \"err\" in target: sys.stdout = devnull        \n",
    "            yield\n",
    "            \n",
    "        finally:\n",
    "            if \"out\" in target: sys.stdout = old_stdout\n",
    "            if \"err\" in target: sys.stderr = old_stderr"
   ]
  },
  {
   "cell_type": "raw",
   "id": "82fce09b-a52b-4f42-8f06-59c2cb072abe",
   "metadata": {},
   "source": [
    "print(\"Now you see it\")\n",
    "with suppress_stdout():\n",
    "    print(\"Now you don't\")\n",
    "print(\"Now you see it again\")\n"
   ]
  },
  {
   "cell_type": "code",
   "execution_count": null,
   "id": "2c1e33d5-eaf9-4f32-9453-45dd0b06edab",
   "metadata": {},
   "outputs": [],
   "source": [
    "def track(lim, string = 'Iteration'):\n",
    "    print(f'{string}: ', end = '')\n",
    "    for i in range(1, lim+1):\n",
    "        ''' Any operation(s) requiring a loop '''\n",
    "        # print(f\"\\r Iteration : [{'='*i}>{' '*(100-i)}] {i}/100\", end = '')\n",
    "        print('\\r{}'.format(string), end = '')"
   ]
  }
 ],
 "metadata": {
  "kernelspec": {
   "display_name": "Python 3 (ipykernel)",
   "language": "python",
   "name": "python3"
  },
  "language_info": {
   "codemirror_mode": {
    "name": "ipython",
    "version": 3
   },
   "file_extension": ".py",
   "mimetype": "text/x-python",
   "name": "python",
   "nbconvert_exporter": "python",
   "pygments_lexer": "ipython3",
   "version": "3.8.19"
  }
 },
 "nbformat": 4,
 "nbformat_minor": 5
}
