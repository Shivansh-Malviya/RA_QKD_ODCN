{
 "cells": [
  {
   "cell_type": "markdown",
   "id": "9ad544b9-4fae-4a0b-879c-db64058b8058",
   "metadata": {},
   "source": [
    "# QKRA-ASSL\n",
    "\n",
    "This file performs 1 iteration of RWTA for X values in a range specified in the central file : \n",
    "* Link resources are initialized\n",
    "* CRs are generated\n",
    "* Priority queue is generated\n",
    "* The shortest feasible path of the K-SP is chosen\n",
    "* Resourcess are allocated based on FF approach\n",
    "\n",
    "Performance metrics(NSP, TUR, SRCR) is calculated"
   ]
  },
  {
   "cell_type": "code",
   "execution_count": null,
   "id": "511a1049-9c2c-46ff-bf7e-29f7c617aaca",
   "metadata": {},
   "outputs": [],
   "source": [
    "\n",
    "while j < j_range:    # Loop to have various X values, incrementing by a fixed factor\n",
    "\n",
    "    # Initializes the links structure with weights\n",
    "    (links, indices, ordered_indices) = Links.initialize_links(dir_edges) \n",
    "\n",
    "    # Generating X Crs\n",
    "    CRs = CR.generate_crs(X) \n",
    "    \n",
    "    # Creating the priority Queue\n",
    "    PQ_all = CR.create_priority_queue('all')\n",
    "\n",
    "    ########################################################################\n",
    "\n",
    "    for i in [1, 2, 3]: \n",
    "        \n",
    "        for cr in PQ_all[i]:                                # Allocating Resources on priority basis  \n",
    "            \n",
    "            k_sp = cr.k_sp(g, k)                            # Taking k = 3. Gives us [path][weight]\n",
    "            # Finding the path with available resources\n",
    "            for l in range(k):                              # To loop over the next k-sp in case the CR couldn't be allocated to the previous one\n",
    "                \n",
    "                candidate_path = k_sp[l][0]                 # Path with the lowest weight so far becomes the transmission path\n",
    "               \n",
    "                # Attempting to allocate resources\n",
    "                success = Links.FF(candidate_path, cr, aslc)    # Will return True if resources have been allocated, otherwise False\n",
    "                \n",
    "                # Checking if the path was allocated or not\n",
    "                if success:\n",
    "                    break  \n",
    "            ##\n",
    "        ##\n",
    "    ##\n",
    "    print(f\"\\nAll CRs for X = {X} dealt with :\")\n",
    "\n",
    "    srcr[z, j] = CR.SRCR(CRs)\n",
    "    nsp[z, j] = CR.NSP(CRs)\n",
    "    tur[z, j] = Links.TUR()\n",
    "\n",
    "    j += 1\n",
    "    X += factor    # Incrementing X by a factor\n",
    "##"
   ]
  }
 ],
 "metadata": {
  "kernelspec": {
   "display_name": "Python 3 (ipykernel)",
   "language": "python",
   "name": "python3"
  },
  "language_info": {
   "codemirror_mode": {
    "name": "ipython",
    "version": 3
   },
   "file_extension": ".py",
   "mimetype": "text/x-python",
   "name": "python",
   "nbconvert_exporter": "python",
   "pygments_lexer": "ipython3",
   "version": "3.12.4"
  }
 },
 "nbformat": 4,
 "nbformat_minor": 5
}
