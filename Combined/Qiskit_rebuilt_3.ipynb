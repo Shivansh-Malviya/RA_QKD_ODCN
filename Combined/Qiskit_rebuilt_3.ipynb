{
 "cells": [
  {
   "cell_type": "code",
   "execution_count": 1,
   "id": "0b7c8b64-3bd0-4e82-b294-34a4d5eefd19",
   "metadata": {},
   "outputs": [],
   "source": [
    "# Importing Qiskit\n",
    "from qiskit import *\n",
    "from qiskit.qasm2 import dumps\n",
    "from qiskit_aer import Aer\n",
    "\n",
    "import numpy as np\n",
    "import random\n",
    "from random import randrange"
   ]
  },
  {
   "cell_type": "code",
   "execution_count": 2,
   "id": "2bc9f142-08d8-44fb-9dc5-944b5de67a87",
   "metadata": {},
   "outputs": [],
   "source": [
    "def NoisyChannel(qc1, qc2, qc1_name, noise = 0.05):\n",
    "    ''' This function takes the output of a circuit qc1 (made up only of x and \n",
    "        h gates), simulates a noisy quantum channel where Pauli errors (X - bit flip; Z - phase flip)\n",
    "        will occur in qc2, and then initializes another circuit qc2 with the introduced noise.\n",
    "    ''' \n",
    "    \n",
    "    # Retrieve quantum state from qasm code of qc1\n",
    "    qs = [dumps(qc1[i]).split('\\n') for i in range(len(qc1))]\n",
    "    \n",
    "    # Process the code to get the instructions\n",
    "    parsed_instructions = []\n",
    "    for i, qasm_code in enumerate(qs):\n",
    "        for line in qasm_code:\n",
    "            line = line.strip()    # removing leading/trailing whitespace\n",
    "            if line.startswith(('x', 'h', 'measure')):\n",
    "                line = line.replace('0', str(i))\n",
    "                parsed_instructions.append(line)\n",
    "    \n",
    "    # Apply parsed instructions to qc2\n",
    "    for instruction in parsed_instructions:\n",
    "        if instruction.startswith('x'):\n",
    "            old_qr = int(instruction.split()[1][2:-2])\n",
    "            qc2[old_qr].x(0)\n",
    "            \n",
    "        elif instruction.startswith('h'):\n",
    "            old_qr = int(instruction.split()[1][2:-2])\n",
    "            qc2[old_qr].h(0)\n",
    "        \n",
    "        elif instruction.startswith('measure'):\n",
    "            continue    # exclude measuring\n",
    "            \n",
    "        else:\n",
    "            print(f\"Unable to parse instruction: {instruction}\")\n",
    "            raise Exception('Unable to parse instruction')\n",
    "    \n",
    "    # Introducing noise (taking input)\n",
    "    for instruction in parsed_instructions:\n",
    "        if random.random() < noise:\n",
    "            old_qr = int(instruction.split()[1][2:-2])\n",
    "            qc2[old_qr].x(0)     # Apply bit-flip error\n",
    "            \n",
    "        if random.random() < noise:\n",
    "            old_qr = int(instruction.split()[1][2:-2])\n",
    "            qc2[old_qr].z(0)     # Apply phase-flip error"
   ]
  },
  {
   "cell_type": "code",
   "execution_count": 3,
   "id": "a8a01e74-3c7b-4621-956e-776d713e59e9",
   "metadata": {},
   "outputs": [],
   "source": [
    "def generate_random_bits(num):\n",
    "    \"\"\"This function generates a random bit-string of size = num\"\"\"\n",
    "    # bits = np.array([random.randint(0, 1) for _ in range(num)])    # Randomly fills the array with 0/1\n",
    "    \n",
    "    bit_string = \"\"\n",
    "    for _ in range(num):\n",
    "        rand_bit = random.randint(0, 1)     # Flip Coin\n",
    "        bit_string += str(rand_bit)\n",
    "        \n",
    "    return bit_string\n",
    "    # return bits"
   ]
  },
  {
   "cell_type": "code",
   "execution_count": 4,
   "id": "2e2bba7e-e4ed-4ab2-9874-d4f7218af99c",
   "metadata": {},
   "outputs": [],
   "source": [
    "def generate_random_bases(num_of_bases):\n",
    "    \"\"\"This function selects a random basis for each bit\"\"\"\n",
    "    \n",
    "    bases_string = \"\"\n",
    "    for _ in range(num_of_bases):\n",
    "        randBasis = random.randint(0, 1)     # Flip Coin\n",
    "\n",
    "        if randBasis == 0:\n",
    "            bases_string += \"Z\" \n",
    "        else:\n",
    "            bases_string += \"X\"\n",
    "            \n",
    "    return bases_string"
   ]
  },
  {
   "cell_type": "code",
   "execution_count": 5,
   "id": "bdb60d2b-dcd3-4a5f-aadc-6c0558bd755d",
   "metadata": {},
   "outputs": [],
   "source": [
    "def encode(bits, bases):\n",
    "    \"\"\"This function encodes each bit into the given basis.\"\"\"\n",
    "    \n",
    "    encoded_qubits = []\n",
    "    \n",
    "    for bit, basis in zip(bits, bases):\n",
    "        qc = QuantumCircuit(1, 1)     # Create a quantum circuit for each qubit\n",
    "        \n",
    "        # Possible Cases\n",
    "        if bit == \"1\" :\n",
    "            qc.x(0)\n",
    "\n",
    "        if basis == 'X' :\n",
    "            qc.h(0)\n",
    "            \n",
    "        encoded_qubits.append(qc)\n",
    "            \n",
    "    return (encoded_qubits)"
   ]
  },
  {
   "cell_type": "code",
   "execution_count": 6,
   "id": "6590b215-889a-4d5a-a79f-f53bb6b0dceb",
   "metadata": {},
   "outputs": [],
   "source": [
    "def measure(qubits, bases):\n",
    "    \"\"\"This function measures each qubit in the corresponding basis chosen for it.\"\"\"\n",
    "\n",
    "    bits = \"\"    # The results of measurements\n",
    "\n",
    "    for qubit, basis in zip(qubits, bases):\n",
    "\n",
    "        if basis == \"X\" :\n",
    "            qubit.h(0)\n",
    "            \n",
    "        qubit.measure(0, 0)\n",
    "        \n",
    "        # Execute on Simulator\n",
    "        simulator = Aer.get_backend('qasm_simulator')\n",
    "        transpiled_circuit = transpile(qubit, simulator)\n",
    "        result = simulator.run(transpiled_circuit, shots=1).result()\n",
    "        counts = result.get_counts()\n",
    "        measured_bit = max(counts, key=counts.get)     # Max doesn't matter for simulator since there is only one shot.\n",
    "\n",
    "        bits += str(measured_bit)\n",
    "        \n",
    "    return bits"
   ]
  },
  {
   "cell_type": "markdown",
   "id": "f860bf4c-c8aa-4c29-b161-1c5f1e1fbd12",
   "metadata": {},
   "source": [
    "# Start"
   ]
  },
  {
   "cell_type": "code",
   "execution_count": 7,
   "id": "3212885b-d1e3-4480-a3b7-adfd0fb9aa26",
   "metadata": {},
   "outputs": [],
   "source": [
    "eve_presence = 0\n",
    "KEY_LENGTH = 500\n",
    "ch_noise = 0.001\n",
    "error_threshold = 0.2\n",
    "\n",
    "# Preparation for encoding\n",
    "random.seed(0)    # Seed the random number generator. This will be used as our \"coin flipper\""
   ]
  },
  {
   "cell_type": "markdown",
   "id": "e458527d-5345-4abf-bca8-1637adb2d47c",
   "metadata": {},
   "source": [
    "## Alice"
   ]
  },
  {
   "cell_type": "code",
   "execution_count": 8,
   "id": "b4785ade-c203-45bc-8484-356b8d63945b",
   "metadata": {},
   "outputs": [
    {
     "data": {
      "text/plain": [
       "'ZXXZZZZXZXXXZZZXXXXXXZZZXZXZZZXZZZXXXZZZXZZZXXXZXXXZZXXZXXZXXXZXXXZZZXZZXXZXXZZXXZXXZXZXZXXZZXZXZXXZ'"
      ]
     },
     "execution_count": 8,
     "metadata": {},
     "output_type": "execute_result"
    }
   ],
   "source": [
    "# Generating a random string of bits\n",
    "alice_bits = generate_random_bits(KEY_LENGTH)\n",
    "alice_bases = generate_random_bases(KEY_LENGTH) # Alice randomly chooses a basis for each bit.\n",
    "alice_bases[:100]"
   ]
  },
  {
   "cell_type": "markdown",
   "id": "0b4d3a78-46dd-4755-9b63-69fbbb080f9d",
   "metadata": {},
   "source": [
    "### Encoding"
   ]
  },
  {
   "cell_type": "code",
   "execution_count": 9,
   "id": "6191c812-1cc3-44a9-bbac-0aabc903c9af",
   "metadata": {},
   "outputs": [],
   "source": [
    "# Encode Alice's bits\n",
    "encoded_qubits = encode(alice_bits, alice_bases)"
   ]
  },
  {
   "cell_type": "markdown",
   "id": "70ebefff-c767-4f2d-8208-96d6328ebc19",
   "metadata": {},
   "source": [
    "# Quantum Signal Channel"
   ]
  },
  {
   "cell_type": "markdown",
   "id": "9ce050e4-694d-422c-bf4c-79e728730d5d",
   "metadata": {},
   "source": [
    "## Eve\n",
    "0 : Not present,    1 : present"
   ]
  },
  {
   "cell_type": "code",
   "execution_count": 10,
   "id": "57d37659-0312-46e5-9f11-1306df221890",
   "metadata": {},
   "outputs": [],
   "source": [
    "if eve_presence == 'Random': eve = random.randint(0, 1)\n",
    "else: eve = int(eve_presence)\n",
    "    \n",
    "label = 'Eve' if eve else 'Alice'"
   ]
  },
  {
   "cell_type": "code",
   "execution_count": 11,
   "id": "079f3c49-dea5-4f64-8899-5bc357daface",
   "metadata": {},
   "outputs": [],
   "source": [
    "qubits_received = [QuantumCircuit(1, 1) for _ in range(len(encoded_qubits))]\n",
    "\n",
    "if eve : \n",
    "    #print(\"Eve Present!\")\n",
    "    qubits_intercepted = [QuantumCircuit(1, 1) for _ in range(len(encoded_qubits))]\n",
    "    \n",
    "    NoisyChannel(encoded_qubits, qubits_intercepted, 'alice', noise = ch_noise) ##Eve intercepts noisy states     \n",
    "\n",
    "    eve_bases = generate_random_bases(KEY_LENGTH) # Generate a random set of bases\n",
    "    eve_bits = measure(qubits_intercepted, eve_bases) # Measure the qubits\n",
    "    \n",
    "    # Eve encodes her decoy qubits and sends them along the quantum channel    \n",
    "    encoded_intercepted_qubits = encode(eve_bits, eve_bases)    \n",
    "    NoisyChannel(encoded_intercepted_qubits, qubits_received, 'Eve', noise = ch_noise) ## Eve sends noisy states to Bob\n",
    "\n",
    "else : \n",
    "    NoisyChannel(encoded_qubits, qubits_received, 'Alice', noise = ch_noise) ## Alice sends noisy states to Bob\n"
   ]
  },
  {
   "cell_type": "markdown",
   "id": "ea66379c-42e3-40b4-8a0b-9787fa02fec1",
   "metadata": {},
   "source": [
    "## Bob"
   ]
  },
  {
   "cell_type": "code",
   "execution_count": 12,
   "id": "e2c61c5e-f541-4734-a71e-98ae33a70dbc",
   "metadata": {},
   "outputs": [
    {
     "name": "stdout",
     "output_type": "stream",
     "text": [
      "ZZXZZZZXXZZZZXZXXXXZXZZZZXXZXZXZZXZXZZZXZZZXXXZZXZXXXXXXZXZZXXXXZXZZZZXXZXXXZXZZZZZZXXXZXZZXZZZXZZXZ\n"
     ]
    }
   ],
   "source": [
    "bob_bases = generate_random_bases(KEY_LENGTH) # Bob randomly chooses a basis for each bit.\n",
    "print(bob_bases[:100])\n",
    "\n",
    "# Measurement\n",
    "bob_bits = measure(qubits_received, bob_bases)"
   ]
  },
  {
   "cell_type": "code",
   "execution_count": 13,
   "id": "59716d4b-f502-4762-acf9-c69b01fd20cb",
   "metadata": {},
   "outputs": [
    {
     "data": {
      "text/plain": [
       "'1001111111110010100110110011000011111101100000110111101011101010011001010110011101011111001000011000'"
      ]
     },
     "execution_count": 13,
     "metadata": {},
     "output_type": "execute_result"
    }
   ],
   "source": [
    "bob_bits[:100]"
   ]
  },
  {
   "cell_type": "markdown",
   "id": "86398d75-42df-4a7f-8520-cef6ec6ff120",
   "metadata": {},
   "source": [
    "# Public Interaction Channel"
   ]
  },
  {
   "cell_type": "code",
   "execution_count": 14,
   "id": "046d6cfe-3c4e-4fdd-aff4-6eabd19135ec",
   "metadata": {},
   "outputs": [],
   "source": [
    "BROADCAST = alice_bases    # Alice tells Bob which bases she used. BROADCAST uses classical channel\n",
    "\n",
    "# Store the indices of the bases they share in common\n",
    "common_bases = [i for i in range(KEY_LENGTH) if BROADCAST[i] == bob_bases[i]]"
   ]
  },
  {
   "cell_type": "code",
   "execution_count": 15,
   "id": "b37354ce-0ce7-4578-a18a-43196396441c",
   "metadata": {},
   "outputs": [
    {
     "name": "stdout",
     "output_type": "stream",
     "text": [
      "0 ('Z', 'Z') ('1', '1')\n",
      "2 ('X', 'X') ('0', '0')\n",
      "3 ('Z', 'Z') ('1', '1')\n",
      "4 ('Z', 'Z') ('1', '1')\n",
      "5 ('Z', 'Z') ('1', '1')\n",
      "6 ('Z', 'Z') ('1', '1')\n",
      "7 ('X', 'X') ('1', '1')\n",
      "12 ('Z', 'Z') ('0', '0')\n",
      "14 ('Z', 'Z') ('1', '1')\n",
      "15 ('X', 'X') ('0', '0')\n",
      "16 ('X', 'X') ('1', '1')\n",
      "17 ('X', 'X') ('0', '0')\n",
      "18 ('X', 'X') ('0', '0')\n",
      "20 ('X', 'X') ('1', '1')\n",
      "21 ('Z', 'Z') ('0', '0')\n",
      "22 ('Z', 'Z') ('1', '1')\n",
      "23 ('Z', 'Z') ('1', '1')\n",
      "26 ('X', 'X') ('1', '1')\n",
      "27 ('Z', 'Z') ('1', '1')\n",
      "29 ('Z', 'Z') ('0', '0')\n",
      "30 ('X', 'X') ('0', '0')\n",
      "31 ('Z', 'Z') ('0', '0')\n",
      "32 ('Z', 'Z') ('1', '1')\n",
      "35 ('X', 'X') ('1', '1')\n",
      "37 ('Z', 'Z') ('1', '1')\n",
      "38 ('Z', 'Z') ('0', '0')\n",
      "41 ('Z', 'Z') ('0', '0')\n",
      "42 ('Z', 'Z') ('0', '0')\n",
      "44 ('X', 'X') ('0', '0')\n",
      "45 ('X', 'X') ('0', '0')\n",
      "47 ('Z', 'Z') ('1', '1')\n",
      "48 ('X', 'X') ('0', '0')\n",
      "50 ('X', 'X') ('1', '1')\n",
      "53 ('X', 'X') ('0', '0')\n",
      "54 ('X', 'X') ('1', '1')\n",
      "57 ('X', 'X') ('1', '1')\n",
      "58 ('Z', 'Z') ('1', '1')\n",
      "60 ('X', 'X') ('1', '1')\n",
      "61 ('X', 'X') ('0', '0')\n",
      "63 ('X', 'X') ('0', '0')\n",
      "65 ('X', 'X') ('1', '1')\n",
      "66 ('Z', 'Z') ('1', '1')\n",
      "67 ('Z', 'Z') ('0', '0')\n",
      "68 ('Z', 'Z') ('0', '0')\n",
      "73 ('X', 'X') ('1', '1')\n",
      "75 ('X', 'X') ('0', '0')\n",
      "78 ('Z', 'Z') ('1', '1')\n",
      "81 ('Z', 'Z') ('1', '1')\n",
      "85 ('X', 'X') ('1', '1')\n",
      "92 ('Z', 'Z') ('0', '0')\n",
      "94 ('Z', 'Z') ('0', '0')\n",
      "95 ('X', 'X') ('1', '1')\n",
      "96 ('Z', 'Z') ('1', '1')\n",
      "98 ('X', 'X') ('0', '0')\n",
      "99 ('Z', 'Z') ('0', '0')\n",
      "100 ('X', 'X') ('0', '0')\n",
      "102 ('X', 'X') ('0', '0')\n",
      "105 ('Z', 'Z') ('0', '0')\n",
      "107 ('Z', 'Z') ('1', '1')\n",
      "108 ('Z', 'Z') ('0', '0')\n",
      "110 ('X', 'X') ('0', '0')\n",
      "111 ('X', 'X') ('0', '0')\n",
      "112 ('X', 'X') ('0', '0')\n",
      "115 ('X', 'X') ('0', '0')\n",
      "117 ('Z', 'Z') ('0', '0')\n",
      "118 ('Z', 'Z') ('0', '0')\n",
      "119 ('Z', 'Z') ('0', '0')\n",
      "124 ('Z', 'Z') ('0', '0')\n",
      "126 ('Z', 'Z') ('1', '1')\n",
      "129 ('X', 'X') ('0', '0')\n",
      "131 ('Z', 'Z') ('1', '1')\n",
      "133 ('Z', 'Z') ('0', '0')\n",
      "134 ('X', 'X') ('1', '1')\n",
      "135 ('X', 'X') ('0', '0')\n",
      "136 ('X', 'X') ('1', '1')\n",
      "137 ('X', 'X') ('1', '1')\n",
      "138 ('X', 'X') ('1', '1')\n",
      "140 ('Z', 'Z') ('0', '0')\n",
      "144 ('X', 'X') ('1', '1')\n",
      "145 ('X', 'X') ('1', '1')\n",
      "146 ('X', 'X') ('0', '0')\n",
      "147 ('Z', 'Z') ('1', '1')\n",
      "150 ('X', 'X') ('1', '1')\n",
      "151 ('X', 'X') ('1', '1')\n",
      "152 ('Z', 'Z') ('1', '1')\n",
      "161 ('X', 'X') ('0', '0')\n",
      "165 ('X', 'X') ('1', '1')\n",
      "166 ('X', 'X') ('1', '1')\n",
      "167 ('X', 'X') ('1', '1')\n",
      "168 ('Z', 'Z') ('1', '1')\n",
      "169 ('Z', 'Z') ('0', '0')\n",
      "171 ('X', 'X') ('1', '1')\n",
      "174 ('Z', 'Z') ('0', '0')\n",
      "175 ('Z', 'Z') ('0', '0')\n",
      "178 ('X', 'X') ('0', '0')\n",
      "180 ('Z', 'Z') ('1', '1')\n",
      "182 ('Z', 'Z') ('1', '1')\n",
      "183 ('Z', 'Z') ('0', '0')\n",
      "184 ('X', 'X') ('1', '1')\n",
      "186 ('X', 'X') ('0', '0')\n",
      "189 ('X', 'X') ('0', '0')\n",
      "190 ('X', 'X') ('1', '1')\n",
      "191 ('X', 'X') ('0', '0')\n",
      "194 ('Z', 'Z') ('0', '0')\n",
      "195 ('X', 'X') ('0', '0')\n",
      "197 ('Z', 'Z') ('1', '1')\n",
      "198 ('Z', 'Z') ('1', '1')\n",
      "199 ('X', 'X') ('1', '1')\n",
      "201 ('X', 'X') ('1', '1')\n",
      "202 ('X', 'X') ('0', '0')\n",
      "203 ('X', 'X') ('0', '0')\n",
      "205 ('Z', 'Z') ('0', '0')\n",
      "210 ('X', 'X') ('0', '0')\n",
      "212 ('Z', 'Z') ('0', '0')\n",
      "220 ('Z', 'Z') ('0', '0')\n",
      "221 ('X', 'X') ('1', '1')\n",
      "223 ('X', 'X') ('0', '0')\n",
      "224 ('X', 'X') ('0', '0')\n",
      "225 ('Z', 'Z') ('1', '1')\n",
      "226 ('X', 'X') ('1', '1')\n",
      "228 ('X', 'X') ('1', '1')\n",
      "236 ('Z', 'Z') ('0', '0')\n",
      "237 ('Z', 'Z') ('0', '0')\n",
      "238 ('X', 'X') ('1', '1')\n",
      "239 ('Z', 'Z') ('1', '1')\n",
      "242 ('Z', 'Z') ('1', '1')\n",
      "244 ('X', 'X') ('1', '1')\n",
      "248 ('X', 'X') ('1', '1')\n",
      "251 ('Z', 'Z') ('0', '0')\n",
      "252 ('Z', 'Z') ('0', '0')\n",
      "255 ('X', 'X') ('1', '1')\n",
      "257 ('X', 'X') ('0', '0')\n",
      "261 ('X', 'X') ('1', '1')\n",
      "263 ('Z', 'Z') ('0', '0')\n",
      "265 ('Z', 'Z') ('1', '1')\n",
      "268 ('X', 'X') ('1', '1')\n",
      "269 ('X', 'X') ('0', '0')\n",
      "270 ('X', 'X') ('1', '1')\n",
      "271 ('X', 'X') ('0', '0')\n",
      "272 ('X', 'X') ('0', '0')\n",
      "273 ('X', 'X') ('1', '1')\n",
      "274 ('Z', 'Z') ('0', '0')\n",
      "275 ('Z', 'Z') ('0', '0')\n",
      "277 ('Z', 'Z') ('1', '1')\n",
      "278 ('Z', 'Z') ('1', '1')\n",
      "279 ('X', 'X') ('1', '1')\n",
      "282 ('Z', 'Z') ('0', '0')\n",
      "285 ('X', 'X') ('1', '1')\n",
      "288 ('Z', 'Z') ('1', '1')\n",
      "289 ('Z', 'Z') ('0', '0')\n",
      "292 ('Z', 'Z') ('0', '0')\n",
      "294 ('Z', 'Z') ('1', '1')\n",
      "296 ('Z', 'Z') ('0', '0')\n",
      "298 ('X', 'X') ('0', '0')\n",
      "301 ('Z', 'Z') ('0', '0')\n",
      "302 ('X', 'X') ('0', '0')\n",
      "303 ('Z', 'Z') ('0', '0')\n",
      "304 ('Z', 'Z') ('1', '1')\n",
      "306 ('X', 'X') ('0', '0')\n",
      "309 ('Z', 'Z') ('1', '1')\n",
      "310 ('X', 'X') ('1', '1')\n",
      "313 ('X', 'X') ('0', '0')\n",
      "315 ('X', 'X') ('0', '0')\n",
      "317 ('Z', 'Z') ('0', '0')\n",
      "318 ('Z', 'Z') ('1', '1')\n",
      "319 ('Z', 'Z') ('0', '0')\n",
      "320 ('Z', 'Z') ('1', '1')\n",
      "323 ('Z', 'Z') ('0', '0')\n",
      "328 ('Z', 'Z') ('1', '1')\n",
      "330 ('X', 'X') ('0', '0')\n",
      "331 ('X', 'X') ('0', '0')\n",
      "332 ('Z', 'Z') ('0', '0')\n",
      "333 ('X', 'X') ('0', '0')\n",
      "334 ('Z', 'Z') ('0', '0')\n",
      "339 ('X', 'X') ('0', '0')\n",
      "340 ('X', 'X') ('0', '0')\n",
      "341 ('Z', 'Z') ('1', '1')\n",
      "342 ('X', 'X') ('0', '0')\n",
      "343 ('X', 'X') ('1', '1')\n",
      "345 ('Z', 'Z') ('1', '1')\n",
      "347 ('Z', 'Z') ('1', '1')\n",
      "351 ('Z', 'Z') ('0', '0')\n",
      "352 ('X', 'X') ('1', '1')\n",
      "354 ('Z', 'Z') ('1', '1')\n",
      "355 ('Z', 'Z') ('0', '0')\n",
      "356 ('Z', 'Z') ('0', '0')\n",
      "358 ('X', 'X') ('0', '0')\n",
      "361 ('Z', 'Z') ('1', '1')\n",
      "363 ('X', 'X') ('0', '0')\n",
      "364 ('X', 'X') ('0', '0')\n",
      "365 ('Z', 'Z') ('0', '0')\n",
      "367 ('Z', 'Z') ('0', '0')\n",
      "369 ('X', 'X') ('1', '1')\n",
      "370 ('X', 'X') ('0', '0')\n",
      "372 ('X', 'X') ('1', '1')\n",
      "373 ('Z', 'Z') ('0', '0')\n",
      "375 ('Z', 'Z') ('1', '1')\n",
      "377 ('X', 'X') ('1', '1')\n",
      "381 ('Z', 'Z') ('1', '1')\n",
      "383 ('Z', 'Z') ('1', '1')\n",
      "386 ('X', 'X') ('1', '1')\n",
      "388 ('Z', 'Z') ('0', '0')\n",
      "389 ('Z', 'Z') ('0', '0')\n",
      "391 ('Z', 'Z') ('1', '1')\n",
      "392 ('X', 'X') ('1', '1')\n",
      "394 ('Z', 'Z') ('0', '0')\n",
      "397 ('Z', 'Z') ('1', '1')\n",
      "398 ('X', 'X') ('1', '1')\n",
      "400 ('X', 'X') ('1', '1')\n",
      "402 ('Z', 'Z') ('0', '0')\n",
      "403 ('X', 'X') ('0', '0')\n",
      "406 ('Z', 'Z') ('1', '1')\n",
      "407 ('Z', 'Z') ('0', '0')\n",
      "409 ('Z', 'Z') ('1', '1')\n",
      "410 ('Z', 'Z') ('1', '1')\n",
      "411 ('Z', 'Z') ('0', '0')\n",
      "413 ('Z', 'Z') ('0', '0')\n",
      "415 ('X', 'X') ('1', '1')\n",
      "419 ('X', 'X') ('1', '1')\n",
      "420 ('X', 'X') ('1', '1')\n",
      "425 ('X', 'X') ('0', '0')\n",
      "428 ('Z', 'Z') ('1', '1')\n",
      "429 ('X', 'X') ('0', '0')\n",
      "435 ('X', 'X') ('0', '0')\n",
      "436 ('Z', 'Z') ('1', '1')\n",
      "437 ('Z', 'Z') ('1', '1')\n",
      "440 ('Z', 'Z') ('0', '0')\n",
      "441 ('X', 'X') ('1', '1')\n",
      "442 ('Z', 'Z') ('1', '1')\n",
      "443 ('Z', 'Z') ('0', '0')\n",
      "448 ('Z', 'Z') ('1', '1')\n",
      "453 ('Z', 'Z') ('0', '0')\n",
      "455 ('X', 'X') ('1', '1')\n",
      "456 ('X', 'X') ('1', '1')\n",
      "457 ('Z', 'Z') ('0', '0')\n",
      "458 ('Z', 'Z') ('0', '0')\n",
      "459 ('X', 'X') ('0', '0')\n",
      "463 ('Z', 'Z') ('0', '0')\n",
      "466 ('X', 'X') ('1', '1')\n",
      "467 ('Z', 'Z') ('0', '0')\n",
      "469 ('X', 'X') ('1', '1')\n",
      "470 ('X', 'X') ('0', '0')\n",
      "472 ('X', 'X') ('1', '1')\n",
      "473 ('Z', 'Z') ('0', '0')\n",
      "475 ('X', 'X') ('1', '1')\n",
      "477 ('Z', 'Z') ('1', '1')\n",
      "479 ('Z', 'Z') ('1', '1')\n",
      "480 ('X', 'X') ('1', '1')\n",
      "481 ('X', 'X') ('1', '1')\n",
      "483 ('X', 'X') ('1', '1')\n",
      "486 ('Z', 'Z') ('1', '1')\n",
      "487 ('Z', 'Z') ('0', '0')\n",
      "488 ('X', 'X') ('1', '1')\n",
      "489 ('Z', 'Z') ('1', '1')\n",
      "492 ('Z', 'Z') ('0', '0')\n",
      "496 ('Z', 'Z') ('0', '0')\n",
      "497 ('Z', 'Z') ('0', '0')\n",
      "498 ('X', 'X') ('0', '0')\n",
      "499 ('Z', 'Z') ('0', '0')\n"
     ]
    }
   ],
   "source": [
    "for idx, item in enumerate(zip(bob_bases, alice_bases)):\n",
    "    if bob_bases[idx] == alice_bases[idx]:\n",
    "        print(idx, item, (bob_bits[idx], alice_bits[idx]))"
   ]
  },
  {
   "cell_type": "code",
   "execution_count": 16,
   "id": "8631e95c-1815-42fd-a745-f62990acfb81",
   "metadata": {},
   "outputs": [
    {
     "name": "stdout",
     "output_type": "stream",
     "text": [
      "[0, 2, 3, 4, 5, 6, 7, 12, 14, 15, 16, 17, 18, 20, 21, 22, 23, 26, 27, 29, 30, 31, 32, 35, 37, 38, 41, 42, 44, 45, 47, 48, 50, 53, 54, 57, 58, 60, 61, 63, 65, 66, 67, 68, 73, 75, 78, 81, 85, 92, 94, 95, 96, 98, 99, 100, 102, 105, 107, 108, 110, 111, 112, 115, 117, 118, 119, 124, 126, 129, 131, 133, 134, 135, 136, 137, 138, 140, 144, 145, 146, 147, 150, 151, 152, 161, 165, 166, 167, 168, 169, 171, 174, 175, 178, 180, 182, 183, 184, 186]\n"
     ]
    }
   ],
   "source": [
    "print(common_bases[:100])"
   ]
  },
  {
   "cell_type": "code",
   "execution_count": 17,
   "id": "2beddf68-83d7-4cec-ad51-0a9cbf5f7d5a",
   "metadata": {},
   "outputs": [],
   "source": [
    "bob_bits = [bob_bits[index] for index in common_bases]\n",
    "BROADCAST = common_bases    # Bob tells Alice which bases they shared in common\n",
    "alice_bits = [alice_bits[index] for index in BROADCAST]    # Alice keeps only the bits they shared in common"
   ]
  },
  {
   "cell_type": "code",
   "execution_count": 18,
   "id": "630d4d8c-b29b-4d52-bf51-6a9bb9a21b0a",
   "metadata": {},
   "outputs": [
    {
     "data": {
      "text/plain": [
       "['1',\n",
       " '0',\n",
       " '1',\n",
       " '1',\n",
       " '1',\n",
       " '1',\n",
       " '1',\n",
       " '0',\n",
       " '1',\n",
       " '0',\n",
       " '1',\n",
       " '0',\n",
       " '0',\n",
       " '1',\n",
       " '0',\n",
       " '1',\n",
       " '1',\n",
       " '1',\n",
       " '1',\n",
       " '0',\n",
       " '0',\n",
       " '0',\n",
       " '1',\n",
       " '1',\n",
       " '1',\n",
       " '0',\n",
       " '0',\n",
       " '0',\n",
       " '0',\n",
       " '0',\n",
       " '1',\n",
       " '0',\n",
       " '1',\n",
       " '0',\n",
       " '1',\n",
       " '1',\n",
       " '1',\n",
       " '1',\n",
       " '0',\n",
       " '0',\n",
       " '1',\n",
       " '1',\n",
       " '0',\n",
       " '0',\n",
       " '1',\n",
       " '0',\n",
       " '1',\n",
       " '1',\n",
       " '1',\n",
       " '0',\n",
       " '0',\n",
       " '1',\n",
       " '1',\n",
       " '0',\n",
       " '0',\n",
       " '0',\n",
       " '0',\n",
       " '0',\n",
       " '1',\n",
       " '0',\n",
       " '0',\n",
       " '0',\n",
       " '0',\n",
       " '0',\n",
       " '0',\n",
       " '0',\n",
       " '0',\n",
       " '0',\n",
       " '1',\n",
       " '0',\n",
       " '1',\n",
       " '0',\n",
       " '1',\n",
       " '0',\n",
       " '1',\n",
       " '1',\n",
       " '1',\n",
       " '0',\n",
       " '1',\n",
       " '1',\n",
       " '0',\n",
       " '1',\n",
       " '1',\n",
       " '1',\n",
       " '1',\n",
       " '0',\n",
       " '1',\n",
       " '1',\n",
       " '1',\n",
       " '1',\n",
       " '0',\n",
       " '1',\n",
       " '0',\n",
       " '0',\n",
       " '0',\n",
       " '1',\n",
       " '1',\n",
       " '0',\n",
       " '1',\n",
       " '0']"
      ]
     },
     "execution_count": 18,
     "metadata": {},
     "output_type": "execute_result"
    }
   ],
   "source": [
    "bob_bits[:100]"
   ]
  },
  {
   "cell_type": "code",
   "execution_count": 19,
   "id": "65bf75ba-5a02-4f71-972c-b85e4fe51a6f",
   "metadata": {},
   "outputs": [
    {
     "data": {
      "text/plain": [
       "['1',\n",
       " '0',\n",
       " '1',\n",
       " '1',\n",
       " '1',\n",
       " '1',\n",
       " '1',\n",
       " '0',\n",
       " '1',\n",
       " '0',\n",
       " '1',\n",
       " '0',\n",
       " '0',\n",
       " '1',\n",
       " '0',\n",
       " '1',\n",
       " '1',\n",
       " '1',\n",
       " '1',\n",
       " '0',\n",
       " '0',\n",
       " '0',\n",
       " '1',\n",
       " '1',\n",
       " '1',\n",
       " '0',\n",
       " '0',\n",
       " '0',\n",
       " '0',\n",
       " '0',\n",
       " '1',\n",
       " '0',\n",
       " '1',\n",
       " '0',\n",
       " '1',\n",
       " '1',\n",
       " '1',\n",
       " '1',\n",
       " '0',\n",
       " '0',\n",
       " '1',\n",
       " '1',\n",
       " '0',\n",
       " '0',\n",
       " '1',\n",
       " '0',\n",
       " '1',\n",
       " '1',\n",
       " '1',\n",
       " '0',\n",
       " '0',\n",
       " '1',\n",
       " '1',\n",
       " '0',\n",
       " '0',\n",
       " '0',\n",
       " '0',\n",
       " '0',\n",
       " '1',\n",
       " '0',\n",
       " '0',\n",
       " '0',\n",
       " '0',\n",
       " '0',\n",
       " '0',\n",
       " '0',\n",
       " '0',\n",
       " '0',\n",
       " '1',\n",
       " '0',\n",
       " '1',\n",
       " '0',\n",
       " '1',\n",
       " '0',\n",
       " '1',\n",
       " '1',\n",
       " '1',\n",
       " '0',\n",
       " '1',\n",
       " '1',\n",
       " '0',\n",
       " '1',\n",
       " '1',\n",
       " '1',\n",
       " '1',\n",
       " '0',\n",
       " '1',\n",
       " '1',\n",
       " '1',\n",
       " '1',\n",
       " '0',\n",
       " '1',\n",
       " '0',\n",
       " '0',\n",
       " '0',\n",
       " '1',\n",
       " '1',\n",
       " '0',\n",
       " '1',\n",
       " '0']"
      ]
     },
     "execution_count": 19,
     "metadata": {},
     "output_type": "execute_result"
    }
   ],
   "source": [
    "alice_bits[:100]"
   ]
  },
  {
   "cell_type": "markdown",
   "id": "3f8bdeb9-dbf9-4726-998b-9ce93961bc0a",
   "metadata": {},
   "source": [
    "## Comparision (Spotting)"
   ]
  },
  {
   "cell_type": "code",
   "execution_count": 20,
   "id": "1f10f8d6-98df-4f93-a53c-bbfbcf5bed4b",
   "metadata": {},
   "outputs": [],
   "source": [
    "sample = len(alice_bits)//3    # len(alice_bits) >= 3\n",
    "errors = 0\n",
    "\n",
    "for _ in range(sample):\n",
    "    bit_index = random.randrange(len(alice_bits)) \n",
    "    \n",
    "    if alice_bits[bit_index] != bob_bits[bit_index]:  errors += 1    #calculating errors\n",
    "        \n",
    "    del alice_bits[bit_index] #removing tested bits from key strings\n",
    "    del bob_bits[bit_index]"
   ]
  },
  {
   "cell_type": "markdown",
   "id": "1a391b2a-c58b-4ebb-902e-205e09a77860",
   "metadata": {},
   "source": [
    "# QBER"
   ]
  },
  {
   "cell_type": "code",
   "execution_count": 21,
   "id": "e844d01b-cc31-4411-bf3f-bbdebcd2356f",
   "metadata": {},
   "outputs": [
    {
     "data": {
      "text/plain": [
       "0.0"
      ]
     },
     "execution_count": 21,
     "metadata": {},
     "output_type": "execute_result"
    }
   ],
   "source": [
    "QBER = round(errors/sample, 4) # calculating QBER and saving the answer to two decimal places\n",
    "QBER"
   ]
  },
  {
   "cell_type": "markdown",
   "id": "357a0889-534b-49c3-a9c1-97cf7f8567f8",
   "metadata": {},
   "source": [
    "## Final Key : "
   ]
  },
  {
   "cell_type": "raw",
   "id": "ed312f01-1362-4cff-a02f-6a2d9ea2e675",
   "metadata": {},
   "source": [
    "int('11010100', 2), (bin(212)[2:])"
   ]
  },
  {
   "cell_type": "code",
   "execution_count": 22,
   "id": "8affd0be-950c-4e35-b54e-6f5143e38641",
   "metadata": {},
   "outputs": [
    {
     "name": "stdout",
     "output_type": "stream",
     "text": [
      "Eve not present :  Key is secure\n"
     ]
    }
   ],
   "source": [
    "if QBER > error_threshold:\n",
    "    if eve : print(\" Eve detected : \", end = \" \")\n",
    "    else : print(\" Eve FALSELY not detected : \", end = \" \")\n",
    "    print(\"Key not secure\")\n",
    "\n",
    "else :\n",
    "    if eve : print('Eve went unnoticed : ', end = \" \")\n",
    "    else : print('Eve not present : ', end = \" \")\n",
    "    print(\"Key is secure\")\n"
   ]
  },
  {
   "cell_type": "code",
   "execution_count": 23,
   "id": "0f25d9e2-77d7-4e18-b641-cfc3c4261801",
   "metadata": {},
   "outputs": [],
   "source": [
    "key = \"\" \n",
    "for bit in alice_bits:    # Or bob_bits, since both should be the same\n",
    "    key += bit"
   ]
  },
  {
   "cell_type": "code",
   "execution_count": 24,
   "id": "e32d3829-9293-4a7a-ad0b-3fea227bbf35",
   "metadata": {},
   "outputs": [
    {
     "data": {
      "text/plain": [
       "(0, 86)"
      ]
     },
     "execution_count": 24,
     "metadata": {},
     "output_type": "execute_result"
    }
   ],
   "source": [
    "errors, sample"
   ]
  },
  {
   "cell_type": "code",
   "execution_count": null,
   "id": "2cd33dff-8e27-40ba-a0f8-99c2b7b5234e",
   "metadata": {},
   "outputs": [],
   "source": []
  }
 ],
 "metadata": {
  "kernelspec": {
   "display_name": "Python 3 (ipykernel)",
   "language": "python",
   "name": "python3"
  },
  "language_info": {
   "codemirror_mode": {
    "name": "ipython",
    "version": 3
   },
   "file_extension": ".py",
   "mimetype": "text/x-python",
   "name": "python",
   "nbconvert_exporter": "python",
   "pygments_lexer": "ipython3",
   "version": "3.12.4"
  }
 },
 "nbformat": 4,
 "nbformat_minor": 5
}
