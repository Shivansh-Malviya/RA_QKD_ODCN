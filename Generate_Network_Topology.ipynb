{
 "cells": [
  {
   "cell_type": "raw",
   "id": "a95fa7e0-e865-4ee6-9a5b-f1ddcf2571c3",
   "metadata": {},
   "source": [
    "# Required Modules \n",
    "import networkx as nx\n",
    "import matplotlib.pyplot as plt\n",
    "import numpy as np"
   ]
  },
  {
   "cell_type": "code",
   "execution_count": 4,
   "id": "9b8b6b9c-9470-469b-a33f-ad5c1d9837e5",
   "metadata": {},
   "outputs": [],
   "source": [
    "def create_topology(edges, save_fig = False, draw = True):\n",
    "  \n",
    "    all_values = [nodes for row in edges for nodes in row[:2]]    # A list of all the values/nodes in first 2 columns : s & d\n",
    "    numNodes = max(all_values) - min(all_values) + 1     # Correction for the convention in indexing of nodes in the data of edges\n",
    "        \n",
    "    print(\"numNodes: \", numNodes)\n",
    "    \n",
    "    g = nx.Graph()\n",
    "\n",
    "    #Nodes\n",
    "    nodes = np.arange(1, numNodes)\n",
    "    g.add_nodes_from(nodes)\n",
    "\n",
    "    # Edges\n",
    "    #links = [(u, v) for (u, v, d) in edges]\n",
    "    g.add_weighted_edges_from(edges)\n",
    "    # g.add_weighted_edges_from(edges)\n",
    "    \n",
    "    #Weights\n",
    "    weights = {(item[0], item[1]): item[2] for item in edges}\n",
    "\n",
    "    #if (draw != True):\n",
    "        #return g\n",
    "        #break\n",
    "    \n",
    "    #draw function\n",
    "    #g = graph\n",
    "    \n",
    "    #nodes\n",
    "    pos = nx.spring_layout(g, seed = 13) # seed =13\n",
    "    \n",
    "    nx.draw_networkx_nodes(g, pos, node_size =200)\n",
    "    # edges\n",
    "    nx.draw_networkx_edges(g, pos, edgelist = edges, width = 2) \n",
    "\n",
    "    # node labels\n",
    "    nx.draw_networkx_labels(g, pos, font_size = 8)\n",
    "\n",
    "    #edge labels\n",
    "    nx.draw_networkx_edge_labels(g, pos, weights)\n",
    "\n",
    "    if save_fig == True:\n",
    "    #figname = input(print(\"Enter figure name : \"))\n",
    "        figname = str(numNodes) + \"-nodes99.png\"\n",
    "        plt.savefig(figname)\n",
    "\n",
    "    #Configuraiton\n",
    "    ax = plt.gca()\n",
    "    ax.margins(0.08)\n",
    "    plt.axis('off')\n",
    "    plt.tight_layout()\n",
    "    plt.show()\n",
    "\n",
    "    return g"
   ]
  },
  {
   "cell_type": "markdown",
   "id": "d4a0b2b5-1093-4265-9aa0-a55ee0984841",
   "metadata": {},
   "source": [
    "**Example** : A 6 Node Graph"
   ]
  },
  {
   "cell_type": "raw",
   "id": "cf2baf55-76ad-49db-a26e-aed6c01aecec",
   "metadata": {},
   "source": [
    "# Edges (connections between nodes) with distances\n",
    "edges = [ \n",
    "             (5, 0, 1200), # Edge between Node 5 and Node 0\n",
    "             (0, 1, 1200), # Edge between Node 0 and Node 1\n",
    "             (1, 2, 800), # Edge between Node 1 and Node 2\n",
    "             (2, 3, 900), # Edge between Node 2 and Node 3\n",
    "             (3, 4, 1000), # Edge between Node 3 and Node 4\n",
    "             (4, 5, 900), # Edge between Node 4 and Node 5\n",
    "             (0, 4, 1000), # Intermediate edge between Node 0 and Node 4\n",
    "             (1, 3, 1000) # Intermediate edge between Node 1 and Node 3\n",
    "            \n",
    "    ]\n",
    "\n",
    "#draw = True\n",
    "\n",
    "g = create_topology(edges)\n"
   ]
  },
  {
   "cell_type": "code",
   "execution_count": null,
   "id": "e5da5f13-eade-4fe1-a6d3-c3094da05948",
   "metadata": {},
   "outputs": [],
   "source": []
  }
 ],
 "metadata": {
  "kernelspec": {
   "display_name": "Python 3 (ipykernel)",
   "language": "python",
   "name": "python3"
  },
  "language_info": {
   "codemirror_mode": {
    "name": "ipython",
    "version": 3
   },
   "file_extension": ".py",
   "mimetype": "text/x-python",
   "name": "python",
   "nbconvert_exporter": "python",
   "pygments_lexer": "ipython3",
   "version": "3.12.1"
  }
 },
 "nbformat": 4,
 "nbformat_minor": 5
}
