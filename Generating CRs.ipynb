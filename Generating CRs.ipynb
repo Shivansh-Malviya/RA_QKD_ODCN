{
 "cells": [
  {
   "cell_type": "code",
   "execution_count": 1,
   "id": "ec5de90d-87ae-464d-926e-f33f07ccf552",
   "metadata": {},
   "outputs": [],
   "source": [
    "import numpy as np\n",
    "import random\n",
    "import math"
   ]
  },
  {
   "cell_type": "code",
   "execution_count": null,
   "id": "5862badb-a2ac-45d1-9e8d-b369b6d73ed5",
   "metadata": {},
   "outputs": [],
   "source": [
    "#list = np.arange(5)\n",
    "#random_element = random.choice(list)\n",
    "\n",
    "#random_number = random.randint(1, 10)"
   ]
  },
  {
   "cell_type": "code",
   "execution_count": null,
   "id": "8e7fb62d-0ce5-42be-a90a-2fb1529f0b93",
   "metadata": {},
   "outputs": [],
   "source": [
    "# Given the network topology\n",
    "# We have the number of nodes \"numNodes\" = len(g) #g is a graph\n",
    "numNodes = 14"
   ]
  },
  {
   "cell_type": "code",
   "execution_count": null,
   "id": "9baef46d-d7a2-4cef-bf34-59b72da92693",
   "metadata": {},
   "outputs": [],
   "source": [
    "class CR:\n",
    "    def __init__(self, s, d, sl, tk, status):     # Constructor : Gets called as soon as an object is declared\n",
    "        self.s = s\n",
    "        self.d = d\n",
    "        self.sl = sl    # SL can be hign, mediuum, low\n",
    "        self.tk = tk\n",
    "        self.status = status    # Status can be Allocatted, blocked, waiting\n",
    "\n",
    "    def update_status(self, status) :    # A method to update the status\n",
    "        status_list = [\"allocated\", \"waiting\", \"blocked\"]\n",
    "        if status in status_list :\n",
    "            self.status = status\n",
    "        else\n",
    "            print(\"\\n Invalid Status\")\n",
    "\n",
    "    def display_info(self):\n",
    "        print(f\"CR: Source Node ={self.s}, Destination Node={self.d}, Security Level={self.sl}, status={self.status}\")\n",
    " \n",
    "\n",
    "    @classmethod\n",
    "    def generate_crs(cls, numCR = 1):            # cls = class, it's the same as self, except unlike __init__, it's not limited to an instance\n",
    "        CRs = []\n",
    "        sl_values = [\"high\", \"medium\", \"low\"]\n",
    "        n = math.ceil(numCR/3)\n",
    "        uniform_sample = n*sl_values     # Creates an array with n copies of sl_values\n",
    "        \n",
    "        for i in range(numCR):\n",
    "            # Generating source, destination) pair\n",
    "            #(s, d) =  random_nodes(numCR)\n",
    "            s = random.randint(1, numNodes)\n",
    "            d = random.randint(1, numNodes)   \n",
    "\n",
    "            while s == d :\n",
    "                d = random.randint(1, numNodes)  \n",
    "\n",
    "            # Generating sl            \n",
    "            sl = random.choice(uniform_sample)    # Randomly selecting from a uniform sample; although it will sometimes generate (4, 4, 2)\n",
    "            uniform_sample.remove(sl)  \n",
    "\n",
    "            # will add the logic when i come across it\n",
    "            tk = 1\n",
    "            \n",
    "            # Giving initial status\n",
    "            status = \"initialized\"\n",
    "\n",
    "            cr = cls(s, d, sl, status)\n",
    "            CRs.append(cr)\n",
    "        return CRs\n",
    "\n",
    "CRs = CR.generate_crs(n)\n",
    "\n",
    "# Print the array of CR instances\n",
    "#for cr in CRs:\n",
    " #   print(f\"CR: s={cr.s}, d={cr.d}, sl={cr.sl}, status={cr.status}\")\n"
   ]
  },
  {
   "cell_type": "raw",
   "id": "79d8ba36-4ef7-49ef-aecb-0d60f840ddbc",
   "metadata": {},
   "source": [
    "def uniform_sl(numCR) :    # Since the uniform_sample is being calculated after every call, it will repopulate the list.\n",
    "    sl_values = [\"high\", \"medium\", \"low\"]\n",
    "    n = math.ceil(numCR/3)\n",
    "    uniform_sample = n*sl_values     # Creates an array with n copies of sl_values\n",
    "    #print(uniform_sample)\n",
    "\n",
    "    uniform_sample_dict = {level : n for level in sl_values}\n",
    "    #print(uniform_sample_dict)\n",
    "    \n",
    "    sl = random.choice(uniform_sample)\n",
    "    uniform_sample.remove(sl)\n",
    "    print(uniform_sample)\n",
    "    return sl\n",
    "\n",
    "sl = uniform_sl(10)\n",
    "print(sl)"
   ]
  },
  {
   "cell_type": "raw",
   "id": "50459d73-19a9-4a57-9d3e-861d712abf8b",
   "metadata": {},
   "source": [
    "def update_status(CR, status):\n",
    "    CR.status = status"
   ]
  },
  {
   "cell_type": "code",
   "execution_count": null,
   "id": "9a4a7dcb-9113-4633-a714-57bbb60bca64",
   "metadata": {},
   "outputs": [],
   "source": []
  }
 ],
 "metadata": {
  "kernelspec": {
   "display_name": "Python 3 (ipykernel)",
   "language": "python",
   "name": "python3"
  },
  "language_info": {
   "codemirror_mode": {
    "name": "ipython",
    "version": 3
   },
   "file_extension": ".py",
   "mimetype": "text/x-python",
   "name": "python",
   "nbconvert_exporter": "python",
   "pygments_lexer": "ipython3",
   "version": "3.8.7"
  }
 },
 "nbformat": 4,
 "nbformat_minor": 5
}
