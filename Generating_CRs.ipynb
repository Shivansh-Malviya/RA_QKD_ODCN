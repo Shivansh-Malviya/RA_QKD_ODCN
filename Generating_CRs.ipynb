{
 "cells": [
  {
   "cell_type": "raw",
   "id": "300df6b1-16f2-4f22-ae1f-d8fc02c5cd1e",
   "metadata": {},
   "source": [
    "# Required Modules\n",
    "import numpy as np\n",
    "import random\n",
    "import math\n",
    "from yen import Yen"
   ]
  },
  {
   "cell_type": "code",
   "execution_count": 1,
   "id": "5862badb-a2ac-45d1-9e8d-b369b6d73ed5",
   "metadata": {},
   "outputs": [],
   "source": [
    "#list = np.arange(5)\n",
    "#random_element = random.choice(list)\n",
    "\n",
    "#random_number = random.randint(1, 10)"
   ]
  },
  {
   "cell_type": "markdown",
   "id": "6e7c27a7-3a63-49e1-ad04-0e7264acec44",
   "metadata": {},
   "source": [
    "Given the network topology\n",
    "\n",
    "We have the number of nodes \"numNodes\" = len(g) #g is a graph\n"
   ]
  },
  {
   "cell_type": "code",
   "execution_count": 1,
   "id": "9baef46d-d7a2-4cef-bf34-59b72da92693",
   "metadata": {},
   "outputs": [],
   "source": [
    "class CR:\n",
    "    def __init__(self, index, s, d, sl, tk, status):     # Constructor : Gets called as soon as an object is declared\n",
    "        self.index = index\n",
    "        self.s = s\n",
    "        self.d = d\n",
    "        self.sl = sl    # SL can be hign, mediuum, low\n",
    "        self.tk = tk\n",
    "        self.status = status    # Status can be Allocatted, blocked, waiting\n",
    "\n",
    "    def update_status(self, status) :    # A method to update the status\n",
    "        status_list = [\"allocated\", \"waiting\", \"blocked\"]\n",
    "        if status in status_list :\n",
    "            self.status = status\n",
    "        else:\n",
    "            print(\"\\n Invalid Status\")\n",
    "\n",
    "    def k_sp(self, g, k = 1):\n",
    "        try:\n",
    "            # Find the K-shortest paths\n",
    "            k_shortest_paths = list(nx.shortest_simple_paths(g, source = self.s, target = self.d, weight='weight'))\n",
    "\n",
    "            # Retrieve path costs\n",
    "            path_costs = [sum(g[s][d]['weight'] for s, d in zip(path, path[1:])) for path in k_shortest_paths]\n",
    "        \n",
    "           # Return both paths and corresponding path costs\n",
    "            return list(zip(k_shortest_paths, path_costs))[:k]\n",
    "            \n",
    "        except nx.NetworkXNoPath:\n",
    "            # Handle the case where no path exists\n",
    "            return []\n",
    "    \n",
    "    def shortest_path(self, g): # Currently limiting to shortest path instead to k-shortest paths\n",
    "        return nx.shortest_path(g, source = self.s, target = self.d)\n",
    "        \n",
    "    '''\n",
    "    def allocate_resources(self, path):\n",
    "        #path = [0, 1, 5, 2]\n",
    "        # Assuming We have already checked for the K-sp and used FF approach to select this path\n",
    "        # Selecting this path rwequired checking all the constrains. Can be incorporated in resources_available\n",
    "\n",
    "        for i in range(len(path)):\n",
    "            link = Network.links[i, i+1]\n",
    "            link.allocate_resources(self.sl)    # Creating another method in class \"Links\" to allocate link resources\n",
    "            # Allocate wavelength based on sl\n",
    "            # Select the ts based on constraints\n",
    "            \n",
    "    '''\n",
    "\n",
    "    \n",
    "    def display_info(self):\n",
    "        print(f\"CR: Source Node ={self.s}, Destination Node={self.d}, Security Level={self.sl}, status={self.status}\")\n",
    " \n",
    "\n",
    "    @classmethod\n",
    "    def generate_crs(cls, numCR = 1):            # cls = class, it's the same as self, except unlike __init__, it's not limited to an instance\n",
    "        CRs = []\n",
    "        sl_values = [\"high\", \"medium\", \"low\"]\n",
    "        n = math.ceil(numCR/3)    # Shall I use math.floor?\n",
    "        uniform_sample = n*sl_values     # Creates an array with n copies of sl_values\n",
    "        \n",
    "        for i in range(numCR):\n",
    "            # Generating source, destination) pair\n",
    "            #(s, d) =  random_nodes(numCR)\n",
    "            s = random.randint(1, numNodes)\n",
    "            d = random.randint(1, numNodes)   \n",
    "\n",
    "            while s == d :\n",
    "                d = random.randint(1, numNodes)  \n",
    "\n",
    "            # Generating sl            \n",
    "            sl = random.choice(uniform_sample)    # Randomly selecting from a uniform sample; although it will sometimes generate (4, 4, 2)\n",
    "            uniform_sample.remove(sl)  \n",
    "\n",
    "            # will add the logic when i come across it\n",
    "            tk = 1\n",
    "            \n",
    "            # Giving initial status\n",
    "            status = \"initialized\"\n",
    "\n",
    "            cr = cls(i, s, d, sl, tk, status)\n",
    "            CRs.append(cr)\n",
    "        return CRs"
   ]
  },
  {
   "cell_type": "markdown",
   "id": "1960db7d-cd68-4b8d-91b2-a443995acdac",
   "metadata": {},
   "source": [
    "The above class CR has a constructor to initialize the values to its object. It has a class method \"generate_crs\" which takes the numCR parameter to generate that many CRs. the (s, d) pair is selected randomly. The sl is derived from a uniform list; and is allocated randomly to individual CR. "
   ]
  },
  {
   "cell_type": "raw",
   "id": "5ec41a64-368d-4e45-a259-8ff7311eceb3",
   "metadata": {},
   "source": [
    "numNodes = 14\n",
    "X = 10\n",
    "CRs = CR.generate_crs(X)"
   ]
  },
  {
   "cell_type": "raw",
   "id": "8d3da37f-0b1f-45c5-a484-b9a5de6b2ac4",
   "metadata": {},
   "source": [
    "k = 3\n",
    "print(CR[1])\n",
    "k_shortest_paths = CRs[1].k_sp(g, k)\n",
    "\n",
    "# Display the K shortest paths\n",
    "for i, (path, cost) in enumerate(k_sp):\n",
    "    print(f\"Path {i + 1}: {path}, Cost: {cost}\")"
   ]
  }
 ],
 "metadata": {
  "kernelspec": {
   "display_name": "Python 3 (ipykernel)",
   "language": "python",
   "name": "python3"
  },
  "language_info": {
   "codemirror_mode": {
    "name": "ipython",
    "version": 3
   },
   "file_extension": ".py",
   "mimetype": "text/x-python",
   "name": "python",
   "nbconvert_exporter": "python",
   "pygments_lexer": "ipython3",
   "version": "3.12.1"
  }
 },
 "nbformat": 4,
 "nbformat_minor": 5
}
