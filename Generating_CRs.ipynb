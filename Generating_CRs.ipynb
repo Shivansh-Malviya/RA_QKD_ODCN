{
 "cells": [
  {
   "cell_type": "code",
   "execution_count": 1,
   "id": "f37f7152-8a7e-40da-b062-84d3caff7599",
   "metadata": {},
   "outputs": [],
   "source": [
    "## Required Modules\n",
    "import numpy as np\n",
    "import random\n",
    "import math"
   ]
  },
  {
   "cell_type": "code",
   "execution_count": 2,
   "id": "5862badb-a2ac-45d1-9e8d-b369b6d73ed5",
   "metadata": {},
   "outputs": [],
   "source": [
    "#list = np.arange(5)\n",
    "#random_element = random.choice(list)\n",
    "\n",
    "#random_number = random.randint(1, 10)"
   ]
  },
  {
   "cell_type": "markdown",
   "id": "6e7c27a7-3a63-49e1-ad04-0e7264acec44",
   "metadata": {},
   "source": [
    "Given the network topology\n",
    "\n",
    "We have the number of nodes \"numNodes\" = len(g) #g is a graph\n"
   ]
  },
  {
   "cell_type": "code",
   "execution_count": 3,
   "id": "9baef46d-d7a2-4cef-bf34-59b72da92693",
   "metadata": {},
   "outputs": [],
   "source": [
    "class CR:\n",
    "    #CRs = []\n",
    "    sl_values = [\"high\", \"medium\", \"low\"]\n",
    "    sfw = {\"high\" : 5, \"medium\" : 4, \"low\" : 3}    # Security factor weight\n",
    "    \n",
    "    def __init__(self, index, s, d, sl, tk, status):     # Constructor : Gets called as soon as an object is declared\n",
    "        self.index = index\n",
    "        \n",
    "        self.s = s\n",
    "        self.d = d\n",
    "        \n",
    "        self.sl = sl    # SL can be hign, mediuum, low\n",
    "        self.tk = tk\n",
    "        self.status = status    # Status can be Allocatted, blocked\n",
    "\n",
    "        self.path = None\n",
    "        self.allocated_resources = [None, None]    # [QSC, ts]\n",
    "        \n",
    "\n",
    "    def update_status(self, status, allocated_resources = [None, None], path = None) :    # A method to update the status\n",
    "        '''\n",
    "        status_list = [\"allocated\", \"blocked\"]\n",
    "        if status in status_list :    # No need to check, as the function will be called from another function.\n",
    "            self.status = status\n",
    "        else:\n",
    "            print(\"\\n Invalid Status\")\n",
    "        '''\n",
    "        self.status = status\n",
    "\n",
    "        self.path = path\n",
    "        self.allocated_resources = allocated_resources\n",
    "\n",
    "            \n",
    "    def k_sp(self, g, k = 1):\n",
    "        try:\n",
    "            # Find the K-shortest paths\n",
    "            k_shortest_paths = list(nx.shortest_simple_paths(g, source = self.s, target = self.d, weight='weight'))\n",
    "\n",
    "            # Retrieve path costs\n",
    "            path_costs = [sum(g[s][d]['weight'] for s, d in zip(path, path[1:])) for path in k_shortest_paths]\n",
    "        \n",
    "           # Return both paths and corresponding path costs\n",
    "            return list(zip(k_shortest_paths, path_costs))[:k]\n",
    "            \n",
    "        except nx.NetworkXNoPath:    # i.e. the node is not connected to the given network\n",
    "            # Handle the case where no path exists\n",
    "            return []\n",
    "            \n",
    "    \n",
    "    def shortest_path(self, g): # shortest path in terms of hop counts\n",
    "        return nx.shortest_path(g, source = self.s, target = self.d)\n",
    "\n",
    "    \n",
    "    def display_info(self):\n",
    "        print(f\"CR: Index : {self.index}, Source Node ={self.s}, Destination Node={self.d}, Security Level={self.sl}, status={self.status}, allocated resources = {self.allocated_resources}, Path : {self.path}\")\n",
    " \n",
    "  ###################################################################################################################################################\n",
    "    \n",
    "    @classmethod\n",
    "    def generate_crs(cls, numCR = 1):    \n",
    "        cls.CRs = []\n",
    "    \n",
    "        # Creating a list of uniformly sampled SLs\n",
    "        n = math.floor(numCR/3)\n",
    "        uniform_sample = n*cls.sl_values\n",
    "\n",
    "        for i in range(numCR - 3*n):    # the range would be either 1 or 2. i can either be 0 or (0, 1)\n",
    "             uniform_sample.append(random.choice(cls.sl_values))\n",
    "\n",
    "        # Initializing individual CRs\n",
    "        for i in range(numCR):\n",
    "            # Generating (source, destination) pair\n",
    "            s = random.randint(1, numNodes)\n",
    "            d = random.randint(1, numNodes)   \n",
    "\n",
    "            while s == d :    # Checking if the source and destination nodes are same\n",
    "                d = random.randint(1, numNodes)  \n",
    "\n",
    "            # Assigning sl            \n",
    "            sl = random.choice(uniform_sample)    # Randomly selecting from a uniform sample\n",
    "            uniform_sample.remove(sl)    # Removing the first(any) equivalent sl, to maintain the uniformity\n",
    "\n",
    "            # currently only dealing with tk = 1.\n",
    "            tk = 1\n",
    "            \n",
    "            # Giving initial status\n",
    "            status = \"initialized\"\n",
    "\n",
    "            cr = cls(i, s, d, sl, tk, status)\n",
    "            cls.CRs.append(cr)\n",
    "        ##\n",
    "        \n",
    "        # Can add a check function to check it everything has been initialized properly\n",
    "        return cls.CRs\n",
    "\n",
    "    \n",
    "    @classmethod\n",
    "    def create_priority_queue(cls, queues = 'PQ'):\n",
    "        CR_1 = []\n",
    "        CR_0 = []\n",
    "        CR_minus1 = []\n",
    "\n",
    "        for cr in cls.CRs :\n",
    "            if cr.sl == \"high\":\n",
    "                CR_1.append(cr)\n",
    "            elif cr.sl == \"medium\":\n",
    "                CR_0.append(cr)\n",
    "            else:\n",
    "                CR_minus1.append(cr)\n",
    "\n",
    "        PQ = CR_1 + CR_0 + CR_minus1    # Priority queue\n",
    "\n",
    "        if queues == 'all':\n",
    "            return PQ, CR_1, CR_0, CR_minus1\n",
    "        else:\n",
    "            return PQ\n",
    "            \n",
    "\n",
    "    @classmethod\n",
    "    def SRCR(cls, CRs):    # Returns the SRCR\n",
    "\n",
    "        num_allocated_crs = sum(1 for cr in CRs if cr.status == \"allocated\" )\n",
    "        #print(\"num_allocated_crs : \", num_allocated_crs)\n",
    "        \n",
    "        SRCR = num_allocated_crs/len(CRs)\n",
    "        print(f\"The Success rate of connection requests(SRCR) is : {SRCR}\")\n",
    "        \n",
    "        return SRCR\n",
    "        \n",
    "\n",
    "    @classmethod\n",
    "    def NSP(cls, CRs, channel = 'total'):    # Returns the total NSP, if no 2nd argument given\n",
    "\n",
    "        nsp = [0, 0, 0, 0]\n",
    "        for i, priority in enumerate(cls.sl_values) :\n",
    "            nsp[i+1] = sum(cls.sfw[priority] for cr in CRs if cr.status == \"allocated\" and cr.sl == priority)\n",
    "        \n",
    "        nsp[0] = sum(nsp[i] for i in range(1, 4))\n",
    "        #nsp_total = sum(cls.sfw[cr.sl] for cr in CRs if cr.status == \"allocated\")\n",
    "\n",
    "        print(f\"The NSP of the network is : {nsp[0]}\")\n",
    "\n",
    "        if channel == 'all':\n",
    "            return nsp\n",
    "        else :\n",
    "            return nsp[0]\n",
    "\n",
    "    \n",
    "    @classmethod\n",
    "    def display_all(cls, CRs):\n",
    "        for cr in CRs:\n",
    "            cr.display_info()\n",
    "            "
   ]
  },
  {
   "cell_type": "markdown",
   "id": "1960db7d-cd68-4b8d-91b2-a443995acdac",
   "metadata": {},
   "source": [
    "The above class CR has a constructor to initialize the values to its object. It has a class method \"generate_crs\" which takes the numCR parameter to generate that many CRs. the (s, d) pair is selected randomly. The sl is derived from a uniform list; and is allocated randomly to individual CR. "
   ]
  },
  {
   "cell_type": "raw",
   "id": "1f9cbb52-4219-48ba-be22-16fba8c16343",
   "metadata": {},
   "source": [
    "k = 3\n",
    "print(CRs[1])\n",
    "k_shortest_paths = CRs[1].k_sp(g, k)\n",
    "\n",
    "# Display the K shortest paths\n",
    "for i, (path, cost) in enumerate(k_sp):\n",
    "    print(f\"Path {i + 1}: {path}, Cost: {cost}\")"
   ]
  },
  {
   "cell_type": "raw",
   "id": "dff15dc6-4137-4f07-a5f2-bced1cf1ed26",
   "metadata": {},
   "source": [
    "CR.display_all(CRs)"
   ]
  },
  {
   "cell_type": "raw",
   "id": "29601564-c02f-4698-8f3e-f585faa3168b",
   "metadata": {},
   "source": [
    "CR.display_all(PQ)"
   ]
  },
  {
   "cell_type": "raw",
   "id": "641b5eeb-1929-464e-b3ca-7967416a0d3b",
   "metadata": {},
   "source": [
    "CR.SRCR(CRs)"
   ]
  },
  {
   "cell_type": "raw",
   "id": "89eaefcd-a100-4779-a26f-88a08c127d0a",
   "metadata": {},
   "source": [
    "CR.CRs"
   ]
  },
  {
   "cell_type": "raw",
   "id": "f10b4c35-9e0c-473a-9fcb-ebee99998759",
   "metadata": {},
   "source": [
    "CR.NSP()"
   ]
  },
  {
   "cell_type": "raw",
   "id": "2f0f83ff-7756-475e-8b2d-f36f7d826cb4",
   "metadata": {},
   "source": [
    "import numpy as np\n",
    "ar = np.empty([])"
   ]
  },
  {
   "cell_type": "raw",
   "id": "1c7ad1c6-c0de-4052-ac61-25824d3a03a0",
   "metadata": {},
   "source": [
    "ar"
   ]
  },
  {
   "cell_type": "raw",
   "id": "42c7cf20-98f0-4f9b-888e-a9e1af9cf451",
   "metadata": {},
   "source": [
    "ar.append('1')"
   ]
  }
 ],
 "metadata": {
  "kernelspec": {
   "display_name": "Python 3 (ipykernel)",
   "language": "python",
   "name": "python3"
  },
  "language_info": {
   "codemirror_mode": {
    "name": "ipython",
    "version": 3
   },
   "file_extension": ".py",
   "mimetype": "text/x-python",
   "name": "python",
   "nbconvert_exporter": "python",
   "pygments_lexer": "ipython3",
   "version": "3.12.2"
  }
 },
 "nbformat": 4,
 "nbformat_minor": 5
}
