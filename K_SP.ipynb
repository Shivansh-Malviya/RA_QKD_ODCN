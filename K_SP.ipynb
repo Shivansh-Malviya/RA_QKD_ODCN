{
 "cells": [
  {
   "cell_type": "code",
   "execution_count": null,
   "id": "0521e23f-280b-4172-a0ed-bd107b6b34d5",
   "metadata": {},
   "outputs": [],
   "source": [
    "#Given a list of CRs"
   ]
  },
  {
   "cell_type": "code",
   "execution_count": null,
   "id": "20a27241-f83b-43ee-a7be-955f26e9b26d",
   "metadata": {},
   "outputs": [],
   "source": [
    "shortest_path = nx.shortest_path(g, source, destination)"
   ]
  }
 ],
 "metadata": {
  "kernelspec": {
   "display_name": "Python 3 (ipykernel)",
   "language": "python",
   "name": "python3"
  },
  "language_info": {
   "codemirror_mode": {
    "name": "ipython",
    "version": 3
   },
   "file_extension": ".py",
   "mimetype": "text/x-python",
   "name": "python",
   "nbconvert_exporter": "python",
   "pygments_lexer": "ipython3",
   "version": "3.8.7"
  }
 },
 "nbformat": 4,
 "nbformat_minor": 5
}
