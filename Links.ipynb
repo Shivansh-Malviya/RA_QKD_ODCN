{
 "cells": [
  {
   "cell_type": "code",
   "execution_count": 1,
   "id": "b097e42e-8441-4d63-a5e5-42c45540ab14",
   "metadata": {},
   "outputs": [],
   "source": [
    "# Required Modules\n",
    "import numpy as np"
   ]
  },
  {
   "cell_type": "code",
   "execution_count": 66,
   "id": "30f67f15-7dd3-44ca-85da-6d07d39e5a1f",
   "metadata": {},
   "outputs": [],
   "source": [
    "class Links:\n",
    "\n",
    "    def __init__(self, nodes, w):    # nodes = (s, d); is a tuple so as to not confuse s and d individually\n",
    "        self.nodes = nodes\n",
    "        self.lambda_tdc = np.ones(47, dtype = bool)\n",
    "\n",
    "        time_slots1 = 8\n",
    "        time_slots2 = 10 \n",
    "        time_slots3 = 12\n",
    "        self.lambda_q1 = np.ones(time_slots1, dtype = bool)    # for high sl\n",
    "        self.lambda_q2 = np.ones(time_slots2, dtype = bool)    # for medium sl    \n",
    "        self.lambda_q3 = np.ones(time_slots3, dtype = bool)    # for low sl\n",
    "\n",
    "    def update_link(self, channel, ts):\n",
    "        # call : links[index].update_link(channel, ts); where ts is timeslot\n",
    "        #QSC = [\"lambda_q1\", \"lambda_q2\", \"lambda_q3\"]\n",
    "        QSC = [1, 2, 3]\n",
    "        if channel not in QSC or ts < 0:\n",
    "            print(\"Invalid Update request!\")\n",
    "\n",
    "        elif channel == 1 and ts <= len(self.lambda_q1):\n",
    "            self.lambda_q1[ts-1] = False\n",
    "            print(\"The updated resources are : \", self.lambda_q1)\n",
    "        elif channel == 2 and ts <= len(self.lambda_q2):\n",
    "            self.lambda_q2[ts-1] = False\n",
    "            print(\"The updated resources are : \", self.lambda_q2)\n",
    "        elif channel == 3 and ts <= len(self.lambda_q3):\n",
    "            self.lambda_q3[ts-1] = False\n",
    "            print(\"The updated resources are : \", self.lambda_q3)\n",
    "\n",
    "        else:\n",
    "            print(\"Invalid time slot value\")\n",
    "            \n",
    "            \n",
    "    def display_info(self):\n",
    "        q1_count = np.count_nonzero(self.lambda_q1) # == True\n",
    "        q2_count = np.count_nonzero(self.lambda_q2) #== True\n",
    "        q3_count = np.count_nonzero(self.lambda_q3) #== True\n",
    "        tdc_count = np.count_nonzero(self.lambda_tdc) #== True\n",
    "        print(f\"Link: Nodes ={self.nodes}, lambda_tdc_count={tdc_count}, lambda_q1_count={q1_count}, lambda_q2_count={q2_count}, lambda_q3_count={q3_count}\")\n",
    "        \n",
    "    @classmethod\n",
    "    def initialize_links(cls, edges):\n",
    "\n",
    "        all_values = [nodes for row in edges for nodes in row[:2]]    # A list of all the values/nodes in first 2 columns : s & d\n",
    "        m = min(all_values)\n",
    "        M = max(all_values)\n",
    "        numNodes = max(all_values) - min(all_values) + 1     # Correction for the convention in indexing of nodes in the data of edges\n",
    "    \n",
    "        links = np.zeros([M+1, M+1], dtype = object)    # Will have redundant entries. M is the highest node index\n",
    "        #link_indices = np.zeros_like(links, dtype = bool)\n",
    "\n",
    "        #links = {}\n",
    "        \n",
    "        for (s, d, w) in edges:\n",
    "\n",
    "            nodes = (s, d)\n",
    "            link = cls(nodes, w)\n",
    "            \n",
    "            links[nodes] = link\n",
    "            links[d, s] = link\n",
    "            \n",
    "            #print(\"link info\")\n",
    "            #link.display_info() # Working\n",
    "\n",
    "            #print(\"links[nodes] info\")\n",
    "            #links[nodes].display_info() # Working\n",
    "\n",
    "            #if min(all_values) == 0:\n",
    "             #   (S, D) = (s, d)\n",
    "            #else :\n",
    "             #   (S, D) = (s-1, d-1)\n",
    "            # (S, D) = (s-m, d-m)    # However, we won't be able to access the links with their indices in this case\n",
    "            #links[s, d] = link\n",
    "            #links[d, s] = link\n",
    "            #link_indices(s, d) = True\n",
    "            #link_indices(d, s) = True\n",
    "                    \n",
    "        indices = links != 0    # A mask that holds the location of each link\n",
    "        \n",
    "        return (links, indices)"
   ]
  },
  {
   "cell_type": "code",
   "execution_count": 67,
   "id": "79390872-49a4-4c87-b596-f229978b94c8",
   "metadata": {},
   "outputs": [],
   "source": [
    "edges = [ (1, 2, 1100),  #Edge between Node 0 and Node 1\n",
    "             (2, 3, 1600), #Intermediate Edge between Node 1 and Node 2\n",
    "             (1, 3, 600), # Edge between Node 0 and Node 2\n",
    "             (2, 8, 1500), # Edge between Node 1 and Node 7\n",
    "             (1, 4, 1000),  # Edge between Node 0 and Node 3\n",
    "             (4, 5, 600), # Edge between Node 3 and Node 4\n",
    "             (5, 7, 800), # Intermediate edge between Node 4 and Node 6\n",
    "             (7, 8, 700), # Intermediate edge between Node 6 and Node 7\n",
    "             (2, 8, 1500), # Edge between Node 1 and Node 7\n",
    "             (4, 9, 1500), # Edge Betweeen Node 3 and Node 8\n",
    "             (9, 12, 800), # Edge Betweeen Node 8 and Node 11\n",
    "             (8, 10, 700), # Edge Betweeen Node 7 and Node 9\n",
    "             (10, 12, 500), # Edge Betweeen Node 9 and Node 11\n",
    "             (9, 14, 800), # Edge Betweeen Node 8 and Node 13\n",
    "             (10, 14, 500), # Edge Betweeen Node 9 and Node 13\n",
    "             (12, 13, 300), # Edge Betweeen Node 11 and Node 12\n",
    "             (13, 14, 300), # Edge Betweeen Node 12 and Node 13\n",
    "             (3, 6, 1000), # Edge Betweeen Node 2 and Node 5\n",
    "             (6, 5, 1100), # Edge Betweeen Node 5 and Node 4\n",
    "             (6, 13, 2000), # Edge Betweeen Node 5 and Node 12\n",
    "             (6, 11, 1200), # Edge Betweeen Node 5 and Node 10\n",
    "             (10, 11, 900) # Edge Betweeen Node 9 and Node 10]\n",
    "        ]\n",
    "\n",
    "(links, indices) = Links.initialize_links(edges)\n",
    "#print(links, indices)"
   ]
  },
  {
   "cell_type": "code",
   "execution_count": 68,
   "id": "8ecf1883-809b-4758-8324-06df2429b4db",
   "metadata": {},
   "outputs": [
    {
     "name": "stdout",
     "output_type": "stream",
     "text": [
      "The updated resources are :  [ True  True  True  True  True False  True  True]\n"
     ]
    }
   ],
   "source": [
    "links[1, 2].update_link(channel = 1, ts = 6)"
   ]
  },
  {
   "cell_type": "code",
   "execution_count": 69,
   "id": "624d675c-e9a0-442e-8912-10171b842de3",
   "metadata": {},
   "outputs": [
    {
     "name": "stdout",
     "output_type": "stream",
     "text": [
      "Invalid time slot value\n"
     ]
    }
   ],
   "source": [
    "links[1, 2].update_link(channel = 1, ts = 11)"
   ]
  },
  {
   "cell_type": "code",
   "execution_count": 50,
   "id": "71672bd1-1ec1-4143-a960-87a55f5d27ac",
   "metadata": {},
   "outputs": [
    {
     "name": "stdout",
     "output_type": "stream",
     "text": [
      "[[False False False False False False False False False False False False\n",
      "  False False False]\n",
      " [False False  True  True  True False False False False False False False\n",
      "  False False False]\n",
      " [False  True False  True False False False False  True False False False\n",
      "  False False False]\n",
      " [False  True  True False False False  True False False False False False\n",
      "  False False False]\n",
      " [False  True False False False  True False False False  True False False\n",
      "  False False False]\n",
      " [False False False False  True False  True  True False False False False\n",
      "  False False False]\n",
      " [False False False  True False  True False False False False False  True\n",
      "  False  True False]\n",
      " [False False False False False  True False False  True False False False\n",
      "  False False False]\n",
      " [False False  True False False False False  True False False  True False\n",
      "  False False False]\n",
      " [False False False False  True False False False False False False False\n",
      "   True False  True]\n",
      " [False False False False False False False False  True False False  True\n",
      "   True False  True]\n",
      " [False False False False False False  True False False False  True False\n",
      "  False False False]\n",
      " [False False False False False False False False False  True  True False\n",
      "  False  True False]\n",
      " [False False False False False False  True False False False False False\n",
      "   True False  True]\n",
      " [False False False False False False False False False  True  True False\n",
      "  False  True False]]\n"
     ]
    }
   ],
   "source": [
    "print(indices)"
   ]
  },
  {
   "cell_type": "code",
   "execution_count": 51,
   "id": "f66deb06-398c-4a7e-b8ad-a6abde2c0247",
   "metadata": {},
   "outputs": [
    {
     "name": "stdout",
     "output_type": "stream",
     "text": [
      "[[0 0 0 0 0 0 0 0 0 0 0 0 0 0 0]\n",
      " [0 0 <__main__.Links object at 0x00000160DAC28860>\n",
      "  <__main__.Links object at 0x00000160DAC2B680>\n",
      "  <__main__.Links object at 0x00000160DAC280B0> 0 0 0 0 0 0 0 0 0 0]\n",
      " [0 <__main__.Links object at 0x00000160DAC28860> 0\n",
      "  <__main__.Links object at 0x00000160DAC2FEC0> 0 0 0 0\n",
      "  <__main__.Links object at 0x00000160DAC2B500> 0 0 0 0 0 0]\n",
      " [0 <__main__.Links object at 0x00000160DAC2B680>\n",
      "  <__main__.Links object at 0x00000160DAC2FEC0> 0 0 0\n",
      "  <__main__.Links object at 0x00000160DAC2B320> 0 0 0 0 0 0 0 0]\n",
      " [0 <__main__.Links object at 0x00000160DAC280B0> 0 0 0\n",
      "  <__main__.Links object at 0x00000160DAC29670> 0 0 0\n",
      "  <__main__.Links object at 0x00000160DAC2AF60> 0 0 0 0 0]\n",
      " [0 0 0 0 <__main__.Links object at 0x00000160DAC29670> 0\n",
      "  <__main__.Links object at 0x00000160DAC292E0>\n",
      "  <__main__.Links object at 0x00000160DAC29760> 0 0 0 0 0 0 0]\n",
      " [0 0 0 <__main__.Links object at 0x00000160DAC2B320> 0\n",
      "  <__main__.Links object at 0x00000160DAC292E0> 0 0 0 0 0\n",
      "  <__main__.Links object at 0x00000160DAC28D40> 0\n",
      "  <__main__.Links object at 0x00000160DAC2A360> 0]\n",
      " [0 0 0 0 0 <__main__.Links object at 0x00000160DAC29760> 0 0\n",
      "  <__main__.Links object at 0x00000160DAC284D0> 0 0 0 0 0 0]\n",
      " [0 0 <__main__.Links object at 0x00000160DAC2B500> 0 0 0 0\n",
      "  <__main__.Links object at 0x00000160DAC284D0> 0 0\n",
      "  <__main__.Links object at 0x00000160DAC2A750> 0 0 0 0]\n",
      " [0 0 0 0 <__main__.Links object at 0x00000160DAC2AF60> 0 0 0 0 0 0 0\n",
      "  <__main__.Links object at 0x00000160DAC2B2F0> 0\n",
      "  <__main__.Links object at 0x00000160DAC2A8D0>]\n",
      " [0 0 0 0 0 0 0 0 <__main__.Links object at 0x00000160DAC2A750> 0 0\n",
      "  <__main__.Links object at 0x00000160DAC2A930>\n",
      "  <__main__.Links object at 0x00000160DAC2AF90> 0\n",
      "  <__main__.Links object at 0x00000160DAC28230>]\n",
      " [0 0 0 0 0 0 <__main__.Links object at 0x00000160DAC28D40> 0 0 0\n",
      "  <__main__.Links object at 0x00000160DAC2A930> 0 0 0 0]\n",
      " [0 0 0 0 0 0 0 0 0 <__main__.Links object at 0x00000160DAC2B2F0>\n",
      "  <__main__.Links object at 0x00000160DAC2AF90> 0 0\n",
      "  <__main__.Links object at 0x00000160DAC282C0> 0]\n",
      " [0 0 0 0 0 0 <__main__.Links object at 0x00000160DAC2A360> 0 0 0 0 0\n",
      "  <__main__.Links object at 0x00000160DAC282C0> 0\n",
      "  <__main__.Links object at 0x00000160DAC2BD10>]\n",
      " [0 0 0 0 0 0 0 0 0 <__main__.Links object at 0x00000160DAC2A8D0>\n",
      "  <__main__.Links object at 0x00000160DAC28230> 0 0\n",
      "  <__main__.Links object at 0x00000160DAC2BD10> 0]]\n"
     ]
    }
   ],
   "source": [
    "print(links)"
   ]
  },
  {
   "cell_type": "raw",
   "id": "b0ba4c36-316f-4cad-9d7d-ba91a9908c8d",
   "metadata": {},
   "source": [
    "for index in indices: # ERROR : Because indices isn't an array. See below cell for correction\n",
    "    links[index].display_info()"
   ]
  },
  {
   "cell_type": "code",
   "execution_count": 52,
   "id": "ccdf7936-ee11-4181-8395-f1195f5230d7",
   "metadata": {},
   "outputs": [
    {
     "name": "stdout",
     "output_type": "stream",
     "text": [
      "Link: Nodes =(1, 2), lambda_tdc_count=47, lambda_q1_count=8, lambda_q2_count=10, lambda_q3_count=12\n",
      "Link: Nodes =(1, 3), lambda_tdc_count=47, lambda_q1_count=8, lambda_q2_count=10, lambda_q3_count=12\n",
      "Link: Nodes =(1, 4), lambda_tdc_count=47, lambda_q1_count=8, lambda_q2_count=10, lambda_q3_count=12\n",
      "Link: Nodes =(1, 2), lambda_tdc_count=47, lambda_q1_count=8, lambda_q2_count=10, lambda_q3_count=12\n",
      "Link: Nodes =(2, 3), lambda_tdc_count=47, lambda_q1_count=8, lambda_q2_count=10, lambda_q3_count=12\n",
      "Link: Nodes =(2, 8), lambda_tdc_count=47, lambda_q1_count=8, lambda_q2_count=10, lambda_q3_count=12\n",
      "Link: Nodes =(1, 3), lambda_tdc_count=47, lambda_q1_count=8, lambda_q2_count=10, lambda_q3_count=12\n",
      "Link: Nodes =(2, 3), lambda_tdc_count=47, lambda_q1_count=8, lambda_q2_count=10, lambda_q3_count=12\n",
      "Link: Nodes =(3, 6), lambda_tdc_count=47, lambda_q1_count=8, lambda_q2_count=10, lambda_q3_count=12\n",
      "Link: Nodes =(1, 4), lambda_tdc_count=47, lambda_q1_count=8, lambda_q2_count=10, lambda_q3_count=12\n",
      "Link: Nodes =(4, 5), lambda_tdc_count=47, lambda_q1_count=8, lambda_q2_count=10, lambda_q3_count=12\n",
      "Link: Nodes =(4, 9), lambda_tdc_count=47, lambda_q1_count=8, lambda_q2_count=10, lambda_q3_count=12\n",
      "Link: Nodes =(4, 5), lambda_tdc_count=47, lambda_q1_count=8, lambda_q2_count=10, lambda_q3_count=12\n",
      "Link: Nodes =(6, 5), lambda_tdc_count=47, lambda_q1_count=8, lambda_q2_count=10, lambda_q3_count=12\n",
      "Link: Nodes =(5, 7), lambda_tdc_count=47, lambda_q1_count=8, lambda_q2_count=10, lambda_q3_count=12\n",
      "Link: Nodes =(3, 6), lambda_tdc_count=47, lambda_q1_count=8, lambda_q2_count=10, lambda_q3_count=12\n",
      "Link: Nodes =(6, 5), lambda_tdc_count=47, lambda_q1_count=8, lambda_q2_count=10, lambda_q3_count=12\n",
      "Link: Nodes =(6, 11), lambda_tdc_count=47, lambda_q1_count=8, lambda_q2_count=10, lambda_q3_count=12\n",
      "Link: Nodes =(6, 13), lambda_tdc_count=47, lambda_q1_count=8, lambda_q2_count=10, lambda_q3_count=12\n",
      "Link: Nodes =(5, 7), lambda_tdc_count=47, lambda_q1_count=8, lambda_q2_count=10, lambda_q3_count=12\n",
      "Link: Nodes =(7, 8), lambda_tdc_count=47, lambda_q1_count=8, lambda_q2_count=10, lambda_q3_count=12\n",
      "Link: Nodes =(2, 8), lambda_tdc_count=47, lambda_q1_count=8, lambda_q2_count=10, lambda_q3_count=12\n",
      "Link: Nodes =(7, 8), lambda_tdc_count=47, lambda_q1_count=8, lambda_q2_count=10, lambda_q3_count=12\n",
      "Link: Nodes =(8, 10), lambda_tdc_count=47, lambda_q1_count=8, lambda_q2_count=10, lambda_q3_count=12\n",
      "Link: Nodes =(4, 9), lambda_tdc_count=47, lambda_q1_count=8, lambda_q2_count=10, lambda_q3_count=12\n",
      "Link: Nodes =(9, 12), lambda_tdc_count=47, lambda_q1_count=8, lambda_q2_count=10, lambda_q3_count=12\n",
      "Link: Nodes =(9, 14), lambda_tdc_count=47, lambda_q1_count=8, lambda_q2_count=10, lambda_q3_count=12\n",
      "Link: Nodes =(8, 10), lambda_tdc_count=47, lambda_q1_count=8, lambda_q2_count=10, lambda_q3_count=12\n",
      "Link: Nodes =(10, 11), lambda_tdc_count=47, lambda_q1_count=8, lambda_q2_count=10, lambda_q3_count=12\n",
      "Link: Nodes =(10, 12), lambda_tdc_count=47, lambda_q1_count=8, lambda_q2_count=10, lambda_q3_count=12\n",
      "Link: Nodes =(10, 14), lambda_tdc_count=47, lambda_q1_count=8, lambda_q2_count=10, lambda_q3_count=12\n",
      "Link: Nodes =(6, 11), lambda_tdc_count=47, lambda_q1_count=8, lambda_q2_count=10, lambda_q3_count=12\n",
      "Link: Nodes =(10, 11), lambda_tdc_count=47, lambda_q1_count=8, lambda_q2_count=10, lambda_q3_count=12\n",
      "Link: Nodes =(9, 12), lambda_tdc_count=47, lambda_q1_count=8, lambda_q2_count=10, lambda_q3_count=12\n",
      "Link: Nodes =(10, 12), lambda_tdc_count=47, lambda_q1_count=8, lambda_q2_count=10, lambda_q3_count=12\n",
      "Link: Nodes =(12, 13), lambda_tdc_count=47, lambda_q1_count=8, lambda_q2_count=10, lambda_q3_count=12\n",
      "Link: Nodes =(6, 13), lambda_tdc_count=47, lambda_q1_count=8, lambda_q2_count=10, lambda_q3_count=12\n",
      "Link: Nodes =(12, 13), lambda_tdc_count=47, lambda_q1_count=8, lambda_q2_count=10, lambda_q3_count=12\n",
      "Link: Nodes =(13, 14), lambda_tdc_count=47, lambda_q1_count=8, lambda_q2_count=10, lambda_q3_count=12\n",
      "Link: Nodes =(9, 14), lambda_tdc_count=47, lambda_q1_count=8, lambda_q2_count=10, lambda_q3_count=12\n",
      "Link: Nodes =(10, 14), lambda_tdc_count=47, lambda_q1_count=8, lambda_q2_count=10, lambda_q3_count=12\n",
      "Link: Nodes =(13, 14), lambda_tdc_count=47, lambda_q1_count=8, lambda_q2_count=10, lambda_q3_count=12\n"
     ]
    }
   ],
   "source": [
    "for link in links[indices]:    # Will display double the number of actual edges, due to ordered pair\n",
    "    link.display_info()"
   ]
  },
  {
   "cell_type": "code",
   "execution_count": 53,
   "id": "e08fbaa2-763d-47ec-831a-de47fec079b5",
   "metadata": {},
   "outputs": [
    {
     "data": {
      "text/plain": [
       "array([<__main__.Links object at 0x00000160DAC28860>,\n",
       "       <__main__.Links object at 0x00000160DAC2B680>,\n",
       "       <__main__.Links object at 0x00000160DAC280B0>,\n",
       "       <__main__.Links object at 0x00000160DAC28860>,\n",
       "       <__main__.Links object at 0x00000160DAC2FEC0>,\n",
       "       <__main__.Links object at 0x00000160DAC2B500>,\n",
       "       <__main__.Links object at 0x00000160DAC2B680>,\n",
       "       <__main__.Links object at 0x00000160DAC2FEC0>,\n",
       "       <__main__.Links object at 0x00000160DAC2B320>,\n",
       "       <__main__.Links object at 0x00000160DAC280B0>,\n",
       "       <__main__.Links object at 0x00000160DAC29670>,\n",
       "       <__main__.Links object at 0x00000160DAC2AF60>,\n",
       "       <__main__.Links object at 0x00000160DAC29670>,\n",
       "       <__main__.Links object at 0x00000160DAC292E0>,\n",
       "       <__main__.Links object at 0x00000160DAC29760>,\n",
       "       <__main__.Links object at 0x00000160DAC2B320>,\n",
       "       <__main__.Links object at 0x00000160DAC292E0>,\n",
       "       <__main__.Links object at 0x00000160DAC28D40>,\n",
       "       <__main__.Links object at 0x00000160DAC2A360>,\n",
       "       <__main__.Links object at 0x00000160DAC29760>,\n",
       "       <__main__.Links object at 0x00000160DAC284D0>,\n",
       "       <__main__.Links object at 0x00000160DAC2B500>,\n",
       "       <__main__.Links object at 0x00000160DAC284D0>,\n",
       "       <__main__.Links object at 0x00000160DAC2A750>,\n",
       "       <__main__.Links object at 0x00000160DAC2AF60>,\n",
       "       <__main__.Links object at 0x00000160DAC2B2F0>,\n",
       "       <__main__.Links object at 0x00000160DAC2A8D0>,\n",
       "       <__main__.Links object at 0x00000160DAC2A750>,\n",
       "       <__main__.Links object at 0x00000160DAC2A930>,\n",
       "       <__main__.Links object at 0x00000160DAC2AF90>,\n",
       "       <__main__.Links object at 0x00000160DAC28230>,\n",
       "       <__main__.Links object at 0x00000160DAC28D40>,\n",
       "       <__main__.Links object at 0x00000160DAC2A930>,\n",
       "       <__main__.Links object at 0x00000160DAC2B2F0>,\n",
       "       <__main__.Links object at 0x00000160DAC2AF90>,\n",
       "       <__main__.Links object at 0x00000160DAC282C0>,\n",
       "       <__main__.Links object at 0x00000160DAC2A360>,\n",
       "       <__main__.Links object at 0x00000160DAC282C0>,\n",
       "       <__main__.Links object at 0x00000160DAC2BD10>,\n",
       "       <__main__.Links object at 0x00000160DAC2A8D0>,\n",
       "       <__main__.Links object at 0x00000160DAC28230>,\n",
       "       <__main__.Links object at 0x00000160DAC2BD10>], dtype=object)"
      ]
     },
     "execution_count": 53,
     "metadata": {},
     "output_type": "execute_result"
    }
   ],
   "source": [
    " links[indices]"
   ]
  },
  {
   "cell_type": "code",
   "execution_count": 54,
   "id": "cc3be242-8e28-4c8f-8a64-2adf822197e1",
   "metadata": {},
   "outputs": [
    {
     "name": "stdout",
     "output_type": "stream",
     "text": [
      "Link: Nodes =(1, 2), lambda_tdc_count=47, lambda_q1_count=8, lambda_q2_count=10, lambda_q3_count=12\n"
     ]
    }
   ],
   "source": [
    "links[1, 2].display_info()"
   ]
  },
  {
   "cell_type": "code",
   "execution_count": 55,
   "id": "86a40e03-23a4-4306-a589-650c8bf47a55",
   "metadata": {},
   "outputs": [
    {
     "name": "stdout",
     "output_type": "stream",
     "text": [
      "Link: Nodes =(1, 2), lambda_tdc_count=47, lambda_q1_count=8, lambda_q2_count=10, lambda_q3_count=12\n"
     ]
    }
   ],
   "source": [
    "index = (1, 2)\n",
    "links[index].display_info()"
   ]
  },
  {
   "cell_type": "code",
   "execution_count": null,
   "id": "960f81f9-5ae9-4731-9d84-c5754a1226b4",
   "metadata": {},
   "outputs": [],
   "source": []
  }
 ],
 "metadata": {
  "kernelspec": {
   "display_name": "Python 3 (ipykernel)",
   "language": "python",
   "name": "python3"
  },
  "language_info": {
   "codemirror_mode": {
    "name": "ipython",
    "version": 3
   },
   "file_extension": ".py",
   "mimetype": "text/x-python",
   "name": "python",
   "nbconvert_exporter": "python",
   "pygments_lexer": "ipython3",
   "version": "3.12.1"
  }
 },
 "nbformat": 4,
 "nbformat_minor": 5
}
