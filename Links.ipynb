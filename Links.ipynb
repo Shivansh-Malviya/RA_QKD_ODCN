{
 "cells": [
  {
   "cell_type": "code",
   "execution_count": 1,
   "id": "b097e42e-8441-4d63-a5e5-42c45540ab14",
   "metadata": {},
   "outputs": [],
   "source": [
    "# Required Modules\n",
    "import numpy as np"
   ]
  },
  {
   "cell_type": "code",
   "execution_count": 20,
   "id": "30f67f15-7dd3-44ca-85da-6d07d39e5a1f",
   "metadata": {},
   "outputs": [],
   "source": [
    "class Links:\n",
    "\n",
    "    def __init__(self, nodes, w):    # nodes = (s, d); is a tuple so as to not confuse s and d individually\n",
    "        self.nodes = nodes\n",
    "        self.lambda_tdc = np.ones(47, dtype = bool)\n",
    "\n",
    "        time_slots1 = 8\n",
    "        time_slots2 = 10 \n",
    "        time_slots3 = 12\n",
    "        self.lambda_q1 = np.ones(time_slots1, dtype = bool)    # for high sl\n",
    "        self.lambda_q2 = np.ones(time_slots2, dtype = bool)    # for medium sl    \n",
    "        self.lambda_q3 = np.ones(time_slots3, dtype = bool)    # for low sl\n",
    "\n",
    "#    def update_link(self, link):\n",
    " \n",
    "    def display_info(self):\n",
    "        print(f\"Link: Nodes ={self.nodes}, lambda_tdc={self.lambda_tdc}, lambda_q1={self.lambda_q1}, lambda_q2={self.lambda_q2}, lambda_q3={self.lambda_q3}\")\n",
    "        \n",
    "    @classmethod\n",
    "    def initialize_links(cls, edges):\n",
    "\n",
    "        all_values = [nodes for row in edges for nodes in row[:2]]    # A list of all the values/nodes in first 2 columns : s & d\n",
    "        m = min(all_values)\n",
    "        M = max(all_values)\n",
    "        numNodes = max(all_values) - min(all_values) + 1     # Correction for the convention in indexing of nodes in the data of edges\n",
    "    \n",
    "        links = np.empty([M+1, M+1], dtype = object)    # Will have redundant entries. M is the highest node index\n",
    "        #link_indices = np.zeros_like(links, dtype = bool)\n",
    "\n",
    "        \n",
    "        for (s, d, w) in edges:\n",
    "\n",
    "            nodes = (s, d)\n",
    "            link = cls(nodes, w)\n",
    "\n",
    "            #if min(all_values) == 0:\n",
    "             #   (S, D) = (s, d)\n",
    "            #else :\n",
    "             #   (S, D) = (s-1, d-1)\n",
    "            # (S, D) = (s-m, d-m)    # However, we won't be able to access the links with their indices in this case\n",
    "            links[s, d] = link\n",
    "            links[d, s] = link\n",
    "            #link_indices(s, d) = True\n",
    "            #link_indices(d, s) = True\n",
    "\n",
    "        indices = links != 0\n",
    "        \n",
    "        return (links, indices)"
   ]
  },
  {
   "cell_type": "code",
   "execution_count": 21,
   "id": "79390872-49a4-4c87-b596-f229978b94c8",
   "metadata": {},
   "outputs": [
    {
     "name": "stdout",
     "output_type": "stream",
     "text": [
      "[[None None None None None None None None None None None None None None\n",
      "  None]\n",
      " [None None <__main__.Links object at 0x00000160DAC300B0>\n",
      "  <__main__.Links object at 0x00000160DAC30AA0>\n",
      "  <__main__.Links object at 0x00000160DAC32120> None None None None None\n",
      "  None None None None None]\n",
      " [None <__main__.Links object at 0x00000160DAC300B0> None\n",
      "  <__main__.Links object at 0x00000160DAC30A10> None None None None\n",
      "  <__main__.Links object at 0x00000160DAC32090> None None None None None\n",
      "  None]\n",
      " [None <__main__.Links object at 0x00000160DAC30AA0>\n",
      "  <__main__.Links object at 0x00000160DAC30A10> None None None\n",
      "  <__main__.Links object at 0x00000160DAC337A0> None None None None None\n",
      "  None None None]\n",
      " [None <__main__.Links object at 0x00000160DAC32120> None None None\n",
      "  <__main__.Links object at 0x00000160DAC33410> None None None\n",
      "  <__main__.Links object at 0x00000160DAC33A10> None None None None None]\n",
      " [None None None None <__main__.Links object at 0x00000160DAC33410> None\n",
      "  <__main__.Links object at 0x00000160DAC33020>\n",
      "  <__main__.Links object at 0x00000160DAC33290> None None None None None\n",
      "  None None]\n",
      " [None None None <__main__.Links object at 0x00000160DAC337A0> None\n",
      "  <__main__.Links object at 0x00000160DAC33020> None None None None None\n",
      "  <__main__.Links object at 0x00000160DAC33BF0> None\n",
      "  <__main__.Links object at 0x00000160DAC30050> None]\n",
      " [None None None None None <__main__.Links object at 0x00000160DAC33290>\n",
      "  None None <__main__.Links object at 0x00000160DAC30560> None None None\n",
      "  None None None]\n",
      " [None None <__main__.Links object at 0x00000160DAC32090> None None None\n",
      "  None <__main__.Links object at 0x00000160DAC30560> None None\n",
      "  <__main__.Links object at 0x00000160DAC33650> None None None None]\n",
      " [None None None None <__main__.Links object at 0x00000160DAC33A10> None\n",
      "  None None None None None None\n",
      "  <__main__.Links object at 0x00000160DAC33980> None\n",
      "  <__main__.Links object at 0x00000160DAC301A0>]\n",
      " [None None None None None None None None\n",
      "  <__main__.Links object at 0x00000160DAC33650> None None\n",
      "  <__main__.Links object at 0x00000160DAC33920>\n",
      "  <__main__.Links object at 0x00000160DAC30D40> None\n",
      "  <__main__.Links object at 0x00000160DAC33530>]\n",
      " [None None None None None None\n",
      "  <__main__.Links object at 0x00000160DAC33BF0> None None None\n",
      "  <__main__.Links object at 0x00000160DAC33920> None None None None]\n",
      " [None None None None None None None None None\n",
      "  <__main__.Links object at 0x00000160DAC33980>\n",
      "  <__main__.Links object at 0x00000160DAC30D40> None None\n",
      "  <__main__.Links object at 0x00000160DAC32B70> None]\n",
      " [None None None None None None\n",
      "  <__main__.Links object at 0x00000160DAC30050> None None None None None\n",
      "  <__main__.Links object at 0x00000160DAC32B70> None\n",
      "  <__main__.Links object at 0x00000160DAC30140>]\n",
      " [None None None None None None None None None\n",
      "  <__main__.Links object at 0x00000160DAC301A0>\n",
      "  <__main__.Links object at 0x00000160DAC33530> None None\n",
      "  <__main__.Links object at 0x00000160DAC30140> None]] [[ True  True  True  True  True  True  True  True  True  True  True  True\n",
      "   True  True  True]\n",
      " [ True  True  True  True  True  True  True  True  True  True  True  True\n",
      "   True  True  True]\n",
      " [ True  True  True  True  True  True  True  True  True  True  True  True\n",
      "   True  True  True]\n",
      " [ True  True  True  True  True  True  True  True  True  True  True  True\n",
      "   True  True  True]\n",
      " [ True  True  True  True  True  True  True  True  True  True  True  True\n",
      "   True  True  True]\n",
      " [ True  True  True  True  True  True  True  True  True  True  True  True\n",
      "   True  True  True]\n",
      " [ True  True  True  True  True  True  True  True  True  True  True  True\n",
      "   True  True  True]\n",
      " [ True  True  True  True  True  True  True  True  True  True  True  True\n",
      "   True  True  True]\n",
      " [ True  True  True  True  True  True  True  True  True  True  True  True\n",
      "   True  True  True]\n",
      " [ True  True  True  True  True  True  True  True  True  True  True  True\n",
      "   True  True  True]\n",
      " [ True  True  True  True  True  True  True  True  True  True  True  True\n",
      "   True  True  True]\n",
      " [ True  True  True  True  True  True  True  True  True  True  True  True\n",
      "   True  True  True]\n",
      " [ True  True  True  True  True  True  True  True  True  True  True  True\n",
      "   True  True  True]\n",
      " [ True  True  True  True  True  True  True  True  True  True  True  True\n",
      "   True  True  True]\n",
      " [ True  True  True  True  True  True  True  True  True  True  True  True\n",
      "   True  True  True]]\n"
     ]
    }
   ],
   "source": [
    "edges = [ (1, 2, 1100),  #Edge between Node 0 and Node 1\n",
    "             (2, 3, 1600), #Intermediate Edge between Node 1 and Node 2\n",
    "             (1, 3, 600), # Edge between Node 0 and Node 2\n",
    "             (2, 8, 1500), # Edge between Node 1 and Node 7\n",
    "             (1, 4, 1000),  # Edge between Node 0 and Node 3\n",
    "             (4, 5, 600), # Edge between Node 3 and Node 4\n",
    "             (5, 7, 800), # Intermediate edge between Node 4 and Node 6\n",
    "             (7, 8, 700), # Intermediate edge between Node 6 and Node 7\n",
    "             (2, 8, 1500), # Edge between Node 1 and Node 7\n",
    "             (4, 9, 1500), # Edge Betweeen Node 3 and Node 8\n",
    "             (9, 12, 800), # Edge Betweeen Node 8 and Node 11\n",
    "             (8, 10, 700), # Edge Betweeen Node 7 and Node 9\n",
    "             (10, 12, 500), # Edge Betweeen Node 9 and Node 11\n",
    "             (9, 14, 800), # Edge Betweeen Node 8 and Node 13\n",
    "             (10, 14, 500), # Edge Betweeen Node 9 and Node 13\n",
    "             (12, 13, 300), # Edge Betweeen Node 11 and Node 12\n",
    "             (13, 14, 300), # Edge Betweeen Node 12 and Node 13\n",
    "             (3, 6, 1000), # Edge Betweeen Node 2 and Node 5\n",
    "             (6, 5, 1100), # Edge Betweeen Node 5 and Node 4\n",
    "             (6, 13, 2000), # Edge Betweeen Node 5 and Node 12\n",
    "             (6, 11, 1200), # Edge Betweeen Node 5 and Node 10\n",
    "             (10, 11, 900) # Edge Betweeen Node 9 and Node 10]\n",
    "        ]\n",
    "\n",
    "(links, indices) = Links.initialize_links(edges)\n",
    "print(links, indices)"
   ]
  },
  {
   "cell_type": "code",
   "execution_count": 22,
   "id": "8e49f20f-024d-4264-8f7a-630b7ccc6333",
   "metadata": {},
   "outputs": [
    {
     "ename": "AttributeError",
     "evalue": "'numpy.ndarray' object has no attribute 'display_info'",
     "output_type": "error",
     "traceback": [
      "\u001b[1;31m---------------------------------------------------------------------------\u001b[0m",
      "\u001b[1;31mAttributeError\u001b[0m                            Traceback (most recent call last)",
      "Cell \u001b[1;32mIn[22], line 2\u001b[0m\n\u001b[0;32m      1\u001b[0m \u001b[38;5;28;01mfor\u001b[39;00m index \u001b[38;5;129;01min\u001b[39;00m indices:\n\u001b[1;32m----> 2\u001b[0m     \u001b[43mlinks\u001b[49m\u001b[43m[\u001b[49m\u001b[43mindex\u001b[49m\u001b[43m]\u001b[49m\u001b[38;5;241;43m.\u001b[39;49m\u001b[43mdisplay_info\u001b[49m()\n",
      "\u001b[1;31mAttributeError\u001b[0m: 'numpy.ndarray' object has no attribute 'display_info'"
     ]
    }
   ],
   "source": [
    "for index in indices:\n",
    "    links[index].display_info()"
   ]
  },
  {
   "cell_type": "code",
   "execution_count": 23,
   "id": "ccdf7936-ee11-4181-8395-f1195f5230d7",
   "metadata": {},
   "outputs": [
    {
     "ename": "AttributeError",
     "evalue": "'numpy.ndarray' object has no attribute 'display_info'",
     "output_type": "error",
     "traceback": [
      "\u001b[1;31m---------------------------------------------------------------------------\u001b[0m",
      "\u001b[1;31mAttributeError\u001b[0m                            Traceback (most recent call last)",
      "Cell \u001b[1;32mIn[23], line 2\u001b[0m\n\u001b[0;32m      1\u001b[0m \u001b[38;5;28;01mfor\u001b[39;00m link \u001b[38;5;129;01min\u001b[39;00m links:\n\u001b[1;32m----> 2\u001b[0m     \u001b[43mlink\u001b[49m\u001b[38;5;241;43m.\u001b[39;49m\u001b[43mdisplay_info\u001b[49m()\n",
      "\u001b[1;31mAttributeError\u001b[0m: 'numpy.ndarray' object has no attribute 'display_info'"
     ]
    }
   ],
   "source": [
    "for link in links:\n",
    "    link.display_info()"
   ]
  },
  {
   "cell_type": "code",
   "execution_count": null,
   "id": "e08fbaa2-763d-47ec-831a-de47fec079b5",
   "metadata": {},
   "outputs": [],
   "source": [
    " "
   ]
  }
 ],
 "metadata": {
  "kernelspec": {
   "display_name": "Python 3 (ipykernel)",
   "language": "python",
   "name": "python3"
  },
  "language_info": {
   "codemirror_mode": {
    "name": "ipython",
    "version": 3
   },
   "file_extension": ".py",
   "mimetype": "text/x-python",
   "name": "python",
   "nbconvert_exporter": "python",
   "pygments_lexer": "ipython3",
   "version": "3.12.1"
  }
 },
 "nbformat": 4,
 "nbformat_minor": 5
}
