{
 "cells": [
  {
   "cell_type": "code",
   "execution_count": 2,
   "id": "b097e42e-8441-4d63-a5e5-42c45540ab14",
   "metadata": {},
   "outputs": [],
   "source": [
    "# Required Modules\n",
    "import numpy as np"
   ]
  },
  {
   "cell_type": "code",
   "execution_count": 15,
   "id": "30f67f15-7dd3-44ca-85da-6d07d39e5a1f",
   "metadata": {},
   "outputs": [],
   "source": [
    "class Links:\n",
    "\n",
    "    def __init__(self, nodes, w):    # nodes = (s, d); is a tuple so as to not confuse s and d individually\n",
    "        self.nodes = nodes\n",
    "        self.lambda_tdc = np.ones(47, dtype = bool)\n",
    "\n",
    "        time_slots1 = 8\n",
    "        time_slots2 = 10 \n",
    "        time_slots3 = 12\n",
    "        self.lambda_q1 = np.ones(time_slots1, dtype = bool)    # for high sl\n",
    "        self.lambda_q2 = np.ones(time_slots2, dtype = bool)    # for medium sl    \n",
    "        self.lambda_q3 = np.ones(time_slots3, dtype = bool)    # for low sl\n",
    "\n",
    "    def update_link(self, channel, ts):\n",
    "        # call : links[index].update_link(channel, ts); where ts is timeslot\n",
    "        #QSC = [\"lambda_q1\", \"lambda_q2\", \"lambda_q3\"]\n",
    "        QSC = [1, 2, 3]\n",
    "        if channel not in QSC or ts <= 0:\n",
    "            print(\"Invalid Update request!\")\n",
    "\n",
    "        elif channel == 1 and ts <= len(self.lambda_q1):\n",
    "            self.lambda_q1[ts-1] = False\n",
    "            print(\"The updated resources are : \", self.lambda_q1)\n",
    "        elif channel == 2 and ts <= len(self.lambda_q2):\n",
    "            self.lambda_q2[ts-1] = False\n",
    "            print(\"The updated resources are : \", self.lambda_q2)\n",
    "        elif channel == 3 and ts <= len(self.lambda_q3):\n",
    "            self.lambda_q3[ts-1] = False\n",
    "            print(\"The updated resources are : \", self.lambda_q3)\n",
    "\n",
    "        else:\n",
    "            print(\"Invalid time slot value\")\n",
    "\n",
    "    def resources_available(self, channel, ts):\n",
    "        if channel not in [1, 2, 3] or ts <= 0:\n",
    "            print(\"Invalid Update request!\")\n",
    "\n",
    "        elif channel == 1 and ts <= len(self.lambda_q1):\n",
    "            return self.lambda_q1[ts-1]\n",
    "            \n",
    "        elif channel == 2 and ts <= len(self.lambda_q2):\n",
    "            return self.lambda_q2[ts-1]\n",
    "            \n",
    "        elif channel == 3 and ts <= len(self.lambda_q3):\n",
    "            return self.lambda_q3[ts-1]\n",
    "\n",
    "        else:\n",
    "            print(\"Invalid time slot value\")\n",
    "\n",
    "\n",
    "    #def allocate_resources(self)\n",
    "            \n",
    "            \n",
    "    def display_info(self):\n",
    "        q1_count = np.count_nonzero(self.lambda_q1) # == True\n",
    "        q2_count = np.count_nonzero(self.lambda_q2) #== True\n",
    "        q3_count = np.count_nonzero(self.lambda_q3) #== True\n",
    "        tdc_count = np.count_nonzero(self.lambda_tdc) #== True\n",
    "        print(f\"Link: Nodes ={self.nodes}, lambda_tdc_count={tdc_count}, lambda_q1_count={q1_count}, lambda_q2_count={q2_count}, lambda_q3_count={q3_count}\")\n",
    "        \n",
    "    @classmethod\n",
    "    def initialize_links(cls, edges):\n",
    "\n",
    "        all_values = [nodes for row in edges for nodes in row[:2]]    # A list of all the values/nodes in first 2 columns : s & d\n",
    "        m = min(all_values)\n",
    "        M = max(all_values)\n",
    "        numNodes = max(all_values) - min(all_values) + 1     # Correction for the convention in indexing of nodes in the data of edges\n",
    "    \n",
    "        links = np.zeros([M+1, M+1], dtype = object)    # Will have redundant entries. M is the highest node index\n",
    "        #link_indices = np.zeros_like(links, dtype = bool)\n",
    "\n",
    "        #links = {}\n",
    "        \n",
    "        for (s, d, w) in edges:\n",
    "\n",
    "            nodes = (s, d)\n",
    "            link = cls(nodes, w)\n",
    "            \n",
    "            links[nodes] = link\n",
    "            links[d, s] = link\n",
    "            \n",
    "            #print(\"link info\")\n",
    "            #link.display_info() # Working\n",
    "\n",
    "            #print(\"links[nodes] info\")\n",
    "            #links[nodes].display_info() # Working\n",
    "\n",
    "            #if min(all_values) == 0:\n",
    "             #   (S, D) = (s, d)\n",
    "            #else :\n",
    "             #   (S, D) = (s-1, d-1)\n",
    "            # (S, D) = (s-m, d-m)    # However, we won't be able to access the links with their indices in this case\n",
    "            #links[s, d] = link\n",
    "            #links[d, s] = link\n",
    "            #link_indices(s, d) = True\n",
    "            #link_indices(d, s) = True\n",
    "                    \n",
    "        indices = links != 0    # A mask that holds the location of each link\n",
    "\n",
    "        return (links, indices)\n",
    "\n",
    "    @classmethod\n",
    "    def FF(cls, path, cr):\n",
    "        # First check for availability of resources\n",
    "        # We've not considered ASLC and Resource usage extent here]\n",
    "    \n",
    "        sl = cr.sl\n",
    "        print(sl)\n",
    "        n_ts = {\"high\" : 8, \"medium\" : 10, \"low\" : 12}\n",
    "        available_ts = [True] * n_ts[sl]\n",
    "\n",
    "        #print(\"available_ts: \", available_ts)\n",
    "\n",
    "        for s, d in zip(path, path[1:]):    # Taking consecutive pairs of nodes\n",
    "            if sl == \"high\":\n",
    "                band = links[s, d].lambda_q1\n",
    "                print(f\"lambda_q1 : {band}, link : {s, d}\")\n",
    "            elif sl == \"medium\":\n",
    "                band = links[s, d].lambda_q2\n",
    "                print(f\"lambda_q2 : {band}, link : {s, d}\")\n",
    "            else:\n",
    "                band = links[s, d].lambda_q3\n",
    "                print(f\"lambda_q3 : {band}, link : {s, d}\")\n",
    "                \n",
    "            available_ts = [a and b for a, b in zip(available_ts, band)]\n",
    "\n",
    "        return available_ts"
   ]
  },
  {
   "cell_type": "raw",
   "id": "6c76118c-a778-4b64-a8ee-bffb9f3103b0",
   "metadata": {},
   "source": [
    "edges = [ (1, 2, 1100),  #Edge between Node 0 and Node 1\n",
    "             (2, 3, 1600), #Intermediate Edge between Node 1 and Node 2\n",
    "             (1, 3, 600), # Edge between Node 0 and Node 2\n",
    "             (2, 8, 1500), # Edge between Node 1 and Node 7\n",
    "             (1, 4, 1000),  # Edge between Node 0 and Node 3\n",
    "             (4, 5, 600), # Edge between Node 3 and Node 4\n",
    "             (5, 7, 800), # Intermediate edge between Node 4 and Node 6\n",
    "             (7, 8, 700), # Intermediate edge between Node 6 and Node 7\n",
    "             (2, 8, 1500), # Edge between Node 1 and Node 7\n",
    "             (4, 9, 1500), # Edge Betweeen Node 3 and Node 8\n",
    "             (9, 12, 800), # Edge Betweeen Node 8 and Node 11\n",
    "             (8, 10, 700), # Edge Betweeen Node 7 and Node 9\n",
    "             (10, 12, 500), # Edge Betweeen Node 9 and Node 11\n",
    "             (9, 14, 800), # Edge Betweeen Node 8 and Node 13\n",
    "             (10, 14, 500), # Edge Betweeen Node 9 and Node 13\n",
    "             (12, 13, 300), # Edge Betweeen Node 11 and Node 12\n",
    "             (13, 14, 300), # Edge Betweeen Node 12 and Node 13\n",
    "             (3, 6, 1000), # Edge Betweeen Node 2 and Node 5\n",
    "             (6, 5, 1100), # Edge Betweeen Node 5 and Node 4\n",
    "             (6, 13, 2000), # Edge Betweeen Node 5 and Node 12\n",
    "             (6, 11, 1200), # Edge Betweeen Node 5 and Node 10\n",
    "             (10, 11, 900) # Edge Betweeen Node 9 and Node 10]\n",
    "        ]\n",
    "\n",
    "(links, indices) = Links.initialize_links(edges)\n",
    "#print(links, indices)"
   ]
  },
  {
   "cell_type": "raw",
   "id": "8cfc24e0-3298-4f02-8349-c7bcb9e508e4",
   "metadata": {},
   "source": [
    "links[1, 2].update_link(channel = 1, ts = 6)"
   ]
  },
  {
   "cell_type": "raw",
   "id": "6765da8d-37bc-4044-b0a8-36d7b7249ef8",
   "metadata": {},
   "source": [
    "links[1, 2].update_link(channel = 1, ts = 11)"
   ]
  },
  {
   "cell_type": "code",
   "execution_count": 6,
   "id": "71672bd1-1ec1-4143-a960-87a55f5d27ac",
   "metadata": {},
   "outputs": [],
   "source": [
    "#print(indices)"
   ]
  },
  {
   "cell_type": "code",
   "execution_count": 7,
   "id": "f66deb06-398c-4a7e-b8ad-a6abde2c0247",
   "metadata": {},
   "outputs": [],
   "source": [
    "#print(links)"
   ]
  },
  {
   "cell_type": "code",
   "execution_count": 8,
   "id": "5a3e6045-214c-4c13-b126-bf2188dd49b1",
   "metadata": {},
   "outputs": [],
   "source": [
    "##for index in indices: # ERROR : Because indices isn't an array. See below cell for correction\n",
    "  ##  links[index].display_info()"
   ]
  },
  {
   "cell_type": "raw",
   "id": "5ffd2a9b-4f7d-45ae-bbe1-fff4e017a6fd",
   "metadata": {},
   "source": [
    "for link in links[indices]:    # Will display double the number of actual edges, due to ordered pair\n",
    "   link.display_info()"
   ]
  },
  {
   "cell_type": "raw",
   "id": "63b1a390-9ba9-41ba-a485-6539e336928a",
   "metadata": {},
   "source": [
    "links[indices]"
   ]
  },
  {
   "cell_type": "raw",
   "id": "768a337a-f354-4ccb-9e32-3b2d457ca1a6",
   "metadata": {},
   "source": [
    "links[1, 2].display_info()"
   ]
  },
  {
   "cell_type": "raw",
   "id": "de90aab2-2fcd-4c4a-81e4-e282d095b0a4",
   "metadata": {},
   "source": [
    "index = (1, 2)\n",
    "links[index].display_info()"
   ]
  },
  {
   "cell_type": "raw",
   "id": "96446c6c-e7e9-4ec4-862e-59f331f1924a",
   "metadata": {},
   "source": [
    "links[index].resources_available(1, 5)"
   ]
  },
  {
   "cell_type": "raw",
   "id": "2dbedfe2-3062-4f14-8017-cf444c05b57b",
   "metadata": {},
   "source": [
    "available_ts = Links.FF(candidate_path, cr)`\n",
    "print(f\"SL of CR : {cr.sl}, available time-slots in corresponding channel : {available_ts}\")"
   ]
  }
 ],
 "metadata": {
  "kernelspec": {
   "display_name": "Python 3 (ipykernel)",
   "language": "python",
   "name": "python3"
  },
  "language_info": {
   "codemirror_mode": {
    "name": "ipython",
    "version": 3
   },
   "file_extension": ".py",
   "mimetype": "text/x-python",
   "name": "python",
   "nbconvert_exporter": "python",
   "pygments_lexer": "ipython3",
   "version": "3.12.1"
  }
 },
 "nbformat": 4,
 "nbformat_minor": 5
}
