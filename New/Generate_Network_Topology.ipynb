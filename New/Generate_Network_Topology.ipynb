{
 "cells": [
  {
   "cell_type": "markdown",
   "id": "e3a4c3f9-0d22-45d4-b7ca-1ccd6ad72be0",
   "metadata": {},
   "source": [
    "# Generating Network Topology :\n",
    "\n",
    "This file creates and displays a network topology, given the data of edges(node 1, node 2, weight). There are two functions to deal with biderectional and non-directional graphs."
   ]
  },
  {
   "cell_type": "raw",
   "id": "f71cb025-a404-4358-afec-a3dc45bdc7ab",
   "metadata": {},
   "source": [
    "# Required Modules \n",
    "import networkx as nx\n",
    "import matplotlib.pyplot as plt\n",
    "import numpy as np"
   ]
  },
  {
   "cell_type": "code",
   "execution_count": 2,
   "id": "9b8b6b9c-9470-469b-a33f-ad5c1d9837e5",
   "metadata": {},
   "outputs": [],
   "source": [
    "def create_topology(edges, save_fig = False, draw = True):\n",
    "  \n",
    "    all_values = set([nodes for row in edges for nodes in row[:2]])    # A list of all the values/nodes in first 2 columns : s & d\n",
    "    correction = -min(all_values) + 1     # Correction for the convention in indexing of nodes in the data of edges : nodes start form 0\n",
    "\n",
    "    edges = [(u + correction, v + correction, w) for u, v, w in edges]\n",
    "    \n",
    "    g = nx.Graph()\n",
    "    numNodes = max(all_values) + correction\n",
    "    \n",
    "    nodes = np.arange(1, numNodes + 1)\n",
    "    g.add_nodes_from(nodes)\n",
    "\n",
    "    g.add_weighted_edges_from(edges)\n",
    "    weights = {(item[0], item[1]): item[2] for item in edges}\n",
    "\n",
    "    \n",
    "    # Position of nodes\n",
    "    pos = nx.spring_layout(g, seed = 5) \n",
    "    nx.draw_networkx_nodes(g, pos, node_size =200)\n",
    "    \n",
    "    # Position of edges\n",
    "    nx.draw_networkx_edges(g, pos, edgelist = edges, width = 2) \n",
    "\n",
    "    # node labels\n",
    "    nx.draw_networkx_labels(g, pos, font_size = 7)\n",
    "\n",
    "    #edge labels\n",
    "    nx.draw_networkx_edge_labels(g, pos, weights)\n",
    "    \n",
    "    print(\"Number of Nodes: \", numNodes)\n",
    "    print(\"Number of Links :\", len(g.edges()))\n",
    "    \n",
    "    if save_fig == True:\n",
    "        figname = str(numNodes) + \"-nodes.png\"\n",
    "        plt.savefig(figname)\n",
    "\n",
    "    #Configuraiton\n",
    "    ax = plt.gca()\n",
    "    ax.margins(0.08)\n",
    "    plt.axis('off')\n",
    "    plt.tight_layout()\n",
    "    plt.show()\n",
    "\n",
    "    return g, edges"
   ]
  },
  {
   "cell_type": "markdown",
   "id": "36e51ed5-92f1-4b18-9d61-f641f867a349",
   "metadata": {},
   "source": [
    "# Bidirectional Graph"
   ]
  },
  {
   "cell_type": "code",
   "execution_count": 3,
   "id": "f5707f49-2036-449b-b63a-03aa6587159b",
   "metadata": {},
   "outputs": [],
   "source": [
    "def create_bi_topology(edges, save_fig = False, draw = True):\n",
    "  \n",
    "    all_values = set([nodes for row in edges for nodes in row[:2]])    # A list of all the values/nodes in first 2 columns : s & d\n",
    "    correction = -min(all_values) + 1     # Correction for the convention in indexing of nodes in the data of edges : nodes start form 0\n",
    "\n",
    "    edges = [(u + correction, v + correction, w) for u, v, w in edges]\n",
    "    \n",
    "    g = nx.DiGraph()\n",
    "    numNodes = max(all_values) + correction\n",
    "    \n",
    "    nodes = np.arange(1, numNodes + 1)\n",
    "    g.add_nodes_from(nodes)\n",
    "\n",
    "    g.add_weighted_edges_from(edges)\n",
    "    weights = {(item[0], item[1]): item[2] for item in edges}\n",
    "\n",
    "    # Position of nodes\n",
    "    pos = nx.spring_layout(g, seed = 5) \n",
    "    nx.draw_networkx_nodes(g, pos, node_size =200)\n",
    "    nx.draw_networkx_edges(g, pos, edgelist = edges, width = 2) \n",
    "    nx.draw_networkx_labels(g, pos, font_size = 7)\n",
    "    nx.draw_networkx_edge_labels(g, pos, weights)\n",
    "    \n",
    "    print(\"Number of Nodes: \", numNodes)\n",
    "    print(\"Number of Links :\", len(g.edges()))\n",
    "    \n",
    "    if save_fig == True:\n",
    "        figname = str(numNodes) + \"-nodes.png\"\n",
    "        plt.savefig(figname)\n",
    "\n",
    "    #Configuraiton\n",
    "    ax = plt.gca()\n",
    "    ax.margins(0.08)\n",
    "    plt.axis('off')\n",
    "    plt.tight_layout()\n",
    "    plt.show()\n",
    "\n",
    "    return g, edges"
   ]
  },
  {
   "cell_type": "markdown",
   "id": "50aa8db0-157c-48f6-9aee-f8ab382bcf78",
   "metadata": {},
   "source": [
    "**Example** : A 6 Node Graph"
   ]
  },
  {
   "cell_type": "markdown",
   "id": "ab70e6cd-ea8c-4e9d-a6d7-1f377dab06b3",
   "metadata": {},
   "source": [
    "Total node pairs : $n \\choose 2 $  "
   ]
  },
  {
   "cell_type": "code",
   "execution_count": 8,
   "id": "11f14d10-c443-480a-b16c-4cc3da4c34d9",
   "metadata": {},
   "outputs": [],
   "source": [
    "def k_sp(g, k = 10):\n",
    "    \"\"\"Calculates k shortest paths for all node pairs in a graph using NetworkX.\n",
    "\n",
    "    Args:\n",
    "        g: The input graph.\n",
    "        node_list: A list of nodes in the graph.\n",
    "        k: The number of shortest paths to calculate.\n",
    "\n",
    "    Returns:\n",
    "        A dictionary of dictionaries mapping node pairs to path-cost pairs.\n",
    "    \"\"\"\n",
    "    # Nodes start from 0\n",
    "    \n",
    "    num_nodes = len(g)\n",
    "    k_sp_dict = {}   # {(n1, n2) : {p1 : c1, ..., pk : ck}, ..., (n_k_1, n_k) : {p1 : c1, ..., pk : ck} } ; p_i = (l1, l2, ..., l_j)\n",
    "    nodes = list(g.nodes)\n",
    "    \n",
    "    for i in nodes  :    # (i, )\n",
    "        for j in nodes :    # (, j)\n",
    "            if i == j:\n",
    "                continue\n",
    "                \n",
    "            k_shortest_paths = list(nx.shortest_simple_paths(g, source = i, target = j, weight='weight'))\n",
    "            path_costs = [sum(g[s][d]['weight'] for s, d in zip(path, path[1:])) for path in k_shortest_paths]\n",
    "\n",
    "            k_sp_dict[(i, j)] = {tuple(path) : cost for path, cost in zip(k_shortest_paths, path_costs)}\n",
    "\n",
    "    return k_sp_dict"
   ]
  },
  {
   "cell_type": "raw",
   "id": "2c71f957-00a4-409b-96f7-53666a050d50",
   "metadata": {},
   "source": [
    "def k_sp(self, g, k = 1):\n",
    "    try:\n",
    "        # Find the K-shortest paths\n",
    "        k_shortest_paths = list(nx.shortest_simple_paths(g, source = self.s, target = self.d, weight='weight'))\n",
    "\n",
    "        # Retrieve path costs\n",
    "        path_costs = [sum(g[s][d]['weight'] for s, d in zip(path, path[1:])) for path in k_shortest_paths]\n",
    "    \n",
    "       # Return both paths and corresponding path costs\n",
    "        return list(zip(k_shortest_paths, path_costs))[:k]\n",
    "        \n",
    "    except nx.NetworkXNoPath:    # i.e. the node is not connected to the given network\n",
    "        # Handle the case where no path exists\n",
    "        return []\n",
    "        \n",
    "\n",
    "def shortest_path(self, g): # shortest path in terms of hop counts\n",
    "    return nx.shortest_path(g, source = self.s, target = self.d)\n"
   ]
  },
  {
   "cell_type": "raw",
   "id": "9603fd2d-45e7-4b1c-a24c-510c3d969171",
   "metadata": {},
   "source": [
    "# Edges (connections between nodes) with distances\n",
    "edges = [ \n",
    "             (5, 0, 1200), # Edge between Node 5 and Node 0\n",
    "             (0, 1, 1200), # Edge between Node 0 and Node 1\n",
    "             (1, 2, 800), # Edge between Node 1 and Node 2\n",
    "             (2, 3, 900), # Edge between Node 2 and Node 3\n",
    "             (3, 4, 1000), # Edge between Node 3 and Node 4\n",
    "             (4, 5, 900), # Edge between Node 4 and Node 5\n",
    "             (0, 4, 1000), # Intermediate edge between Node 0 and Node 4\n",
    "             (1, 3, 1000) # Intermediate edge between Node 1 and Node 3\n",
    "            \n",
    "    ]\n",
    "\n",
    "#draw = True\n",
    "edges = edges + [(v, u, w) for u, v, w in edges]\n",
    "g = create_bi_topology(edges)"
   ]
  },
  {
   "cell_type": "raw",
   "id": "0f7c50a3-8157-4515-a272-82b11661d324",
   "metadata": {},
   "source": [
    "k_SP = k_sp(g = g, k = 5)\n",
    "k_SP"
   ]
  },
  {
   "cell_type": "raw",
   "id": "7b4f6245-8a26-4d3b-a5d0-c72405f2f74f",
   "metadata": {},
   "source": [
    "list(k_SP.items())"
   ]
  },
  {
   "cell_type": "raw",
   "id": "85f29b0f-fdf6-4d3c-895a-d42b551bb6fc",
   "metadata": {},
   "source": [
    "k_SP = k_SP.update({(j, i) : val for nodes, val in list(k_SP.items()) for (i, j) in nodes})"
   ]
  },
  {
   "cell_type": "raw",
   "id": "fe607cd6-ffaa-4215-b8ad-0bcbd13468ad",
   "metadata": {},
   "source": [
    "print(k_SP)"
   ]
  },
  {
   "cell_type": "raw",
   "id": "268a2c24-b5a5-4e02-98ff-ab0b10c25fcf",
   "metadata": {},
   "source": [
    "list(k_SP[(3,6)])"
   ]
  },
  {
   "cell_type": "raw",
   "id": "65f9fcde-951c-411a-b9b8-340ba9c51570",
   "metadata": {},
   "source": [
    "cp = list(k_SP[(3,6)].items())\n",
    "cp"
   ]
  },
  {
   "cell_type": "raw",
   "id": "5887353e-73d0-49a1-8b20-b5235840e722",
   "metadata": {},
   "source": [
    "for l in range(len(cp)):\n",
    "    print(cp[l])"
   ]
  },
  {
   "cell_type": "raw",
   "id": "237e821a-815f-47cd-ac31-49cd0870f421",
   "metadata": {},
   "source": [
    "k_SP[(3, 6)].items()"
   ]
  },
  {
   "cell_type": "raw",
   "id": "b69c236c-cc4f-4828-83a5-ec4f7c6d55a2",
   "metadata": {},
   "source": [
    "k = 10\n",
    "k_sp = list(k_SP[(3, 6)])                            # Taking k = 3. Gives us [path][weight]\n",
    "# Finding the path with available resources\n",
    "for l in range(len(k_sp)):                              # To loop over the next k-sp in case the CR couldn't be allocated to the previous one\n",
    "    \n",
    "    candidate_path = k_sp[l]                 # Path with the lowest weight so far becomes the transmission path\n",
    "    print(candidate_path)\n",
    "    # Attempting to allocate resources\n",
    "    # success = Links.FF(candidate_path, cr, aslc)    # Will return True if resources have been allocated, otherwise False\n",
    "    \n",
    "    # Checking if the path was allocated or not\n",
    "    # if success:\n",
    "    #     break  "
   ]
  },
  {
   "cell_type": "code",
   "execution_count": null,
   "id": "0976a50b-38fd-407f-a0ff-fde6252e7b0a",
   "metadata": {},
   "outputs": [],
   "source": []
  }
 ],
 "metadata": {
  "kernelspec": {
   "display_name": "Python 3 (ipykernel)",
   "language": "python",
   "name": "python3"
  },
  "language_info": {
   "codemirror_mode": {
    "name": "ipython",
    "version": 3
   },
   "file_extension": ".py",
   "mimetype": "text/x-python",
   "name": "python",
   "nbconvert_exporter": "python",
   "pygments_lexer": "ipython3",
   "version": "3.8.19"
  }
 },
 "nbformat": 4,
 "nbformat_minor": 5
}
