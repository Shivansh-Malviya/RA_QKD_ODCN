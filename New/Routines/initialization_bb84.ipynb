{
 "cells": [
  {
   "cell_type": "code",
   "execution_count": null,
   "id": "16fa7d66-7326-4ce6-b8d1-8f083521355a",
   "metadata": {},
   "outputs": [],
   "source": [
    "precision = eve_threshold/2 + ch_noise/2   \n",
    "error_threshold = eve_threshold - ch_noise - precision\n",
    "\n",
    "indices = np.arange(num_keys).astype('float32')\n",
    "time_taken = np.zeros(num_keys, dtype = 'float32')    # avg time taken by a key of a certain length\n",
    "QBERs = np.zeros(num_keys, dtype = 'float32')\n",
    "KEY_RESERVOIR = []\n",
    "KEY_RESERVOIR_len = np.zeros(num_keys, dtype = 'uint16')\n",
    "Eve_detected = np.zeros(num_keys, dtype='uint8')\n",
    "\n",
    "SKGR = 0\n",
    "flag = 0"
   ]
  },
  {
   "cell_type": "markdown",
   "id": "c52fee78-c42f-4c71-938e-db3a451dc3b1",
   "metadata": {},
   "source": [
    "# Test and Checks"
   ]
  },
  {
   "cell_type": "code",
   "execution_count": null,
   "id": "e82d32a2-1e32-4d85-8e83-67de62413658",
   "metadata": {},
   "outputs": [],
   "source": [
    "def Test():\n",
    "    init_vars = [num_iter, num_keys, key_size, write, eve_presence, ch_noise, eve_threshold, Eve_detected, KEY_RESERVOIR_len, time_taken, QBERs, KEY_RESERVOIR]\n",
    "    init_labels = \"num_iter, num_keys, key_size, write, eve_presence, ch_noise, eve_threshold, Eve_detected, KEY_RESERVOIR_len, time_taken, QBERs, KEY_RESERVOIR\".split(\", \")\n",
    "    \n",
    "    test(init_vars, init_labels)"
   ]
  }
 ],
 "metadata": {
  "kernelspec": {
   "display_name": "Python 3 (ipykernel)",
   "language": "python",
   "name": "python3"
  },
  "language_info": {
   "codemirror_mode": {
    "name": "ipython",
    "version": 3
   },
   "file_extension": ".py",
   "mimetype": "text/x-python",
   "name": "python",
   "nbconvert_exporter": "python",
   "pygments_lexer": "ipython3",
   "version": "3.8.19"
  }
 },
 "nbformat": 4,
 "nbformat_minor": 5
}
