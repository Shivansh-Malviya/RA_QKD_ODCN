{
 "cells": [
  {
   "cell_type": "code",
   "execution_count": null,
   "id": "fbfa5550-4f30-47e6-8b49-1e171d1a2936",
   "metadata": {},
   "outputs": [],
   "source": [
    "CR_1 = []\n",
    "CR_0 = []\n",
    "CR_minus1 = []"
   ]
  },
  {
   "cell_type": "code",
   "execution_count": null,
   "id": "fba5e0ca-959f-4e08-b9b7-3359744b35db",
   "metadata": {},
   "outputs": [],
   "source": [
    "def create_priority_queue(CRs):\n",
    "    #Priority Queue\n",
    "    CR_1 = []\n",
    "    CR_0 = []\n",
    "    CR_minus1 = []\n",
    "\n",
    "    for cr in CRs :\n",
    "        if cr.sl == \"high\":\n",
    "            CR_1.append(cr)\n",
    "        elif cr.sl == \"medium\":\n",
    "            CR_0.append(cr)\n",
    "        else:\n",
    "            CR_minus1.append(cr)\n",
    "\n",
    "    PQ = CR_1 + CR_0 + CR_minus1\n",
    "\n",
    "    return PQ"
   ]
  }
 ],
 "metadata": {
  "kernelspec": {
   "display_name": "Python 3 (ipykernel)",
   "language": "python",
   "name": "python3"
  },
  "language_info": {
   "codemirror_mode": {
    "name": "ipython",
    "version": 3
   },
   "file_extension": ".py",
   "mimetype": "text/x-python",
   "name": "python",
   "nbconvert_exporter": "python",
   "pygments_lexer": "ipython3",
   "version": "3.8.7"
  }
 },
 "nbformat": 4,
 "nbformat_minor": 5
}
