{
 "cells": [
  {
   "cell_type": "markdown",
   "id": "c3089e86-3a31-4e6b-9a10-da23ffb0eb67",
   "metadata": {},
   "source": [
    "# QKRA-ASSL"
   ]
  },
  {
   "cell_type": "code",
   "execution_count": null,
   "id": "511a1049-9c2c-46ff-bf7e-29f7c617aaca",
   "metadata": {},
   "outputs": [],
   "source": [
    "while j < j_range:    # Loop to have various X values, incrementing by a fixed amount\n",
    "\n",
    "    # Parameters used later\n",
    "    k = 10\n",
    "    \n",
    "    # Initializes the links structure with weights\n",
    "    (links, indices, unordered_indices) = Links.initialize_links(edges) \n",
    "\n",
    "    # Generating X Crs\n",
    "    CRs = CR.generate_crs(X) \n",
    "\n",
    "    ########################################################################\n",
    "    \n",
    "    # Creating the priority Queue\n",
    "    PQ_all = CR.create_priority_queue('all')\n",
    "\n",
    "    for i in [1, 2, 3]: \n",
    "        # Allocating Resources to high priority CRs\n",
    "        for cr in PQ_all[i]:  \n",
    "            \n",
    "            k_sp = cr.k_sp(g_nsfnet, k)    # Taking k = 10. Gives us [path][weight]\n",
    "            # Finding the path to be followed\n",
    "            for i in range(k):    # Using the next k-sp in case the CR couldn't be allocated to the previous one\n",
    "                candidate_path = k_sp[i][0]    # Path with the lowest weight so far becomes the transmission path\n",
    "                print(f\"\\nAttempting allocation of CR {cr.index} on path : {candidate_path}\")\n",
    "            \n",
    "                # Attempting to allocate resources\n",
    "                success = Links.FF(candidate_path, cr)\n",
    "                print(f\"CR {cr.index} status : {cr.status}, on path :\", candidate_path)\n",
    "                # Checking if the path was allocated or not\n",
    "                if success:\n",
    "                    break  \n",
    "    \n",
    "            #X = X-1\n",
    "    \n",
    "        print(f\"\\nAll {cr.sl} priority CRs dealt with:\")\n",
    "        CR.display_all(PQ_all[1])\n",
    "\n",
    "    print(f\"All CRs for X = {X} dealt with\")\n",
    "\n",
    "    x[z, j] = X\n",
    "    srcr[z, j] = CR.SRCR(CRs)\n",
    "    nsp[z, j] = CR.NSP(CRs)\n",
    "    tur[z, j] = Links.TUR()\n",
    "\n",
    "    # Allocating resources to medium and low\n",
    "    # Need to write code for ASLC\n",
    "\n",
    "    '''\n",
    "    run = input(print(\"Want to continue?(y/n)\"))\n",
    "    #run = 'n'\n",
    "    if run == 'y':\n",
    "        X = int(input(\"Input the number of CRs to be generates\"))\n",
    "    '''\n",
    "       \n",
    "    j += 1\n",
    "    X = 5*(2 + j)*factor\n",
    " \n",
    "print(\"Simulation Ended\")"
   ]
  }
 ],
 "metadata": {
  "kernelspec": {
   "display_name": "Python 3 (ipykernel)",
   "language": "python",
   "name": "python3"
  },
  "language_info": {
   "codemirror_mode": {
    "name": "ipython",
    "version": 3
   },
   "file_extension": ".py",
   "mimetype": "text/x-python",
   "name": "python",
   "nbconvert_exporter": "python",
   "pygments_lexer": "ipython3",
   "version": "3.12.1"
  }
 },
 "nbformat": 4,
 "nbformat_minor": 5
}
