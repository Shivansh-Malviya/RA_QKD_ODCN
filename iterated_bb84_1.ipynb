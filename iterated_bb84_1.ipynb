{
 "cells": [
  {
   "cell_type": "code",
   "execution_count": 1,
   "id": "d0cbda05-6a29-4e46-9188-6d66d75b7434",
   "metadata": {},
   "outputs": [],
   "source": [
    "import matplotlib.pyplot as plt\n",
    "import numpy as np\n",
    "import time\n",
    "import os"
   ]
  },
  {
   "cell_type": "code",
   "execution_count": 2,
   "id": "e911f65c-5852-4e25-851a-c54e81fdf5df",
   "metadata": {},
   "outputs": [],
   "source": [
    "# For writing data\n",
    "data_subdirectory = \"Data\"\n",
    "if not os.path.exists(data_subdirectory):\n",
    "    os.makedirs(data_subdirectory)\n",
    "\n",
    "# Setting the precision for floating points :\n",
    "np.set_printoptions(precision=4)"
   ]
  },
  {
   "cell_type": "raw",
   "id": "3dfae153-7305-4fc2-a129-07f76991efd6",
   "metadata": {},
   "source": [
    "from ch_noise in [0.00, 0.30, 0.05] :\n",
    "    bb84(ch_noise)\n",
    "\n",
    "# Channel Error : 0.00 - 0.30, 0.05 V/s QBER (eve detection)\n",
    "# Input len vs output len\n",
    "\n",
    "# Ch noise\n",
    "# Initial bit length\n",
    "\n",
    "# Eve_detected (True/False)\n",
    "# QBER\n",
    "# SKRG\n",
    "\n",
    "# Post processing\n",
    "# TDC encryption\n",
    "\n",
    "# Implement in NSFNET\n",
    "# Building QSC - 3 security levels(QBER?)\n",
    "# Intrgrating PIC "
   ]
  },
  {
   "cell_type": "code",
   "execution_count": 3,
   "id": "91bc2742-0adb-4a47-acdb-3348089ed3be",
   "metadata": {},
   "outputs": [],
   "source": [
    "write = 0\n",
    "eve_presence = 0 #'Random'\n",
    "\n",
    "num_iter = 1    # To average over\n",
    "in_range = 20    # Range of steps of initial length\n",
    "ch_noise = 0.02     # 0.00 - 0.30, 0.05 V/s QBER (eve detection)\n",
    "in_len = [100*(_+1) for _ in range(in_range)]\n",
    "\n",
    "out_len = np.empty((num_iter, in_range))    # Length of key output for various initial key sizes\n",
    "time_taken = np.empty((num_iter, in_range)).astype('object')    # avg time taken by a key of a certain length\n",
    "QBERs = np.empty((num_iter, in_range))\n",
    "Eve_detected = np.empty((num_iter, in_range))\n",
    "\n",
    "keys = np.empty((num_iter, in_range))\n",
    "SKRG = np.empty(in_range)    # Secure key generation rate"
   ]
  },
  {
   "cell_type": "code",
   "execution_count": 4,
   "id": "c7c3d059-abb3-434b-bf3c-9ccc240b79df",
   "metadata": {},
   "outputs": [
    {
     "name": "stdout",
     "output_type": "stream",
     "text": [
      "0\n",
      "I=0\n"
     ]
    },
    {
     "ename": "AttributeError",
     "evalue": "'QuantumCircuit' object has no attribute 'qasm'",
     "output_type": "error",
     "traceback": [
      "\u001b[1;31m---------------------------------------------------------------------------\u001b[0m",
      "\u001b[1;31mAttributeError\u001b[0m                            Traceback (most recent call last)",
      "File \u001b[1;32m~\\AppData\\Local\\Temp\\ipykernel_5796\\2453784040.py:17\u001b[0m\n\u001b[0;32m     14\u001b[0m     NoisyChannel(encoded_intercepted_qubits, qubits_received, \u001b[38;5;124m'\u001b[39m\u001b[38;5;124mEve\u001b[39m\u001b[38;5;124m'\u001b[39m, noise \u001b[38;5;241m=\u001b[39m ch_noise) \u001b[38;5;66;03m## Eve sends noisy states to Bob\u001b[39;00m\n\u001b[0;32m     16\u001b[0m \u001b[38;5;28;01melse\u001b[39;00m : \n\u001b[1;32m---> 17\u001b[0m     NoisyChannel(encoded_qubits, qubits_received, \u001b[38;5;124m'\u001b[39m\u001b[38;5;124mAlice\u001b[39m\u001b[38;5;124m'\u001b[39m, noise \u001b[38;5;241m=\u001b[39m ch_noise)\n",
      "File \u001b[1;32m~\\AppData\\Local\\Temp\\ipykernel_5796\\1829849092.py:8\u001b[0m, in \u001b[0;36mNoisyChannel\u001b[1;34m(qc1, qc2, qc1_name, noise)\u001b[0m\n\u001b[0;32m      2\u001b[0m \u001b[38;5;250m\u001b[39m\u001b[38;5;124;03m''' This function takes the output of a circuit qc1 (made up only of x and \u001b[39;00m\n\u001b[0;32m      3\u001b[0m \u001b[38;5;124;03m    h gates), simulates a noisy quantum channel where Pauli errors (X - bit flip; Z - phase flip)\u001b[39;00m\n\u001b[0;32m      4\u001b[0m \u001b[38;5;124;03m    will occur in qc2, and then initializes another circuit qc2 with the introduced noise.\u001b[39;00m\n\u001b[0;32m      5\u001b[0m \u001b[38;5;124;03m'''\u001b[39;00m \n\u001b[0;32m      7\u001b[0m \u001b[38;5;66;03m# Retrieve quantum state from qasm code of qc1\u001b[39;00m\n\u001b[1;32m----> 8\u001b[0m qs \u001b[38;5;241m=\u001b[39m [qc1[i]\u001b[38;5;241m.\u001b[39mqasm()\u001b[38;5;241m.\u001b[39msplit(\u001b[38;5;124m'\u001b[39m\u001b[38;5;130;01m\\n\u001b[39;00m\u001b[38;5;124m'\u001b[39m) \u001b[38;5;28;01mfor\u001b[39;00m i \u001b[38;5;129;01min\u001b[39;00m \u001b[38;5;28mrange\u001b[39m(\u001b[38;5;28mlen\u001b[39m(qc1))]\n\u001b[0;32m     10\u001b[0m \u001b[38;5;66;03m# Process the code to get the instructions\u001b[39;00m\n\u001b[0;32m     11\u001b[0m parsed_instructions \u001b[38;5;241m=\u001b[39m []\n",
      "\u001b[1;31mAttributeError\u001b[0m: 'QuantumCircuit' object has no attribute 'qasm'"
     ]
    },
    {
     "ename": "AttributeError",
     "evalue": "'QuantumCircuit' object has no attribute 'qasm'",
     "output_type": "error",
     "traceback": [
      "\u001b[1;31m---------------------------------------------------------------------------\u001b[0m",
      "\u001b[1;31mAttributeError\u001b[0m                            Traceback (most recent call last)",
      "Cell \u001b[1;32mIn[4], line 10\u001b[0m\n\u001b[0;32m      7\u001b[0m KEY_LENGTH \u001b[38;5;241m=\u001b[39m in_len[I]\n\u001b[0;32m      9\u001b[0m time_taken[J, I] \u001b[38;5;241m=\u001b[39m time\u001b[38;5;241m.\u001b[39mtime()\n\u001b[1;32m---> 10\u001b[0m get_ipython()\u001b[38;5;241m.\u001b[39mrun_line_magic(\u001b[38;5;124m'\u001b[39m\u001b[38;5;124mrun\u001b[39m\u001b[38;5;124m'\u001b[39m, \u001b[38;5;124m'\u001b[39m\u001b[38;5;124m./Qiskit_rebuilt_2.ipynb\u001b[39m\u001b[38;5;124m'\u001b[39m)\n\u001b[0;32m     11\u001b[0m time_taken[J, I] \u001b[38;5;241m=\u001b[39m time\u001b[38;5;241m.\u001b[39mtime() \u001b[38;5;241m-\u001b[39m time_taken[J, I]\n\u001b[0;32m     13\u001b[0m out_len[J, I] \u001b[38;5;241m+\u001b[39m\u001b[38;5;241m=\u001b[39m \u001b[38;5;28mlen\u001b[39m(key)\n",
      "File \u001b[1;32m~\\anaconda3\\envs\\qscourse-511\\Lib\\site-packages\\IPython\\core\\interactiveshell.py:2480\u001b[0m, in \u001b[0;36mInteractiveShell.run_line_magic\u001b[1;34m(self, magic_name, line, _stack_depth)\u001b[0m\n\u001b[0;32m   2478\u001b[0m     kwargs[\u001b[38;5;124m'\u001b[39m\u001b[38;5;124mlocal_ns\u001b[39m\u001b[38;5;124m'\u001b[39m] \u001b[38;5;241m=\u001b[39m \u001b[38;5;28mself\u001b[39m\u001b[38;5;241m.\u001b[39mget_local_scope(stack_depth)\n\u001b[0;32m   2479\u001b[0m \u001b[38;5;28;01mwith\u001b[39;00m \u001b[38;5;28mself\u001b[39m\u001b[38;5;241m.\u001b[39mbuiltin_trap:\n\u001b[1;32m-> 2480\u001b[0m     result \u001b[38;5;241m=\u001b[39m fn(\u001b[38;5;241m*\u001b[39margs, \u001b[38;5;241m*\u001b[39m\u001b[38;5;241m*\u001b[39mkwargs)\n\u001b[0;32m   2482\u001b[0m \u001b[38;5;66;03m# The code below prevents the output from being displayed\u001b[39;00m\n\u001b[0;32m   2483\u001b[0m \u001b[38;5;66;03m# when using magics with decorator @output_can_be_silenced\u001b[39;00m\n\u001b[0;32m   2484\u001b[0m \u001b[38;5;66;03m# when the last Python token in the expression is a ';'.\u001b[39;00m\n\u001b[0;32m   2485\u001b[0m \u001b[38;5;28;01mif\u001b[39;00m \u001b[38;5;28mgetattr\u001b[39m(fn, magic\u001b[38;5;241m.\u001b[39mMAGIC_OUTPUT_CAN_BE_SILENCED, \u001b[38;5;28;01mFalse\u001b[39;00m):\n",
      "File \u001b[1;32m~\\anaconda3\\envs\\qscourse-511\\Lib\\site-packages\\IPython\\core\\magics\\execution.py:737\u001b[0m, in \u001b[0;36mExecutionMagics.run\u001b[1;34m(self, parameter_s, runner, file_finder)\u001b[0m\n\u001b[0;32m    735\u001b[0m     \u001b[38;5;28;01mwith\u001b[39;00m preserve_keys(\u001b[38;5;28mself\u001b[39m\u001b[38;5;241m.\u001b[39mshell\u001b[38;5;241m.\u001b[39muser_ns, \u001b[38;5;124m'\u001b[39m\u001b[38;5;124m__file__\u001b[39m\u001b[38;5;124m'\u001b[39m):\n\u001b[0;32m    736\u001b[0m         \u001b[38;5;28mself\u001b[39m\u001b[38;5;241m.\u001b[39mshell\u001b[38;5;241m.\u001b[39muser_ns[\u001b[38;5;124m'\u001b[39m\u001b[38;5;124m__file__\u001b[39m\u001b[38;5;124m'\u001b[39m] \u001b[38;5;241m=\u001b[39m filename\n\u001b[1;32m--> 737\u001b[0m         \u001b[38;5;28mself\u001b[39m\u001b[38;5;241m.\u001b[39mshell\u001b[38;5;241m.\u001b[39msafe_execfile_ipy(filename, raise_exceptions\u001b[38;5;241m=\u001b[39m\u001b[38;5;28;01mTrue\u001b[39;00m)\n\u001b[0;32m    738\u001b[0m     \u001b[38;5;28;01mreturn\u001b[39;00m\n\u001b[0;32m    740\u001b[0m \u001b[38;5;66;03m# Control the response to exit() calls made by the script being run\u001b[39;00m\n",
      "File \u001b[1;32m~\\anaconda3\\envs\\qscourse-511\\Lib\\site-packages\\IPython\\core\\interactiveshell.py:3005\u001b[0m, in \u001b[0;36mInteractiveShell.safe_execfile_ipy\u001b[1;34m(self, fname, shell_futures, raise_exceptions)\u001b[0m\n\u001b[0;32m   3003\u001b[0m result \u001b[38;5;241m=\u001b[39m \u001b[38;5;28mself\u001b[39m\u001b[38;5;241m.\u001b[39mrun_cell(cell, silent\u001b[38;5;241m=\u001b[39m\u001b[38;5;28;01mTrue\u001b[39;00m, shell_futures\u001b[38;5;241m=\u001b[39mshell_futures)\n\u001b[0;32m   3004\u001b[0m \u001b[38;5;28;01mif\u001b[39;00m raise_exceptions:\n\u001b[1;32m-> 3005\u001b[0m     result\u001b[38;5;241m.\u001b[39mraise_error()\n\u001b[0;32m   3006\u001b[0m \u001b[38;5;28;01melif\u001b[39;00m \u001b[38;5;129;01mnot\u001b[39;00m result\u001b[38;5;241m.\u001b[39msuccess:\n\u001b[0;32m   3007\u001b[0m     \u001b[38;5;28;01mbreak\u001b[39;00m\n",
      "File \u001b[1;32m~\\anaconda3\\envs\\qscourse-511\\Lib\\site-packages\\IPython\\core\\interactiveshell.py:308\u001b[0m, in \u001b[0;36mExecutionResult.raise_error\u001b[1;34m(self)\u001b[0m\n\u001b[0;32m    306\u001b[0m     \u001b[38;5;28;01mraise\u001b[39;00m \u001b[38;5;28mself\u001b[39m\u001b[38;5;241m.\u001b[39merror_before_exec\n\u001b[0;32m    307\u001b[0m \u001b[38;5;28;01mif\u001b[39;00m \u001b[38;5;28mself\u001b[39m\u001b[38;5;241m.\u001b[39merror_in_exec \u001b[38;5;129;01mis\u001b[39;00m \u001b[38;5;129;01mnot\u001b[39;00m \u001b[38;5;28;01mNone\u001b[39;00m:\n\u001b[1;32m--> 308\u001b[0m     \u001b[38;5;28;01mraise\u001b[39;00m \u001b[38;5;28mself\u001b[39m\u001b[38;5;241m.\u001b[39merror_in_exec\n",
      "    \u001b[1;31m[... skipping hidden 1 frame]\u001b[0m\n",
      "File \u001b[1;32m~\\AppData\\Local\\Temp\\ipykernel_5796\\2453784040.py:17\u001b[0m\n\u001b[0;32m     14\u001b[0m     NoisyChannel(encoded_intercepted_qubits, qubits_received, \u001b[38;5;124m'\u001b[39m\u001b[38;5;124mEve\u001b[39m\u001b[38;5;124m'\u001b[39m, noise \u001b[38;5;241m=\u001b[39m ch_noise) \u001b[38;5;66;03m## Eve sends noisy states to Bob\u001b[39;00m\n\u001b[0;32m     16\u001b[0m \u001b[38;5;28;01melse\u001b[39;00m : \n\u001b[1;32m---> 17\u001b[0m     NoisyChannel(encoded_qubits, qubits_received, \u001b[38;5;124m'\u001b[39m\u001b[38;5;124mAlice\u001b[39m\u001b[38;5;124m'\u001b[39m, noise \u001b[38;5;241m=\u001b[39m ch_noise)\n",
      "File \u001b[1;32m~\\AppData\\Local\\Temp\\ipykernel_5796\\1829849092.py:8\u001b[0m, in \u001b[0;36mNoisyChannel\u001b[1;34m(qc1, qc2, qc1_name, noise)\u001b[0m\n\u001b[0;32m      2\u001b[0m \u001b[38;5;250m\u001b[39m\u001b[38;5;124;03m''' This function takes the output of a circuit qc1 (made up only of x and \u001b[39;00m\n\u001b[0;32m      3\u001b[0m \u001b[38;5;124;03m    h gates), simulates a noisy quantum channel where Pauli errors (X - bit flip; Z - phase flip)\u001b[39;00m\n\u001b[0;32m      4\u001b[0m \u001b[38;5;124;03m    will occur in qc2, and then initializes another circuit qc2 with the introduced noise.\u001b[39;00m\n\u001b[0;32m      5\u001b[0m \u001b[38;5;124;03m'''\u001b[39;00m \n\u001b[0;32m      7\u001b[0m \u001b[38;5;66;03m# Retrieve quantum state from qasm code of qc1\u001b[39;00m\n\u001b[1;32m----> 8\u001b[0m qs \u001b[38;5;241m=\u001b[39m [qc1[i]\u001b[38;5;241m.\u001b[39mqasm()\u001b[38;5;241m.\u001b[39msplit(\u001b[38;5;124m'\u001b[39m\u001b[38;5;130;01m\\n\u001b[39;00m\u001b[38;5;124m'\u001b[39m) \u001b[38;5;28;01mfor\u001b[39;00m i \u001b[38;5;129;01min\u001b[39;00m \u001b[38;5;28mrange\u001b[39m(\u001b[38;5;28mlen\u001b[39m(qc1))]\n\u001b[0;32m     10\u001b[0m \u001b[38;5;66;03m# Process the code to get the instructions\u001b[39;00m\n\u001b[0;32m     11\u001b[0m parsed_instructions \u001b[38;5;241m=\u001b[39m []\n",
      "\u001b[1;31mAttributeError\u001b[0m: 'QuantumCircuit' object has no attribute 'qasm'"
     ]
    }
   ],
   "source": [
    "total_time = time.time()\n",
    "\n",
    "for J in range(num_iter):    \n",
    "    print(J)\n",
    "    for I in range(in_range):\n",
    "        print(f\"{I=}\")\n",
    "        KEY_LENGTH = in_len[I]\n",
    "\n",
    "        time_taken[J, I] = time.time()\n",
    "        %run ./Qiskit_rebuilt_2.ipynb\n",
    "        time_taken[J, I] = time.time() - time_taken[J, I]\n",
    "        \n",
    "        out_len[J, I] += len(key)\n",
    "        keys[J, I] = str(key)\n",
    "        QBERs[J, I] = QBER\n",
    "        Eve_detected[J, I] = ((QBER >= 0.25) and eve) + ((QBER < 0.25) and not eve)    # Wheter or not the DETECTION of Eve is CORRECT\n",
    "        \n",
    "    print(f\"###################################### Iteration {J} complete ######################################\")\n",
    "\n",
    "total_time = time.time() - total_time\n",
    "print(total_time)"
   ]
  },
  {
   "cell_type": "code",
   "execution_count": null,
   "id": "4238db1b-b6a8-4936-b63b-8d9ca065d9e7",
   "metadata": {},
   "outputs": [],
   "source": [
    "print(total_time)\n",
    "elapsed_time = str(total_time//3600) + \"h\" + str( (total_time%3600)//60 ) + \"m\" + str(total_time//60) + \"s\"\n",
    "elapsed_time"
   ]
  },
  {
   "cell_type": "code",
   "execution_count": null,
   "id": "73ab9c42-1d13-4ca9-a020-cd35c732ca82",
   "metadata": {},
   "outputs": [],
   "source": [
    "# Open the files to write data to\n",
    "if write :\n",
    "    filename = f\"Data.txt\"\n",
    "    key_strings = f\"Keys.txt\"\n",
    "    data_path = os.path.join(data_subdirectory, filename)\n",
    "    key_path = os.path.join(data_subdirectory, key_strings)\n",
    "    file = open(data_path, \"a\")\n",
    "    file2 = open(key_path, \"a\")\n",
    "    \n",
    "    title = f\"\\nz = {num_iter}, range = {in_len[0]}-{in_len[-1]}, ch_noise = {ch_noise}, Eve Presence = {eve_presence}, Total Time : {total_time}({elapsed_time})\"\n",
    "    file.write(title)\n",
    "    file2.write(title)\n",
    "    \n",
    "    print(\"Files updated\")"
   ]
  },
  {
   "cell_type": "code",
   "execution_count": null,
   "id": "c120b1ca-1b73-46ce-a97a-466007cae0f6",
   "metadata": {},
   "outputs": [],
   "source": [
    "# SKGR = [sum(1 for i in range(num_iter) if QBERs[i, j] < 0.25 and Eve_detected[i, j])/sum(time_taken[:, j]) for j in range(in_range)]\n",
    "SKGR = [sum(1 for i in range(num_iter) if QBERs[i, j] < 0.25 and Eve_detected[i, j]) / sum(time_taken[:, j]) for j in range(in_range)]    # Over all iterations"
   ]
  },
  {
   "cell_type": "code",
   "execution_count": null,
   "id": "74f84d68-8eb9-4194-bc4e-a9c7201d7ba8",
   "metadata": {},
   "outputs": [],
   "source": [
    "SKGR"
   ]
  },
  {
   "cell_type": "code",
   "execution_count": null,
   "id": "92ca0c68-313d-46a7-9390-f85fc24b7f29",
   "metadata": {},
   "outputs": [],
   "source": [
    "avg_time_taken = [sum([time_taken[J, I] for J in range(num_iter)])/num_iter for I in range(in_range)]\n",
    "avg_out_len = [sum([out_len[J, I] for J in range(num_iter)])/num_iter for I in range(in_range)]\n",
    "avg_QBERs = [sum([QBERs[J, I] for J in range(num_iter)])/num_iter for I in range(in_range)]\n",
    "\n",
    "if write:\n",
    "    file.write(f\"\\nInput Length = [{', '.join(map(str, in_len))}] \\nAverage Time Taken = [{', '.join(map(str, avg_time_taken))}] \\nAverage QBER = [{', '.join(map(str, avg_QBERs))}] \\nAverage Output length = [{', '.join(map(str, avg_out_len))}]\\n \\nSKGR = [{', '.join(map(str, SKGR))}]\")\n",
    "    file.close()\n",
    "    file2.write(f\"\\nKeys = [{', '.join(map(str, keys))}] \\n\\n Eve detection = [{', '.join(map(str, Eve_detected))}]\")\n",
    "    file2.close()"
   ]
  },
  {
   "cell_type": "code",
   "execution_count": null,
   "id": "5873f0d3-89fb-419b-8ab9-fe98f0bef9ad",
   "metadata": {},
   "outputs": [],
   "source": [
    "fig, ax = plt.subplots(2, 2)\n",
    "\n",
    "# For key length\n",
    "coefficients_len = np.polyfit(in_len, avg_out_len, 1)\n",
    "polynomial_len = np.poly1d(coefficients_len)\n",
    "equation_len = f'y = {coefficients_len[0]:.2f}x + {coefficients_len[1]:.2f}'\n",
    "ax[0, 0].text(0.05, 0.95, equation_len, transform=ax[0].transAxes, fontsize=10, verticalalignment='top')\n",
    "ax[0, 0].set_xlabel('Length of initial key')\n",
    "ax[0, 0].set_ylabel('Length of final key after Information Reconciliation')\n",
    "ax[0, 0].set_title(\"Input vs Output key length\")\n",
    "ax[0, 0].plot(in_len, avg_out_len)\n",
    "ax[0, 0].plot(in_len, polynomial_len(in_len), linestyle='--')\n",
    "ax[0, 0].minorticks_on()\n",
    "ax[0, 0].grid(True)\n",
    "\n",
    "# For QBER\n",
    "coefficients_qber = np.polyfit(in_len, avg_QBERs, 1)\n",
    "polynomial_qber = np.poly1d(coefficients_qber)\n",
    "equation_qber = f'y = {coefficients_qber[0]:.2f}x + {coefficients_qber[1]:.2f}'\n",
    "ax[0, 1].text(0.05, 0.95, equation_qber, transform=ax[1].transAxes, fontsize=10, verticalalignment='top')\n",
    "ax[0, 1].set_xlabel('Length of initial key')\n",
    "ax[0, 1].set_ylabel('Average QBER')\n",
    "ax[0, 1].set_title(\"Input length vs QBER\")\n",
    "ax[0, 1].plot(in_len, avg_QBERs)\n",
    "ax[0, 1].plot(in_len, polynomial_qber(in_len), linestyle='--')\n",
    "ax[0, 1].minorticks_on()\n",
    "ax[0, 1].grid(True)\n",
    "\n",
    "# For time taken for 1 cycle\n",
    "coefficients_tt = np.polyfit(in_len, avg_time_taken, 1)\n",
    "polynomial_tt = np.poly1d(coefficients_tt)\n",
    "equation_tt = f'y = {coefficients_tt[0]:.2f}x + {coefficients_tt[1]:.2f}'\n",
    "ax[1, 0].text(0.05, 0.95, equation_tt, transform=ax[2].transAxes, fontsize=10, verticalalignment='top')\n",
    "ax[1, 0].set_xlabel('Length of initial key')\n",
    "ax[1, 0].set_ylabel('Time taken for 1 cycle')\n",
    "ax[1, 0].set_title(\"Input key length vs time taken\")\n",
    "ax[1, 0].plot(in_len, avg_time_taken)\n",
    "ax[1, 0].plot(in_len, polynomial_tt(in_len), linestyle='--')\n",
    "ax[1, 0].minorticks_on()\n",
    "ax[1, 0].grid(True)\n",
    "\n",
    "# For Secure key generation rate\n",
    "coefficients_SKGR = np.polyfit(in_len, SKGR, 1)\n",
    "polynomial_SKGR = np.poly1d(coefficients_SKGR)\n",
    "equation_SKGR = f'y = {coefficients_SKGR[0]:.2f}x + {coefficients_SKGR[1]:.2f}'\n",
    "ax[1, 1].text(0.05, 0.95, equation_SKGR, transform=ax[2].transAxes, fontsize=10, verticalalignment='top')\n",
    "ax[1, 1].set_xlabel('Length of initial key')\n",
    "ax[1, 1].set_ylabel('Time taken')\n",
    "ax[1, 1].set_title(\"Input key length vs time taken\")\n",
    "ax[1, 1].plot(in_len, SKGR)\n",
    "ax[1, 1].plot(in_len, polynomial_SKGR(in_len), linestyle='--')\n",
    "ax[1, 1].minorticks_on()\n",
    "ax[1, 1].grid(True)\n",
    "\n",
    "# Set the super title for the entire figure\n",
    "plt.suptitle(title, weight = 'bold')\n",
    "\n",
    "# Display the plots\n",
    "plt.tight_layout()\n",
    "plt.show()\n",
    "\n",
    "# Print the title\n",
    "print(title)\n"
   ]
  },
  {
   "cell_type": "code",
   "execution_count": null,
   "id": "5016f2eb-5009-4843-ae22-9babc0823079",
   "metadata": {},
   "outputs": [],
   "source": [
    "print(*[item for item in zip(in_len, avg_out_len) if item[1] > 10000], sep = \"\\n\")"
   ]
  },
  {
   "cell_type": "code",
   "execution_count": null,
   "id": "7195d921-467b-4df1-bc1b-e58599b9fedd",
   "metadata": {},
   "outputs": [],
   "source": [
    "plt.plot(in_len, avg_out_len, label = \"Output length\")\n",
    "plt.plot(in_len, avg_QBERs, label = \"QBERs\")\n",
    "plt.plot(in_len, avg_time_taken, label = \"time_taken\")\n",
    "\n",
    "plt.legend()"
   ]
  },
  {
   "cell_type": "raw",
   "id": "93da9075-8fde-4c0d-bc5c-3a1331c2b809",
   "metadata": {},
   "source": [
    "# Fit a polynomial of degree 1 (linear fit)\n",
    "coefficients_len = np.polyfit(in_len, out_key, 1)\n",
    "polynomial_len = np.poly1d(coefficients_len)\n",
    "\n",
    "# Generate the equation as a string\n",
    "equation_len = f'y = {coefficients_len[0]:.2f}x + {coefficients_len[1]:.2f}'\n",
    "\n",
    "# Create the plot\n",
    "#plt.scatter(in_len, out_len, label='Data points')\n",
    "plt.plot(in_len, out_key)\n",
    "\n",
    "# Annotate the plot with the equation\n",
    "plt.text(0.05, 0.95, equation, transform=plt.gca().transAxes, fontsize=12, verticalalignment='top')\n",
    "\n",
    "# Add labels and a legend\n",
    "plt.xlabel('X')\n",
    "plt.ylabel('Y')\n",
    "#plt.legend(loc = 'best')\n",
    "plt.title('Data and Fitted Line with Equation')\n",
    "\n",
    "# Show the plot\n",
    "plt.show()"
   ]
  },
  {
   "cell_type": "code",
   "execution_count": null,
   "id": "8139542f-b3aa-4e00-91fe-ecd8b0a5b9e4",
   "metadata": {
    "collapsed": true,
    "jupyter": {
     "outputs_hidden": true
    }
   },
   "outputs": [],
   "source": []
  }
 ],
 "metadata": {
  "kernelspec": {
   "display_name": "Python 3 (ipykernel)",
   "language": "python",
   "name": "python3"
  },
  "language_info": {
   "codemirror_mode": {
    "name": "ipython",
    "version": 3
   },
   "file_extension": ".py",
   "mimetype": "text/x-python",
   "name": "python",
   "nbconvert_exporter": "python",
   "pygments_lexer": "ipython3",
   "version": "3.12.4"
  }
 },
 "nbformat": 4,
 "nbformat_minor": 5
}
