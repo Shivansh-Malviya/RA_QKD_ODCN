{
 "cells": [
  {
   "cell_type": "markdown",
   "id": "5d195473-a8fa-4c9c-b60c-efac5224faf5",
   "metadata": {},
   "source": [
    "# 5. Error Correction\n",
    "\n",
    "**If the QBER is below a certain threshold, proceed to error correction, else ABORT**"
   ]
  },
  {
   "cell_type": "markdown",
   "id": "5bdba2d9-e520-49ed-a2c0-8dd1ef922872",
   "metadata": {},
   "source": [
    "### 5.0 Creating some dummy data for Alice"
   ]
  },
  {
   "cell_type": "markdown",
   "id": "b1d1a771-b292-46b2-97d1-03ccff078870",
   "metadata": {},
   "source": [
    "## 5.1 Encoding parity bits in Alice's key\n",
    "\n",
    "**alice_bits vs alice_block** : alice_bits contains the secure key (of length : key_len), whereas alice_block contains the redundant fillers(if any) alongwith the parity embedding"
   ]
  },
  {
   "cell_type": "code",
   "execution_count": null,
   "id": "c38be7e9-557a-4cdf-85eb-420f59c70ae6",
   "metadata": {},
   "outputs": [],
   "source": [
    "# After Sifting\n",
    "PARITY_DICT, _ = parity(order)   # Returns empty PARITY_DICT, bin_rep\n",
    "\n",
    "alice_block = create_parity_block(alice_bits, order, PARITY_DICT)    # Encodes parity on the block\n",
    "\n",
    "BROADCAST = PARITY_DICT\n",
    "\n",
    "bob_block = create_parity_block(bob_bits, order, BROADCAST)\n",
    "### Both blocks have been created, now the hamming protocol can be applied\n",
    "\n",
    "err_count, loc, binary_rep = hamming(bob_block, order)"
   ]
  },
  {
   "cell_type": "code",
   "execution_count": null,
   "id": "7d852abb-1da8-49e9-b21e-6fa9751dd883",
   "metadata": {},
   "outputs": [],
   "source": [
    "print(f\"Hamming error counts : {err_count} loc : {loc} ({binary_rep})\")\n",
    "total_errors_recorded = errors_recorded[0] + errors_recorded[1]\n",
    "\n",
    "if err_count != 0 :\n",
    "    try : \n",
    "        if err_count == 1: \n",
    "            bob_bits[loc] = np.mod(bob_bits[loc] + 1, 2)\n",
    "            alice_bits = bob_bits\n",
    "            print(\"\\n Errors corrected\")\n",
    "\n",
    "        else: print(\"\\n More than one errors present\")\n",
    "\n",
    "    except :\n",
    "        raise KeyError('Location Invalid')"
   ]
  },
  {
   "cell_type": "markdown",
   "id": "a72fd673-a064-40df-9850-73d071a58211",
   "metadata": {},
   "source": [
    "# Final Key"
   ]
  },
  {
   "cell_type": "code",
   "execution_count": null,
   "id": "943dfde8-13ee-49a5-80a1-f10178c2df4b",
   "metadata": {},
   "outputs": [],
   "source": [
    "# Still need to remove the parity bits\n",
    "key = \"\"\n",
    "for bit in alice_bits:    # Or bob_bits, since both should be the same\n",
    "    key += bit"
   ]
  }
 ],
 "metadata": {
  "kernelspec": {
   "display_name": "Python 3 (ipykernel)",
   "language": "python",
   "name": "python3"
  },
  "language_info": {
   "codemirror_mode": {
    "name": "ipython",
    "version": 3
   },
   "file_extension": ".py",
   "mimetype": "text/x-python",
   "name": "python",
   "nbconvert_exporter": "python",
   "pygments_lexer": "ipython3",
   "version": "3.8.19"
  }
 },
 "nbformat": 4,
 "nbformat_minor": 5
}
