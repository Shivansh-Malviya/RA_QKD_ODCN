{
 "cells": [
  {
   "cell_type": "code",
   "execution_count": null,
   "id": "6f99e382-5ef1-4b59-8c9e-6b3ce8485a01",
   "metadata": {},
   "outputs": [],
   "source": [
    "# print('Running Iterative cycle')\n",
    "START = time.time()\n",
    "I = 0\n",
    "while I < num_keys :\n",
    "    # print(f\"I = {I + 1}\", end = \"  :  \")\n",
    "    # print(f\"\\r Keys generated: [{'='*(I)}>{' '*(num_keys-I)}] {I}/{num_keys}\", end = '')\n",
    "    \n",
    "    start = time.time()\n",
    "    flag = 0\n",
    "    with suppress_stdout():\n",
    "        warnings.simplefilter('ignore')\n",
    "        start = time.time()\n",
    "        \n",
    "        try : \n",
    "            %run ./routines/BB84/protocol_1key.ipynb\n",
    "        except Warning: print('Eve Detected')\n",
    "\n",
    "\n",
    "    QBERs[I] = QBER\n",
    "    KEY_RESERVOIR.append(key)\n",
    "    KEY_RESERVOIR_len[I] = len(key) \n",
    "    \n",
    "    Eve_detected[I] = ((QBER >= error_threshold) and eve) + ((QBER < error_threshold) and not eve)    # Whether or not the DETECTION of Eve is CORRECT\n",
    "    # To plot the data obtained\n",
    "    # To write to files if \n",
    "            \n",
    "    time_taken[I] = round(time.time() - start, 4)\n",
    "    \n",
    "    # KEY_RESERVOIR.append(key)\n",
    "    # KEY_RESERVOIR_len[I] = len(key)\n",
    "\n",
    "    # Eve_detected[I] = ((QBER >= error_threshold) and eve) + ((QBER < error_threshold) and not eve)    # Whether or not the DETECTION of Eve is CORRECT\n",
    "\n",
    "    prog_interval = int((I+1)*20/num_keys)\n",
    "    print(f\"\\r Keys generated: [{'='*(prog_interval)}>{' '*(20-prog_interval)}] {I+1}/{num_keys}\", end = '')\n",
    "    I += 1\n",
    "\n",
    "total_time = time.time() - START\n",
    "print(\"\\n\", total_time)"
   ]
  },
  {
   "cell_type": "code",
   "execution_count": null,
   "id": "31eb3577-2d4f-474b-913a-a3bc7c0c9e44",
   "metadata": {},
   "outputs": [],
   "source": [
    "elapsed_time = f\"{str(int(total_time//3600))}h  {str( int((total_time%3600)//60) )}m  {str(int(total_time%60))}s\""
   ]
  },
  {
   "cell_type": "markdown",
   "id": "aba78587-f8c4-47f1-b820-50730a0b5aad",
   "metadata": {},
   "source": [
    "# Calculation"
   ]
  },
  {
   "cell_type": "code",
   "execution_count": null,
   "id": "766cb6d6-b119-49e9-b336-0b2af8f14e51",
   "metadata": {},
   "outputs": [],
   "source": [
    "SKGR = len(KEY_RESERVOIR_len)/total_time"
   ]
  },
  {
   "cell_type": "code",
   "execution_count": null,
   "id": "a533488c-35d3-4914-a70f-0a936e7d8937",
   "metadata": {},
   "outputs": [],
   "source": [
    "# Open the files to write data to\n",
    "title = f\"\\nKEY RESERVOIR[Noise {ch_noise}][Eve {eve_presence}][Eve Threshold {eve_threshold}] \"\n",
    "simulation_parameters = f\"\\nNumber of keys : {num_keys},   Aimed length of keys : {key_size}  \\nEve Presence : {eve_presence},   Channel Noise : {ch_noise},   Eve's threshold : {eve_threshold},   Precision of Error Measurement : {precision},   Error Threshold : {error_threshold} \\nTime Taken : {elapsed_time}\\n\"\n",
    "\n",
    "avg_time_taken = sum([time_taken[I] for I in range(num_keys)])/num_keys   \n",
    "avg_out_len = sum([KEY_RESERVOIR_len[I] for I in range(num_keys)])/num_keys\n",
    "avg_QBERs = sum([QBERs[I] for I in range(num_keys)])/num_keys"
   ]
  },
  {
   "cell_type": "code",
   "execution_count": null,
   "id": "77ea04e6-2644-4d82-8988-5b974571e711",
   "metadata": {},
   "outputs": [],
   "source": [
    "%run ./routines/BB84/Plotting_fwriting.ipynb"
   ]
  }
 ],
 "metadata": {
  "kernelspec": {
   "display_name": "Python 3 (ipykernel)",
   "language": "python",
   "name": "python3"
  },
  "language_info": {
   "codemirror_mode": {
    "name": "ipython",
    "version": 3
   },
   "file_extension": ".py",
   "mimetype": "text/x-python",
   "name": "python",
   "nbconvert_exporter": "python",
   "pygments_lexer": "ipython3",
   "version": "3.8.19"
  }
 },
 "nbformat": 4,
 "nbformat_minor": 5
}
